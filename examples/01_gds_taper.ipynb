{
 "cells": [
  {
   "cell_type": "markdown",
   "id": "84e806ae-7505-498f-bff3-dca9070ce0bb",
   "metadata": {
    "papermill": {
     "duration": 0.007677,
     "end_time": "2023-06-23T18:59:44.989257",
     "exception": false,
     "start_time": "2023-06-23T18:59:44.981580",
     "status": "completed"
    },
    "tags": []
   },
   "source": [
    "# GDS Taper\n",
    "> Create a Taper and Simulate"
   ]
  },
  {
   "cell_type": "code",
   "execution_count": 3,
   "id": "6affcecb-2c94-47e8-9e78-60dcc7b5abe3",
   "metadata": {
    "papermill": {
     "duration": 9.509536,
     "end_time": "2023-06-23T18:59:54.505765",
     "exception": false,
     "start_time": "2023-06-23T18:59:44.996229",
     "status": "completed"
    },
    "tags": []
   },
   "outputs": [],
   "source": [
    "import meow as mw\n",
    "import gdsfactory as gf  # pip install meow-sim[gds]\n",
    "from gdsfactory.cross_section import cross_section\n",
    "import matplotlib.pyplot as plt\n",
    "import numpy as np"
   ]
  },
  {
   "cell_type": "markdown",
   "id": "d715d561-1cea-44be-9efa-fab8d127dcf9",
   "metadata": {
    "papermill": {
     "duration": 0.003795,
     "end_time": "2023-06-23T18:59:54.514299",
     "exception": false,
     "start_time": "2023-06-23T18:59:54.510504",
     "status": "completed"
    },
    "tags": []
   },
   "source": [
    "## Example Taper"
   ]
  },
  {
   "cell_type": "markdown",
   "id": "dc47f09c-445a-4396-a7bb-d581c2a46543",
   "metadata": {
    "papermill": {
     "duration": 0.003579,
     "end_time": "2023-06-23T18:59:54.521560",
     "exception": false,
     "start_time": "2023-06-23T18:59:54.517981",
     "status": "completed"
    },
    "tags": []
   },
   "source": [
    "> Note: `meow` expects the propagation direction to be the `z`-axis! This makes the `zx`-plane parallel with the chip and the `y`-axis perpendicular to the chip. Somewhat confusingly, the (x, y) GDS coordinate tuple hence maps onto the (z, x) `meow` coordinate tuple. Whereas the y coordinate from meow denotes the direction perpendicular to the chip. (I will probably change the `meow` convention in the future.)"
   ]
  },
  {
   "cell_type": "code",
   "execution_count": 4,
   "id": "5b6b6459-378d-41c3-94e5-cc9ff81b4790",
   "metadata": {
    "papermill": {
     "duration": 0.01459,
     "end_time": "2023-06-23T18:59:54.540815",
     "exception": false,
     "start_time": "2023-06-23T18:59:54.526225",
     "status": "completed"
    },
    "tags": []
   },
   "outputs": [],
   "source": [
    "def example_gds_cross_section(\n",
    "    width: float = 0.450,\n",
    "    clad_width: float = 2.0,\n",
    ") -> gf.CrossSection:\n",
    "    \"\"\"a strip waveguide cross section\n",
    "\n",
    "    Args:\n",
    "        width:  the width of the strip waveguide\n",
    "        clad_width: the width of the cladding\n",
    "    \"\"\"\n",
    "    core_width = width\n",
    "    port_names = (\"in0\", \"out0\")\n",
    "    sections = (\n",
    "        gf.Section(width=core_width, offset=0, layer=(1, 0), name=\"core\"),\n",
    "        gf.Section(\n",
    "            width=clad_width,\n",
    "            offset=0.5 * (core_width + clad_width),\n",
    "            layer=(2, 0),\n",
    "            name=\"upper\",\n",
    "        ),\n",
    "        gf.Section(\n",
    "            width=clad_width,\n",
    "            offset=-0.5 * (core_width + clad_width),\n",
    "            layer=(2, 0),\n",
    "            name=\"lower\",\n",
    "        ),\n",
    "    )\n",
    "    cs = cross_section(\n",
    "        width=width,\n",
    "        port_names=port_names,\n",
    "        sections=sections,\n",
    "    )\n",
    "    return cs"
   ]
  },
  {
   "cell_type": "code",
   "execution_count": 5,
   "id": "3f0f925f-5c73-4993-bd45-a28baedfe8d8",
   "metadata": {
    "papermill": {
     "duration": 0.015287,
     "end_time": "2023-06-23T18:59:54.560047",
     "exception": false,
     "start_time": "2023-06-23T18:59:54.544760",
     "status": "completed"
    },
    "tags": []
   },
   "outputs": [],
   "source": [
    "@gf.cell\n",
    "def example_taper(\n",
    "    width_input: float = 0.450,\n",
    "    width_output: float = 1.0,\n",
    "    length: float = 10.0,\n",
    ") -> gf.Component:\n",
    "    \"\"\"create a linear taper\n",
    "\n",
    "    Args:\n",
    "        width_input: input width of the linear taper\n",
    "        width_output: output width of the linear taper\n",
    "        length: the length of the linear taper\n",
    "    \"\"\"\n",
    "    input_cs = example_gds_cross_section(width_input)\n",
    "    output_cs = example_gds_cross_section(width_output)\n",
    "    transition = gf.path.transition(input_cs, output_cs, width_type=\"linear\")\n",
    "    length = gf.snap.snap_to_grid(length)  # type: ignore\n",
    "    path = gf.path.straight(length)\n",
    "    component = gf.path.extrude(path, transition)\n",
    "    return component"
   ]
  },
  {
   "cell_type": "code",
   "execution_count": 6,
   "id": "dfae1768-860b-44bc-92e7-f36dcd88ea34",
   "metadata": {
    "papermill": {
     "duration": 1.501816,
     "end_time": "2023-06-23T18:59:56.069303",
     "exception": false,
     "start_time": "2023-06-23T18:59:54.567487",
     "status": "completed"
    },
    "tags": []
   },
   "outputs": [
    {
     "name": "stdout",
     "output_type": "stream",
     "text": [
      "\u001b[32m2024-06-11 11:26:41.841\u001b[0m | \u001b[31m\u001b[1mERROR   \u001b[0m | \u001b[36mkfactory.kcell\u001b[0m:\u001b[36mwrapper_autocell\u001b[0m:\u001b[36m3323\u001b[0m - \u001b[31m\u001b[1mAn error has been caught in function 'wrapper_autocell', process 'MainProcess' (351433), thread 'MainThread' (139980713010240):\u001b[0m\n",
      "\u001b[33m\u001b[1mTraceback (most recent call last):\u001b[0m\n",
      "\n",
      "  File \"<frozen runpy>\", line 198, in _run_module_as_main\n",
      "  File \"<frozen runpy>\", line 88, in _run_code\n",
      "  File \"/home/archie/miniconda3/lib/python3.11/site-packages/ipykernel_launcher.py\", line 17, in <module>\n",
      "    app.launch_new_instance()\n",
      "    │   └ <bound method Application.launch_instance of <class 'ipykernel.kernelapp.IPKernelApp'>>\n",
      "    └ <module 'ipykernel.kernelapp' from '/home/archie/miniconda3/lib/python3.11/site-packages/ipykernel/kernelapp.py'>\n",
      "  File \"/home/archie/miniconda3/lib/python3.11/site-packages/traitlets/config/application.py\", line 1053, in launch_instance\n",
      "    app.start()\n",
      "    │   └ <function IPKernelApp.start at 0x7f4fc93acf40>\n",
      "    └ <ipykernel.kernelapp.IPKernelApp object at 0x7f4fcc49ce90>\n",
      "  File \"/home/archie/miniconda3/lib/python3.11/site-packages/ipykernel/kernelapp.py\", line 736, in start\n",
      "    self.io_loop.start()\n",
      "    │    │       └ <function BaseAsyncIOLoop.start at 0x7f4fc93adda0>\n",
      "    │    └ <tornado.platform.asyncio.AsyncIOMainLoop object at 0x7f4fc93c6a50>\n",
      "    └ <ipykernel.kernelapp.IPKernelApp object at 0x7f4fcc49ce90>\n",
      "  File \"/home/archie/miniconda3/lib/python3.11/site-packages/tornado/platform/asyncio.py\", line 195, in start\n",
      "    self.asyncio_loop.run_forever()\n",
      "    │    │            └ <function BaseEventLoop.run_forever at 0x7f4fcba0a0c0>\n",
      "    │    └ <_UnixSelectorEventLoop running=True closed=False debug=False>\n",
      "    └ <tornado.platform.asyncio.AsyncIOMainLoop object at 0x7f4fc93c6a50>\n",
      "  File \"/home/archie/miniconda3/lib/python3.11/asyncio/base_events.py\", line 607, in run_forever\n",
      "    self._run_once()\n",
      "    │    └ <function BaseEventLoop._run_once at 0x7f4fcba0bec0>\n",
      "    └ <_UnixSelectorEventLoop running=True closed=False debug=False>\n",
      "  File \"/home/archie/miniconda3/lib/python3.11/asyncio/base_events.py\", line 1922, in _run_once\n",
      "    handle._run()\n",
      "    │      └ <function Handle._run at 0x7f4fcb9a8e00>\n",
      "    └ <Handle Task.task_wakeup(<Future finis...590>, ...],))>)>\n",
      "  File \"/home/archie/miniconda3/lib/python3.11/asyncio/events.py\", line 80, in _run\n",
      "    self._context.run(self._callback, *self._args)\n",
      "    │    │            │    │           │    └ <member '_args' of 'Handle' objects>\n",
      "    │    │            │    │           └ <Handle Task.task_wakeup(<Future finis...590>, ...],))>)>\n",
      "    │    │            │    └ <member '_callback' of 'Handle' objects>\n",
      "    │    │            └ <Handle Task.task_wakeup(<Future finis...590>, ...],))>)>\n",
      "    │    └ <member '_context' of 'Handle' objects>\n",
      "    └ <Handle Task.task_wakeup(<Future finis...590>, ...],))>)>\n",
      "  File \"/home/archie/miniconda3/lib/python3.11/site-packages/ipykernel/kernelbase.py\", line 516, in dispatch_queue\n",
      "    await self.process_one()\n",
      "          │    └ <function Kernel.process_one at 0x7f4fc9cb3100>\n",
      "          └ <ipykernel.ipkernel.IPythonKernel object at 0x7f4fc93b7210>\n",
      "  File \"/home/archie/miniconda3/lib/python3.11/site-packages/ipykernel/kernelbase.py\", line 505, in process_one\n",
      "    await dispatch(*args)\n",
      "          │         └ ([<zmq.sugar.frame.Frame object at 0x7f4fc941c1d0>, <zmq.sugar.frame.Frame object at 0x7f4fc941c290>, <zmq.sugar.frame.Frame ...\n",
      "          └ <bound method Kernel.dispatch_shell of <ipykernel.ipkernel.IPythonKernel object at 0x7f4fc93b7210>>\n",
      "  File \"/home/archie/miniconda3/lib/python3.11/site-packages/ipykernel/kernelbase.py\", line 412, in dispatch_shell\n",
      "    await result\n",
      "          └ <coroutine object Kernel.execute_request at 0x7f4fc9634300>\n",
      "  File \"/home/archie/miniconda3/lib/python3.11/site-packages/ipykernel/kernelbase.py\", line 740, in execute_request\n",
      "    reply_content = await reply_content\n",
      "                          └ <coroutine object IPythonKernel.do_execute at 0x7f4fc961e5c0>\n",
      "  File \"/home/archie/miniconda3/lib/python3.11/site-packages/ipykernel/ipkernel.py\", line 422, in do_execute\n",
      "    res = shell.run_cell(\n",
      "          │     └ <function ZMQInteractiveShell.run_cell at 0x7f4fc939a2a0>\n",
      "          └ <ipykernel.zmqshell.ZMQInteractiveShell object at 0x7f4fc93e0450>\n",
      "  File \"/home/archie/miniconda3/lib/python3.11/site-packages/ipykernel/zmqshell.py\", line 546, in run_cell\n",
      "    return super().run_cell(*args, **kwargs)\n",
      "                             │       └ {'store_history': True, 'silent': False, 'cell_id': 'vscode-notebook-cell:/home/archie/c/meow/examples/01_gds_taper.ipynb#W6s...\n",
      "                             └ ('taper = example_taper(width_input=0.45, width_output=1.0, length=20)\\ntaper',)\n",
      "  File \"/home/archie/miniconda3/lib/python3.11/site-packages/IPython/core/interactiveshell.py\", line 3024, in run_cell\n",
      "    result = self._run_cell(\n",
      "             │    └ <function InteractiveShell._run_cell at 0x7f4fca7bbba0>\n",
      "             └ <ipykernel.zmqshell.ZMQInteractiveShell object at 0x7f4fc93e0450>\n",
      "  File \"/home/archie/miniconda3/lib/python3.11/site-packages/IPython/core/interactiveshell.py\", line 3079, in _run_cell\n",
      "    result = runner(coro)\n",
      "             │      └ <coroutine object InteractiveShell.run_cell_async at 0x7f4fc8260ee0>\n",
      "             └ <function _pseudo_sync_runner at 0x7f4fca79ed40>\n",
      "  File \"/home/archie/miniconda3/lib/python3.11/site-packages/IPython/core/async_helpers.py\", line 129, in _pseudo_sync_runner\n",
      "    coro.send(None)\n",
      "    │    └ <method 'send' of 'coroutine' objects>\n",
      "    └ <coroutine object InteractiveShell.run_cell_async at 0x7f4fc8260ee0>\n",
      "  File \"/home/archie/miniconda3/lib/python3.11/site-packages/IPython/core/interactiveshell.py\", line 3284, in run_cell_async\n",
      "    has_raised = await self.run_ast_nodes(code_ast.body, cell_name,\n",
      "                       │    │             │        │     └ '/tmp/ipykernel_351433/3533057197.py'\n",
      "                       │    │             │        └ [<ast.Assign object at 0x7f4f5076b8e0>, <ast.Expr object at 0x7f4f5076bc10>]\n",
      "                       │    │             └ <ast.Module object at 0x7f4f5076b7c0>\n",
      "                       │    └ <function InteractiveShell.run_ast_nodes at 0x7f4fca7bbec0>\n",
      "                       └ <ipykernel.zmqshell.ZMQInteractiveShell object at 0x7f4fc93e0450>\n",
      "  File \"/home/archie/miniconda3/lib/python3.11/site-packages/IPython/core/interactiveshell.py\", line 3466, in run_ast_nodes\n",
      "    if await self.run_code(code, result, async_=asy):\n",
      "             │    │        │     │              └ False\n",
      "             │    │        │     └ <ExecutionResult object at 7f4f5079ca90, execution_count=6 error_before_exec=None error_in_exec=None info=<ExecutionInfo obje...\n",
      "             │    │        └ <code object <module> at 0x7f4f50bcb750, file \"/tmp/ipykernel_351433/3533057197.py\", line 1>\n",
      "             │    └ <function InteractiveShell.run_code at 0x7f4fca7bbf60>\n",
      "             └ <ipykernel.zmqshell.ZMQInteractiveShell object at 0x7f4fc93e0450>\n",
      "  File \"/home/archie/miniconda3/lib/python3.11/site-packages/IPython/core/interactiveshell.py\", line 3526, in run_code\n",
      "    exec(code_obj, self.user_global_ns, self.user_ns)\n",
      "         │         │    │               │    └ {'__name__': '__main__', '__doc__': 'Automatically created module for IPython interactive environment', '__package__': None, ...\n",
      "         │         │    │               └ <ipykernel.zmqshell.ZMQInteractiveShell object at 0x7f4fc93e0450>\n",
      "         │         │    └ <property object at 0x7f4fca79bd30>\n",
      "         │         └ <ipykernel.zmqshell.ZMQInteractiveShell object at 0x7f4fc93e0450>\n",
      "         └ <code object <module> at 0x7f4f50bcb750, file \"/tmp/ipykernel_351433/3533057197.py\", line 1>\n",
      "\n",
      "  File \"\u001b[32m/tmp/ipykernel_351433/\u001b[0m\u001b[32m\u001b[1m3533057197.py\u001b[0m\", line \u001b[33m1\u001b[0m, in \u001b[35m<module>\u001b[0m\n",
      "    \u001b[1mtaper\u001b[0m \u001b[35m\u001b[1m=\u001b[0m \u001b[1mexample_taper\u001b[0m\u001b[1m(\u001b[0m\u001b[1mwidth_input\u001b[0m\u001b[35m\u001b[1m=\u001b[0m\u001b[34m\u001b[1m0.45\u001b[0m\u001b[1m,\u001b[0m \u001b[1mwidth_output\u001b[0m\u001b[35m\u001b[1m=\u001b[0m\u001b[34m\u001b[1m1.0\u001b[0m\u001b[1m,\u001b[0m \u001b[1mlength\u001b[0m\u001b[35m\u001b[1m=\u001b[0m\u001b[34m\u001b[1m20\u001b[0m\u001b[1m)\u001b[0m\n",
      "    \u001b[36m        └ \u001b[0m\u001b[36m\u001b[1m<function example_taper at 0x7f4f5078ade0>\u001b[0m\n",
      "\n",
      "> File \"\u001b[32m/home/archie/c/kfactory/src/kfactory/\u001b[0m\u001b[32m\u001b[1mkcell.py\u001b[0m\", line \u001b[33m3323\u001b[0m, in \u001b[35mwrapper_autocell\u001b[0m\n",
      "    \u001b[1m_cell\u001b[0m \u001b[35m\u001b[1m=\u001b[0m \u001b[1mwrapped_cell\u001b[0m\u001b[1m(\u001b[0m\u001b[35m\u001b[1m**\u001b[0m\u001b[1mparams\u001b[0m\u001b[1m)\u001b[0m\n",
      "    \u001b[36m        │              └ \u001b[0m\u001b[36m\u001b[1m{'width_input': 0.45, 'width_output': 1.0, 'length': 20}\u001b[0m\n",
      "    \u001b[36m        └ \u001b[0m\u001b[36m\u001b[1m<function example_taper at 0x7f4f5078afc0>\u001b[0m\n",
      "\n",
      "  File \"/home/archie/miniconda3/lib/python3.11/site-packages/cachetools/__init__.py\", line 737, in wrapper\n",
      "    v = func(*args, **kwargs)\n",
      "        │     │       └ {'width_input': 0.45, 'width_output': 1.0, 'length': 20}\n",
      "        │     └ ()\n",
      "        └ <function example_taper at 0x7f4f5078b240>\n",
      "\n",
      "  File \"\u001b[32m/home/archie/c/kfactory/src/kfactory/\u001b[0m\u001b[32m\u001b[1mkcell.py\u001b[0m\", line \u001b[33m3198\u001b[0m, in \u001b[35mwrapped_cell\u001b[0m\n",
      "    \u001b[1mcell\u001b[0m \u001b[35m\u001b[1m=\u001b[0m \u001b[1mf\u001b[0m\u001b[1m(\u001b[0m\u001b[35m\u001b[1m**\u001b[0m\u001b[1mparams\u001b[0m\u001b[1m)\u001b[0m\n",
      "    \u001b[36m       │   └ \u001b[0m\u001b[36m\u001b[1m{'width_input': 0.45, 'width_output': 1.0, 'length': 20}\u001b[0m\n",
      "    \u001b[36m       └ \u001b[0m\u001b[36m\u001b[1m<function example_taper at 0x7f4fc8308540>\u001b[0m\n",
      "\n",
      "  File \"\u001b[32m/tmp/ipykernel_351433/\u001b[0m\u001b[32m\u001b[1m3230392040.py\u001b[0m\", line \u001b[33m14\u001b[0m, in \u001b[35mexample_taper\u001b[0m\n",
      "    \u001b[1minput_cs\u001b[0m \u001b[35m\u001b[1m=\u001b[0m \u001b[1mexample_gds_cross_section\u001b[0m\u001b[1m(\u001b[0m\u001b[1mwidth_input\u001b[0m\u001b[1m)\u001b[0m\n",
      "    \u001b[36m           │                         └ \u001b[0m\u001b[36m\u001b[1m0.45\u001b[0m\n",
      "    \u001b[36m           └ \u001b[0m\u001b[36m\u001b[1m<function example_gds_cross_section at 0x7f4f5078a980>\u001b[0m\n",
      "\n",
      "  File \"\u001b[32m/tmp/ipykernel_351433/\u001b[0m\u001b[32m\u001b[1m2185866931.py\u001b[0m\", line \u001b[33m28\u001b[0m, in \u001b[35mexample_gds_cross_section\u001b[0m\n",
      "    \u001b[1mcs\u001b[0m \u001b[35m\u001b[1m=\u001b[0m \u001b[1mcross_section\u001b[0m\u001b[1m(\u001b[0m\n",
      "    \u001b[36m     └ \u001b[0m\u001b[36m\u001b[1m<function cross_section at 0x7f4f51f040e0>\u001b[0m\n",
      "\n",
      "\u001b[31m\u001b[1mTypeError\u001b[0m:\u001b[1m cross_section() got an unexpected keyword argument 'auto_widen'\u001b[0m\n"
     ]
    },
    {
     "ename": "TypeError",
     "evalue": "cross_section() got an unexpected keyword argument 'auto_widen'",
     "output_type": "error",
     "traceback": [
      "\u001b[0;31m---------------------------------------------------------------------------\u001b[0m",
      "\u001b[0;31mTypeError\u001b[0m                                 Traceback (most recent call last)",
      "\u001b[1;32m/home/archie/c/meow/examples/01_gds_taper.ipynb Cell 7\u001b[0m line \u001b[0;36m1\n\u001b[0;32m----> <a href='vscode-notebook-cell:/home/archie/c/meow/examples/01_gds_taper.ipynb#W6sZmlsZQ%3D%3D?line=0'>1</a>\u001b[0m taper \u001b[39m=\u001b[39m example_taper(width_input\u001b[39m=\u001b[39;49m\u001b[39m0.45\u001b[39;49m, width_output\u001b[39m=\u001b[39;49m\u001b[39m1.0\u001b[39;49m, length\u001b[39m=\u001b[39;49m\u001b[39m20\u001b[39;49m)\n\u001b[1;32m      <a href='vscode-notebook-cell:/home/archie/c/meow/examples/01_gds_taper.ipynb#W6sZmlsZQ%3D%3D?line=1'>2</a>\u001b[0m taper\n",
      "File \u001b[0;32m~/c/kfactory/src/kfactory/kcell.py:3323\u001b[0m, in \u001b[0;36mKCLayout.cell.<locals>.decorator_autocell.<locals>.wrapper_autocell\u001b[0;34m(*args, **kwargs)\u001b[0m\n\u001b[1;32m   3312\u001b[0m         \u001b[39mraise\u001b[39;00m \u001b[39mValueError\u001b[39;00m(\n\u001b[1;32m   3313\u001b[0m             \u001b[39m\"\u001b[39m\u001b[39mThe KCell created must be using the same\u001b[39m\u001b[39m\"\u001b[39m\n\u001b[1;32m   3314\u001b[0m             \u001b[39m\"\u001b[39m\u001b[39m KCLayout object as the @cell decorator. \u001b[39m\u001b[39m\"\u001b[39m\n\u001b[0;32m   (...)\u001b[0m\n\u001b[1;32m   3319\u001b[0m             \u001b[39m\"\u001b[39m\u001b[39mKCell(kcl=custom_kcl).\u001b[39m\u001b[39m\"\u001b[39m\n\u001b[1;32m   3320\u001b[0m         )\n\u001b[1;32m   3321\u001b[0m     \u001b[39mreturn\u001b[39;00m cell\n\u001b[0;32m-> 3323\u001b[0m _cell \u001b[39m=\u001b[39m wrapped_cell(\u001b[39m*\u001b[39;49m\u001b[39m*\u001b[39;49mparams)\n\u001b[1;32m   3325\u001b[0m \u001b[39mif\u001b[39;00m info \u001b[39mis\u001b[39;00m \u001b[39mnot\u001b[39;00m \u001b[39mNone\u001b[39;00m:\n\u001b[1;32m   3326\u001b[0m     _cell\u001b[39m.\u001b[39minfo\u001b[39m.\u001b[39mupdate(info)\n",
      "File \u001b[0;32m~/miniconda3/lib/python3.11/site-packages/loguru/_logger.py:1277\u001b[0m, in \u001b[0;36mLogger.catch.<locals>.Catcher.__call__.<locals>.catch_wrapper\u001b[0;34m(*args, **kwargs)\u001b[0m\n\u001b[1;32m   1275\u001b[0m \u001b[39mdef\u001b[39;00m \u001b[39mcatch_wrapper\u001b[39m(\u001b[39m*\u001b[39margs, \u001b[39m*\u001b[39m\u001b[39m*\u001b[39mkwargs):\n\u001b[1;32m   1276\u001b[0m     \u001b[39mwith\u001b[39;00m catcher:\n\u001b[0;32m-> 1277\u001b[0m         \u001b[39mreturn\u001b[39;00m function(\u001b[39m*\u001b[39;49margs, \u001b[39m*\u001b[39;49m\u001b[39m*\u001b[39;49mkwargs)\n\u001b[1;32m   1278\u001b[0m     \u001b[39mreturn\u001b[39;00m default\n",
      "File \u001b[0;32m~/miniconda3/lib/python3.11/site-packages/cachetools/__init__.py:737\u001b[0m, in \u001b[0;36mcached.<locals>.decorator.<locals>.wrapper\u001b[0;34m(*args, **kwargs)\u001b[0m\n\u001b[1;32m    735\u001b[0m \u001b[39mexcept\u001b[39;00m \u001b[39mKeyError\u001b[39;00m:\n\u001b[1;32m    736\u001b[0m     \u001b[39mpass\u001b[39;00m  \u001b[39m# key not found\u001b[39;00m\n\u001b[0;32m--> 737\u001b[0m v \u001b[39m=\u001b[39m func(\u001b[39m*\u001b[39;49margs, \u001b[39m*\u001b[39;49m\u001b[39m*\u001b[39;49mkwargs)\n\u001b[1;32m    738\u001b[0m \u001b[39mtry\u001b[39;00m:\n\u001b[1;32m    739\u001b[0m     cache[k] \u001b[39m=\u001b[39m v\n",
      "File \u001b[0;32m~/c/kfactory/src/kfactory/kcell.py:3198\u001b[0m, in \u001b[0;36mKCLayout.cell.<locals>.decorator_autocell.<locals>.wrapper_autocell.<locals>.wrapped_cell\u001b[0;34m(**params)\u001b[0m\n\u001b[1;32m   3193\u001b[0m             \u001b[39mreturn\u001b[39;00m \u001b[39mself\u001b[39m[c\u001b[39m.\u001b[39mcell_index()]\n\u001b[1;32m   3194\u001b[0m     logger\u001b[39m.\u001b[39mdebug(\n\u001b[1;32m   3195\u001b[0m         \u001b[39m\"\u001b[39m\u001b[39mConstructing \u001b[39m\u001b[39m{}\u001b[39;00m\u001b[39m\"\u001b[39m,\n\u001b[1;32m   3196\u001b[0m         \u001b[39mself\u001b[39m\u001b[39m.\u001b[39mfuture_cell_name,\n\u001b[1;32m   3197\u001b[0m     )\n\u001b[0;32m-> 3198\u001b[0m cell \u001b[39m=\u001b[39m f(\u001b[39m*\u001b[39;49m\u001b[39m*\u001b[39;49mparams)\n\u001b[1;32m   3199\u001b[0m \u001b[39mif\u001b[39;00m cell\u001b[39m.\u001b[39m_locked:\n\u001b[1;32m   3200\u001b[0m     \u001b[39m# If the cell is locked, it comes from a cache (most likely)\u001b[39;00m\n\u001b[1;32m   3201\u001b[0m     \u001b[39m# and should be copied first\u001b[39;00m\n\u001b[1;32m   3202\u001b[0m     cell \u001b[39m=\u001b[39m cell\u001b[39m.\u001b[39mdup()\n",
      "\u001b[1;32m/home/archie/c/meow/examples/01_gds_taper.ipynb Cell 7\u001b[0m line \u001b[0;36m1\n\u001b[1;32m      <a href='vscode-notebook-cell:/home/archie/c/meow/examples/01_gds_taper.ipynb#W6sZmlsZQ%3D%3D?line=0'>1</a>\u001b[0m \u001b[39m@gf\u001b[39m\u001b[39m.\u001b[39mcell\n\u001b[1;32m      <a href='vscode-notebook-cell:/home/archie/c/meow/examples/01_gds_taper.ipynb#W6sZmlsZQ%3D%3D?line=1'>2</a>\u001b[0m \u001b[39mdef\u001b[39;00m \u001b[39mexample_taper\u001b[39m(\n\u001b[1;32m      <a href='vscode-notebook-cell:/home/archie/c/meow/examples/01_gds_taper.ipynb#W6sZmlsZQ%3D%3D?line=2'>3</a>\u001b[0m     width_input: \u001b[39mfloat\u001b[39m \u001b[39m=\u001b[39m \u001b[39m0.450\u001b[39m,\n\u001b[1;32m      <a href='vscode-notebook-cell:/home/archie/c/meow/examples/01_gds_taper.ipynb#W6sZmlsZQ%3D%3D?line=3'>4</a>\u001b[0m     width_output: \u001b[39mfloat\u001b[39m \u001b[39m=\u001b[39m \u001b[39m1.0\u001b[39m,\n\u001b[1;32m      <a href='vscode-notebook-cell:/home/archie/c/meow/examples/01_gds_taper.ipynb#W6sZmlsZQ%3D%3D?line=4'>5</a>\u001b[0m     length: \u001b[39mfloat\u001b[39m \u001b[39m=\u001b[39m \u001b[39m10.0\u001b[39m,\n\u001b[1;32m      <a href='vscode-notebook-cell:/home/archie/c/meow/examples/01_gds_taper.ipynb#W6sZmlsZQ%3D%3D?line=5'>6</a>\u001b[0m ) \u001b[39m-\u001b[39m\u001b[39m>\u001b[39m gf\u001b[39m.\u001b[39mComponent:\n\u001b[1;32m      <a href='vscode-notebook-cell:/home/archie/c/meow/examples/01_gds_taper.ipynb#W6sZmlsZQ%3D%3D?line=6'>7</a>\u001b[0m \u001b[39m    \u001b[39m\u001b[39m\"\"\"create a linear taper\u001b[39;00m\n\u001b[1;32m      <a href='vscode-notebook-cell:/home/archie/c/meow/examples/01_gds_taper.ipynb#W6sZmlsZQ%3D%3D?line=7'>8</a>\u001b[0m \n\u001b[1;32m      <a href='vscode-notebook-cell:/home/archie/c/meow/examples/01_gds_taper.ipynb#W6sZmlsZQ%3D%3D?line=8'>9</a>\u001b[0m \u001b[39m    Args:\u001b[39;00m\n\u001b[0;32m   (...)\u001b[0m\n\u001b[1;32m     <a href='vscode-notebook-cell:/home/archie/c/meow/examples/01_gds_taper.ipynb#W6sZmlsZQ%3D%3D?line=11'>12</a>\u001b[0m \u001b[39m        length: the length of the linear taper\u001b[39;00m\n\u001b[1;32m     <a href='vscode-notebook-cell:/home/archie/c/meow/examples/01_gds_taper.ipynb#W6sZmlsZQ%3D%3D?line=12'>13</a>\u001b[0m \u001b[39m    \"\"\"\u001b[39;00m\n\u001b[0;32m---> <a href='vscode-notebook-cell:/home/archie/c/meow/examples/01_gds_taper.ipynb#W6sZmlsZQ%3D%3D?line=13'>14</a>\u001b[0m     input_cs \u001b[39m=\u001b[39m example_gds_cross_section(width_input)\n\u001b[1;32m     <a href='vscode-notebook-cell:/home/archie/c/meow/examples/01_gds_taper.ipynb#W6sZmlsZQ%3D%3D?line=14'>15</a>\u001b[0m     output_cs \u001b[39m=\u001b[39m example_gds_cross_section(width_output)\n\u001b[1;32m     <a href='vscode-notebook-cell:/home/archie/c/meow/examples/01_gds_taper.ipynb#W6sZmlsZQ%3D%3D?line=15'>16</a>\u001b[0m     transition \u001b[39m=\u001b[39m gf\u001b[39m.\u001b[39mpath\u001b[39m.\u001b[39mtransition(input_cs, output_cs, width_type\u001b[39m=\u001b[39m\u001b[39m\"\u001b[39m\u001b[39mlinear\u001b[39m\u001b[39m\"\u001b[39m)\n",
      "\u001b[1;32m/home/archie/c/meow/examples/01_gds_taper.ipynb Cell 7\u001b[0m line \u001b[0;36m2\n\u001b[1;32m     <a href='vscode-notebook-cell:/home/archie/c/meow/examples/01_gds_taper.ipynb#W6sZmlsZQ%3D%3D?line=11'>12</a>\u001b[0m port_names \u001b[39m=\u001b[39m (\u001b[39m\"\u001b[39m\u001b[39min0\u001b[39m\u001b[39m\"\u001b[39m, \u001b[39m\"\u001b[39m\u001b[39mout0\u001b[39m\u001b[39m\"\u001b[39m)\n\u001b[1;32m     <a href='vscode-notebook-cell:/home/archie/c/meow/examples/01_gds_taper.ipynb#W6sZmlsZQ%3D%3D?line=12'>13</a>\u001b[0m sections \u001b[39m=\u001b[39m (\n\u001b[1;32m     <a href='vscode-notebook-cell:/home/archie/c/meow/examples/01_gds_taper.ipynb#W6sZmlsZQ%3D%3D?line=13'>14</a>\u001b[0m     gf\u001b[39m.\u001b[39mSection(width\u001b[39m=\u001b[39mcore_width, offset\u001b[39m=\u001b[39m\u001b[39m0\u001b[39m, layer\u001b[39m=\u001b[39m(\u001b[39m1\u001b[39m, \u001b[39m0\u001b[39m), name\u001b[39m=\u001b[39m\u001b[39m\"\u001b[39m\u001b[39mcore\u001b[39m\u001b[39m\"\u001b[39m),\n\u001b[1;32m     <a href='vscode-notebook-cell:/home/archie/c/meow/examples/01_gds_taper.ipynb#W6sZmlsZQ%3D%3D?line=14'>15</a>\u001b[0m     gf\u001b[39m.\u001b[39mSection(\n\u001b[0;32m   (...)\u001b[0m\n\u001b[1;32m     <a href='vscode-notebook-cell:/home/archie/c/meow/examples/01_gds_taper.ipynb#W6sZmlsZQ%3D%3D?line=25'>26</a>\u001b[0m     ),\n\u001b[1;32m     <a href='vscode-notebook-cell:/home/archie/c/meow/examples/01_gds_taper.ipynb#W6sZmlsZQ%3D%3D?line=26'>27</a>\u001b[0m )\n\u001b[0;32m---> <a href='vscode-notebook-cell:/home/archie/c/meow/examples/01_gds_taper.ipynb#W6sZmlsZQ%3D%3D?line=27'>28</a>\u001b[0m cs \u001b[39m=\u001b[39m cross_section(\n\u001b[1;32m     <a href='vscode-notebook-cell:/home/archie/c/meow/examples/01_gds_taper.ipynb#W6sZmlsZQ%3D%3D?line=28'>29</a>\u001b[0m     width\u001b[39m=\u001b[39;49mwidth,\n\u001b[1;32m     <a href='vscode-notebook-cell:/home/archie/c/meow/examples/01_gds_taper.ipynb#W6sZmlsZQ%3D%3D?line=29'>30</a>\u001b[0m     port_names\u001b[39m=\u001b[39;49mport_names,\n\u001b[1;32m     <a href='vscode-notebook-cell:/home/archie/c/meow/examples/01_gds_taper.ipynb#W6sZmlsZQ%3D%3D?line=30'>31</a>\u001b[0m     auto_widen\u001b[39m=\u001b[39;49m\u001b[39mFalse\u001b[39;49;00m,\n\u001b[1;32m     <a href='vscode-notebook-cell:/home/archie/c/meow/examples/01_gds_taper.ipynb#W6sZmlsZQ%3D%3D?line=31'>32</a>\u001b[0m     sections\u001b[39m=\u001b[39;49msections,\n\u001b[1;32m     <a href='vscode-notebook-cell:/home/archie/c/meow/examples/01_gds_taper.ipynb#W6sZmlsZQ%3D%3D?line=32'>33</a>\u001b[0m )\n\u001b[1;32m     <a href='vscode-notebook-cell:/home/archie/c/meow/examples/01_gds_taper.ipynb#W6sZmlsZQ%3D%3D?line=33'>34</a>\u001b[0m \u001b[39mreturn\u001b[39;00m cs\n",
      "\u001b[0;31mTypeError\u001b[0m: cross_section() got an unexpected keyword argument 'auto_widen'"
     ]
    }
   ],
   "source": [
    "taper = example_taper(width_input=0.45, width_output=1.0, length=20)\n",
    "taper"
   ]
  },
  {
   "cell_type": "markdown",
   "id": "7ac0a034-7aeb-455b-a591-764ed1a2e58b",
   "metadata": {
    "papermill": {
     "duration": 0.003811,
     "end_time": "2023-06-23T18:59:56.078237",
     "exception": false,
     "start_time": "2023-06-23T18:59:56.074426",
     "status": "completed"
    },
    "tags": []
   },
   "source": [
    "## Example Structure Map"
   ]
  },
  {
   "cell_type": "code",
   "execution_count": null,
   "id": "545c890a-a49e-432e-81d2-553d1326005a",
   "metadata": {
    "papermill": {
     "duration": 0.016882,
     "end_time": "2023-06-23T18:59:56.099209",
     "exception": false,
     "start_time": "2023-06-23T18:59:56.082327",
     "status": "completed"
    },
    "tags": []
   },
   "outputs": [],
   "source": [
    "def example_extrusions(\n",
    "    t_slab: float = 0.020,\n",
    "    t_soi: float = 0.220,\n",
    "    t_ox: float = 1.0,\n",
    "):\n",
    "    \"\"\"create some simple extrusion rules\n",
    "\n",
    "    Args:\n",
    "        t_slab: the slab thickness\n",
    "        t_soi: the SOI thickness\n",
    "        t_ox: the oxide layer thickness\n",
    "    \"\"\"\n",
    "    extrusions = {\n",
    "        (1, 0): [\n",
    "            mw.GdsExtrusionRule(\n",
    "                material=mw.silicon,\n",
    "                h_min=0.0,\n",
    "                h_max=0.0 + t_soi,\n",
    "                mesh_order=1,\n",
    "            ),\n",
    "            mw.GdsExtrusionRule(\n",
    "                material=mw.silicon_oxide,\n",
    "                h_min=-1.0,\n",
    "                h_max=t_soi + t_ox,\n",
    "                buffer=t_ox / 2,\n",
    "                mesh_order=2,\n",
    "            ),\n",
    "        ],\n",
    "        (2, 0): [\n",
    "            mw.GdsExtrusionRule(\n",
    "                material=mw.silicon,\n",
    "                h_min=0.0,\n",
    "                h_max=0.0 + t_slab,\n",
    "                mesh_order=1,\n",
    "            ),\n",
    "            mw.GdsExtrusionRule(\n",
    "                material=mw.silicon_oxide,\n",
    "                h_min=-1.0,\n",
    "                h_max=t_slab + t_ox,\n",
    "                mesh_order=2,\n",
    "            ),\n",
    "        ],\n",
    "    }\n",
    "    return extrusions"
   ]
  },
  {
   "cell_type": "markdown",
   "id": "d21104bc-4b87-40d3-acd2-c1dfe8c0b975",
   "metadata": {
    "papermill": {
     "duration": 0.003901,
     "end_time": "2023-06-23T18:59:56.107119",
     "exception": false,
     "start_time": "2023-06-23T18:59:56.103218",
     "status": "completed"
    },
    "tags": []
   },
   "source": [
    "## Extrude GDS"
   ]
  },
  {
   "cell_type": "code",
   "execution_count": null,
   "id": "630cda0e-4e0a-40c0-a054-a5197c8b02a8",
   "metadata": {
    "papermill": {
     "duration": 0.106564,
     "end_time": "2023-06-23T18:59:56.217906",
     "exception": false,
     "start_time": "2023-06-23T18:59:56.111342",
     "status": "completed"
    },
    "tags": []
   },
   "outputs": [],
   "source": [
    "extrusion_rules = example_extrusions()\n",
    "structs = mw.extrude_gds(taper, extrusion_rules)\n",
    "mw.visualize(structs, scale=(1, 1, 0.2))"
   ]
  },
  {
   "cell_type": "markdown",
   "id": "e3186752-4dc0-4a1d-96e7-5e3455ac7111",
   "metadata": {
    "papermill": {
     "duration": 0.032038,
     "end_time": "2023-06-23T18:59:56.274507",
     "exception": false,
     "start_time": "2023-06-23T18:59:56.242469",
     "status": "completed"
    },
    "tags": []
   },
   "source": [
    "## Divide into Cells"
   ]
  },
  {
   "cell_type": "code",
   "execution_count": null,
   "id": "0c45b041-80d2-48ba-b6e5-871440d1c206",
   "metadata": {
    "papermill": {
     "duration": 1.438373,
     "end_time": "2023-06-23T18:59:57.756926",
     "exception": false,
     "start_time": "2023-06-23T18:59:56.318553",
     "status": "completed"
    },
    "tags": []
   },
   "outputs": [],
   "source": [
    "w_sim = 1.0\n",
    "h_sim = 1.0\n",
    "mesh = 100\n",
    "num_cells = 10\n",
    "taper_length = np.diff(taper.bbox[:, 0]).item()\n",
    "Ls = [taper_length / num_cells for _ in range(num_cells)]\n",
    "print(Ls)\n",
    "\n",
    "cells = mw.create_cells(\n",
    "    structures=structs,\n",
    "    mesh=mw.Mesh2d(\n",
    "        x=np.linspace(-0.75, 0.75, mesh + 1),\n",
    "        y=np.linspace(-0.3, 0.5, mesh + 1),\n",
    "    ),\n",
    "    Ls=Ls,\n",
    ")\n",
    "\n",
    "mw.visualize(cells[0], cbar=False)\n",
    "plt.show()\n",
    "\n",
    "mw.visualize(cells[-1], cbar=False)\n",
    "plt.show()"
   ]
  },
  {
   "cell_type": "markdown",
   "id": "1dc2c50b-8c78-4003-88d1-9ac3e679d3a0",
   "metadata": {
    "papermill": {
     "duration": 0.069179,
     "end_time": "2023-06-23T18:59:57.870379",
     "exception": false,
     "start_time": "2023-06-23T18:59:57.801200",
     "status": "completed"
    },
    "tags": []
   },
   "source": [
    "## Find Cross Sections"
   ]
  },
  {
   "cell_type": "code",
   "execution_count": null,
   "id": "a9524991-6242-4e5e-bad5-277b42aaed69",
   "metadata": {
    "papermill": {
     "duration": 1.822803,
     "end_time": "2023-06-23T18:59:59.738343",
     "exception": false,
     "start_time": "2023-06-23T18:59:57.915540",
     "status": "completed"
    },
    "tags": []
   },
   "outputs": [],
   "source": [
    "env = mw.Environment(wl=1.55, T=25.0)\n",
    "css = [mw.CrossSection.from_cell(cell=cell, env=env) for cell in cells]\n",
    "\n",
    "mw.visualize(css[0])\n",
    "mw.visualize(css[-1])"
   ]
  },
  {
   "cell_type": "code",
   "execution_count": null,
   "id": "6f215456-dad9-4072-9058-572b1a1f3844",
   "metadata": {
    "papermill": {
     "duration": 6.881622,
     "end_time": "2023-06-23T19:00:06.674277",
     "exception": false,
     "start_time": "2023-06-23T18:59:59.792655",
     "status": "completed"
    },
    "tags": []
   },
   "outputs": [],
   "source": [
    "num_modes = 4\n",
    "modes = mw.compute_modes(css[0], num_modes=num_modes)\n",
    "mw.visualize(modes[0])"
   ]
  },
  {
   "cell_type": "markdown",
   "id": "b5e615d7-32f5-40cd-af29-a2147a402ce1",
   "metadata": {
    "papermill": {
     "duration": 0.026433,
     "end_time": "2023-06-23T19:00:06.728254",
     "exception": false,
     "start_time": "2023-06-23T19:00:06.701821",
     "status": "completed"
    },
    "tags": []
   },
   "source": [
    "## Compute Modes (FDE)"
   ]
  },
  {
   "cell_type": "code",
   "execution_count": null,
   "id": "5bcc243c-ac0a-4880-b626-63318b84185c",
   "metadata": {
    "papermill": {
     "duration": 60.77467,
     "end_time": "2023-06-23T19:01:07.529856",
     "exception": false,
     "start_time": "2023-06-23T19:00:06.755186",
     "status": "completed"
    },
    "tags": []
   },
   "outputs": [],
   "source": [
    "%%time\n",
    "num_modes = 4\n",
    "modes = [mw.compute_modes(cs, num_modes=num_modes) for cs in css]"
   ]
  },
  {
   "cell_type": "code",
   "execution_count": null,
   "id": "64cc3f4f-686d-4081-9910-81f4a9925093",
   "metadata": {
    "papermill": {
     "duration": 1.658617,
     "end_time": "2023-06-23T19:01:09.247413",
     "exception": false,
     "start_time": "2023-06-23T19:01:07.588796",
     "status": "completed"
    },
    "tags": []
   },
   "outputs": [],
   "source": [
    "mw.visualize(modes[0][0], fields=[\"Hx\"])\n",
    "mw.visualize(modes[-1][1], fields=[\"Hx\"])"
   ]
  },
  {
   "cell_type": "markdown",
   "id": "9f7a5773-301e-43aa-8a77-31d637db8455",
   "metadata": {
    "papermill": {
     "duration": 0.058981,
     "end_time": "2023-06-23T19:01:09.350435",
     "exception": false,
     "start_time": "2023-06-23T19:01:09.291454",
     "status": "completed"
    },
    "tags": []
   },
   "source": [
    "## Calculate S-matrix (EME)"
   ]
  },
  {
   "cell_type": "code",
   "execution_count": null,
   "id": "ab85732c-a4fa-40b6-829e-3900ef0b6ce9",
   "metadata": {
    "papermill": {
     "duration": 1.408423,
     "end_time": "2023-06-23T19:01:10.778182",
     "exception": false,
     "start_time": "2023-06-23T19:01:09.369759",
     "status": "completed"
    },
    "tags": []
   },
   "outputs": [],
   "source": [
    "S, port_map = mw.compute_s_matrix(modes, cells)\n",
    "print(port_map)\n",
    "mw.visualize((abs(S), port_map))"
   ]
  }
 ],
 "metadata": {
  "kernelspec": {
   "display_name": "base",
   "language": "python",
   "name": "python3"
  },
  "language_info": {
   "codemirror_mode": {
    "name": "ipython",
    "version": 3
   },
   "file_extension": ".py",
   "mimetype": "text/x-python",
   "name": "python",
   "nbconvert_exporter": "python",
   "pygments_lexer": "ipython3",
   "version": "3.11.5"
  },
  "papermill": {
   "default_parameters": {},
   "duration": 89.727693,
   "end_time": "2023-06-23T19:01:12.128482",
   "environment_variables": {},
   "exception": null,
   "input_path": "./examples/01_gds_taper.ipynb",
   "output_path": "./examples/01_gds_taper.ipynb",
   "parameters": {},
   "start_time": "2023-06-23T18:59:42.400789",
   "version": "2.3.4"
  }
 },
 "nbformat": 4,
 "nbformat_minor": 5
}
