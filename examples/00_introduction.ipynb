{
 "cells": [
  {
   "cell_type": "markdown",
   "id": "dd643a5d-d081-48d7-a8ed-2c4b80faa122",
   "metadata": {
    "papermill": {
     "duration": 0.011108,
     "end_time": "2024-06-14T09:06:42.649900",
     "exception": false,
     "start_time": "2024-06-14T09:06:42.638792",
     "status": "completed"
    },
    "tags": []
   },
   "source": [
    "# Quick Start\n",
    "\n",
    "> meow Introduction and Quick Start"
   ]
  },
  {
   "cell_type": "code",
   "execution_count": null,
   "id": "4859f69dd76d8b17",
   "metadata": {
    "papermill": {
     "duration": 6.398944,
     "end_time": "2024-06-14T09:06:49.060286",
     "exception": false,
     "start_time": "2024-06-14T09:06:42.661342",
     "status": "completed"
    },
    "tags": [
     "remove-cell"
    ]
   },
   "outputs": [],
   "source": [
    "from typing import List\n",
    "\n",
    "import meow as mw\n",
    "import numpy as np"
   ]
  },
  {
   "cell_type": "markdown",
   "id": "2d28a1cd-a5db-4e58-b141-c6a20a0a5657",
   "metadata": {
    "papermill": {
     "duration": 0.004485,
     "end_time": "2024-06-14T09:06:49.069379",
     "exception": false,
     "start_time": "2024-06-14T09:06:49.064894",
     "status": "completed"
    },
    "tags": []
   },
   "source": [
    "## Installation\n",
    "\n",
    "```sh\n",
    "pip install meow-sim\n",
    "```"
   ]
  },
  {
   "cell_type": "markdown",
   "id": "e563a59a-6494-431b-b124-6c1804a6c7cb",
   "metadata": {
    "papermill": {
     "duration": 0.00443,
     "end_time": "2024-06-14T09:06:49.078294",
     "exception": false,
     "start_time": "2024-06-14T09:06:49.073864",
     "status": "completed"
    },
    "tags": []
   },
   "source": [
    "## Quick Start"
   ]
  },
  {
   "cell_type": "markdown",
   "id": "18f7b08a-7303-4454-a31c-1fea3d7c42af",
   "metadata": {
    "papermill": {
     "duration": 0.004589,
     "end_time": "2024-06-14T09:06:49.087448",
     "exception": false,
     "start_time": "2024-06-14T09:06:49.082859",
     "status": "completed"
    },
    "tags": []
   },
   "source": [
    "### 1. Structure\n",
    "First create the structures to be simulated. A {class}`~.meow.structures.Structure` is a collection of a {class}`~.meow.geometries.Geometry` with a {class}`~.meow.materials.Material`. \n",
    "\n",
    ":::{note}\n",
    "`meow` expects the propagation direction to be the `z`-axis! This makes the `zx`-plane parallel with the chip and the `y`-axis perpendicular to the chip. Keep this in mind when creating your structures.\n",
    ":::"
   ]
  },
  {
   "cell_type": "code",
   "execution_count": null,
   "id": "873fae6e-3435-4a89-8f3f-06a33a8755ed",
   "metadata": {
    "papermill": {
     "duration": 0.380012,
     "end_time": "2024-06-14T09:06:49.472035",
     "exception": false,
     "start_time": "2024-06-14T09:06:49.092023",
     "status": "completed"
    },
    "tags": []
   },
   "outputs": [],
   "source": [
    "length = 10.0\n",
    "\n",
    "oxide = mw.Structure(\n",
    "    material=mw.silicon_oxide,\n",
    "    geometry=mw.Box(\n",
    "        x_min=-1.0,\n",
    "        x_max=1.0,\n",
    "        y_min=-1.0,\n",
    "        y_max=0.0,\n",
    "        z_min=0.0,\n",
    "        z_max=length,\n",
    "    ),\n",
    ")\n",
    "\n",
    "core = mw.Structure(\n",
    "    material=mw.silicon,\n",
    "    geometry=mw.Box(\n",
    "        x_min=-0.45 / 2,\n",
    "        x_max=0.45 / 2,\n",
    "        y_min=0.0,\n",
    "        y_max=0.22,\n",
    "        z_min=0,\n",
    "        z_max=length,\n",
    "    ),\n",
    ")\n",
    "\n",
    "structures = [oxide, core]\n",
    "mw.visualize(structures)"
   ]
  },
  {
   "cell_type": "markdown",
   "id": "ec547819-c3c3-42ac-9cb4-33c183680bf2",
   "metadata": {
    "papermill": {
     "duration": 0.059906,
     "end_time": "2024-06-14T09:06:49.592488",
     "exception": false,
     "start_time": "2024-06-14T09:06:49.532582",
     "status": "completed"
    },
    "tags": []
   },
   "source": [
    ":::{note} \n",
    "you can also extrude structures from a gds file. See {class}`~.meow.gds_structures.GdsExtrusionRule`. \n",
    ":::"
   ]
  },
  {
   "cell_type": "markdown",
   "id": "5e7eee72-2ab4-498f-bd0b-3b80feba483e",
   "metadata": {
    "papermill": {
     "duration": 0.069542,
     "end_time": "2024-06-14T09:06:49.723694",
     "exception": false,
     "start_time": "2024-06-14T09:06:49.654152",
     "status": "completed"
    },
    "tags": []
   },
   "source": [
    "### 2. Cells\n",
    "\n",
    "Once you have a list of {class}`~.meow.structures.Structure` objects, they need to be divided into cells. A {class}`~.meow.cell.Cell` is a combination of those structures with 2D meshing info ({class}`~.meow.mesh.Mesh2d`) and a cell length."
   ]
  },
  {
   "cell_type": "code",
   "execution_count": null,
   "id": "50df56f0-ce78-41f5-a854-8d1cfa486392",
   "metadata": {
    "papermill": {
     "duration": 0.075818,
     "end_time": "2024-06-14T09:06:49.870779",
     "exception": false,
     "start_time": "2024-06-14T09:06:49.794961",
     "status": "completed"
    },
    "tags": []
   },
   "outputs": [],
   "source": [
    "num_cells = 5\n",
    "\n",
    "cells = mw.create_cells(\n",
    "    structures=structures,\n",
    "    mesh=mw.Mesh2D(\n",
    "        x=np.linspace(-1, 1, 101),\n",
    "        y=np.linspace(-1, 1, 101),\n",
    "        # specify possible conformal mesh specifications here:\n",
    "        # bend_radius=2.0,\n",
    "        # bend_axis=1,\n",
    "        ez_interfaces=True,\n",
    "    ),\n",
    "    Ls=np.array([length / num_cells for _ in range(num_cells)]),\n",
    ")"
   ]
  },
  {
   "cell_type": "markdown",
   "id": "53b6f32e-e2ae-491d-bfee-3db2616e6063",
   "metadata": {
    "papermill": {
     "duration": 0.078736,
     "end_time": "2024-06-14T09:06:50.020344",
     "exception": false,
     "start_time": "2024-06-14T09:06:49.941608",
     "status": "completed"
    },
    "tags": []
   },
   "source": [
    "A cell should be a region of (approximate) constant cross section. We can use the {func}`~.meow.visualize.visualize` function to show the cross section of a cell:"
   ]
  },
  {
   "cell_type": "code",
   "execution_count": null,
   "id": "51f21eed-1004-4b27-b471-d5d3b3232359",
   "metadata": {
    "papermill": {
     "duration": 1.31571,
     "end_time": "2024-06-14T09:06:51.395835",
     "exception": false,
     "start_time": "2024-06-14T09:06:50.080125",
     "status": "completed"
    },
    "tags": []
   },
   "outputs": [],
   "source": [
    "mw.visualize(cells[0])"
   ]
  },
  {
   "cell_type": "markdown",
   "id": "ee4e586c-bc2d-427f-a95e-83cc7b0af5e2",
   "metadata": {
    "papermill": {
     "duration": 0.101113,
     "end_time": "2024-06-14T09:06:51.583847",
     "exception": false,
     "start_time": "2024-06-14T09:06:51.482734",
     "status": "completed"
    },
    "tags": []
   },
   "source": [
    "### 3. Cross Sections\n",
    "A {class}`~.meow.cell.Cell` contains all the {class}`~.meow.structures.Structure` info, but does not take any {class}`~.meow.environment.Environment` information (such as temparature or wavelength) into account. This information is important as it influences the refractive index of the {class}`~.meow.cross_section.CrossSection`.\n",
    "\n",
    "Therefore, combining a {class}`~.meow.cell.Cell` with an {class}`~.meow.environment.Environment` yields a {class}`~.meow.cross_section.CrossSection`:"
   ]
  },
  {
   "cell_type": "code",
   "execution_count": null,
   "id": "a88e01ae-06c4-43d9-8c2e-dfe2ee4e0d91",
   "metadata": {
    "papermill": {
     "duration": 2.239601,
     "end_time": "2024-06-14T09:06:53.959969",
     "exception": false,
     "start_time": "2024-06-14T09:06:51.720368",
     "status": "completed"
    },
    "tags": []
   },
   "outputs": [],
   "source": [
    "env = mw.Environment(wl=1.55, T=25.0)\n",
    "css = [mw.CrossSection.from_cell(cell=cell, env=env) for cell in cells]\n",
    "mw.visualize(css[0])"
   ]
  },
  {
   "cell_type": "markdown",
   "id": "08c90cb2-e6f5-4251-8e05-c927be29fd29",
   "metadata": {
    "papermill": {
     "duration": 0.148495,
     "end_time": "2024-06-14T09:06:54.230216",
     "exception": false,
     "start_time": "2024-06-14T09:06:54.081721",
     "status": "completed"
    },
    "tags": []
   },
   "source": [
    "### 4. Find Modes (FDE)\n",
    "We can now compute multiple {class}`~.meow.modes.Modes` per {class}`~.meow.cross_section.CrossSection` using {func}`~.meow.fde.tidy3d.compute_modes`:"
   ]
  },
  {
   "cell_type": "code",
   "execution_count": null,
   "id": "47e444c0-987e-4601-a8cd-c3cdeb8e0824",
   "metadata": {
    "papermill": {
     "duration": 78.778884,
     "end_time": "2024-06-14T09:08:13.118868",
     "exception": false,
     "start_time": "2024-06-14T09:06:54.339984",
     "status": "completed"
    },
    "tags": []
   },
   "outputs": [],
   "source": [
    "num_modes = 4\n",
    "\n",
    "modes: List[List[mw.Mode]] = []\n",
    "for cs in css:\n",
    "    modes_in_cs = mw.compute_modes(cs, num_modes=num_modes)\n",
    "    modes.append(modes_in_cs)"
   ]
  },
  {
   "cell_type": "code",
   "execution_count": null,
   "id": "98bd86d4-fb46-4b2c-be39-0fcd6f5d8cce",
   "metadata": {
    "papermill": {
     "duration": 1.668541,
     "end_time": "2024-06-14T09:08:14.861994",
     "exception": false,
     "start_time": "2024-06-14T09:08:13.193453",
     "status": "completed"
    },
    "tags": []
   },
   "outputs": [],
   "source": [
    "# show Hx component of the second mode (idx 1)\n",
    "# of the first cell (idx 0):\n",
    "mw.visualize(modes[0][0], fields=[\"Ex\"])\n",
    "mw.visualize(modes[-1][0], fields=[\"Ex\"])"
   ]
  },
  {
   "cell_type": "markdown",
   "id": "a08e7375-3fe5-4f86-a7bc-260add35dac4",
   "metadata": {
    "papermill": {
     "duration": 0.038594,
     "end_time": "2024-06-14T09:08:14.932676",
     "exception": false,
     "start_time": "2024-06-14T09:08:14.894082",
     "status": "completed"
    },
    "tags": []
   },
   "source": [
    ":::{note} \n",
    "above, the {class}`~.meow.modes.Modes` of the {class}`~.meow.cross_section.CrossSection` are calculated sequentially. However, you're invited to try calculating the modes concurrently as well 😉\n",
    ":::"
   ]
  },
  {
   "cell_type": "markdown",
   "id": "7abc9801-fc8b-43ef-b7ba-4328957d4370",
   "metadata": {
    "papermill": {
     "duration": 0.045521,
     "end_time": "2024-06-14T09:08:15.033610",
     "exception": false,
     "start_time": "2024-06-14T09:08:14.988089",
     "status": "completed"
    },
    "tags": []
   },
   "source": [
    "### 5. Calculate S-matrix (EME)\n",
    "\n",
    "The S-matrix of a collection of modes can now easily be calculated with {func}`~.meow.eme.tidy3d.compute_s_matrix`. This step uses the [sax](https://github.com/flaport/sax) circuit solver under the hood."
   ]
  },
  {
   "cell_type": "code",
   "execution_count": null,
   "id": "8600e5a7-5e34-4b5c-abf5-737cd01734dc",
   "metadata": {
    "papermill": {
     "duration": 7.31733,
     "end_time": "2024-06-14T09:08:22.415873",
     "exception": false,
     "start_time": "2024-06-14T09:08:15.098543",
     "status": "completed"
    },
    "tags": []
   },
   "outputs": [],
   "source": [
    "S, port_map = mw.compute_s_matrix(modes, cells)\n",
    "\n",
    "print(port_map)\n",
    "mw.visualize((abs(S), port_map))"
   ]
  },
  {
   "cell_type": "markdown",
   "id": "afff8c93-5a21-46bf-b5e6-8b5530b75523",
   "metadata": {
    "papermill": {
     "duration": 0.112775,
     "end_time": "2024-06-14T09:08:22.644525",
     "exception": false,
     "start_time": "2024-06-14T09:08:22.531750",
     "status": "completed"
    },
    "tags": []
   },
   "source": [
    "That's it! this was a quick introduction to the `meow` library!"
   ]
  }
 ],
 "metadata": {
  "kernelspec": {
   "display_name": "Python 3 (ipykernel)",
   "language": "python",
   "name": "python3"
  },
  "language_info": {
   "codemirror_mode": {
    "name": "ipython",
    "version": 3
   },
   "file_extension": ".py",
   "mimetype": "text/x-python",
   "name": "python",
   "nbconvert_exporter": "python",
   "pygments_lexer": "ipython3",
   "version": "3.11.9"
  },
  "papermill": {
   "default_parameters": {},
   "duration": 104.847267,
   "end_time": "2024-06-14T09:08:25.719404",
   "environment_variables": {},
   "exception": null,
   "input_path": "./examples/00_introduction.ipynb",
   "output_path": "./examples/00_introduction.ipynb",
   "parameters": {},
   "start_time": "2024-06-14T09:06:40.872137",
   "version": "2.3.4"
  },
  "vscode": {
   "interpreter": {
    "hash": "0dd118673efdbefb7257b2235dc4c000959f664fa5386b3652213e4a49c44469"
   }
  }
 },
 "nbformat": 4,
 "nbformat_minor": 5
}
