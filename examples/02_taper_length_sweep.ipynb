{
 "cells": [
  {
   "cell_type": "markdown",
   "id": "dd643a5d-d081-48d7-a8ed-2c4b80faa122",
   "metadata": {
    "papermill": {
     "duration": 0.006568,
     "end_time": "2023-06-23T18:59:59.155867",
     "exception": false,
     "start_time": "2023-06-23T18:59:59.149299",
     "status": "completed"
    },
    "tags": []
   },
   "source": [
    "# Sweep Taper Length\n",
    "\n",
    "> Find the S-matrix of a taper for different taper lengths"
   ]
  },
  {
   "cell_type": "code",
   "execution_count": null,
   "id": "4859f69dd76d8b17",
   "metadata": {
    "papermill": {
     "duration": 12.741741,
     "end_time": "2023-06-23T19:00:11.903348",
     "exception": false,
     "start_time": "2023-06-23T18:59:59.161607",
     "status": "completed"
    },
    "tags": [
     "remove-cell"
    ]
   },
   "outputs": [],
   "source": [
    "from typing import List\n",
    "\n",
    "import matplotlib.pyplot as plt\n",
    "import meow as mw\n",
    "import numpy as np\n",
    "from tqdm.notebook import tqdm"
   ]
  },
  {
   "cell_type": "markdown",
   "id": "2d28a1cd-a5db-4e58-b141-c6a20a0a5657",
   "metadata": {
    "papermill": {
     "duration": 0.006706,
     "end_time": "2023-06-23T19:00:11.916080",
     "exception": false,
     "start_time": "2023-06-23T19:00:11.909374",
     "status": "completed"
    },
    "tags": []
   },
   "source": [
    "## Installation\n",
    "\n",
    "```sh\n",
    "pip install meow-sim\n",
    "```"
   ]
  },
  {
   "cell_type": "markdown",
   "id": "e563a59a-6494-431b-b124-6c1804a6c7cb",
   "metadata": {
    "papermill": {
     "duration": 0.011534,
     "end_time": "2023-06-23T19:00:11.933589",
     "exception": false,
     "start_time": "2023-06-23T19:00:11.922055",
     "status": "completed"
    },
    "tags": []
   },
   "source": [
    "## Quick Start"
   ]
  },
  {
   "cell_type": "markdown",
   "id": "18f7b08a-7303-4454-a31c-1fea3d7c42af",
   "metadata": {
    "papermill": {
     "duration": 0.014273,
     "end_time": "2023-06-23T19:00:11.967258",
     "exception": false,
     "start_time": "2023-06-23T19:00:11.952985",
     "status": "completed"
    },
    "tags": []
   },
   "source": [
    "### 1. Structure"
   ]
  },
  {
   "cell_type": "code",
   "execution_count": null,
   "id": "32721c05-112d-4946-b723-bf6dfdcd81fc",
   "metadata": {
    "papermill": {
     "duration": 0.021373,
     "end_time": "2023-06-23T19:00:12.003517",
     "exception": false,
     "start_time": "2023-06-23T19:00:11.982144",
     "status": "completed"
    },
    "tags": []
   },
   "outputs": [],
   "source": [
    "def create_structures(length=10.0):\n",
    "    oxide = mw.Structure(\n",
    "        material=mw.silicon_oxide,\n",
    "        geometry=mw.Prism(\n",
    "            poly=np.array([(0, -2.1), (10, -2.1), (10, 2.1), (0, 2.1)]),\n",
    "            h_min=-3,\n",
    "            h_max=0,\n",
    "            axis=\"y\",\n",
    "        ),\n",
    "    )\n",
    "\n",
    "    poly = np.array([(0, -0.45 / 2), (10, -1), (10, 1), (0, 0.45 / 2)])\n",
    "\n",
    "    core = mw.Structure(\n",
    "        material=mw.silicon,\n",
    "        geometry=mw.Prism(\n",
    "            poly=poly,\n",
    "            h_min=0,\n",
    "            h_max=0.22,\n",
    "            axis=\"y\",\n",
    "        ),\n",
    "    )\n",
    "\n",
    "    structures = [oxide, core]\n",
    "    return structures"
   ]
  },
  {
   "cell_type": "code",
   "execution_count": null,
   "id": "b7bb5a58-222e-4259-a28c-1b79476ba686",
   "metadata": {
    "papermill": {
     "duration": 0.139958,
     "end_time": "2023-06-23T19:00:12.163140",
     "exception": false,
     "start_time": "2023-06-23T19:00:12.023182",
     "status": "completed"
    },
    "tags": []
   },
   "outputs": [],
   "source": [
    "mw.visualize(create_structures())"
   ]
  },
  {
   "cell_type": "markdown",
   "id": "5e7eee72-2ab4-498f-bd0b-3b80feba483e",
   "metadata": {
    "papermill": {
     "duration": 0.048632,
     "end_time": "2023-06-23T19:00:12.254053",
     "exception": false,
     "start_time": "2023-06-23T19:00:12.205421",
     "status": "completed"
    },
    "tags": []
   },
   "source": [
    "### 2. Cells"
   ]
  },
  {
   "cell_type": "code",
   "execution_count": null,
   "id": "5a3976ad-95b1-4b84-9ca2-7bddd8c13584",
   "metadata": {
    "papermill": {
     "duration": 0.036027,
     "end_time": "2023-06-23T19:00:12.326674",
     "exception": false,
     "start_time": "2023-06-23T19:00:12.290647",
     "status": "completed"
    },
    "tags": []
   },
   "outputs": [],
   "source": [
    "def create_cells(length=10.0, cell_length=1.0):\n",
    "    num_cells = round(length / cell_length)\n",
    "    structures = create_structures(length=length)\n",
    "    cells = mw.create_cells(\n",
    "        structures=structures,\n",
    "        mesh=mw.Mesh2d(\n",
    "            x=np.linspace(-2, 2, 101),\n",
    "            y=np.linspace(-2, 2, 101),\n",
    "            # specify possible conformal mesh specifications here:\n",
    "            # bend_radius=2.0,\n",
    "            # bend_axis=1,\n",
    "        ),\n",
    "        Ls=np.array([length / num_cells for _ in range(num_cells)]),\n",
    "    )\n",
    "    return cells"
   ]
  },
  {
   "cell_type": "code",
   "execution_count": null,
   "id": "51f21eed-1004-4b27-b471-d5d3b3232359",
   "metadata": {
    "papermill": {
     "duration": 0.580485,
     "end_time": "2023-06-23T19:00:12.953233",
     "exception": false,
     "start_time": "2023-06-23T19:00:12.372748",
     "status": "completed"
    },
    "tags": []
   },
   "outputs": [],
   "source": [
    "cells = create_cells()\n",
    "mw.visualize(cells[-1])"
   ]
  },
  {
   "cell_type": "markdown",
   "id": "ee4e586c-bc2d-427f-a95e-83cc7b0af5e2",
   "metadata": {
    "papermill": {
     "duration": 0.052135,
     "end_time": "2023-06-23T19:00:13.028611",
     "exception": false,
     "start_time": "2023-06-23T19:00:12.976476",
     "status": "completed"
    },
    "tags": []
   },
   "source": [
    "### 3. Cross Sections\n"
   ]
  },
  {
   "cell_type": "code",
   "execution_count": null,
   "id": "0063cf01-34b8-4081-bce5-4438183c6a20",
   "metadata": {
    "papermill": {
     "duration": 0.073487,
     "end_time": "2023-06-23T19:00:13.146493",
     "exception": false,
     "start_time": "2023-06-23T19:00:13.073006",
     "status": "completed"
    },
    "tags": []
   },
   "outputs": [],
   "source": [
    "def create_cross_sections(length=10.0, cell_length=1.0, wl=1.55, T=25.0):\n",
    "    cells = create_cells(length=length, cell_length=cell_length)\n",
    "    env = mw.Environment(wl=1.55, T=25.0)\n",
    "    css = [mw.CrossSection(cell=cell, env=env) for cell in cells]\n",
    "    return css"
   ]
  },
  {
   "cell_type": "code",
   "execution_count": null,
   "id": "6b369237-24a1-48ab-8767-1cad5510e4ca",
   "metadata": {
    "papermill": {
     "duration": 0.563085,
     "end_time": "2023-06-23T19:00:13.751358",
     "exception": false,
     "start_time": "2023-06-23T19:00:13.188273",
     "status": "completed"
    },
    "tags": []
   },
   "outputs": [],
   "source": [
    "css = create_cross_sections()\n",
    "mw.visualize(css[0])"
   ]
  },
  {
   "cell_type": "markdown",
   "id": "08c90cb2-e6f5-4251-8e05-c927be29fd29",
   "metadata": {
    "papermill": {
     "duration": 0.052783,
     "end_time": "2023-06-23T19:00:13.828244",
     "exception": false,
     "start_time": "2023-06-23T19:00:13.775461",
     "status": "completed"
    },
    "tags": []
   },
   "source": [
    "### 4. Find Modes (FDE)"
   ]
  },
  {
   "cell_type": "code",
   "execution_count": null,
   "id": "754335f0-50d2-4f1a-a173-b1266493216b",
   "metadata": {
    "papermill": {
     "duration": 0.068641,
     "end_time": "2023-06-23T19:00:13.941517",
     "exception": false,
     "start_time": "2023-06-23T19:00:13.872876",
     "status": "completed"
    },
    "tags": []
   },
   "outputs": [],
   "source": [
    "def find_modes(length=10.0, cell_length=1.0, wl=1.55, T=25.0, num_modes=10):\n",
    "    css = create_cross_sections(length=length, cell_length=cell_length, wl=wl, T=T)\n",
    "    modes: List[List[mw.Mode]] = []\n",
    "    for cs in tqdm(css):\n",
    "        modes_in_cs = mw.compute_modes(cs, num_modes=num_modes)\n",
    "        modes.append(modes_in_cs)\n",
    "    return modes"
   ]
  },
  {
   "cell_type": "markdown",
   "id": "7abc9801-fc8b-43ef-b7ba-4328957d4370",
   "metadata": {
    "papermill": {
     "duration": 0.041816,
     "end_time": "2023-06-23T19:00:14.025365",
     "exception": false,
     "start_time": "2023-06-23T19:00:13.983549",
     "status": "completed"
    },
    "tags": []
   },
   "source": [
    "### 5. Calculate S-matrix (EME)"
   ]
  },
  {
   "cell_type": "code",
   "execution_count": null,
   "id": "6cc358ae-17e3-43de-917f-a40e1910b937",
   "metadata": {
    "papermill": {
     "duration": 0.068386,
     "end_time": "2023-06-23T19:00:14.141589",
     "exception": false,
     "start_time": "2023-06-23T19:00:14.073203",
     "status": "completed"
    },
    "tags": []
   },
   "outputs": [],
   "source": [
    "def find_s_matrix(length=10.0, cell_length=1.0, wl=1.55, T=25.0, num_modes=10):\n",
    "    modes = find_modes(\n",
    "        length=length, cell_length=cell_length, wl=wl, T=T, num_modes=num_modes\n",
    "    )\n",
    "    S, port_map = mw.compute_s_matrix(modes)\n",
    "    return S, port_map"
   ]
  },
  {
   "cell_type": "code",
   "execution_count": null,
   "id": "a05123a2-96ba-4a96-9eb5-d9524f73c6d1",
   "metadata": {
    "papermill": {
     "duration": 103.249722,
     "end_time": "2023-06-23T19:01:57.438606",
     "exception": false,
     "start_time": "2023-06-23T19:00:14.188884",
     "status": "completed"
    },
    "tags": []
   },
   "outputs": [],
   "source": [
    "S1, pm1 = find_s_matrix(length=10.0)\n",
    "S2, pm2 = find_s_matrix(length=5.0)"
   ]
  },
  {
   "cell_type": "code",
   "execution_count": null,
   "id": "dff4c50f-9b92-4263-bd0f-64f35ec891d0",
   "metadata": {
    "papermill": {
     "duration": 0.459177,
     "end_time": "2023-06-23T19:01:57.909765",
     "exception": false,
     "start_time": "2023-06-23T19:01:57.450588",
     "status": "completed"
    },
    "tags": []
   },
   "outputs": [],
   "source": [
    "mw.visualize((abs(S1), pm1))"
   ]
  },
  {
   "cell_type": "code",
   "execution_count": null,
   "id": "0b979027-21e2-4e5d-a726-9220d33331f6",
   "metadata": {
    "papermill": {
     "duration": 0.487976,
     "end_time": "2023-06-23T19:01:58.411983",
     "exception": false,
     "start_time": "2023-06-23T19:01:57.924007",
     "status": "completed"
    },
    "tags": []
   },
   "outputs": [],
   "source": [
    "mw.visualize((abs(S2), pm2))"
   ]
  }
 ],
 "metadata": {
  "kernelspec": {
   "display_name": "hom",
   "language": "python",
   "name": "hom"
  },
  "language_info": {
   "codemirror_mode": {
    "name": "ipython",
    "version": 3
   },
   "file_extension": ".py",
   "mimetype": "text/x-python",
   "name": "python",
   "nbconvert_exporter": "python",
   "pygments_lexer": "ipython3",
   "version": "3.10.11"
  },
  "papermill": {
   "default_parameters": {},
   "duration": 122.962573,
   "end_time": "2023-06-23T19:01:59.245925",
   "environment_variables": {},
   "exception": null,
   "input_path": "./examples/02_taper_length_sweep.ipynb",
   "output_path": "./examples/02_taper_length_sweep.ipynb",
   "parameters": {},
   "start_time": "2023-06-23T18:59:56.283352",
   "version": "2.3.4"
  },
  "vscode": {
   "interpreter": {
    "hash": "0dd118673efdbefb7257b2235dc4c000959f664fa5386b3652213e4a49c44469"
   }
  }
 },
 "nbformat": 4,
 "nbformat_minor": 5
}
