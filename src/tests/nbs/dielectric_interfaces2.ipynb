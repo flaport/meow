{
 "cells": [
  {
   "cell_type": "code",
   "execution_count": null,
   "id": "1149c0fd-0649-485c-bd04-0c4ce16c3f78",
   "metadata": {
    "papermill": {
     "duration": 6.556664,
     "end_time": "2024-06-14T09:06:49.062677",
     "exception": false,
     "start_time": "2024-06-14T09:06:42.506013",
     "status": "completed"
    },
    "tags": []
   },
   "outputs": [],
   "source": [
    "import matplotlib.pyplot as plt\n",
    "import meow as mw\n",
    "import numpy as np\n",
    "import tidy3d as td\n",
    "from matplotlib import colors\n",
    "from scipy.ndimage import convolve\n",
    "from tidy3d.plugins.mode.mode_solver import compute_modes as _compute_modes\n",
    "\n",
    "mw.cache.disable_cache();"
   ]
  },
  {
   "cell_type": "markdown",
   "id": "7fbe6a1f-eb0e-4f8f-9a61-09907b323c5f",
   "metadata": {
    "papermill": {
     "duration": 0.003143,
     "end_time": "2024-06-14T09:06:49.069012",
     "exception": false,
     "start_time": "2024-06-14T09:06:49.065869",
     "status": "completed"
    },
    "tags": []
   },
   "source": [
    "## Settings"
   ]
  },
  {
   "cell_type": "code",
   "execution_count": null,
   "id": "49346bf7-94aa-4614-b51c-7125b7e04ddc",
   "metadata": {
    "papermill": {
     "duration": 0.012693,
     "end_time": "2024-06-14T09:06:49.084309",
     "exception": false,
     "start_time": "2024-06-14T09:06:49.071616",
     "status": "completed"
    },
    "tags": []
   },
   "outputs": [],
   "source": [
    "T = 25.0\n",
    "height = 0.22\n",
    "length = 10\n",
    "num_modes = 5\n",
    "width_in = 0.45\n",
    "width_out = 2.0\n",
    "wl = 1.5\n",
    "cell_length = 2.0"
   ]
  },
  {
   "cell_type": "markdown",
   "id": "ef4ec049-978a-4ddf-ad8b-9f1751f4ada0",
   "metadata": {
    "papermill": {
     "duration": 0.002792,
     "end_time": "2024-06-14T09:06:49.089836",
     "exception": false,
     "start_time": "2024-06-14T09:06:49.087044",
     "status": "completed"
    },
    "tags": []
   },
   "source": [
    "## Meow Structures"
   ]
  },
  {
   "cell_type": "code",
   "execution_count": null,
   "id": "8d1bd4e0-c4d4-4376-a74f-0aa68fd98700",
   "metadata": {
    "papermill": {
     "duration": 0.401479,
     "end_time": "2024-06-14T09:06:49.494328",
     "exception": false,
     "start_time": "2024-06-14T09:06:49.092849",
     "status": "completed"
    },
    "tags": []
   },
   "outputs": [],
   "source": [
    "oxide = mw.Structure(\n",
    "    material=mw.silicon_oxide,\n",
    "    geometry=mw.Prism(\n",
    "        poly=np.array(\n",
    "            [\n",
    "                (-2, -3.1),\n",
    "                (length + 2, -3.1),\n",
    "                (length + 2, 3.1),\n",
    "                (-2, 3.1),\n",
    "            ]\n",
    "        ),\n",
    "        h_min=-3,\n",
    "        h_max=0,\n",
    "        axis=\"y\",\n",
    "    ),\n",
    "    mesh_order=3,\n",
    ")\n",
    "\n",
    "core = mw.Structure(\n",
    "    material=mw.silicon,\n",
    "    geometry=mw.Prism(\n",
    "        poly=np.array(\n",
    "            [\n",
    "                (-2, -width_in / 2),\n",
    "                (0, -width_in / 2),\n",
    "                (length, -width_out / 2),\n",
    "                (length + 2, -width_out / 2),\n",
    "                (length + 2, width_out / 2),\n",
    "                (length, width_out / 2),\n",
    "                (0, width_in / 2),\n",
    "                (-2, width_in / 2),\n",
    "            ]\n",
    "        ),\n",
    "        h_min=0,\n",
    "        h_max=0.22,\n",
    "        axis=\"y\",\n",
    "    ),\n",
    "    mesh_order=1,\n",
    ")\n",
    "\n",
    "structures = [oxide, core]\n",
    "# structures = [core]\n",
    "\n",
    "cell1 = mw.Cell(\n",
    "    structures=structures,\n",
    "    mesh=mw.Mesh2D(\n",
    "        x=np.arange(-2, 2, 0.02),\n",
    "        y=np.arange(-2, 2, 0.02),\n",
    "    ),\n",
    "    z_min=0,\n",
    "    z_max=0,\n",
    "    ez_interfaces=True,\n",
    ")\n",
    "\n",
    "cs1 = mw.CrossSection.from_cell(\n",
    "    cell=cell1,\n",
    "    env=mw.Environment(wl=wl, T=T),\n",
    ")\n",
    "\n",
    "mw.visualize(cell1, show=False, cbar=False)\n",
    "plt.xlim(-0.5, 0.5)\n",
    "plt.ylim(-0.11, 0.33)\n",
    "plt.show()"
   ]
  },
  {
   "cell_type": "code",
   "execution_count": null,
   "id": "d2a046da-32ab-4fc9-9b0b-763276f61618",
   "metadata": {
    "papermill": {
     "duration": 70.370373,
     "end_time": "2024-06-14T09:07:59.880806",
     "exception": false,
     "start_time": "2024-06-14T09:06:49.510433",
     "status": "completed"
    },
    "tags": []
   },
   "outputs": [],
   "source": [
    "modes1 = mw.compute_modes(cs=cs1, num_modes=5)\n",
    "mw.visualize(modes1, fields=[\"Ex\", \"Hx\"], plot_width=3)"
   ]
  },
  {
   "cell_type": "markdown",
   "id": "eef0d300-13e1-4b3e-8f66-9d342c58fb55",
   "metadata": {
    "papermill": {
     "duration": 0.044484,
     "end_time": "2024-06-14T09:07:59.976923",
     "exception": false,
     "start_time": "2024-06-14T09:07:59.932439",
     "status": "completed"
    },
    "tags": []
   },
   "source": [
    "## Current"
   ]
  },
  {
   "cell_type": "code",
   "execution_count": null,
   "id": "9d0f7aad-55b9-4ae2-a1f0-a061bba27f10",
   "metadata": {
    "papermill": {
     "duration": 0.055719,
     "end_time": "2024-06-14T09:08:00.073188",
     "exception": false,
     "start_time": "2024-06-14T09:08:00.017469",
     "status": "completed"
    },
    "tags": []
   },
   "outputs": [],
   "source": [
    "cmap1 = colors.LinearSegmentedColormap.from_list(\n",
    "    name=\"cmap1\", colors=[\"#ffffff\", \"#ff0000\"]\n",
    ")\n",
    "cmap2 = colors.LinearSegmentedColormap.from_list(\n",
    "    name=\"cmap2\", colors=[\"#ffffff\", \"#00ff00\"]\n",
    ")\n",
    "cmap3 = colors.LinearSegmentedColormap.from_list(\n",
    "    name=\"cmap3\", colors=[\"#ffffff\", \"#0000ff\"]\n",
    ")"
   ]
  },
  {
   "cell_type": "code",
   "execution_count": null,
   "id": "bc5dadca-9000-4b4d-9660-6032c7e99d61",
   "metadata": {
    "papermill": {
     "duration": 0.777997,
     "end_time": "2024-06-14T09:08:00.884071",
     "exception": false,
     "start_time": "2024-06-14T09:08:00.106074",
     "status": "completed"
    },
    "tags": []
   },
   "outputs": [],
   "source": [
    "# plt.pcolormesh(\n",
    "#    cs1.cell.mesh.Xx + 0.5,\n",
    "#    cs1.cell.mesh.Yx + 0.5,\n",
    "#    cs1.nx,\n",
    "#    cmap=cmap1,\n",
    "#    vmin=1.0,\n",
    "#    alpha=0.3,\n",
    "# )\n",
    "# plt.pcolormesh(\n",
    "#    cs1.cell.mesh.Xy + 0.5,\n",
    "#    cs1.cell.mesh.Yy + 0.5,\n",
    "#    cs1.ny,\n",
    "#    cmap=cmap2,\n",
    "#    vmin=1.0,\n",
    "#    alpha=0.3,\n",
    "# )\n",
    "plt.pcolormesh(\n",
    "    cs1.mesh.Xz + 0.5,\n",
    "    cs1.mesh.Yz + 0.5,\n",
    "    cs1.nz,\n",
    "    cmap=cmap3,\n",
    "    vmin=1.0,\n",
    "    alpha=0.3,\n",
    ")\n",
    "plt.xlim(0.0, 1.0)\n",
    "plt.ylim(0.3, 0.80)\n",
    "plt.show()"
   ]
  }
 ],
 "metadata": {
  "kernelspec": {
   "display_name": "Python 3 (ipykernel)",
   "language": "python",
   "name": "python3"
  },
  "language_info": {
   "codemirror_mode": {
    "name": "ipython",
    "version": 3
   },
   "file_extension": ".py",
   "mimetype": "text/x-python",
   "name": "python",
   "nbconvert_exporter": "python",
   "pygments_lexer": "ipython3",
   "version": "3.11.9"
  },
  "papermill": {
   "default_parameters": {},
   "duration": 82.697472,
   "end_time": "2024-06-14T09:08:03.579585",
   "environment_variables": {},
   "exception": null,
   "input_path": "./tests/nbs/dielectric_interfaces2.ipynb",
   "output_path": "./tests/nbs/dielectric_interfaces2.ipynb",
   "parameters": {},
   "start_time": "2024-06-14T09:06:40.882113",
   "version": "2.4.0"
  }
 },
 "nbformat": 4,
 "nbformat_minor": 5
}
