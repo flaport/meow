{
 "cells": [
  {
   "cell_type": "markdown",
   "id": "0",
   "metadata": {},
   "source": [
    "# Dielectric interfaces [2]"
   ]
  },
  {
   "cell_type": "code",
   "execution_count": null,
   "id": "1",
   "metadata": {},
   "outputs": [],
   "source": [
    "import matplotlib.pyplot as plt\n",
    "import meow as mw\n",
    "import numpy as np\n",
    "import tidy3d as td\n",
    "from matplotlib import colors\n",
    "from scipy.ndimage import convolve\n",
    "from tidy3d.components.mode.solver import compute_modes as _compute_modes\n",
    "\n",
    "mw.cache.disable_cache();"
   ]
  },
  {
   "cell_type": "markdown",
   "id": "2",
   "metadata": {},
   "source": [
    "## Settings"
   ]
  },
  {
   "cell_type": "code",
   "execution_count": null,
   "id": "3",
   "metadata": {},
   "outputs": [],
   "source": [
    "T = 25.0\n",
    "height = 0.22\n",
    "length = 10\n",
    "num_modes = 5\n",
    "width_in = 0.45\n",
    "width_out = 2.0\n",
    "wl = 1.5\n",
    "cell_length = 2.0"
   ]
  },
  {
   "cell_type": "markdown",
   "id": "4",
   "metadata": {},
   "source": [
    "## Meow Structures"
   ]
  },
  {
   "cell_type": "code",
   "execution_count": null,
   "id": "5",
   "metadata": {},
   "outputs": [],
   "source": [
    "oxide = mw.Structure(\n",
    "    material=mw.silicon_oxide,\n",
    "    geometry=mw.Prism(\n",
    "        poly=np.array(\n",
    "            [\n",
    "                (-2, -3.1),\n",
    "                (length + 2, -3.1),\n",
    "                (length + 2, 3.1),\n",
    "                (-2, 3.1),\n",
    "            ]\n",
    "        ),\n",
    "        h_min=-3,\n",
    "        h_max=0,\n",
    "        axis=\"y\",\n",
    "    ),\n",
    "    mesh_order=3,\n",
    ")\n",
    "\n",
    "core = mw.Structure(\n",
    "    material=mw.silicon,\n",
    "    geometry=mw.Prism(\n",
    "        poly=np.array(\n",
    "            [\n",
    "                (-2, -width_in / 2),\n",
    "                (0, -width_in / 2),\n",
    "                (length, -width_out / 2),\n",
    "                (length + 2, -width_out / 2),\n",
    "                (length + 2, width_out / 2),\n",
    "                (length, width_out / 2),\n",
    "                (0, width_in / 2),\n",
    "                (-2, width_in / 2),\n",
    "            ]\n",
    "        ),\n",
    "        h_min=0,\n",
    "        h_max=0.22,\n",
    "        axis=\"y\",\n",
    "    ),\n",
    "    mesh_order=1,\n",
    ")\n",
    "\n",
    "structures = [oxide, core]\n",
    "# structures = [core]\n",
    "\n",
    "cell1 = mw.Cell(\n",
    "    structures=structures,\n",
    "    mesh=mw.Mesh2D(\n",
    "        x=np.arange(-2, 2, 0.02),\n",
    "        y=np.arange(-2, 2, 0.02),\n",
    "    ),\n",
    "    z_min=0,\n",
    "    z_max=0,\n",
    "    ez_interfaces=True,\n",
    ")\n",
    "\n",
    "cs1 = mw.CrossSection.from_cell(\n",
    "    cell=cell1,\n",
    "    env=mw.Environment(wl=wl, T=T),\n",
    ")\n",
    "\n",
    "mw.visualize(cell1, show=False, cbar=False)\n",
    "plt.xlim(-0.5, 0.5)\n",
    "plt.ylim(-0.11, 0.33)\n",
    "plt.show()"
   ]
  },
  {
   "cell_type": "code",
   "execution_count": null,
   "id": "6",
   "metadata": {},
   "outputs": [],
   "source": [
    "modes1 = mw.compute_modes(cs=cs1, num_modes=5)\n",
    "mw.visualize(modes1, fields=[\"Ex\", \"Hx\"], plot_width=3)"
   ]
  },
  {
   "cell_type": "markdown",
   "id": "7",
   "metadata": {},
   "source": [
    "## Current"
   ]
  },
  {
   "cell_type": "code",
   "execution_count": null,
   "id": "8",
   "metadata": {},
   "outputs": [],
   "source": [
    "cmap1 = colors.LinearSegmentedColormap.from_list(\n",
    "    name=\"cmap1\", colors=[\"#ffffff\", \"#ff0000\"]\n",
    ")\n",
    "cmap2 = colors.LinearSegmentedColormap.from_list(\n",
    "    name=\"cmap2\", colors=[\"#ffffff\", \"#00ff00\"]\n",
    ")\n",
    "cmap3 = colors.LinearSegmentedColormap.from_list(\n",
    "    name=\"cmap3\", colors=[\"#ffffff\", \"#0000ff\"]\n",
    ")"
   ]
  },
  {
   "cell_type": "code",
   "execution_count": null,
   "id": "9",
   "metadata": {},
   "outputs": [],
   "source": [
    "# plt.pcolormesh(\n",
    "#    cs1.cell.mesh.Xx + 0.5,\n",
    "#    cs1.cell.mesh.Yx + 0.5,\n",
    "#    cs1.nx,\n",
    "#    cmap=cmap1,\n",
    "#    vmin=1.0,\n",
    "#    alpha=0.3,\n",
    "# )\n",
    "# plt.pcolormesh(\n",
    "#    cs1.cell.mesh.Xy + 0.5,\n",
    "#    cs1.cell.mesh.Yy + 0.5,\n",
    "#    cs1.ny,\n",
    "#    cmap=cmap2,\n",
    "#    vmin=1.0,\n",
    "#    alpha=0.3,\n",
    "# )\n",
    "plt.pcolormesh(\n",
    "    cs1.mesh.Xz + 0.5,\n",
    "    cs1.mesh.Yz + 0.5,\n",
    "    cs1.nz,\n",
    "    cmap=cmap3,\n",
    "    vmin=1.0,\n",
    "    alpha=0.3,\n",
    ")\n",
    "plt.xlim(0.0, 1.0)\n",
    "plt.ylim(0.3, 0.80)\n",
    "plt.show()"
   ]
  }
 ],
 "metadata": {
  "kernelspec": {
   "display_name": "meow",
   "language": "python",
   "name": "meow"
  },
  "language_info": {
   "codemirror_mode": {
    "name": "ipython",
    "version": 3
   },
   "file_extension": ".py",
   "mimetype": "text/x-python",
   "name": "python",
   "nbconvert_exporter": "python",
   "pygments_lexer": "ipython3"
  }
 },
 "nbformat": 4,
 "nbformat_minor": 5
}
