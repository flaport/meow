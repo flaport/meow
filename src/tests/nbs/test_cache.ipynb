{
 "cells": [
  {
   "cell_type": "code",
   "execution_count": null,
   "id": "0",
   "metadata": {},
   "outputs": [],
   "source": [
    "import numpy as np\n",
    "import meow as mw\n",
    "from meow.cache import CACHED_MODELS, disable_cache\n",
    "\n",
    "CACHED_MODELS.clear()"
   ]
  },
  {
   "cell_type": "code",
   "execution_count": null,
   "id": "1",
   "metadata": {},
   "outputs": [],
   "source": [
    "mesh1 = mw.Mesh2D(\n",
    "    angle_phi=2.003,\n",
    "    x=np.linspace(0, 1, 10),\n",
    "    y=np.arange(0, 3, np.pi / 3),\n",
    ")\n",
    "\n",
    "mesh2 = mw.Mesh2D(\n",
    "    angle_phi=2.003,\n",
    "    x=np.linspace(0, 1, 10),\n",
    "    y=np.arange(0, 3, np.pi / 3),\n",
    ")\n",
    "\n",
    "print(id(mesh1), id(mesh2))\n",
    "assert id(mesh1) == id(mesh2)\n",
    "assert hash(mesh1) == hash(mesh2)\n",
    "assert mesh1 is mesh2"
   ]
  },
  {
   "cell_type": "code",
   "execution_count": null,
   "id": "2",
   "metadata": {},
   "outputs": [],
   "source": [
    "cell1 = mw.Cell(\n",
    "    structures=[],\n",
    "    mesh=mesh1,\n",
    "    z_min=0.0,\n",
    "    z_max=10.0,\n",
    ")\n",
    "\n",
    "cell2 = mw.Cell(\n",
    "    structures=[],\n",
    "    mesh=mesh1,\n",
    "    z_min=0.0,\n",
    "    z_max=10.0,\n",
    ")\n",
    "\n",
    "print(id(cell1), id(cell2))\n",
    "print(hash(cell1), hash(cell2))\n",
    "assert id(cell1) == id(cell2)\n",
    "assert hash(cell1) == hash(cell2)\n",
    "assert cell1 is cell2"
   ]
  },
  {
   "cell_type": "code",
   "execution_count": null,
   "id": "3",
   "metadata": {},
   "outputs": [],
   "source": [
    "disable_cache()\n",
    "cell1 = mw.Cell(\n",
    "    structures=[],\n",
    "    mesh=mesh1,\n",
    "    z_min=0.0,\n",
    "    z_max=10.0,\n",
    ")\n",
    "\n",
    "cell2 = mw.Cell(\n",
    "    structures=[],\n",
    "    mesh=mesh1,\n",
    "    z_min=0.0,\n",
    "    z_max=10.0,\n",
    ")\n",
    "\n",
    "print(id(cell1), id(cell2))\n",
    "print(hash(cell1), hash(cell2))\n",
    "assert id(cell1) != id(cell2)\n",
    "assert hash(cell1) == hash(cell2)\n",
    "assert cell1 is not cell2"
   ]
  }
 ],
 "metadata": {
  "kernelspec": {
   "display_name": "meow",
   "language": "python",
   "name": "meow"
  },
  "language_info": {
   "codemirror_mode": {
    "name": "ipython",
    "version": 3
   },
   "file_extension": ".py",
   "mimetype": "text/x-python",
   "name": "python",
   "nbconvert_exporter": "python",
   "pygments_lexer": "ipython3"
  }
 },
 "nbformat": 4,
 "nbformat_minor": 5
}
