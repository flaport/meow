{
 "cells": [
  {
   "cell_type": "code",
   "execution_count": null,
   "id": "790df11f-163e-4988-b067-cb57882bdbe7",
   "metadata": {},
   "outputs": [],
   "source": [
    "import numpy as np\n",
    "import meow as mw\n",
    "from meow.cache import CACHED_MODELS, disable_cache\n",
    "\n",
    "CACHED_MODELS.clear()"
   ]
  },
  {
   "cell_type": "code",
   "execution_count": null,
   "id": "79ade5bb-3730-497b-ab7a-382c47a4ebb6",
   "metadata": {},
   "outputs": [],
   "source": [
    "mesh1 = mw.Mesh2D(\n",
    "    angle_phi=2.003,\n",
    "    x=np.linspace(0, 1, 10),\n",
    "    y=np.arange(0, 3, np.pi / 3),\n",
    ")\n",
    "\n",
    "mesh2 = mw.Mesh2D(\n",
    "    angle_phi=2.003,\n",
    "    x=np.linspace(0, 1, 10),\n",
    "    y=np.arange(0, 3, np.pi / 3),\n",
    ")\n",
    "\n",
    "print(id(mesh1), id(mesh2))\n",
    "assert id(mesh1) == id(mesh2)\n",
    "assert hash(mesh1) == hash(mesh2)\n",
    "assert mesh1 is mesh2"
   ]
  },
  {
   "cell_type": "code",
   "execution_count": null,
   "id": "8f487e21-02fb-4cb5-8382-e7648c3e6386",
   "metadata": {},
   "outputs": [],
   "source": [
    "cell1 = mw.Cell(\n",
    "    structures=[],\n",
    "    mesh=mesh1,\n",
    "    z_min=0.0,\n",
    "    z_max=10.0,\n",
    ")\n",
    "\n",
    "cell2 = mw.Cell(\n",
    "    structures=[],\n",
    "    mesh=mesh1,\n",
    "    z_min=0.0,\n",
    "    z_max=10.0,\n",
    ")\n",
    "\n",
    "print(id(cell1), id(cell2))\n",
    "print(hash(cell1), hash(cell2))\n",
    "assert id(cell1) == id(cell2)\n",
    "assert hash(cell1) == hash(cell2)\n",
    "assert cell1 is cell2"
   ]
  },
  {
   "cell_type": "code",
   "execution_count": null,
   "id": "dc1a6993-368d-484b-a8b5-7b4ee764a01f",
   "metadata": {},
   "outputs": [],
   "source": [
    "disable_cache()\n",
    "cell1 = mw.Cell(\n",
    "    structures=[],\n",
    "    mesh=mesh1,\n",
    "    z_min=0.0,\n",
    "    z_max=10.0,\n",
    ")\n",
    "\n",
    "cell2 = mw.Cell(\n",
    "    structures=[],\n",
    "    mesh=mesh1,\n",
    "    z_min=0.0,\n",
    "    z_max=10.0,\n",
    ")\n",
    "\n",
    "print(id(cell1), id(cell2))\n",
    "print(hash(cell1), hash(cell2))\n",
    "assert id(cell1) != id(cell2)\n",
    "assert hash(cell1) == hash(cell2)\n",
    "assert cell1 is not cell2"
   ]
  }
 ],
 "metadata": {
  "kernelspec": {
   "display_name": "Python 3 (ipykernel)",
   "language": "python",
   "name": "python3"
  },
  "language_info": {
   "codemirror_mode": {
    "name": "ipython",
    "version": 3
   },
   "file_extension": ".py",
   "mimetype": "text/x-python",
   "name": "python",
   "nbconvert_exporter": "python",
   "pygments_lexer": "ipython3",
   "version": "3.11.9"
  }
 },
 "nbformat": 4,
 "nbformat_minor": 5
}
