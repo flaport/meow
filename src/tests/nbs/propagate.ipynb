{
 "cells": [
  {
   "cell_type": "code",
   "execution_count": null,
   "id": "8c20b4e6",
   "metadata": {
    "papermill": {
     "duration": 6.412723,
     "end_time": "2024-06-14T09:06:49.031493",
     "exception": false,
     "start_time": "2024-06-14T09:06:42.618770",
     "status": "completed"
    },
    "tags": []
   },
   "outputs": [],
   "source": [
    "import meow as mw\n",
    "import jax.numpy as np\n",
    "import matplotlib.pyplot as plt"
   ]
  },
  {
   "cell_type": "markdown",
   "id": "65eb039d",
   "metadata": {
    "papermill": {
     "duration": 0.003111,
     "end_time": "2024-06-14T09:06:49.038239",
     "exception": false,
     "start_time": "2024-06-14T09:06:49.035128",
     "status": "completed"
    },
    "tags": []
   },
   "source": [
    "## Preparation\n",
    "let's perform a mode simulation"
   ]
  },
  {
   "cell_type": "code",
   "execution_count": null,
   "id": "2d1c1964",
   "metadata": {
    "papermill": {
     "duration": 0.01161,
     "end_time": "2024-06-14T09:06:49.052978",
     "exception": false,
     "start_time": "2024-06-14T09:06:49.041368",
     "status": "completed"
    },
    "tags": []
   },
   "outputs": [],
   "source": [
    "length = 10.0\n",
    "box = mw.Box(\n",
    "    x_min=-0.22,\n",
    "    x_max=0.22,\n",
    "    y_min=0,\n",
    "    y_max=0.22,\n",
    "    z_min=0.0,\n",
    "    z_max=length,\n",
    ")"
   ]
  },
  {
   "cell_type": "code",
   "execution_count": null,
   "id": "e9f76fd4",
   "metadata": {
    "papermill": {
     "duration": 0.016279,
     "end_time": "2024-06-14T09:06:49.073738",
     "exception": false,
     "start_time": "2024-06-14T09:06:49.057459",
     "status": "completed"
    },
    "tags": []
   },
   "outputs": [],
   "source": [
    "struct = mw.Structure(material=mw.silicon, geometry=box)"
   ]
  },
  {
   "cell_type": "code",
   "execution_count": null,
   "id": "02e26f83",
   "metadata": {
    "papermill": {
     "duration": 0.01071,
     "end_time": "2024-06-14T09:06:49.088911",
     "exception": false,
     "start_time": "2024-06-14T09:06:49.078201",
     "status": "completed"
    },
    "tags": []
   },
   "outputs": [],
   "source": [
    "env = mw.Environment(wl=1.55, T=25.0)"
   ]
  },
  {
   "cell_type": "code",
   "execution_count": null,
   "id": "769c3c3b",
   "metadata": {
    "papermill": {
     "duration": 0.143432,
     "end_time": "2024-06-14T09:06:49.235633",
     "exception": false,
     "start_time": "2024-06-14T09:06:49.092201",
     "status": "completed"
    },
    "tags": []
   },
   "outputs": [],
   "source": [
    "cells = mw.create_cells(\n",
    "    structures=[struct],\n",
    "    mesh=mw.Mesh2D(\n",
    "        x=np.linspace(-1, 1, 101),\n",
    "        y=np.linspace(-1, 1, 101),\n",
    "    ),\n",
    "    Ls=[length / 3] * 3,\n",
    ")\n",
    "css = [mw.CrossSection.from_cell(cell=cell, env=env) for cell in cells]"
   ]
  },
  {
   "cell_type": "code",
   "execution_count": null,
   "id": "8dee4bb0",
   "metadata": {
    "papermill": {
     "duration": 56.986591,
     "end_time": "2024-06-14T09:07:46.225667",
     "exception": false,
     "start_time": "2024-06-14T09:06:49.239076",
     "status": "completed"
    },
    "tags": []
   },
   "outputs": [],
   "source": [
    "modes = [mw.compute_modes(cs, num_modes=3) for cs in css]"
   ]
  },
  {
   "cell_type": "code",
   "execution_count": null,
   "id": "b5590bd6",
   "metadata": {
    "papermill": {
     "duration": 0.049185,
     "end_time": "2024-06-14T09:07:46.301393",
     "exception": false,
     "start_time": "2024-06-14T09:07:46.252208",
     "status": "completed"
    },
    "tags": []
   },
   "outputs": [],
   "source": [
    "modes_ = modes.copy()"
   ]
  },
  {
   "cell_type": "code",
   "execution_count": null,
   "id": "74ee8dca",
   "metadata": {
    "papermill": {
     "duration": 0.042306,
     "end_time": "2024-06-14T09:07:46.361692",
     "exception": false,
     "start_time": "2024-06-14T09:07:46.319386",
     "status": "completed"
    },
    "tags": []
   },
   "outputs": [],
   "source": [
    "modes = modes_.copy()"
   ]
  },
  {
   "cell_type": "code",
   "execution_count": null,
   "id": "40ec6c03",
   "metadata": {
    "papermill": {
     "duration": 0.793206,
     "end_time": "2024-06-14T09:07:47.169112",
     "exception": false,
     "start_time": "2024-06-14T09:07:46.375906",
     "status": "completed"
    },
    "tags": []
   },
   "outputs": [],
   "source": [
    "modes[1] = modes[1][:-1]\n",
    "modes[1] = [m * complex(np.exp(0.4j)) for m in modes[1]]"
   ]
  },
  {
   "cell_type": "code",
   "execution_count": null,
   "id": "c05d86f9",
   "metadata": {
    "papermill": {
     "duration": 0.030233,
     "end_time": "2024-06-14T09:07:47.210397",
     "exception": false,
     "start_time": "2024-06-14T09:07:47.180164",
     "status": "completed"
    },
    "tags": []
   },
   "outputs": [],
   "source": [
    "from meow.eme.propagate import propagate_modes"
   ]
  },
  {
   "cell_type": "code",
   "execution_count": null,
   "id": "8a4884e9",
   "metadata": {
    "papermill": {
     "duration": 3.192826,
     "end_time": "2024-06-14T09:07:50.422891",
     "exception": true,
     "start_time": "2024-06-14T09:07:47.230065",
     "status": "failed"
    },
    "tags": []
   },
   "outputs": [],
   "source": [
    "z = np.linspace(0, length, 300)\n",
    "y = 0.5\n",
    "\n",
    "ex_l = np.zeros(len(modes[0]))\n",
    "ex_l = ex_l.at[0].set(1)\n",
    "ex_r = np.zeros(len(modes[-1]))\n",
    "ex_r = ex_r.at[0].set(0.3)\n",
    "\n",
    "E, x = propagate_modes(modes, cells, ex_l, ex_r, y, z)\n",
    "\n",
    "X, Y = np.meshgrid(z, x)\n",
    "lim = np.quantile(np.abs(E), 0.98)\n",
    "plt.pcolormesh(X, Y, np.abs(E).T, shading=\"nearest\", cmap=\"magma\", vmin=0, vmax=lim)"
   ]
  }
 ],
 "metadata": {
  "kernelspec": {
   "display_name": "Python 3 (ipykernel)",
   "language": "python",
   "name": "python3"
  },
  "language_info": {
   "codemirror_mode": {
    "name": "ipython",
    "version": 3
   },
   "file_extension": ".py",
   "mimetype": "text/x-python",
   "name": "python",
   "nbconvert_exporter": "python",
   "pygments_lexer": "ipython3",
   "version": "3.11.9"
  },
  "papermill": {
   "default_parameters": {},
   "duration": 72.624195,
   "end_time": "2024-06-14T09:07:53.481638",
   "environment_variables": {},
   "exception": true,
   "input_path": "./tests/nbs/propagate.ipynb",
   "output_path": "./tests/nbs/propagate.ipynb",
   "parameters": {},
   "start_time": "2024-06-14T09:06:40.857443",
   "version": "2.4.0"
  },
  "vscode": {
   "interpreter": {
    "hash": "8cb1a8d1c3ece4eb1e4592eaec04207f7b73f2abcb1f254721941c0090e83ef8"
   }
  }
 },
 "nbformat": 4,
 "nbformat_minor": 5
}
