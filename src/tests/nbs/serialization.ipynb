{
 "cells": [
  {
   "cell_type": "markdown",
   "id": "0",
   "metadata": {
    "papermill": {
     "duration": 0.091493,
     "end_time": "2024-06-14T09:08:13.311851",
     "exception": false,
     "start_time": "2024-06-14T09:08:13.220358",
     "status": "completed"
    },
    "tags": []
   },
   "source": [
    "# Serialization\n",
    "\n",
    "> Everything in the `meow` package is easily serializable.\n",
    "\n",
    "Everything in the `meow` package is easily serializable. Why is that useful? Well this allows you to very quite easily make a REST API out of `meow`. And why is that useful? Having an FDE-solver behind a REST-api allows you to simultaneously solve for the modes in all the EME cells at once! Anyway, this notebook serves to show how the most common data structures are _serialized_, we might go into the details of making an api at a later stage."
   ]
  },
  {
   "cell_type": "code",
   "execution_count": null,
   "id": "1",
   "metadata": {
    "papermill": {
     "duration": 17.154359,
     "end_time": "2024-06-14T09:08:30.555521",
     "exception": false,
     "start_time": "2024-06-14T09:08:13.401162",
     "status": "completed"
    },
    "tags": [
     "remove-cell"
    ]
   },
   "outputs": [],
   "source": [
    "import json\n",
    "from typing import List\n",
    "\n",
    "import meow as mw\n",
    "import numpy as np\n",
    "from meow.base_model import _dict_repr"
   ]
  },
  {
   "cell_type": "code",
   "execution_count": null,
   "id": "2",
   "metadata": {
    "papermill": {
     "duration": 0.171259,
     "end_time": "2024-06-14T09:08:30.866202",
     "exception": false,
     "start_time": "2024-06-14T09:08:30.694943",
     "status": "completed"
    },
    "tags": []
   },
   "outputs": [],
   "source": [
    "def _try_is_base_model(cls):\n",
    "    try:\n",
    "        return issubclass(cls, mw.BaseModel)\n",
    "    except Exception:\n",
    "        return False\n",
    "\n",
    "\n",
    "model_name_map = {v: k for k, v in vars(mw).items() if _try_is_base_model(v)}\n",
    "model_name_map"
   ]
  },
  {
   "cell_type": "markdown",
   "id": "3",
   "metadata": {
    "papermill": {
     "duration": 0.052345,
     "end_time": "2024-06-14T09:08:30.993017",
     "exception": false,
     "start_time": "2024-06-14T09:08:30.940672",
     "status": "completed"
    },
    "tags": []
   },
   "source": [
    "## Geometry"
   ]
  },
  {
   "cell_type": "code",
   "execution_count": null,
   "id": "4",
   "metadata": {},
   "outputs": [],
   "source": [
    "print(\"Geometry2D: \", mw.Geometry2DBase.model_json_schema())\n",
    "print(\"Rectangle: \", mw.Rectangle.model_json_schema())"
   ]
  },
  {
   "cell_type": "code",
   "execution_count": null,
   "id": "5",
   "metadata": {},
   "outputs": [],
   "source": [
    "print(\"Geometry3D: \", mw.Geometry3DBase.model_json_schema())\n",
    "print(\"Box: \", mw.Box.model_json_schema())\n",
    "print(\"Prism: \", mw.Prism.model_json_schema())"
   ]
  },
  {
   "cell_type": "code",
   "execution_count": null,
   "id": "6",
   "metadata": {
    "papermill": {
     "duration": 0.076935,
     "end_time": "2024-06-14T09:08:31.269679",
     "exception": false,
     "start_time": "2024-06-14T09:08:31.192744",
     "status": "completed"
    },
    "tags": []
   },
   "outputs": [],
   "source": [
    "length = 10.0\n",
    "box = mw.Box(\n",
    "    x_min=-1.0,\n",
    "    x_max=1.0,\n",
    "    y_min=-1.0,\n",
    "    y_max=0.0,\n",
    "    z_min=0.0,\n",
    "    z_max=length,\n",
    ")"
   ]
  },
  {
   "cell_type": "markdown",
   "id": "7",
   "metadata": {
    "papermill": {
     "duration": 0.052112,
     "end_time": "2024-06-14T09:08:31.373444",
     "exception": false,
     "start_time": "2024-06-14T09:08:31.321332",
     "status": "completed"
    },
    "tags": []
   },
   "source": [
    "self-deserialization:"
   ]
  },
  {
   "cell_type": "code",
   "execution_count": null,
   "id": "8",
   "metadata": {
    "papermill": {
     "duration": 0.105946,
     "end_time": "2024-06-14T09:08:31.560219",
     "exception": false,
     "start_time": "2024-06-14T09:08:31.454273",
     "status": "completed"
    },
    "tags": []
   },
   "outputs": [],
   "source": [
    "mw.Geometry3DBase.model_validate(box)"
   ]
  },
  {
   "cell_type": "markdown",
   "id": "9",
   "metadata": {
    "papermill": {
     "duration": 0.051249,
     "end_time": "2024-06-14T09:08:31.664633",
     "exception": false,
     "start_time": "2024-06-14T09:08:31.613384",
     "status": "completed"
    },
    "tags": []
   },
   "source": [
    "### dictionary"
   ]
  },
  {
   "cell_type": "markdown",
   "id": "10",
   "metadata": {
    "papermill": {
     "duration": 0.049318,
     "end_time": "2024-06-14T09:08:31.771323",
     "exception": false,
     "start_time": "2024-06-14T09:08:31.722005",
     "status": "completed"
    },
    "tags": []
   },
   "source": [
    "serialize"
   ]
  },
  {
   "cell_type": "code",
   "execution_count": null,
   "id": "11",
   "metadata": {
    "papermill": {
     "duration": 0.085032,
     "end_time": "2024-06-14T09:08:31.919271",
     "exception": false,
     "start_time": "2024-06-14T09:08:31.834239",
     "status": "completed"
    },
    "tags": []
   },
   "outputs": [],
   "source": [
    "dic = box.model_dump()\n",
    "dic"
   ]
  },
  {
   "cell_type": "markdown",
   "id": "12",
   "metadata": {
    "papermill": {
     "duration": 0.063604,
     "end_time": "2024-06-14T09:08:32.052387",
     "exception": false,
     "start_time": "2024-06-14T09:08:31.988783",
     "status": "completed"
    },
    "tags": []
   },
   "source": [
    "deserialize"
   ]
  },
  {
   "cell_type": "code",
   "execution_count": null,
   "id": "13",
   "metadata": {
    "papermill": {
     "duration": 0.086327,
     "end_time": "2024-06-14T09:08:32.205194",
     "exception": false,
     "start_time": "2024-06-14T09:08:32.118867",
     "status": "completed"
    },
    "tags": []
   },
   "outputs": [],
   "source": [
    "mw.Geometry3DBase.model_validate(dic)"
   ]
  },
  {
   "cell_type": "markdown",
   "id": "14",
   "metadata": {
    "papermill": {
     "duration": 0.059348,
     "end_time": "2024-06-14T09:08:32.321620",
     "exception": false,
     "start_time": "2024-06-14T09:08:32.262272",
     "status": "completed"
    },
    "tags": []
   },
   "source": [
    "### json"
   ]
  },
  {
   "cell_type": "markdown",
   "id": "15",
   "metadata": {
    "papermill": {
     "duration": 0.026462,
     "end_time": "2024-06-14T09:08:32.378514",
     "exception": false,
     "start_time": "2024-06-14T09:08:32.352052",
     "status": "completed"
    },
    "tags": []
   },
   "source": [
    "serialize"
   ]
  },
  {
   "cell_type": "code",
   "execution_count": null,
   "id": "16",
   "metadata": {
    "papermill": {
     "duration": 0.041368,
     "end_time": "2024-06-14T09:08:32.447000",
     "exception": false,
     "start_time": "2024-06-14T09:08:32.405632",
     "status": "completed"
    },
    "tags": []
   },
   "outputs": [],
   "source": [
    "s = box.model_dump_json()\n",
    "s"
   ]
  },
  {
   "cell_type": "markdown",
   "id": "17",
   "metadata": {
    "papermill": {
     "duration": 0.027335,
     "end_time": "2024-06-14T09:08:32.501031",
     "exception": false,
     "start_time": "2024-06-14T09:08:32.473696",
     "status": "completed"
    },
    "tags": []
   },
   "source": [
    "deserialize"
   ]
  },
  {
   "cell_type": "code",
   "execution_count": null,
   "id": "18",
   "metadata": {},
   "outputs": [],
   "source": [
    "mw.Geometry3DBase.model_validate_json(s)"
   ]
  },
  {
   "cell_type": "markdown",
   "id": "19",
   "metadata": {
    "papermill": {
     "duration": 0.050432,
     "end_time": "2024-06-14T09:08:32.660129",
     "exception": false,
     "start_time": "2024-06-14T09:08:32.609697",
     "status": "completed"
    },
    "tags": []
   },
   "source": [
    "## Material"
   ]
  },
  {
   "cell_type": "code",
   "execution_count": null,
   "id": "20",
   "metadata": {},
   "outputs": [],
   "source": [
    "mw.MaterialBase.model_json_schema()"
   ]
  },
  {
   "cell_type": "markdown",
   "id": "21",
   "metadata": {
    "papermill": {
     "duration": 0.094231,
     "end_time": "2024-06-14T09:08:32.947523",
     "exception": false,
     "start_time": "2024-06-14T09:08:32.853292",
     "status": "completed"
    },
    "tags": []
   },
   "source": [
    "self-deserialization:"
   ]
  },
  {
   "cell_type": "code",
   "execution_count": null,
   "id": "22",
   "metadata": {
    "papermill": {
     "duration": 0.122798,
     "end_time": "2024-06-14T09:08:33.163971",
     "exception": false,
     "start_time": "2024-06-14T09:08:33.041173",
     "status": "completed"
    },
    "tags": []
   },
   "outputs": [],
   "source": [
    "mw.MaterialBase.model_validate(mw.silicon)"
   ]
  },
  {
   "cell_type": "markdown",
   "id": "23",
   "metadata": {
    "papermill": {
     "duration": 0.080947,
     "end_time": "2024-06-14T09:08:33.331612",
     "exception": false,
     "start_time": "2024-06-14T09:08:33.250665",
     "status": "completed"
    },
    "tags": []
   },
   "source": [
    "### dictionary"
   ]
  },
  {
   "cell_type": "markdown",
   "id": "24",
   "metadata": {
    "papermill": {
     "duration": 0.058506,
     "end_time": "2024-06-14T09:08:33.470046",
     "exception": false,
     "start_time": "2024-06-14T09:08:33.411540",
     "status": "completed"
    },
    "tags": []
   },
   "source": [
    "serialize"
   ]
  },
  {
   "cell_type": "code",
   "execution_count": null,
   "id": "25",
   "metadata": {
    "papermill": {
     "duration": 0.047896,
     "end_time": "2024-06-14T09:08:33.545208",
     "exception": false,
     "start_time": "2024-06-14T09:08:33.497312",
     "status": "completed"
    },
    "tags": []
   },
   "outputs": [],
   "source": [
    "dic = mw.silicon.model_dump()\n",
    "print(_dict_repr(dic))"
   ]
  },
  {
   "cell_type": "markdown",
   "id": "26",
   "metadata": {
    "papermill": {
     "duration": 0.061359,
     "end_time": "2024-06-14T09:08:33.670028",
     "exception": false,
     "start_time": "2024-06-14T09:08:33.608669",
     "status": "completed"
    },
    "tags": []
   },
   "source": [
    "deserialize"
   ]
  },
  {
   "cell_type": "code",
   "execution_count": null,
   "id": "27",
   "metadata": {
    "papermill": {
     "duration": 0.073135,
     "end_time": "2024-06-14T09:08:33.808413",
     "exception": false,
     "start_time": "2024-06-14T09:08:33.735278",
     "status": "completed"
    },
    "tags": []
   },
   "outputs": [],
   "source": [
    "mw.MaterialBase.model_validate(dic)"
   ]
  },
  {
   "cell_type": "markdown",
   "id": "28",
   "metadata": {
    "papermill": {
     "duration": 0.026827,
     "end_time": "2024-06-14T09:08:33.896691",
     "exception": false,
     "start_time": "2024-06-14T09:08:33.869864",
     "status": "completed"
    },
    "tags": []
   },
   "source": [
    "### json"
   ]
  },
  {
   "cell_type": "markdown",
   "id": "29",
   "metadata": {
    "papermill": {
     "duration": 0.026978,
     "end_time": "2024-06-14T09:08:33.950329",
     "exception": false,
     "start_time": "2024-06-14T09:08:33.923351",
     "status": "completed"
    },
    "tags": []
   },
   "source": [
    "serialize"
   ]
  },
  {
   "cell_type": "code",
   "execution_count": null,
   "id": "30",
   "metadata": {
    "papermill": {
     "duration": 0.054406,
     "end_time": "2024-06-14T09:08:34.035995",
     "exception": false,
     "start_time": "2024-06-14T09:08:33.981589",
     "status": "completed"
    },
    "tags": []
   },
   "outputs": [],
   "source": [
    "s = mw.silicon.model_dump_json()\n",
    "f\"{s[:100]}...\""
   ]
  },
  {
   "cell_type": "markdown",
   "id": "31",
   "metadata": {
    "papermill": {
     "duration": 0.033826,
     "end_time": "2024-06-14T09:08:34.101238",
     "exception": false,
     "start_time": "2024-06-14T09:08:34.067412",
     "status": "completed"
    },
    "tags": []
   },
   "source": [
    "deserialize"
   ]
  },
  {
   "cell_type": "code",
   "execution_count": null,
   "id": "32",
   "metadata": {
    "papermill": {
     "duration": 0.075148,
     "end_time": "2024-06-14T09:08:34.236315",
     "exception": false,
     "start_time": "2024-06-14T09:08:34.161167",
     "status": "completed"
    },
    "tags": []
   },
   "outputs": [],
   "source": [
    "mw.MaterialBase.model_validate_json(s)"
   ]
  },
  {
   "cell_type": "markdown",
   "id": "33",
   "metadata": {
    "papermill": {
     "duration": 0.02712,
     "end_time": "2024-06-14T09:08:34.299681",
     "exception": false,
     "start_time": "2024-06-14T09:08:34.272561",
     "status": "completed"
    },
    "tags": []
   },
   "source": [
    "## Structure"
   ]
  },
  {
   "cell_type": "code",
   "execution_count": null,
   "id": "34",
   "metadata": {},
   "outputs": [],
   "source": [
    "mw.Structure3D.model_json_schema()"
   ]
  },
  {
   "cell_type": "code",
   "execution_count": null,
   "id": "35",
   "metadata": {
    "papermill": {
     "duration": 0.112812,
     "end_time": "2024-06-14T09:08:34.585738",
     "exception": false,
     "start_time": "2024-06-14T09:08:34.472926",
     "status": "completed"
    },
    "tags": []
   },
   "outputs": [],
   "source": [
    "struct = mw.Structure(material=mw.silicon, geometry=box)\n",
    "struct"
   ]
  },
  {
   "cell_type": "markdown",
   "id": "36",
   "metadata": {
    "papermill": {
     "duration": 0.062192,
     "end_time": "2024-06-14T09:08:34.741009",
     "exception": false,
     "start_time": "2024-06-14T09:08:34.678817",
     "status": "completed"
    },
    "tags": []
   },
   "source": [
    "self-deserialization:"
   ]
  },
  {
   "cell_type": "code",
   "execution_count": null,
   "id": "37",
   "metadata": {
    "papermill": {
     "duration": 0.086079,
     "end_time": "2024-06-14T09:08:34.874274",
     "exception": false,
     "start_time": "2024-06-14T09:08:34.788195",
     "status": "completed"
    },
    "tags": []
   },
   "outputs": [],
   "source": [
    "mw.Structure3D.model_validate(struct)"
   ]
  },
  {
   "cell_type": "markdown",
   "id": "38",
   "metadata": {
    "papermill": {
     "duration": 0.116795,
     "end_time": "2024-06-14T09:08:35.093026",
     "exception": false,
     "start_time": "2024-06-14T09:08:34.976231",
     "status": "completed"
    },
    "tags": []
   },
   "source": [
    "### dictionary"
   ]
  },
  {
   "cell_type": "markdown",
   "id": "39",
   "metadata": {
    "papermill": {
     "duration": 0.078256,
     "end_time": "2024-06-14T09:08:35.260551",
     "exception": false,
     "start_time": "2024-06-14T09:08:35.182295",
     "status": "completed"
    },
    "tags": []
   },
   "source": [
    "serialize"
   ]
  },
  {
   "cell_type": "code",
   "execution_count": null,
   "id": "40",
   "metadata": {
    "papermill": {
     "duration": 0.13139,
     "end_time": "2024-06-14T09:08:35.501595",
     "exception": false,
     "start_time": "2024-06-14T09:08:35.370205",
     "status": "completed"
    },
    "tags": []
   },
   "outputs": [],
   "source": [
    "dic = struct.model_dump()\n",
    "print(_dict_repr(dic))"
   ]
  },
  {
   "cell_type": "markdown",
   "id": "41",
   "metadata": {
    "papermill": {
     "duration": 0.043322,
     "end_time": "2024-06-14T09:08:35.610994",
     "exception": false,
     "start_time": "2024-06-14T09:08:35.567672",
     "status": "completed"
    },
    "tags": []
   },
   "source": [
    "deserialize"
   ]
  },
  {
   "cell_type": "code",
   "execution_count": null,
   "id": "42",
   "metadata": {
    "papermill": {
     "duration": 0.181754,
     "end_time": "2024-06-14T09:08:35.821412",
     "exception": false,
     "start_time": "2024-06-14T09:08:35.639658",
     "status": "completed"
    },
    "tags": []
   },
   "outputs": [],
   "source": [
    "struct = mw.Structure3D.model_validate(dic)\n",
    "struct"
   ]
  },
  {
   "cell_type": "code",
   "execution_count": null,
   "id": "43",
   "metadata": {},
   "outputs": [],
   "source": [
    "type(mw.BaseModel.model_validate(dic))"
   ]
  },
  {
   "cell_type": "markdown",
   "id": "44",
   "metadata": {
    "papermill": {
     "duration": 0.159879,
     "end_time": "2024-06-14T09:08:36.119999",
     "exception": false,
     "start_time": "2024-06-14T09:08:35.960120",
     "status": "completed"
    },
    "tags": []
   },
   "source": [
    "### json"
   ]
  },
  {
   "cell_type": "markdown",
   "id": "45",
   "metadata": {
    "papermill": {
     "duration": 0.133534,
     "end_time": "2024-06-14T09:08:36.430877",
     "exception": false,
     "start_time": "2024-06-14T09:08:36.297343",
     "status": "completed"
    },
    "tags": []
   },
   "source": [
    "serialize"
   ]
  },
  {
   "cell_type": "code",
   "execution_count": null,
   "id": "46",
   "metadata": {
    "papermill": {
     "duration": 0.12042,
     "end_time": "2024-06-14T09:08:36.679849",
     "exception": false,
     "start_time": "2024-06-14T09:08:36.559429",
     "status": "completed"
    },
    "tags": []
   },
   "outputs": [],
   "source": [
    "s = struct.model_dump_json()\n",
    "f\"{s[:100]}...\""
   ]
  },
  {
   "cell_type": "markdown",
   "id": "47",
   "metadata": {
    "papermill": {
     "duration": 0.072304,
     "end_time": "2024-06-14T09:08:36.867072",
     "exception": false,
     "start_time": "2024-06-14T09:08:36.794768",
     "status": "completed"
    },
    "tags": []
   },
   "source": [
    "deserialize"
   ]
  },
  {
   "cell_type": "code",
   "execution_count": null,
   "id": "48",
   "metadata": {
    "papermill": {
     "duration": 0.087466,
     "end_time": "2024-06-14T09:08:37.017460",
     "exception": false,
     "start_time": "2024-06-14T09:08:36.929994",
     "status": "completed"
    },
    "tags": []
   },
   "outputs": [],
   "source": [
    "mw.Structure3D.model_validate_json(s)"
   ]
  },
  {
   "cell_type": "markdown",
   "id": "49",
   "metadata": {
    "papermill": {
     "duration": 0.048698,
     "end_time": "2024-06-14T09:08:37.116779",
     "exception": false,
     "start_time": "2024-06-14T09:08:37.068081",
     "status": "completed"
    },
    "tags": []
   },
   "source": [
    "## Cell"
   ]
  },
  {
   "cell_type": "code",
   "execution_count": null,
   "id": "50",
   "metadata": {},
   "outputs": [],
   "source": [
    "mw.Cell.model_json_schema()"
   ]
  },
  {
   "cell_type": "code",
   "execution_count": null,
   "id": "51",
   "metadata": {
    "papermill": {
     "duration": 0.077343,
     "end_time": "2024-06-14T09:08:37.414025",
     "exception": false,
     "start_time": "2024-06-14T09:08:37.336682",
     "status": "completed"
    },
    "tags": []
   },
   "outputs": [],
   "source": [
    "cell = mw.Cell(\n",
    "    structures=[struct],\n",
    "    mesh=mw.Mesh2D(\n",
    "        x=np.linspace(-1, 1, 101),\n",
    "        y=np.linspace(-1, 1, 101),\n",
    "    ),\n",
    "    z_min=0.0,\n",
    "    z_max=length,\n",
    ")"
   ]
  },
  {
   "cell_type": "markdown",
   "id": "52",
   "metadata": {
    "papermill": {
     "duration": 0.053642,
     "end_time": "2024-06-14T09:08:37.523806",
     "exception": false,
     "start_time": "2024-06-14T09:08:37.470164",
     "status": "completed"
    },
    "tags": []
   },
   "source": [
    "self-deserialization:"
   ]
  },
  {
   "cell_type": "code",
   "execution_count": null,
   "id": "53",
   "metadata": {
    "papermill": {
     "duration": 0.097656,
     "end_time": "2024-06-14T09:08:37.719251",
     "exception": false,
     "start_time": "2024-06-14T09:08:37.621595",
     "status": "completed"
    },
    "tags": []
   },
   "outputs": [],
   "source": [
    "mw.Cell.model_validate(cell)"
   ]
  },
  {
   "cell_type": "markdown",
   "id": "54",
   "metadata": {
    "papermill": {
     "duration": 0.112311,
     "end_time": "2024-06-14T09:08:37.980039",
     "exception": false,
     "start_time": "2024-06-14T09:08:37.867728",
     "status": "completed"
    },
    "tags": []
   },
   "source": [
    "### dictionary"
   ]
  },
  {
   "cell_type": "markdown",
   "id": "55",
   "metadata": {
    "papermill": {
     "duration": 0.118336,
     "end_time": "2024-06-14T09:08:38.206386",
     "exception": false,
     "start_time": "2024-06-14T09:08:38.088050",
     "status": "completed"
    },
    "tags": []
   },
   "source": [
    "serialize"
   ]
  },
  {
   "cell_type": "code",
   "execution_count": null,
   "id": "56",
   "metadata": {
    "papermill": {
     "duration": 0.156666,
     "end_time": "2024-06-14T09:08:38.468203",
     "exception": false,
     "start_time": "2024-06-14T09:08:38.311537",
     "status": "completed"
    },
    "tags": []
   },
   "outputs": [],
   "source": [
    "dic = cell.model_dump()\n",
    "print(_dict_repr(dic))"
   ]
  },
  {
   "cell_type": "markdown",
   "id": "57",
   "metadata": {
    "papermill": {
     "duration": 0.133558,
     "end_time": "2024-06-14T09:08:38.741759",
     "exception": false,
     "start_time": "2024-06-14T09:08:38.608201",
     "status": "completed"
    },
    "tags": []
   },
   "source": [
    "deserialize"
   ]
  },
  {
   "cell_type": "code",
   "execution_count": null,
   "id": "58",
   "metadata": {
    "papermill": {
     "duration": 0.153948,
     "end_time": "2024-06-14T09:08:39.007836",
     "exception": false,
     "start_time": "2024-06-14T09:08:38.853888",
     "status": "completed"
    },
    "tags": []
   },
   "outputs": [],
   "source": [
    "cell = mw.Cell.model_validate(dic)\n",
    "cell"
   ]
  },
  {
   "cell_type": "markdown",
   "id": "59",
   "metadata": {
    "papermill": {
     "duration": 0.048213,
     "end_time": "2024-06-14T09:08:39.097727",
     "exception": false,
     "start_time": "2024-06-14T09:08:39.049514",
     "status": "completed"
    },
    "tags": []
   },
   "source": [
    "### json"
   ]
  },
  {
   "cell_type": "markdown",
   "id": "60",
   "metadata": {
    "papermill": {
     "duration": 0.069915,
     "end_time": "2024-06-14T09:08:39.215615",
     "exception": false,
     "start_time": "2024-06-14T09:08:39.145700",
     "status": "completed"
    },
    "tags": []
   },
   "source": [
    "serialize"
   ]
  },
  {
   "cell_type": "code",
   "execution_count": null,
   "id": "61",
   "metadata": {
    "papermill": {
     "duration": 0.157147,
     "end_time": "2024-06-14T09:08:39.529911",
     "exception": false,
     "start_time": "2024-06-14T09:08:39.372764",
     "status": "completed"
    },
    "tags": []
   },
   "outputs": [],
   "source": [
    "s = cell.model_dump_json()\n",
    "f\"{s[:100]}...\""
   ]
  },
  {
   "cell_type": "markdown",
   "id": "62",
   "metadata": {
    "papermill": {
     "duration": 0.052191,
     "end_time": "2024-06-14T09:08:39.663224",
     "exception": false,
     "start_time": "2024-06-14T09:08:39.611033",
     "status": "completed"
    },
    "tags": []
   },
   "source": [
    "deserialize"
   ]
  },
  {
   "cell_type": "code",
   "execution_count": null,
   "id": "63",
   "metadata": {
    "papermill": {
     "duration": 0.155757,
     "end_time": "2024-06-14T09:08:39.920480",
     "exception": false,
     "start_time": "2024-06-14T09:08:39.764723",
     "status": "completed"
    },
    "tags": []
   },
   "outputs": [],
   "source": [
    "mw.Cell.model_validate_json(s)"
   ]
  },
  {
   "cell_type": "markdown",
   "id": "64",
   "metadata": {
    "papermill": {
     "duration": 0.048523,
     "end_time": "2024-06-14T09:08:40.009388",
     "exception": false,
     "start_time": "2024-06-14T09:08:39.960865",
     "status": "completed"
    },
    "tags": []
   },
   "source": [
    "## Environment"
   ]
  },
  {
   "cell_type": "code",
   "execution_count": null,
   "id": "65",
   "metadata": {},
   "outputs": [],
   "source": [
    "mw.Environment.model_json_schema()"
   ]
  },
  {
   "cell_type": "code",
   "execution_count": null,
   "id": "66",
   "metadata": {
    "papermill": {
     "duration": 0.094688,
     "end_time": "2024-06-14T09:08:40.438943",
     "exception": false,
     "start_time": "2024-06-14T09:08:40.344255",
     "status": "completed"
    },
    "tags": []
   },
   "outputs": [],
   "source": [
    "env = mw.Environment(wl=1.55, T=25.0)"
   ]
  },
  {
   "cell_type": "markdown",
   "id": "67",
   "metadata": {
    "papermill": {
     "duration": 0.074449,
     "end_time": "2024-06-14T09:08:40.597545",
     "exception": false,
     "start_time": "2024-06-14T09:08:40.523096",
     "status": "completed"
    },
    "tags": []
   },
   "source": [
    "self-deserialization:"
   ]
  },
  {
   "cell_type": "code",
   "execution_count": null,
   "id": "68",
   "metadata": {
    "papermill": {
     "duration": 0.100002,
     "end_time": "2024-06-14T09:08:40.742999",
     "exception": false,
     "start_time": "2024-06-14T09:08:40.642997",
     "status": "completed"
    },
    "tags": []
   },
   "outputs": [],
   "source": [
    "mw.Environment.model_validate(env)"
   ]
  },
  {
   "cell_type": "markdown",
   "id": "69",
   "metadata": {
    "papermill": {
     "duration": 0.101788,
     "end_time": "2024-06-14T09:08:40.939258",
     "exception": false,
     "start_time": "2024-06-14T09:08:40.837470",
     "status": "completed"
    },
    "tags": []
   },
   "source": [
    "### dictionary"
   ]
  },
  {
   "cell_type": "markdown",
   "id": "70",
   "metadata": {
    "papermill": {
     "duration": 0.107699,
     "end_time": "2024-06-14T09:08:41.150322",
     "exception": false,
     "start_time": "2024-06-14T09:08:41.042623",
     "status": "completed"
    },
    "tags": []
   },
   "source": [
    "serialize"
   ]
  },
  {
   "cell_type": "code",
   "execution_count": null,
   "id": "71",
   "metadata": {
    "papermill": {
     "duration": 0.149603,
     "end_time": "2024-06-14T09:08:41.408766",
     "exception": false,
     "start_time": "2024-06-14T09:08:41.259163",
     "status": "completed"
    },
    "tags": []
   },
   "outputs": [],
   "source": [
    "dic = env.model_dump()\n",
    "dic"
   ]
  },
  {
   "cell_type": "markdown",
   "id": "72",
   "metadata": {
    "papermill": {
     "duration": 0.104296,
     "end_time": "2024-06-14T09:08:41.608660",
     "exception": false,
     "start_time": "2024-06-14T09:08:41.504364",
     "status": "completed"
    },
    "tags": []
   },
   "source": [
    "deserialize"
   ]
  },
  {
   "cell_type": "code",
   "execution_count": null,
   "id": "73",
   "metadata": {
    "papermill": {
     "duration": 0.142793,
     "end_time": "2024-06-14T09:08:41.866237",
     "exception": false,
     "start_time": "2024-06-14T09:08:41.723444",
     "status": "completed"
    },
    "tags": []
   },
   "outputs": [],
   "source": [
    "mw.Environment.model_validate(dic)"
   ]
  },
  {
   "cell_type": "markdown",
   "id": "74",
   "metadata": {
    "papermill": {
     "duration": 0.146912,
     "end_time": "2024-06-14T09:08:42.170144",
     "exception": false,
     "start_time": "2024-06-14T09:08:42.023232",
     "status": "completed"
    },
    "tags": []
   },
   "source": [
    "### json"
   ]
  },
  {
   "cell_type": "markdown",
   "id": "75",
   "metadata": {
    "papermill": {
     "duration": 0.114385,
     "end_time": "2024-06-14T09:08:42.392079",
     "exception": false,
     "start_time": "2024-06-14T09:08:42.277694",
     "status": "completed"
    },
    "tags": []
   },
   "source": [
    "serialize"
   ]
  },
  {
   "cell_type": "code",
   "execution_count": null,
   "id": "76",
   "metadata": {
    "papermill": {
     "duration": 0.253588,
     "end_time": "2024-06-14T09:08:42.809923",
     "exception": false,
     "start_time": "2024-06-14T09:08:42.556335",
     "status": "completed"
    },
    "tags": []
   },
   "outputs": [],
   "source": [
    "s = env.model_dump_json()\n",
    "s"
   ]
  },
  {
   "cell_type": "markdown",
   "id": "77",
   "metadata": {
    "papermill": {
     "duration": 0.172433,
     "end_time": "2024-06-14T09:08:43.146648",
     "exception": false,
     "start_time": "2024-06-14T09:08:42.974215",
     "status": "completed"
    },
    "tags": []
   },
   "source": [
    "deserialize"
   ]
  },
  {
   "cell_type": "code",
   "execution_count": null,
   "id": "78",
   "metadata": {
    "papermill": {
     "duration": 0.231373,
     "end_time": "2024-06-14T09:08:43.562246",
     "exception": false,
     "start_time": "2024-06-14T09:08:43.330873",
     "status": "completed"
    },
    "tags": []
   },
   "outputs": [],
   "source": [
    "mw.Environment.model_validate_json(s)"
   ]
  },
  {
   "cell_type": "markdown",
   "id": "79",
   "metadata": {
    "papermill": {
     "duration": 0.165453,
     "end_time": "2024-06-14T09:08:43.933590",
     "exception": false,
     "start_time": "2024-06-14T09:08:43.768137",
     "status": "completed"
    },
    "tags": []
   },
   "source": [
    "## Cross Section"
   ]
  },
  {
   "cell_type": "code",
   "execution_count": null,
   "id": "80",
   "metadata": {},
   "outputs": [],
   "source": [
    "mw.CrossSection.model_json_schema()"
   ]
  },
  {
   "cell_type": "code",
   "execution_count": null,
   "id": "81",
   "metadata": {
    "papermill": {
     "duration": 0.245804,
     "end_time": "2024-06-14T09:08:44.863350",
     "exception": false,
     "start_time": "2024-06-14T09:08:44.617546",
     "status": "completed"
    },
    "tags": []
   },
   "outputs": [],
   "source": [
    "cs = mw.CrossSection.from_cell(\n",
    "    cell=cell,\n",
    "    env=env,\n",
    ")"
   ]
  },
  {
   "cell_type": "markdown",
   "id": "82",
   "metadata": {
    "papermill": {
     "duration": 0.120338,
     "end_time": "2024-06-14T09:08:45.206928",
     "exception": false,
     "start_time": "2024-06-14T09:08:45.086590",
     "status": "completed"
    },
    "tags": []
   },
   "source": [
    "self-deserialization:"
   ]
  },
  {
   "cell_type": "code",
   "execution_count": null,
   "id": "83",
   "metadata": {
    "papermill": {
     "duration": 0.295343,
     "end_time": "2024-06-14T09:08:45.676447",
     "exception": false,
     "start_time": "2024-06-14T09:08:45.381104",
     "status": "completed"
    },
    "tags": []
   },
   "outputs": [],
   "source": [
    "mw.CrossSection.model_validate(cs)"
   ]
  },
  {
   "cell_type": "markdown",
   "id": "84",
   "metadata": {
    "papermill": {
     "duration": 0.086457,
     "end_time": "2024-06-14T09:08:45.922248",
     "exception": false,
     "start_time": "2024-06-14T09:08:45.835791",
     "status": "completed"
    },
    "tags": []
   },
   "source": [
    "### dictionary"
   ]
  },
  {
   "cell_type": "markdown",
   "id": "85",
   "metadata": {
    "papermill": {
     "duration": 0.215639,
     "end_time": "2024-06-14T09:08:46.303557",
     "exception": false,
     "start_time": "2024-06-14T09:08:46.087918",
     "status": "completed"
    },
    "tags": []
   },
   "source": [
    "serialize"
   ]
  },
  {
   "cell_type": "code",
   "execution_count": null,
   "id": "86",
   "metadata": {
    "papermill": {
     "duration": 0.255207,
     "end_time": "2024-06-14T09:08:46.806429",
     "exception": false,
     "start_time": "2024-06-14T09:08:46.551222",
     "status": "completed"
    },
    "tags": []
   },
   "outputs": [],
   "source": [
    "dic = cs.model_dump()\n",
    "print(_dict_repr(dic))"
   ]
  },
  {
   "cell_type": "markdown",
   "id": "87",
   "metadata": {
    "papermill": {
     "duration": 0.20856,
     "end_time": "2024-06-14T09:08:47.183327",
     "exception": false,
     "start_time": "2024-06-14T09:08:46.974767",
     "status": "completed"
    },
    "tags": []
   },
   "source": [
    "deserialize"
   ]
  },
  {
   "cell_type": "code",
   "execution_count": null,
   "id": "88",
   "metadata": {
    "papermill": {
     "duration": 0.26606,
     "end_time": "2024-06-14T09:08:47.645479",
     "exception": false,
     "start_time": "2024-06-14T09:08:47.379419",
     "status": "completed"
    },
    "tags": []
   },
   "outputs": [],
   "source": [
    "mw.CrossSection.model_validate(dic)"
   ]
  },
  {
   "cell_type": "markdown",
   "id": "89",
   "metadata": {
    "papermill": {
     "duration": 0.182429,
     "end_time": "2024-06-14T09:08:48.027804",
     "exception": false,
     "start_time": "2024-06-14T09:08:47.845375",
     "status": "completed"
    },
    "tags": []
   },
   "source": [
    "### json"
   ]
  },
  {
   "cell_type": "markdown",
   "id": "90",
   "metadata": {
    "papermill": {
     "duration": 0.176414,
     "end_time": "2024-06-14T09:08:48.396783",
     "exception": false,
     "start_time": "2024-06-14T09:08:48.220369",
     "status": "completed"
    },
    "tags": []
   },
   "source": [
    "serialize"
   ]
  },
  {
   "cell_type": "code",
   "execution_count": null,
   "id": "91",
   "metadata": {
    "papermill": {
     "duration": 0.138139,
     "end_time": "2024-06-14T09:08:48.646690",
     "exception": false,
     "start_time": "2024-06-14T09:08:48.508551",
     "status": "completed"
    },
    "tags": []
   },
   "outputs": [],
   "source": [
    "s = cs.model_dump_json()\n",
    "f\"{s[:100]}...\""
   ]
  },
  {
   "cell_type": "markdown",
   "id": "92",
   "metadata": {
    "papermill": {
     "duration": 0.08503,
     "end_time": "2024-06-14T09:08:48.834726",
     "exception": false,
     "start_time": "2024-06-14T09:08:48.749696",
     "status": "completed"
    },
    "tags": []
   },
   "source": [
    "deserialize"
   ]
  },
  {
   "cell_type": "code",
   "execution_count": null,
   "id": "93",
   "metadata": {
    "papermill": {
     "duration": 0.164726,
     "end_time": "2024-06-14T09:08:49.128466",
     "exception": false,
     "start_time": "2024-06-14T09:08:48.963740",
     "status": "completed"
    },
    "tags": []
   },
   "outputs": [],
   "source": [
    "mw.CrossSection.model_validate_json(s)"
   ]
  },
  {
   "cell_type": "markdown",
   "id": "94",
   "metadata": {
    "papermill": {
     "duration": 0.100349,
     "end_time": "2024-06-14T09:08:49.310937",
     "exception": false,
     "start_time": "2024-06-14T09:08:49.210588",
     "status": "completed"
    },
    "tags": []
   },
   "source": [
    "## Mode"
   ]
  },
  {
   "cell_type": "code",
   "execution_count": null,
   "id": "95",
   "metadata": {},
   "outputs": [],
   "source": [
    "mw.Mode.model_json_schema()"
   ]
  },
  {
   "cell_type": "code",
   "execution_count": null,
   "id": "96",
   "metadata": {
    "papermill": {
     "duration": 0.202032,
     "end_time": "2024-06-14T09:08:49.911895",
     "exception": false,
     "start_time": "2024-06-14T09:08:49.709863",
     "status": "completed"
    },
    "tags": []
   },
   "outputs": [],
   "source": [
    "cs"
   ]
  },
  {
   "cell_type": "code",
   "execution_count": null,
   "id": "97",
   "metadata": {
    "papermill": {
     "duration": 6.355774,
     "end_time": "2024-06-14T09:08:56.431634",
     "exception": false,
     "start_time": "2024-06-14T09:08:50.075860",
     "status": "completed"
    },
    "tags": []
   },
   "outputs": [],
   "source": [
    "mode = mw.compute_modes(cs, 1)[0]"
   ]
  },
  {
   "cell_type": "markdown",
   "id": "98",
   "metadata": {
    "papermill": {
     "duration": 0.047197,
     "end_time": "2024-06-14T09:08:56.547033",
     "exception": false,
     "start_time": "2024-06-14T09:08:56.499836",
     "status": "completed"
    },
    "tags": []
   },
   "source": [
    "self-deserialization:"
   ]
  },
  {
   "cell_type": "code",
   "execution_count": null,
   "id": "99",
   "metadata": {
    "papermill": {
     "duration": 0.175068,
     "end_time": "2024-06-14T09:08:56.755637",
     "exception": false,
     "start_time": "2024-06-14T09:08:56.580569",
     "status": "completed"
    },
    "tags": []
   },
   "outputs": [],
   "source": [
    "mw.Mode.model_validate(mode)"
   ]
  },
  {
   "cell_type": "markdown",
   "id": "100",
   "metadata": {
    "papermill": {
     "duration": 0.03501,
     "end_time": "2024-06-14T09:08:56.827805",
     "exception": false,
     "start_time": "2024-06-14T09:08:56.792795",
     "status": "completed"
    },
    "tags": []
   },
   "source": [
    "### dictionary"
   ]
  },
  {
   "cell_type": "markdown",
   "id": "101",
   "metadata": {
    "papermill": {
     "duration": 0.042175,
     "end_time": "2024-06-14T09:08:56.906067",
     "exception": false,
     "start_time": "2024-06-14T09:08:56.863892",
     "status": "completed"
    },
    "tags": []
   },
   "source": [
    "serialize"
   ]
  },
  {
   "cell_type": "code",
   "execution_count": null,
   "id": "102",
   "metadata": {
    "papermill": {
     "duration": 0.12231,
     "end_time": "2024-06-14T09:08:57.096654",
     "exception": false,
     "start_time": "2024-06-14T09:08:56.974344",
     "status": "completed"
    },
    "tags": []
   },
   "outputs": [],
   "source": [
    "dic = mode.model_dump()\n",
    "print(_dict_repr(dic))"
   ]
  },
  {
   "cell_type": "markdown",
   "id": "103",
   "metadata": {
    "papermill": {
     "duration": 0.072652,
     "end_time": "2024-06-14T09:08:57.262202",
     "exception": false,
     "start_time": "2024-06-14T09:08:57.189550",
     "status": "completed"
    },
    "tags": []
   },
   "source": [
    "deserialize"
   ]
  },
  {
   "cell_type": "code",
   "execution_count": null,
   "id": "104",
   "metadata": {
    "papermill": {
     "duration": 0.490894,
     "end_time": "2024-06-14T09:08:57.836550",
     "exception": false,
     "start_time": "2024-06-14T09:08:57.345656",
     "status": "completed"
    },
    "tags": []
   },
   "outputs": [],
   "source": [
    "mw.Mode.model_validate(dic)"
   ]
  },
  {
   "cell_type": "markdown",
   "id": "105",
   "metadata": {
    "papermill": {
     "duration": 0.200877,
     "end_time": "2024-06-14T09:08:58.234003",
     "exception": false,
     "start_time": "2024-06-14T09:08:58.033126",
     "status": "completed"
    },
    "tags": []
   },
   "source": [
    "### json"
   ]
  },
  {
   "cell_type": "markdown",
   "id": "106",
   "metadata": {
    "papermill": {
     "duration": 0.190891,
     "end_time": "2024-06-14T09:08:58.611941",
     "exception": false,
     "start_time": "2024-06-14T09:08:58.421050",
     "status": "completed"
    },
    "tags": []
   },
   "source": [
    "serialize"
   ]
  },
  {
   "cell_type": "code",
   "execution_count": null,
   "id": "107",
   "metadata": {
    "papermill": {
     "duration": 0.714181,
     "end_time": "2024-06-14T09:08:59.561636",
     "exception": false,
     "start_time": "2024-06-14T09:08:58.847455",
     "status": "completed"
    },
    "tags": []
   },
   "outputs": [],
   "source": [
    "s = mode.model_dump_json()\n",
    "f\"{s[:100]}...\""
   ]
  },
  {
   "cell_type": "markdown",
   "id": "108",
   "metadata": {
    "papermill": {
     "duration": 0.186472,
     "end_time": "2024-06-14T09:08:59.967618",
     "exception": false,
     "start_time": "2024-06-14T09:08:59.781146",
     "status": "completed"
    },
    "tags": []
   },
   "source": [
    "deserialize"
   ]
  },
  {
   "cell_type": "code",
   "execution_count": null,
   "id": "109",
   "metadata": {
    "papermill": {
     "duration": 1.116928,
     "end_time": "2024-06-14T09:09:01.264891",
     "exception": false,
     "start_time": "2024-06-14T09:09:00.147963",
     "status": "completed"
    },
    "tags": []
   },
   "outputs": [],
   "source": [
    "mw.Mode.model_validate_json(s)"
   ]
  }
 ],
 "metadata": {
  "kernelspec": {
   "display_name": "meow",
   "language": "python",
   "name": "meow"
  },
  "language_info": {
   "codemirror_mode": {
    "name": "ipython",
    "version": 3
   },
   "file_extension": ".py",
   "mimetype": "text/x-python",
   "name": "python",
   "nbconvert_exporter": "python",
   "pygments_lexer": "ipython3",
   "version": "3.12.10"
  },
  "papermill": {
   "default_parameters": {},
   "duration": 56.674132,
   "end_time": "2024-06-14T09:09:06.095969",
   "environment_variables": {},
   "exception": null,
   "input_path": "./tests/nbs/serialization.ipynb",
   "output_path": "./tests/nbs/serialization.ipynb",
   "parameters": {},
   "start_time": "2024-06-14T09:08:09.421837",
   "version": "2.3.4"
  },
  "vscode": {
   "interpreter": {
    "hash": "a8971708a364ac32208e981bf301b4ca4d16b0e5b4fdbcfee80044478ab63430"
   }
  }
 },
 "nbformat": 4,
 "nbformat_minor": 5
}
