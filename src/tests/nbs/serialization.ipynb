{
 "cells": [
  {
   "cell_type": "markdown",
   "id": "dd643a5d-d081-48d7-a8ed-2c4b80faa122",
   "metadata": {
    "papermill": {
     "duration": 0.091493,
     "end_time": "2024-06-14T09:08:13.311851",
     "exception": false,
     "start_time": "2024-06-14T09:08:13.220358",
     "status": "completed"
    },
    "tags": []
   },
   "source": [
    "# Serialization\n",
    "\n",
    "> Everything in the `meow` package is easily serializable.\n",
    "\n",
    "Everything in the `meow` package is easily serializable. Why is that useful? Well this allows you to very quite easily make a REST API out of `meow`. And why is that useful? Having an FDE-solver behind a REST-api allows you to simultaneously solve for the modes in all the EME cells at once! Anyway, this notebook serves to show how the most common data structures are _serialized_, we might go into the details of making an api at a later stage."
   ]
  },
  {
   "cell_type": "code",
   "execution_count": null,
   "id": "4859f69dd76d8b17",
   "metadata": {
    "papermill": {
     "duration": 17.154359,
     "end_time": "2024-06-14T09:08:30.555521",
     "exception": false,
     "start_time": "2024-06-14T09:08:13.401162",
     "status": "completed"
    },
    "tags": [
     "remove-cell"
    ]
   },
   "outputs": [],
   "source": [
    "import json\n",
    "from typing import List\n",
    "\n",
    "import meow as mw\n",
    "import numpy as np\n",
    "from meow.base_model import _dict_repr"
   ]
  },
  {
   "cell_type": "code",
   "execution_count": null,
   "id": "57e7346b",
   "metadata": {
    "papermill": {
     "duration": 0.171259,
     "end_time": "2024-06-14T09:08:30.866202",
     "exception": false,
     "start_time": "2024-06-14T09:08:30.694943",
     "status": "completed"
    },
    "tags": []
   },
   "outputs": [],
   "source": [
    "def _try_is_base_model(cls):\n",
    "    try:\n",
    "        return issubclass(cls, mw.BaseModel)\n",
    "    except Exception:\n",
    "        return False\n",
    "\n",
    "\n",
    "model_name_map = {v: k for k, v in vars(mw).items() if _try_is_base_model(v)}\n",
    "model_name_map"
   ]
  },
  {
   "cell_type": "markdown",
   "id": "e563a59a-6494-431b-b124-6c1804a6c7cb",
   "metadata": {
    "papermill": {
     "duration": 0.052345,
     "end_time": "2024-06-14T09:08:30.993017",
     "exception": false,
     "start_time": "2024-06-14T09:08:30.940672",
     "status": "completed"
    },
    "tags": []
   },
   "source": [
    "## Geometry"
   ]
  },
  {
   "cell_type": "code",
   "execution_count": null,
   "id": "59e624dd-86f2-41ac-8567-f1605050eee3",
   "metadata": {},
   "outputs": [],
   "source": [
    "print(\"Geometry2D: \", mw.Geometry2DBase.model_json_schema())\n",
    "print(\"Rectangle: \", mw.Rectangle.model_json_schema())"
   ]
  },
  {
   "cell_type": "code",
   "execution_count": null,
   "id": "c9ea29c7-d22f-4a42-8087-943e2dd61ae0",
   "metadata": {},
   "outputs": [],
   "source": [
    "print(\"Geometry3D: \", mw.Geometry3DBase.model_json_schema())\n",
    "print(\"Box: \", mw.Box.model_json_schema())\n",
    "print(\"Prism: \", mw.Prism.model_json_schema())"
   ]
  },
  {
   "cell_type": "code",
   "execution_count": null,
   "id": "e2b9b50f-9ec1-440d-a2ae-207cd3a90251",
   "metadata": {
    "papermill": {
     "duration": 0.076935,
     "end_time": "2024-06-14T09:08:31.269679",
     "exception": false,
     "start_time": "2024-06-14T09:08:31.192744",
     "status": "completed"
    },
    "tags": []
   },
   "outputs": [],
   "source": [
    "length = 10.0\n",
    "box = mw.Box(\n",
    "    x_min=-1.0,\n",
    "    x_max=1.0,\n",
    "    y_min=-1.0,\n",
    "    y_max=0.0,\n",
    "    z_min=0.0,\n",
    "    z_max=length,\n",
    ")"
   ]
  },
  {
   "cell_type": "markdown",
   "id": "b65a79f2-0d39-419e-a8b8-78db2fd6d103",
   "metadata": {
    "papermill": {
     "duration": 0.052112,
     "end_time": "2024-06-14T09:08:31.373444",
     "exception": false,
     "start_time": "2024-06-14T09:08:31.321332",
     "status": "completed"
    },
    "tags": []
   },
   "source": [
    "self-deserialization:"
   ]
  },
  {
   "cell_type": "code",
   "execution_count": null,
   "id": "9111a184-5700-4a26-a7b0-da51e079d437",
   "metadata": {
    "papermill": {
     "duration": 0.105946,
     "end_time": "2024-06-14T09:08:31.560219",
     "exception": false,
     "start_time": "2024-06-14T09:08:31.454273",
     "status": "completed"
    },
    "tags": []
   },
   "outputs": [],
   "source": [
    "mw.Geometry3DBase.model_validate(box)"
   ]
  },
  {
   "cell_type": "markdown",
   "id": "97c97603-fda3-4bd9-bb47-9695ec739b21",
   "metadata": {
    "papermill": {
     "duration": 0.051249,
     "end_time": "2024-06-14T09:08:31.664633",
     "exception": false,
     "start_time": "2024-06-14T09:08:31.613384",
     "status": "completed"
    },
    "tags": []
   },
   "source": [
    "### dictionary"
   ]
  },
  {
   "cell_type": "markdown",
   "id": "8a57a18e-3b7f-45af-b72a-5cf826b13cea",
   "metadata": {
    "papermill": {
     "duration": 0.049318,
     "end_time": "2024-06-14T09:08:31.771323",
     "exception": false,
     "start_time": "2024-06-14T09:08:31.722005",
     "status": "completed"
    },
    "tags": []
   },
   "source": [
    "serialize"
   ]
  },
  {
   "cell_type": "code",
   "execution_count": null,
   "id": "4c50b221-05a9-4ae1-b2e4-18c52a953028",
   "metadata": {
    "papermill": {
     "duration": 0.085032,
     "end_time": "2024-06-14T09:08:31.919271",
     "exception": false,
     "start_time": "2024-06-14T09:08:31.834239",
     "status": "completed"
    },
    "tags": []
   },
   "outputs": [],
   "source": [
    "dic = box.model_dump()\n",
    "dic"
   ]
  },
  {
   "cell_type": "markdown",
   "id": "9d27cc57-e33f-4e55-b7ba-a3b16cfb7c79",
   "metadata": {
    "papermill": {
     "duration": 0.063604,
     "end_time": "2024-06-14T09:08:32.052387",
     "exception": false,
     "start_time": "2024-06-14T09:08:31.988783",
     "status": "completed"
    },
    "tags": []
   },
   "source": [
    "deserialize"
   ]
  },
  {
   "cell_type": "code",
   "execution_count": null,
   "id": "ac787ce8-9f59-4317-ad89-14ff63fc65b7",
   "metadata": {
    "papermill": {
     "duration": 0.086327,
     "end_time": "2024-06-14T09:08:32.205194",
     "exception": false,
     "start_time": "2024-06-14T09:08:32.118867",
     "status": "completed"
    },
    "tags": []
   },
   "outputs": [],
   "source": [
    "mw.Geometry3DBase.model_validate(dic)"
   ]
  },
  {
   "cell_type": "markdown",
   "id": "7f58e463-5023-484a-a5c3-47f78325b6c6",
   "metadata": {
    "papermill": {
     "duration": 0.059348,
     "end_time": "2024-06-14T09:08:32.321620",
     "exception": false,
     "start_time": "2024-06-14T09:08:32.262272",
     "status": "completed"
    },
    "tags": []
   },
   "source": [
    "### json"
   ]
  },
  {
   "cell_type": "markdown",
   "id": "8081ee06-e20c-4e59-8b02-a2ed117fda1e",
   "metadata": {
    "papermill": {
     "duration": 0.026462,
     "end_time": "2024-06-14T09:08:32.378514",
     "exception": false,
     "start_time": "2024-06-14T09:08:32.352052",
     "status": "completed"
    },
    "tags": []
   },
   "source": [
    "serialize"
   ]
  },
  {
   "cell_type": "code",
   "execution_count": null,
   "id": "4d6580fc-209b-436e-8a84-7fdce80d4e1f",
   "metadata": {
    "papermill": {
     "duration": 0.041368,
     "end_time": "2024-06-14T09:08:32.447000",
     "exception": false,
     "start_time": "2024-06-14T09:08:32.405632",
     "status": "completed"
    },
    "tags": []
   },
   "outputs": [],
   "source": [
    "s = box.model_dump_json()\n",
    "s"
   ]
  },
  {
   "cell_type": "markdown",
   "id": "cfe0bdf2-fb99-4158-9945-5195d1ff13e0",
   "metadata": {
    "papermill": {
     "duration": 0.027335,
     "end_time": "2024-06-14T09:08:32.501031",
     "exception": false,
     "start_time": "2024-06-14T09:08:32.473696",
     "status": "completed"
    },
    "tags": []
   },
   "source": [
    "deserialize"
   ]
  },
  {
   "cell_type": "code",
   "execution_count": null,
   "id": "c203aa14-a8eb-4c84-a81b-078418421eb1",
   "metadata": {},
   "outputs": [],
   "source": [
    "mw.Geometry3DBase.model_validate_json(s)"
   ]
  },
  {
   "cell_type": "markdown",
   "id": "8702bd10-ed03-408a-a931-447d59a777f1",
   "metadata": {
    "papermill": {
     "duration": 0.050432,
     "end_time": "2024-06-14T09:08:32.660129",
     "exception": false,
     "start_time": "2024-06-14T09:08:32.609697",
     "status": "completed"
    },
    "tags": []
   },
   "source": [
    "## Material"
   ]
  },
  {
   "cell_type": "code",
   "execution_count": null,
   "id": "df3b4ad1-095a-4382-8869-dcdc51694755",
   "metadata": {},
   "outputs": [],
   "source": [
    "mw.MaterialBase.model_json_schema()"
   ]
  },
  {
   "cell_type": "markdown",
   "id": "e586860f-cb6e-444b-8bca-71f6255e1d9c",
   "metadata": {
    "papermill": {
     "duration": 0.094231,
     "end_time": "2024-06-14T09:08:32.947523",
     "exception": false,
     "start_time": "2024-06-14T09:08:32.853292",
     "status": "completed"
    },
    "tags": []
   },
   "source": [
    "self-deserialization:"
   ]
  },
  {
   "cell_type": "code",
   "execution_count": null,
   "id": "80ca82da-88ff-4f4f-8278-81100438f65d",
   "metadata": {
    "papermill": {
     "duration": 0.122798,
     "end_time": "2024-06-14T09:08:33.163971",
     "exception": false,
     "start_time": "2024-06-14T09:08:33.041173",
     "status": "completed"
    },
    "tags": []
   },
   "outputs": [],
   "source": [
    "mw.MaterialBase.model_validate(mw.silicon)"
   ]
  },
  {
   "cell_type": "markdown",
   "id": "b3a7244e-21c0-480d-9d10-581a5c5623e0",
   "metadata": {
    "papermill": {
     "duration": 0.080947,
     "end_time": "2024-06-14T09:08:33.331612",
     "exception": false,
     "start_time": "2024-06-14T09:08:33.250665",
     "status": "completed"
    },
    "tags": []
   },
   "source": [
    "### dictionary"
   ]
  },
  {
   "cell_type": "markdown",
   "id": "f2ef4e23-2165-486b-b51a-cebf29fcce1a",
   "metadata": {
    "papermill": {
     "duration": 0.058506,
     "end_time": "2024-06-14T09:08:33.470046",
     "exception": false,
     "start_time": "2024-06-14T09:08:33.411540",
     "status": "completed"
    },
    "tags": []
   },
   "source": [
    "serialize"
   ]
  },
  {
   "cell_type": "code",
   "execution_count": null,
   "id": "0ec8b96f-4920-4e55-af9a-8528b5b95f66",
   "metadata": {
    "papermill": {
     "duration": 0.047896,
     "end_time": "2024-06-14T09:08:33.545208",
     "exception": false,
     "start_time": "2024-06-14T09:08:33.497312",
     "status": "completed"
    },
    "tags": []
   },
   "outputs": [],
   "source": [
    "dic = mw.silicon.model_dump()\n",
    "print(_dict_repr(dic))"
   ]
  },
  {
   "cell_type": "markdown",
   "id": "89fdf839-77b1-489b-a445-67c6b848997b",
   "metadata": {
    "papermill": {
     "duration": 0.061359,
     "end_time": "2024-06-14T09:08:33.670028",
     "exception": false,
     "start_time": "2024-06-14T09:08:33.608669",
     "status": "completed"
    },
    "tags": []
   },
   "source": [
    "deserialize"
   ]
  },
  {
   "cell_type": "code",
   "execution_count": null,
   "id": "2d57cc42-8b84-44fe-9f21-75d997bccf45",
   "metadata": {
    "papermill": {
     "duration": 0.073135,
     "end_time": "2024-06-14T09:08:33.808413",
     "exception": false,
     "start_time": "2024-06-14T09:08:33.735278",
     "status": "completed"
    },
    "tags": []
   },
   "outputs": [],
   "source": [
    "mw.MaterialBase.model_validate(dic)"
   ]
  },
  {
   "cell_type": "markdown",
   "id": "b5a01c4c-0baa-40ff-84ab-ad4d43c7a2b9",
   "metadata": {
    "papermill": {
     "duration": 0.026827,
     "end_time": "2024-06-14T09:08:33.896691",
     "exception": false,
     "start_time": "2024-06-14T09:08:33.869864",
     "status": "completed"
    },
    "tags": []
   },
   "source": [
    "### json"
   ]
  },
  {
   "cell_type": "markdown",
   "id": "ab48f31f-c18d-44c8-8417-72bbe469f7d0",
   "metadata": {
    "papermill": {
     "duration": 0.026978,
     "end_time": "2024-06-14T09:08:33.950329",
     "exception": false,
     "start_time": "2024-06-14T09:08:33.923351",
     "status": "completed"
    },
    "tags": []
   },
   "source": [
    "serialize"
   ]
  },
  {
   "cell_type": "code",
   "execution_count": null,
   "id": "c5d83d0c-4dea-4b7f-ba92-a56a6388394b",
   "metadata": {
    "papermill": {
     "duration": 0.054406,
     "end_time": "2024-06-14T09:08:34.035995",
     "exception": false,
     "start_time": "2024-06-14T09:08:33.981589",
     "status": "completed"
    },
    "tags": []
   },
   "outputs": [],
   "source": [
    "s = mw.silicon.model_dump_json()\n",
    "f\"{s[:100]}...\""
   ]
  },
  {
   "cell_type": "markdown",
   "id": "19c837e5-b187-41a0-b70b-6bf775475054",
   "metadata": {
    "papermill": {
     "duration": 0.033826,
     "end_time": "2024-06-14T09:08:34.101238",
     "exception": false,
     "start_time": "2024-06-14T09:08:34.067412",
     "status": "completed"
    },
    "tags": []
   },
   "source": [
    "deserialize"
   ]
  },
  {
   "cell_type": "code",
   "execution_count": null,
   "id": "f71a3ff6-83ee-4c03-8eaa-0e174aebe020",
   "metadata": {
    "papermill": {
     "duration": 0.075148,
     "end_time": "2024-06-14T09:08:34.236315",
     "exception": false,
     "start_time": "2024-06-14T09:08:34.161167",
     "status": "completed"
    },
    "tags": []
   },
   "outputs": [],
   "source": [
    "mw.MaterialBase.model_validate_json(s)"
   ]
  },
  {
   "cell_type": "markdown",
   "id": "2f141592-ddc4-42a9-96a9-80945373e106",
   "metadata": {
    "papermill": {
     "duration": 0.02712,
     "end_time": "2024-06-14T09:08:34.299681",
     "exception": false,
     "start_time": "2024-06-14T09:08:34.272561",
     "status": "completed"
    },
    "tags": []
   },
   "source": [
    "## Structure"
   ]
  },
  {
   "cell_type": "code",
   "execution_count": null,
   "id": "850d129d-2880-4ca6-b698-40fb58b5940c",
   "metadata": {},
   "outputs": [],
   "source": [
    "mw.Structure3D.model_json_schema()"
   ]
  },
  {
   "cell_type": "code",
   "execution_count": null,
   "id": "c8e8f32b-a087-46c1-b15d-296aff7a17c7",
   "metadata": {
    "papermill": {
     "duration": 0.112812,
     "end_time": "2024-06-14T09:08:34.585738",
     "exception": false,
     "start_time": "2024-06-14T09:08:34.472926",
     "status": "completed"
    },
    "tags": []
   },
   "outputs": [],
   "source": [
    "struct = mw.Structure(material=mw.silicon, geometry=box)\n",
    "struct"
   ]
  },
  {
   "cell_type": "markdown",
   "id": "d85251f3-1cdd-4328-8fe2-a35b2f58bb9a",
   "metadata": {
    "papermill": {
     "duration": 0.062192,
     "end_time": "2024-06-14T09:08:34.741009",
     "exception": false,
     "start_time": "2024-06-14T09:08:34.678817",
     "status": "completed"
    },
    "tags": []
   },
   "source": [
    "self-deserialization:"
   ]
  },
  {
   "cell_type": "code",
   "execution_count": null,
   "id": "bbf8f8b4-bf54-4ce2-883b-3a3ca2aad23c",
   "metadata": {
    "papermill": {
     "duration": 0.086079,
     "end_time": "2024-06-14T09:08:34.874274",
     "exception": false,
     "start_time": "2024-06-14T09:08:34.788195",
     "status": "completed"
    },
    "tags": []
   },
   "outputs": [],
   "source": [
    "mw.Structure3D.model_validate(struct)"
   ]
  },
  {
   "cell_type": "markdown",
   "id": "6595d99f-121a-4fd5-8d06-7e55ab71b395",
   "metadata": {
    "papermill": {
     "duration": 0.116795,
     "end_time": "2024-06-14T09:08:35.093026",
     "exception": false,
     "start_time": "2024-06-14T09:08:34.976231",
     "status": "completed"
    },
    "tags": []
   },
   "source": [
    "### dictionary"
   ]
  },
  {
   "cell_type": "markdown",
   "id": "9afa936b-a4ac-4854-854c-0bdefff2cd7f",
   "metadata": {
    "papermill": {
     "duration": 0.078256,
     "end_time": "2024-06-14T09:08:35.260551",
     "exception": false,
     "start_time": "2024-06-14T09:08:35.182295",
     "status": "completed"
    },
    "tags": []
   },
   "source": [
    "serialize"
   ]
  },
  {
   "cell_type": "code",
   "execution_count": null,
   "id": "043521d2-2317-4d79-8f85-372013a0f902",
   "metadata": {
    "papermill": {
     "duration": 0.13139,
     "end_time": "2024-06-14T09:08:35.501595",
     "exception": false,
     "start_time": "2024-06-14T09:08:35.370205",
     "status": "completed"
    },
    "tags": []
   },
   "outputs": [],
   "source": [
    "dic = struct.model_dump()\n",
    "print(_dict_repr(dic))"
   ]
  },
  {
   "cell_type": "markdown",
   "id": "403af19d-c5de-4d17-9f3b-d0aed5b59d87",
   "metadata": {
    "papermill": {
     "duration": 0.043322,
     "end_time": "2024-06-14T09:08:35.610994",
     "exception": false,
     "start_time": "2024-06-14T09:08:35.567672",
     "status": "completed"
    },
    "tags": []
   },
   "source": [
    "deserialize"
   ]
  },
  {
   "cell_type": "code",
   "execution_count": null,
   "id": "d1bd9fa5-d5f5-4011-a6ad-256bd3af98cf",
   "metadata": {
    "papermill": {
     "duration": 0.181754,
     "end_time": "2024-06-14T09:08:35.821412",
     "exception": false,
     "start_time": "2024-06-14T09:08:35.639658",
     "status": "completed"
    },
    "tags": []
   },
   "outputs": [],
   "source": [
    "struct = mw.Structure3D.model_validate(dic)\n",
    "struct"
   ]
  },
  {
   "cell_type": "code",
   "execution_count": null,
   "id": "d31eb0aa-987f-4bf5-a700-cdd74a8889a8",
   "metadata": {},
   "outputs": [],
   "source": [
    "type(mw.BaseModel.model_validate(dic))"
   ]
  },
  {
   "cell_type": "markdown",
   "id": "5fa2054c-26b4-46e2-8ff6-f1b693e54e0a",
   "metadata": {
    "papermill": {
     "duration": 0.159879,
     "end_time": "2024-06-14T09:08:36.119999",
     "exception": false,
     "start_time": "2024-06-14T09:08:35.960120",
     "status": "completed"
    },
    "tags": []
   },
   "source": [
    "### json"
   ]
  },
  {
   "cell_type": "markdown",
   "id": "7680a15e-5373-4a57-a45c-5dbec551885c",
   "metadata": {
    "papermill": {
     "duration": 0.133534,
     "end_time": "2024-06-14T09:08:36.430877",
     "exception": false,
     "start_time": "2024-06-14T09:08:36.297343",
     "status": "completed"
    },
    "tags": []
   },
   "source": [
    "serialize"
   ]
  },
  {
   "cell_type": "code",
   "execution_count": null,
   "id": "d408f86f-ad77-4a56-b131-1db8f825161b",
   "metadata": {
    "papermill": {
     "duration": 0.12042,
     "end_time": "2024-06-14T09:08:36.679849",
     "exception": false,
     "start_time": "2024-06-14T09:08:36.559429",
     "status": "completed"
    },
    "tags": []
   },
   "outputs": [],
   "source": [
    "s = struct.model_dump_json()\n",
    "f\"{s[:100]}...\""
   ]
  },
  {
   "cell_type": "markdown",
   "id": "b63531e4-13d6-4754-aaaf-ea32304a61d5",
   "metadata": {
    "papermill": {
     "duration": 0.072304,
     "end_time": "2024-06-14T09:08:36.867072",
     "exception": false,
     "start_time": "2024-06-14T09:08:36.794768",
     "status": "completed"
    },
    "tags": []
   },
   "source": [
    "deserialize"
   ]
  },
  {
   "cell_type": "code",
   "execution_count": null,
   "id": "40bdd675-530e-4f74-9f48-cad67667d81b",
   "metadata": {
    "papermill": {
     "duration": 0.087466,
     "end_time": "2024-06-14T09:08:37.017460",
     "exception": false,
     "start_time": "2024-06-14T09:08:36.929994",
     "status": "completed"
    },
    "tags": []
   },
   "outputs": [],
   "source": [
    "mw.Structure3D.model_validate_json(s)"
   ]
  },
  {
   "cell_type": "markdown",
   "id": "cfc57307-7bdd-4f8d-af9a-fcd7fb286dd9",
   "metadata": {
    "papermill": {
     "duration": 0.048698,
     "end_time": "2024-06-14T09:08:37.116779",
     "exception": false,
     "start_time": "2024-06-14T09:08:37.068081",
     "status": "completed"
    },
    "tags": []
   },
   "source": [
    "## Cell"
   ]
  },
  {
   "cell_type": "code",
   "execution_count": null,
   "id": "0af56aa6-cb37-488d-a71d-688298708219",
   "metadata": {},
   "outputs": [],
   "source": [
    "mw.Cell.model_json_schema()"
   ]
  },
  {
   "cell_type": "code",
   "execution_count": null,
   "id": "50df56f0-ce78-41f5-a854-8d1cfa486392",
   "metadata": {
    "papermill": {
     "duration": 0.077343,
     "end_time": "2024-06-14T09:08:37.414025",
     "exception": false,
     "start_time": "2024-06-14T09:08:37.336682",
     "status": "completed"
    },
    "tags": []
   },
   "outputs": [],
   "source": [
    "cell = mw.Cell(\n",
    "    structures=[struct],\n",
    "    mesh=mw.Mesh2D(\n",
    "        x=np.linspace(-1, 1, 101),\n",
    "        y=np.linspace(-1, 1, 101),\n",
    "    ),\n",
    "    z_min=0.0,\n",
    "    z_max=length,\n",
    ")"
   ]
  },
  {
   "cell_type": "markdown",
   "id": "16b0c4aa-0e9f-4765-b16f-9731daef1f17",
   "metadata": {
    "papermill": {
     "duration": 0.053642,
     "end_time": "2024-06-14T09:08:37.523806",
     "exception": false,
     "start_time": "2024-06-14T09:08:37.470164",
     "status": "completed"
    },
    "tags": []
   },
   "source": [
    "self-deserialization:"
   ]
  },
  {
   "cell_type": "code",
   "execution_count": null,
   "id": "b49d9059-9686-4d37-9faf-c92a9963e5e0",
   "metadata": {
    "papermill": {
     "duration": 0.097656,
     "end_time": "2024-06-14T09:08:37.719251",
     "exception": false,
     "start_time": "2024-06-14T09:08:37.621595",
     "status": "completed"
    },
    "tags": []
   },
   "outputs": [],
   "source": [
    "mw.Cell.model_validate(cell)"
   ]
  },
  {
   "cell_type": "markdown",
   "id": "7f3102e1-c07f-47b6-82b3-579efbedd490",
   "metadata": {
    "papermill": {
     "duration": 0.112311,
     "end_time": "2024-06-14T09:08:37.980039",
     "exception": false,
     "start_time": "2024-06-14T09:08:37.867728",
     "status": "completed"
    },
    "tags": []
   },
   "source": [
    "### dictionary"
   ]
  },
  {
   "cell_type": "markdown",
   "id": "eea1cdd7-09c3-4538-bd75-aa319cf7d058",
   "metadata": {
    "papermill": {
     "duration": 0.118336,
     "end_time": "2024-06-14T09:08:38.206386",
     "exception": false,
     "start_time": "2024-06-14T09:08:38.088050",
     "status": "completed"
    },
    "tags": []
   },
   "source": [
    "serialize"
   ]
  },
  {
   "cell_type": "code",
   "execution_count": null,
   "id": "7cb304de-ee82-4525-b1c9-9f58c1c66b63",
   "metadata": {
    "papermill": {
     "duration": 0.156666,
     "end_time": "2024-06-14T09:08:38.468203",
     "exception": false,
     "start_time": "2024-06-14T09:08:38.311537",
     "status": "completed"
    },
    "tags": []
   },
   "outputs": [],
   "source": [
    "dic = cell.model_dump()\n",
    "print(_dict_repr(dic))"
   ]
  },
  {
   "cell_type": "markdown",
   "id": "f3ff1076-8e83-433d-8988-e3bed1152d03",
   "metadata": {
    "papermill": {
     "duration": 0.133558,
     "end_time": "2024-06-14T09:08:38.741759",
     "exception": false,
     "start_time": "2024-06-14T09:08:38.608201",
     "status": "completed"
    },
    "tags": []
   },
   "source": [
    "deserialize"
   ]
  },
  {
   "cell_type": "code",
   "execution_count": null,
   "id": "773dec9b-b869-4041-95f0-88897b344258",
   "metadata": {
    "papermill": {
     "duration": 0.153948,
     "end_time": "2024-06-14T09:08:39.007836",
     "exception": false,
     "start_time": "2024-06-14T09:08:38.853888",
     "status": "completed"
    },
    "tags": []
   },
   "outputs": [],
   "source": [
    "cell = mw.Cell.model_validate(dic)\n",
    "cell"
   ]
  },
  {
   "cell_type": "markdown",
   "id": "22bf02c7-8770-4116-8255-5a1090b42c64",
   "metadata": {
    "papermill": {
     "duration": 0.048213,
     "end_time": "2024-06-14T09:08:39.097727",
     "exception": false,
     "start_time": "2024-06-14T09:08:39.049514",
     "status": "completed"
    },
    "tags": []
   },
   "source": [
    "### json"
   ]
  },
  {
   "cell_type": "markdown",
   "id": "3aca87b0-4d97-4ff9-a478-1eb007b0bf37",
   "metadata": {
    "papermill": {
     "duration": 0.069915,
     "end_time": "2024-06-14T09:08:39.215615",
     "exception": false,
     "start_time": "2024-06-14T09:08:39.145700",
     "status": "completed"
    },
    "tags": []
   },
   "source": [
    "serialize"
   ]
  },
  {
   "cell_type": "code",
   "execution_count": null,
   "id": "2ea1b0fa-1721-4c02-ac11-5dc92fd80c0a",
   "metadata": {
    "papermill": {
     "duration": 0.157147,
     "end_time": "2024-06-14T09:08:39.529911",
     "exception": false,
     "start_time": "2024-06-14T09:08:39.372764",
     "status": "completed"
    },
    "tags": []
   },
   "outputs": [],
   "source": [
    "s = cell.model_dump_json()\n",
    "f\"{s[:100]}...\""
   ]
  },
  {
   "cell_type": "markdown",
   "id": "bf3f8608-c600-4f26-84d8-f406c4b7152e",
   "metadata": {
    "papermill": {
     "duration": 0.052191,
     "end_time": "2024-06-14T09:08:39.663224",
     "exception": false,
     "start_time": "2024-06-14T09:08:39.611033",
     "status": "completed"
    },
    "tags": []
   },
   "source": [
    "deserialize"
   ]
  },
  {
   "cell_type": "code",
   "execution_count": null,
   "id": "1cd7d7c8-44c6-43fd-ad9c-2d9aee912b68",
   "metadata": {
    "papermill": {
     "duration": 0.155757,
     "end_time": "2024-06-14T09:08:39.920480",
     "exception": false,
     "start_time": "2024-06-14T09:08:39.764723",
     "status": "completed"
    },
    "tags": []
   },
   "outputs": [],
   "source": [
    "mw.Cell.model_validate_json(s)"
   ]
  },
  {
   "cell_type": "markdown",
   "id": "b6b7fded-d1f5-4440-99fd-6a2118e65ff0",
   "metadata": {
    "papermill": {
     "duration": 0.048523,
     "end_time": "2024-06-14T09:08:40.009388",
     "exception": false,
     "start_time": "2024-06-14T09:08:39.960865",
     "status": "completed"
    },
    "tags": []
   },
   "source": [
    "## Environment"
   ]
  },
  {
   "cell_type": "code",
   "execution_count": null,
   "id": "2be9a790-8507-4919-a3e3-4e4c83580d0d",
   "metadata": {},
   "outputs": [],
   "source": [
    "mw.Environment.model_json_schema()"
   ]
  },
  {
   "cell_type": "code",
   "execution_count": null,
   "id": "62ef31d0-373a-4337-9f07-26dd0c0d8a8e",
   "metadata": {
    "papermill": {
     "duration": 0.094688,
     "end_time": "2024-06-14T09:08:40.438943",
     "exception": false,
     "start_time": "2024-06-14T09:08:40.344255",
     "status": "completed"
    },
    "tags": []
   },
   "outputs": [],
   "source": [
    "env = mw.Environment(wl=1.55, T=25.0)"
   ]
  },
  {
   "cell_type": "markdown",
   "id": "c1d3edf8-b41c-4fbf-bd69-a4ef91fa9afe",
   "metadata": {
    "papermill": {
     "duration": 0.074449,
     "end_time": "2024-06-14T09:08:40.597545",
     "exception": false,
     "start_time": "2024-06-14T09:08:40.523096",
     "status": "completed"
    },
    "tags": []
   },
   "source": [
    "self-deserialization:"
   ]
  },
  {
   "cell_type": "code",
   "execution_count": null,
   "id": "02190849-3009-41a9-ad48-672a01ff0703",
   "metadata": {
    "papermill": {
     "duration": 0.100002,
     "end_time": "2024-06-14T09:08:40.742999",
     "exception": false,
     "start_time": "2024-06-14T09:08:40.642997",
     "status": "completed"
    },
    "tags": []
   },
   "outputs": [],
   "source": [
    "mw.Environment.model_validate(env)"
   ]
  },
  {
   "cell_type": "markdown",
   "id": "528afb3c-3011-4b11-badd-32617e0ed4aa",
   "metadata": {
    "papermill": {
     "duration": 0.101788,
     "end_time": "2024-06-14T09:08:40.939258",
     "exception": false,
     "start_time": "2024-06-14T09:08:40.837470",
     "status": "completed"
    },
    "tags": []
   },
   "source": [
    "### dictionary"
   ]
  },
  {
   "cell_type": "markdown",
   "id": "607ffed2-0927-40fb-846b-73e0daafd3fd",
   "metadata": {
    "papermill": {
     "duration": 0.107699,
     "end_time": "2024-06-14T09:08:41.150322",
     "exception": false,
     "start_time": "2024-06-14T09:08:41.042623",
     "status": "completed"
    },
    "tags": []
   },
   "source": [
    "serialize"
   ]
  },
  {
   "cell_type": "code",
   "execution_count": null,
   "id": "d0927998-5ef0-4926-8fd6-dadf5e4e05e1",
   "metadata": {
    "papermill": {
     "duration": 0.149603,
     "end_time": "2024-06-14T09:08:41.408766",
     "exception": false,
     "start_time": "2024-06-14T09:08:41.259163",
     "status": "completed"
    },
    "tags": []
   },
   "outputs": [],
   "source": [
    "dic = env.model_dump()\n",
    "dic"
   ]
  },
  {
   "cell_type": "markdown",
   "id": "a56a75b1-c2c2-4651-8c60-957722a28eab",
   "metadata": {
    "papermill": {
     "duration": 0.104296,
     "end_time": "2024-06-14T09:08:41.608660",
     "exception": false,
     "start_time": "2024-06-14T09:08:41.504364",
     "status": "completed"
    },
    "tags": []
   },
   "source": [
    "deserialize"
   ]
  },
  {
   "cell_type": "code",
   "execution_count": null,
   "id": "23a6398a-ccad-486a-9663-8b84d8b0830c",
   "metadata": {
    "papermill": {
     "duration": 0.142793,
     "end_time": "2024-06-14T09:08:41.866237",
     "exception": false,
     "start_time": "2024-06-14T09:08:41.723444",
     "status": "completed"
    },
    "tags": []
   },
   "outputs": [],
   "source": [
    "mw.Environment.model_validate(dic)"
   ]
  },
  {
   "cell_type": "markdown",
   "id": "6afad3d5-9137-45c2-8dd1-ced73c32e03a",
   "metadata": {
    "papermill": {
     "duration": 0.146912,
     "end_time": "2024-06-14T09:08:42.170144",
     "exception": false,
     "start_time": "2024-06-14T09:08:42.023232",
     "status": "completed"
    },
    "tags": []
   },
   "source": [
    "### json"
   ]
  },
  {
   "cell_type": "markdown",
   "id": "9326a85a-237c-49bd-a412-4aa11fda8ce3",
   "metadata": {
    "papermill": {
     "duration": 0.114385,
     "end_time": "2024-06-14T09:08:42.392079",
     "exception": false,
     "start_time": "2024-06-14T09:08:42.277694",
     "status": "completed"
    },
    "tags": []
   },
   "source": [
    "serialize"
   ]
  },
  {
   "cell_type": "code",
   "execution_count": null,
   "id": "60128d4b-8eea-4a2d-9086-a84689e75165",
   "metadata": {
    "papermill": {
     "duration": 0.253588,
     "end_time": "2024-06-14T09:08:42.809923",
     "exception": false,
     "start_time": "2024-06-14T09:08:42.556335",
     "status": "completed"
    },
    "tags": []
   },
   "outputs": [],
   "source": [
    "s = env.model_dump_json()\n",
    "s"
   ]
  },
  {
   "cell_type": "markdown",
   "id": "cca849d8-27a7-42e0-992b-f5abef29fb95",
   "metadata": {
    "papermill": {
     "duration": 0.172433,
     "end_time": "2024-06-14T09:08:43.146648",
     "exception": false,
     "start_time": "2024-06-14T09:08:42.974215",
     "status": "completed"
    },
    "tags": []
   },
   "source": [
    "deserialize"
   ]
  },
  {
   "cell_type": "code",
   "execution_count": null,
   "id": "35815fcd-284e-49da-b092-e07c993e63b6",
   "metadata": {
    "papermill": {
     "duration": 0.231373,
     "end_time": "2024-06-14T09:08:43.562246",
     "exception": false,
     "start_time": "2024-06-14T09:08:43.330873",
     "status": "completed"
    },
    "tags": []
   },
   "outputs": [],
   "source": [
    "mw.Environment.model_validate_json(s)"
   ]
  },
  {
   "cell_type": "markdown",
   "id": "ee4e586c-bc2d-427f-a95e-83cc7b0af5e2",
   "metadata": {
    "papermill": {
     "duration": 0.165453,
     "end_time": "2024-06-14T09:08:43.933590",
     "exception": false,
     "start_time": "2024-06-14T09:08:43.768137",
     "status": "completed"
    },
    "tags": []
   },
   "source": [
    "## Cross Section"
   ]
  },
  {
   "cell_type": "code",
   "execution_count": null,
   "id": "d480391e-af56-4626-b2ad-aea87c31b787",
   "metadata": {},
   "outputs": [],
   "source": [
    "mw.CrossSection.model_json_schema()"
   ]
  },
  {
   "cell_type": "code",
   "execution_count": null,
   "id": "a88e01ae-06c4-43d9-8c2e-dfe2ee4e0d91",
   "metadata": {
    "papermill": {
     "duration": 0.245804,
     "end_time": "2024-06-14T09:08:44.863350",
     "exception": false,
     "start_time": "2024-06-14T09:08:44.617546",
     "status": "completed"
    },
    "tags": []
   },
   "outputs": [],
   "source": [
    "cs = mw.CrossSection.from_cell(\n",
    "    cell=cell,\n",
    "    env=env,\n",
    ")"
   ]
  },
  {
   "cell_type": "markdown",
   "id": "c7228a8f-ef31-4372-82a3-e6734ae43c93",
   "metadata": {
    "papermill": {
     "duration": 0.120338,
     "end_time": "2024-06-14T09:08:45.206928",
     "exception": false,
     "start_time": "2024-06-14T09:08:45.086590",
     "status": "completed"
    },
    "tags": []
   },
   "source": [
    "self-deserialization:"
   ]
  },
  {
   "cell_type": "code",
   "execution_count": null,
   "id": "05b1ba01-5d9d-4fb5-9f22-83bd803bf533",
   "metadata": {
    "papermill": {
     "duration": 0.295343,
     "end_time": "2024-06-14T09:08:45.676447",
     "exception": false,
     "start_time": "2024-06-14T09:08:45.381104",
     "status": "completed"
    },
    "tags": []
   },
   "outputs": [],
   "source": [
    "mw.CrossSection.model_validate(cs)"
   ]
  },
  {
   "cell_type": "markdown",
   "id": "436fb94c-1ae4-4655-8b61-0f18e584d89c",
   "metadata": {
    "papermill": {
     "duration": 0.086457,
     "end_time": "2024-06-14T09:08:45.922248",
     "exception": false,
     "start_time": "2024-06-14T09:08:45.835791",
     "status": "completed"
    },
    "tags": []
   },
   "source": [
    "### dictionary"
   ]
  },
  {
   "cell_type": "markdown",
   "id": "7091a293-6c45-40eb-9789-5ff7d709ca11",
   "metadata": {
    "papermill": {
     "duration": 0.215639,
     "end_time": "2024-06-14T09:08:46.303557",
     "exception": false,
     "start_time": "2024-06-14T09:08:46.087918",
     "status": "completed"
    },
    "tags": []
   },
   "source": [
    "serialize"
   ]
  },
  {
   "cell_type": "code",
   "execution_count": null,
   "id": "266233ce-0496-494a-8370-4bc6f1874f40",
   "metadata": {
    "papermill": {
     "duration": 0.255207,
     "end_time": "2024-06-14T09:08:46.806429",
     "exception": false,
     "start_time": "2024-06-14T09:08:46.551222",
     "status": "completed"
    },
    "tags": []
   },
   "outputs": [],
   "source": [
    "dic = cs.model_dump()\n",
    "print(_dict_repr(dic))"
   ]
  },
  {
   "cell_type": "markdown",
   "id": "5ca28749-d495-45ee-84a1-6ed8d18492ac",
   "metadata": {
    "papermill": {
     "duration": 0.20856,
     "end_time": "2024-06-14T09:08:47.183327",
     "exception": false,
     "start_time": "2024-06-14T09:08:46.974767",
     "status": "completed"
    },
    "tags": []
   },
   "source": [
    "deserialize"
   ]
  },
  {
   "cell_type": "code",
   "execution_count": null,
   "id": "eb32d9a9-3727-48b7-9df6-51e9f9a4bdf0",
   "metadata": {
    "papermill": {
     "duration": 0.26606,
     "end_time": "2024-06-14T09:08:47.645479",
     "exception": false,
     "start_time": "2024-06-14T09:08:47.379419",
     "status": "completed"
    },
    "tags": []
   },
   "outputs": [],
   "source": [
    "mw.CrossSection.model_validate(dic)"
   ]
  },
  {
   "cell_type": "markdown",
   "id": "d4793785-5a76-49dd-b489-9b6e703a1e4f",
   "metadata": {
    "papermill": {
     "duration": 0.182429,
     "end_time": "2024-06-14T09:08:48.027804",
     "exception": false,
     "start_time": "2024-06-14T09:08:47.845375",
     "status": "completed"
    },
    "tags": []
   },
   "source": [
    "### json"
   ]
  },
  {
   "cell_type": "markdown",
   "id": "2a7e7d6e-4528-4cb1-925f-b109833bc0f5",
   "metadata": {
    "papermill": {
     "duration": 0.176414,
     "end_time": "2024-06-14T09:08:48.396783",
     "exception": false,
     "start_time": "2024-06-14T09:08:48.220369",
     "status": "completed"
    },
    "tags": []
   },
   "source": [
    "serialize"
   ]
  },
  {
   "cell_type": "code",
   "execution_count": null,
   "id": "32036233-fa56-4ef8-b52b-e7d612a8493f",
   "metadata": {
    "papermill": {
     "duration": 0.138139,
     "end_time": "2024-06-14T09:08:48.646690",
     "exception": false,
     "start_time": "2024-06-14T09:08:48.508551",
     "status": "completed"
    },
    "tags": []
   },
   "outputs": [],
   "source": [
    "s = cs.model_dump_json()\n",
    "f\"{s[:100]}...\""
   ]
  },
  {
   "cell_type": "markdown",
   "id": "c41e75dc-9419-40f5-92a6-b7c053ed0dd2",
   "metadata": {
    "papermill": {
     "duration": 0.08503,
     "end_time": "2024-06-14T09:08:48.834726",
     "exception": false,
     "start_time": "2024-06-14T09:08:48.749696",
     "status": "completed"
    },
    "tags": []
   },
   "source": [
    "deserialize"
   ]
  },
  {
   "cell_type": "code",
   "execution_count": null,
   "id": "dfececec-be99-4f86-b109-2fec00bc69be",
   "metadata": {
    "papermill": {
     "duration": 0.164726,
     "end_time": "2024-06-14T09:08:49.128466",
     "exception": false,
     "start_time": "2024-06-14T09:08:48.963740",
     "status": "completed"
    },
    "tags": []
   },
   "outputs": [],
   "source": [
    "mw.CrossSection.model_validate_json(s)"
   ]
  },
  {
   "cell_type": "markdown",
   "id": "0992b535-f068-41fd-8d06-55533818cfb0",
   "metadata": {
    "papermill": {
     "duration": 0.100349,
     "end_time": "2024-06-14T09:08:49.310937",
     "exception": false,
     "start_time": "2024-06-14T09:08:49.210588",
     "status": "completed"
    },
    "tags": []
   },
   "source": [
    "## Mode"
   ]
  },
  {
   "cell_type": "code",
   "execution_count": null,
   "id": "cd9b0d28-06b9-4423-827a-d5be42b1e67f",
   "metadata": {},
   "outputs": [],
   "source": [
    "mw.Mode.model_json_schema()"
   ]
  },
  {
   "cell_type": "code",
   "execution_count": null,
   "id": "decadd35-7512-445c-a1a0-341a048156c3",
   "metadata": {
    "papermill": {
     "duration": 0.202032,
     "end_time": "2024-06-14T09:08:49.911895",
     "exception": false,
     "start_time": "2024-06-14T09:08:49.709863",
     "status": "completed"
    },
    "tags": []
   },
   "outputs": [],
   "source": [
    "cs"
   ]
  },
  {
   "cell_type": "code",
   "execution_count": null,
   "id": "829d3e4a-f16e-4c26-b258-8da0b1cf3b9d",
   "metadata": {
    "papermill": {
     "duration": 6.355774,
     "end_time": "2024-06-14T09:08:56.431634",
     "exception": false,
     "start_time": "2024-06-14T09:08:50.075860",
     "status": "completed"
    },
    "tags": []
   },
   "outputs": [],
   "source": [
    "mode = mw.compute_modes(cs, 1)[0]"
   ]
  },
  {
   "cell_type": "markdown",
   "id": "79033454-a45a-43a5-9ebc-5b00bec0e1c9",
   "metadata": {
    "papermill": {
     "duration": 0.047197,
     "end_time": "2024-06-14T09:08:56.547033",
     "exception": false,
     "start_time": "2024-06-14T09:08:56.499836",
     "status": "completed"
    },
    "tags": []
   },
   "source": [
    "self-deserialization:"
   ]
  },
  {
   "cell_type": "code",
   "execution_count": null,
   "id": "55420e37-4241-407a-bcbb-4d0d5c36d093",
   "metadata": {
    "papermill": {
     "duration": 0.175068,
     "end_time": "2024-06-14T09:08:56.755637",
     "exception": false,
     "start_time": "2024-06-14T09:08:56.580569",
     "status": "completed"
    },
    "tags": []
   },
   "outputs": [],
   "source": [
    "mw.Mode.model_validate(mode)"
   ]
  },
  {
   "cell_type": "markdown",
   "id": "a1194be4-2268-4ccc-8768-6b841454c75a",
   "metadata": {
    "papermill": {
     "duration": 0.03501,
     "end_time": "2024-06-14T09:08:56.827805",
     "exception": false,
     "start_time": "2024-06-14T09:08:56.792795",
     "status": "completed"
    },
    "tags": []
   },
   "source": [
    "### dictionary"
   ]
  },
  {
   "cell_type": "markdown",
   "id": "572b47dc-82ca-45ea-b4c0-f411f730e2ec",
   "metadata": {
    "papermill": {
     "duration": 0.042175,
     "end_time": "2024-06-14T09:08:56.906067",
     "exception": false,
     "start_time": "2024-06-14T09:08:56.863892",
     "status": "completed"
    },
    "tags": []
   },
   "source": [
    "serialize"
   ]
  },
  {
   "cell_type": "code",
   "execution_count": null,
   "id": "4a117bb3-0fd3-4b1b-8bf4-6e24cfe0ed5b",
   "metadata": {
    "papermill": {
     "duration": 0.12231,
     "end_time": "2024-06-14T09:08:57.096654",
     "exception": false,
     "start_time": "2024-06-14T09:08:56.974344",
     "status": "completed"
    },
    "tags": []
   },
   "outputs": [],
   "source": [
    "dic = mode.model_dump()\n",
    "print(_dict_repr(dic))"
   ]
  },
  {
   "cell_type": "markdown",
   "id": "01b53f19-8ddf-46d4-b3fc-a156e66e7d60",
   "metadata": {
    "papermill": {
     "duration": 0.072652,
     "end_time": "2024-06-14T09:08:57.262202",
     "exception": false,
     "start_time": "2024-06-14T09:08:57.189550",
     "status": "completed"
    },
    "tags": []
   },
   "source": [
    "deserialize"
   ]
  },
  {
   "cell_type": "code",
   "execution_count": null,
   "id": "61eb16be-eaa8-46e5-868a-3f04db3187cb",
   "metadata": {
    "papermill": {
     "duration": 0.490894,
     "end_time": "2024-06-14T09:08:57.836550",
     "exception": false,
     "start_time": "2024-06-14T09:08:57.345656",
     "status": "completed"
    },
    "tags": []
   },
   "outputs": [],
   "source": [
    "mw.Mode.model_validate(dic)"
   ]
  },
  {
   "cell_type": "markdown",
   "id": "6af11812-513c-4ebe-a884-898688e83fa8",
   "metadata": {
    "papermill": {
     "duration": 0.200877,
     "end_time": "2024-06-14T09:08:58.234003",
     "exception": false,
     "start_time": "2024-06-14T09:08:58.033126",
     "status": "completed"
    },
    "tags": []
   },
   "source": [
    "### json"
   ]
  },
  {
   "cell_type": "markdown",
   "id": "0cb0bace-5dd8-4b15-bbaf-55323d0482e9",
   "metadata": {
    "papermill": {
     "duration": 0.190891,
     "end_time": "2024-06-14T09:08:58.611941",
     "exception": false,
     "start_time": "2024-06-14T09:08:58.421050",
     "status": "completed"
    },
    "tags": []
   },
   "source": [
    "serialize"
   ]
  },
  {
   "cell_type": "code",
   "execution_count": null,
   "id": "e6a4a093-c3fe-4148-bc99-1ecbbd56a377",
   "metadata": {
    "papermill": {
     "duration": 0.714181,
     "end_time": "2024-06-14T09:08:59.561636",
     "exception": false,
     "start_time": "2024-06-14T09:08:58.847455",
     "status": "completed"
    },
    "tags": []
   },
   "outputs": [],
   "source": [
    "s = mode.model_dump_json()\n",
    "f\"{s[:100]}...\""
   ]
  },
  {
   "cell_type": "markdown",
   "id": "2a1530c3-2b17-4b69-9742-bde5bde746c7",
   "metadata": {
    "papermill": {
     "duration": 0.186472,
     "end_time": "2024-06-14T09:08:59.967618",
     "exception": false,
     "start_time": "2024-06-14T09:08:59.781146",
     "status": "completed"
    },
    "tags": []
   },
   "source": [
    "deserialize"
   ]
  },
  {
   "cell_type": "code",
   "execution_count": null,
   "id": "a812d568-5eee-479b-9335-d84648a9084f",
   "metadata": {
    "papermill": {
     "duration": 1.116928,
     "end_time": "2024-06-14T09:09:01.264891",
     "exception": false,
     "start_time": "2024-06-14T09:09:00.147963",
     "status": "completed"
    },
    "tags": []
   },
   "outputs": [],
   "source": [
    "mw.Mode.model_validate_json(s)"
   ]
  }
 ],
 "metadata": {
  "kernelspec": {
   "display_name": "Python 3 (ipykernel)",
   "language": "python",
   "name": "python3"
  },
  "language_info": {
   "codemirror_mode": {
    "name": "ipython",
    "version": 3
   },
   "file_extension": ".py",
   "mimetype": "text/x-python",
   "name": "python",
   "nbconvert_exporter": "python",
   "pygments_lexer": "ipython3",
   "version": "3.11.9"
  },
  "papermill": {
   "default_parameters": {},
   "duration": 56.674132,
   "end_time": "2024-06-14T09:09:06.095969",
   "environment_variables": {},
   "exception": null,
   "input_path": "./tests/nbs/serialization.ipynb",
   "output_path": "./tests/nbs/serialization.ipynb",
   "parameters": {},
   "start_time": "2024-06-14T09:08:09.421837",
   "version": "2.3.4"
  },
  "vscode": {
   "interpreter": {
    "hash": "a8971708a364ac32208e981bf301b4ca4d16b0e5b4fdbcfee80044478ab63430"
   }
  }
 },
 "nbformat": 4,
 "nbformat_minor": 5
}
