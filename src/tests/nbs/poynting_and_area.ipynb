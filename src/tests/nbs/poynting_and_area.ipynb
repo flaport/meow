{
 "cells": [
  {
   "cell_type": "code",
   "execution_count": null,
   "id": "0",
   "metadata": {
    "papermill": {
     "duration": 6.561108,
     "end_time": "2024-06-14T09:06:49.056979",
     "exception": false,
     "start_time": "2024-06-14T09:06:42.495871",
     "status": "completed"
    },
    "tags": []
   },
   "outputs": [],
   "source": [
    "import meow as mw\n",
    "import numpy as np\n",
    "import matplotlib.pyplot as plt\n",
    "\n",
    "plt.style.use(\"default\")"
   ]
  },
  {
   "cell_type": "markdown",
   "id": "1",
   "metadata": {
    "papermill": {
     "duration": 0.003287,
     "end_time": "2024-06-14T09:06:49.063720",
     "exception": false,
     "start_time": "2024-06-14T09:06:49.060433",
     "status": "completed"
    },
    "tags": []
   },
   "source": [
    "## Preparation\n",
    "let's perform a mode simulation"
   ]
  },
  {
   "cell_type": "code",
   "execution_count": null,
   "id": "2",
   "metadata": {
    "papermill": {
     "duration": 0.01373,
     "end_time": "2024-06-14T09:06:49.080175",
     "exception": false,
     "start_time": "2024-06-14T09:06:49.066445",
     "status": "completed"
    },
    "tags": []
   },
   "outputs": [],
   "source": [
    "length = 10.0\n",
    "box = mw.Box(\n",
    "    x_min=-0.22,\n",
    "    x_max=0.22,\n",
    "    y_min=0,\n",
    "    y_max=0.22,\n",
    "    z_min=0.0,\n",
    "    z_max=length,\n",
    ")"
   ]
  },
  {
   "cell_type": "code",
   "execution_count": null,
   "id": "3",
   "metadata": {
    "papermill": {
     "duration": 0.016515,
     "end_time": "2024-06-14T09:06:49.102954",
     "exception": false,
     "start_time": "2024-06-14T09:06:49.086439",
     "status": "completed"
    },
    "tags": []
   },
   "outputs": [],
   "source": [
    "struct = mw.Structure(material=mw.silicon, geometry=box)"
   ]
  },
  {
   "cell_type": "code",
   "execution_count": null,
   "id": "4",
   "metadata": {
    "papermill": {
     "duration": 0.019121,
     "end_time": "2024-06-14T09:06:49.126168",
     "exception": false,
     "start_time": "2024-06-14T09:06:49.107047",
     "status": "completed"
    },
    "tags": []
   },
   "outputs": [],
   "source": [
    "cell = mw.Cell(\n",
    "    structures=[struct],\n",
    "    mesh=mw.Mesh2D(\n",
    "        x=np.linspace(-1, 1, 101),\n",
    "        y=np.linspace(-1, 1, 101),\n",
    "    ),\n",
    "    z_min=0.0,\n",
    "    z_max=length,\n",
    ")"
   ]
  },
  {
   "cell_type": "code",
   "execution_count": null,
   "id": "5",
   "metadata": {
    "papermill": {
     "duration": 0.013704,
     "end_time": "2024-06-14T09:06:49.144275",
     "exception": false,
     "start_time": "2024-06-14T09:06:49.130571",
     "status": "completed"
    },
    "tags": []
   },
   "outputs": [],
   "source": [
    "env = mw.Environment(wl=1.55, T=25.0)"
   ]
  },
  {
   "cell_type": "code",
   "execution_count": null,
   "id": "6",
   "metadata": {
    "papermill": {
     "duration": 0.01701,
     "end_time": "2024-06-14T09:06:49.165571",
     "exception": false,
     "start_time": "2024-06-14T09:06:49.148561",
     "status": "completed"
    },
    "tags": []
   },
   "outputs": [],
   "source": [
    "cs = mw.CrossSection.from_cell(\n",
    "    cell=cell,\n",
    "    env=env,\n",
    ")"
   ]
  },
  {
   "cell_type": "code",
   "execution_count": null,
   "id": "7",
   "metadata": {
    "papermill": {
     "duration": 11.95486,
     "end_time": "2024-06-14T09:07:01.125379",
     "exception": false,
     "start_time": "2024-06-14T09:06:49.170519",
     "status": "completed"
    },
    "tags": []
   },
   "outputs": [],
   "source": [
    "mode = mw.compute_modes(cs, 1)[0]"
   ]
  },
  {
   "cell_type": "markdown",
   "id": "8",
   "metadata": {
    "papermill": {
     "duration": 0.044943,
     "end_time": "2024-06-14T09:07:01.198583",
     "exception": false,
     "start_time": "2024-06-14T09:07:01.153640",
     "status": "completed"
    },
    "tags": []
   },
   "source": [
    "## get the Poynting Vector\n",
    "$$ \\vec{P} = \\vec{E} \\times \\vec{H} $$\n",
    "calculating the poynting vector is performed under the hood, when one of `Px`,`Py` or `Pz` is requested\n"
   ]
  },
  {
   "cell_type": "code",
   "execution_count": null,
   "id": "9",
   "metadata": {
    "papermill": {
     "duration": 0.127877,
     "end_time": "2024-06-14T09:07:01.374234",
     "exception": false,
     "start_time": "2024-06-14T09:07:01.246357",
     "status": "completed"
    },
    "tags": []
   },
   "outputs": [],
   "source": [
    "mode.Px.shape"
   ]
  },
  {
   "cell_type": "markdown",
   "id": "10",
   "metadata": {
    "papermill": {
     "duration": 0.049339,
     "end_time": "2024-06-14T09:07:01.481437",
     "exception": false,
     "start_time": "2024-06-14T09:07:01.432098",
     "status": "completed"
    },
    "tags": []
   },
   "source": [
    "It can be used with the native visualization functions"
   ]
  },
  {
   "cell_type": "code",
   "execution_count": null,
   "id": "11",
   "metadata": {
    "papermill": {
     "duration": 5.578628,
     "end_time": "2024-06-14T09:07:07.113784",
     "exception": false,
     "start_time": "2024-06-14T09:07:01.535156",
     "status": "completed"
    },
    "tags": []
   },
   "outputs": [],
   "source": [
    "mw.visualize(mode, fields=[\"Ex\"])\n",
    "mw.visualize(mode, fields=[\"Pz\"])"
   ]
  },
  {
   "cell_type": "markdown",
   "id": "12",
   "metadata": {
    "papermill": {
     "duration": 0.054886,
     "end_time": "2024-06-14T09:07:07.223963",
     "exception": false,
     "start_time": "2024-06-14T09:07:07.169077",
     "status": "completed"
    },
    "tags": []
   },
   "source": [
    "## Mode area calculation\n",
    "\n",
    "$$ A_{eff} = \\frac{\\left(\\int|\\vec{E}|^2dA\\right)^2}{\\int|\\vec{E}|^4dA} $$"
   ]
  },
  {
   "cell_type": "code",
   "execution_count": null,
   "id": "13",
   "metadata": {
    "papermill": {
     "duration": 0.250886,
     "end_time": "2024-06-14T09:07:07.521674",
     "exception": false,
     "start_time": "2024-06-14T09:07:07.270788",
     "status": "completed"
    },
    "tags": []
   },
   "outputs": [],
   "source": [
    "mode.A"
   ]
  },
  {
   "cell_type": "markdown",
   "id": "14",
   "metadata": {
    "papermill": {
     "duration": 0.01872,
     "end_time": "2024-06-14T09:07:07.567863",
     "exception": false,
     "start_time": "2024-06-14T09:07:07.549143",
     "status": "completed"
    },
    "tags": []
   },
   "source": [
    "## Compare to integrate interpolate"
   ]
  },
  {
   "cell_type": "markdown",
   "id": "15",
   "metadata": {
    "papermill": {
     "duration": 0.021264,
     "end_time": "2024-06-14T09:07:07.606312",
     "exception": false,
     "start_time": "2024-06-14T09:07:07.585048",
     "status": "completed"
    },
    "tags": []
   },
   "source": [
    "We can also itegrate over the modal fields and derived quantities by first finding a suitable interpolation function. This is computationally much more expensive and not necessarily more accurate. It however provides tha benefit, that the integration can be performed over a region of interest, not limited to integer mesh positions. \n",
    "\n",
    "For the calculation of the effective mode area this is however not beneficial. Just as a demonstration:"
   ]
  },
  {
   "cell_type": "code",
   "execution_count": null,
   "id": "16",
   "metadata": {
    "papermill": {
     "duration": 0.057061,
     "end_time": "2024-06-14T09:07:07.681337",
     "exception": false,
     "start_time": "2024-06-14T09:07:07.624276",
     "status": "completed"
    },
    "tags": []
   },
   "outputs": [],
   "source": [
    "from scipy.linalg import norm\n",
    "from meow.integrate import integrate_interpolate_2d as integrate_2d\n",
    "import numpy as np"
   ]
  },
  {
   "cell_type": "code",
   "execution_count": null,
   "id": "17",
   "metadata": {
    "papermill": {
     "duration": 161.882519,
     "end_time": "2024-06-14T09:09:49.577242",
     "exception": false,
     "start_time": "2024-06-14T09:07:07.694723",
     "status": "completed"
    },
    "tags": []
   },
   "outputs": [],
   "source": [
    "vecE = np.stack([mode.Ex, mode.Ey, mode.Ez], axis=-1)\n",
    "E_sq = norm(vecE, axis=-1, ord=2)\n",
    "E_qu = E_sq**2\n",
    "x = mode.cs.mesh.x_\n",
    "y = mode.cs.mesh.y_\n",
    "integrate_2d(x, y, E_sq) ** 2 / integrate_2d(x, y, E_qu)"
   ]
  }
 ],
 "metadata": {
  "kernelspec": {
   "display_name": "meow",
   "language": "python",
   "name": "meow"
  },
  "language_info": {
   "codemirror_mode": {
    "name": "ipython",
    "version": 3
   },
   "file_extension": ".py",
   "mimetype": "text/x-python",
   "name": "python",
   "nbconvert_exporter": "python",
   "pygments_lexer": "ipython3",
   "version": "3.12.10"
  },
  "papermill": {
   "default_parameters": {},
   "duration": 190.759786,
   "end_time": "2024-06-14T09:09:51.619979",
   "environment_variables": {},
   "exception": null,
   "input_path": "./tests/nbs/poynting_and_area.ipynb",
   "output_path": "./tests/nbs/poynting_and_area.ipynb",
   "parameters": {},
   "start_time": "2024-06-14T09:06:40.860193",
   "version": "2.4.0"
  },
  "vscode": {
   "interpreter": {
    "hash": "8cb1a8d1c3ece4eb1e4592eaec04207f7b73f2abcb1f254721941c0090e83ef8"
   }
  }
 },
 "nbformat": 4,
 "nbformat_minor": 5
}
