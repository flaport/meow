{
 "cells": [
  {
   "cell_type": "code",
   "execution_count": null,
   "id": "0",
   "metadata": {
    "papermill": {
     "duration": 24.089025,
     "end_time": "2024-06-14T09:08:57.198783",
     "exception": false,
     "start_time": "2024-06-14T09:08:33.109758",
     "status": "completed"
    },
    "tags": []
   },
   "outputs": [],
   "source": [
    "import meow as mw\n",
    "import numpy as np\n",
    "import matplotlib.pyplot as plt\n",
    "\n",
    "plt.rcParams[\"pcolor.shading\"] = \"auto\""
   ]
  },
  {
   "cell_type": "markdown",
   "id": "1",
   "metadata": {
    "papermill": {
     "duration": 0.012459,
     "end_time": "2024-06-14T09:08:57.245012",
     "exception": false,
     "start_time": "2024-06-14T09:08:57.232553",
     "status": "completed"
    },
    "tags": []
   },
   "source": [
    "## Preparation\n",
    "let's perform a mode simulation"
   ]
  },
  {
   "cell_type": "code",
   "execution_count": null,
   "id": "2",
   "metadata": {
    "papermill": {
     "duration": 0.036666,
     "end_time": "2024-06-14T09:08:57.294137",
     "exception": false,
     "start_time": "2024-06-14T09:08:57.257471",
     "status": "completed"
    },
    "tags": []
   },
   "outputs": [],
   "source": [
    "length = 10.0\n",
    "box = mw.Box(\n",
    "    x_min=-0.22,\n",
    "    x_max=0.22,\n",
    "    y_min=0,\n",
    "    y_max=0.22,\n",
    "    z_min=0.0,\n",
    "    z_max=length,\n",
    ")"
   ]
  },
  {
   "cell_type": "code",
   "execution_count": null,
   "id": "3",
   "metadata": {
    "papermill": {
     "duration": 0.043243,
     "end_time": "2024-06-14T09:08:57.356898",
     "exception": false,
     "start_time": "2024-06-14T09:08:57.313655",
     "status": "completed"
    },
    "tags": []
   },
   "outputs": [],
   "source": [
    "struct = mw.Structure(material=mw.silicon_nitride, geometry=box)"
   ]
  },
  {
   "cell_type": "code",
   "execution_count": null,
   "id": "4",
   "metadata": {
    "papermill": {
     "duration": 0.036574,
     "end_time": "2024-06-14T09:08:57.410173",
     "exception": false,
     "start_time": "2024-06-14T09:08:57.373599",
     "status": "completed"
    },
    "tags": []
   },
   "outputs": [],
   "source": [
    "env = mw.Environment(wl=1.55, T=25.0)"
   ]
  },
  {
   "cell_type": "code",
   "execution_count": null,
   "id": "5",
   "metadata": {
    "papermill": {
     "duration": 0.067077,
     "end_time": "2024-06-14T09:08:57.490693",
     "exception": false,
     "start_time": "2024-06-14T09:08:57.423616",
     "status": "completed"
    },
    "tags": []
   },
   "outputs": [],
   "source": [
    "cells = mw.create_cells(\n",
    "    structures=[struct],\n",
    "    mesh=mw.Mesh2D(\n",
    "        x=np.linspace(-1, 1, 101),\n",
    "        y=np.linspace(-1, 1, 101),\n",
    "    ),\n",
    "    Ls=[length / 3] * 3,\n",
    ")\n",
    "css = [mw.CrossSection.from_cell(cell=cell, env=env) for cell in cells]"
   ]
  },
  {
   "cell_type": "code",
   "execution_count": null,
   "id": "6",
   "metadata": {
    "papermill": {
     "duration": 31.486986,
     "end_time": "2024-06-14T09:09:29.015619",
     "exception": false,
     "start_time": "2024-06-14T09:08:57.528633",
     "status": "completed"
    },
    "tags": []
   },
   "outputs": [],
   "source": [
    "modes = [mw.compute_modes(cs, num_modes=2) for cs in css]"
   ]
  },
  {
   "cell_type": "markdown",
   "id": "7",
   "metadata": {
    "papermill": {
     "duration": 0.041133,
     "end_time": "2024-06-14T09:09:29.094368",
     "exception": false,
     "start_time": "2024-06-14T09:09:29.053235",
     "status": "completed"
    },
    "tags": []
   },
   "source": [
    "## Interface matrices\n",
    "Here begins the interesting part.\n",
    "Let`s try to calculate the S matrix."
   ]
  },
  {
   "cell_type": "code",
   "execution_count": null,
   "id": "8",
   "metadata": {
    "papermill": {
     "duration": 9.864629,
     "end_time": "2024-06-14T09:09:39.008220",
     "exception": true,
     "start_time": "2024-06-14T09:09:29.143591",
     "status": "failed"
    },
    "tags": []
   },
   "outputs": [],
   "source": [
    "S, _ = mw.compute_s_matrix(modes, cells)\n",
    "mw.visualize(np.abs(S))\n",
    "mw.visualize(S)\n",
    "mw.visualize(S, phase=True)"
   ]
  },
  {
   "cell_type": "markdown",
   "id": "9",
   "metadata": {
    "papermill": {
     "duration": null,
     "end_time": null,
     "exception": null,
     "start_time": null,
     "status": "pending"
    },
    "tags": []
   },
   "source": [
    "The S-parameters are as we would expect: no reflection and full transmission in the qTE and qTM modes, which gain a different phase while propagating along the waveguide.\n",
    "\n",
    "Let's change the mode of the center section by giving it an **additive phase**:"
   ]
  },
  {
   "cell_type": "code",
   "execution_count": null,
   "id": "10",
   "metadata": {
    "papermill": {
     "duration": null,
     "end_time": null,
     "exception": null,
     "start_time": null,
     "status": "pending"
    },
    "tags": []
   },
   "outputs": [],
   "source": [
    "modes_ = modes.copy()\n",
    "modes_[1] = [m * np.exp(0.2j) for m in modes_[1]]\n",
    "S, _ = mw.compute_s_matrix(modes_, cells, enforce_reciprocity=False)\n",
    "mw.vis(abs(S))\n",
    "mw.vis(S)\n",
    "mw.vis(S, phase=True)"
   ]
  },
  {
   "cell_type": "markdown",
   "id": "11",
   "metadata": {
    "papermill": {
     "duration": null,
     "end_time": null,
     "exception": null,
     "start_time": null,
     "status": "pending"
    },
    "tags": []
   },
   "source": [
    "As we can see the overall system matrix is unchanged, which is as expected, as there is no global well defined phase.\n",
    "Note that this also means, that strictly speaking no phase zeroing is required."
   ]
  },
  {
   "cell_type": "markdown",
   "id": "12",
   "metadata": {
    "papermill": {
     "duration": null,
     "end_time": null,
     "exception": null,
     "start_time": null,
     "status": "pending"
    },
    "tags": []
   },
   "source": [
    "We can see from the single interface matrices (below), that the phase is changed forth and back while traversing the inner section. Note that the interface matrices are not reciprocal in the typical sense. That is the intended behavior: The mode in section 0 is mapped to a phase shifted vesion of itself in section 1. Going back to the mode of section one requires inverting the applied phase shift. **Important:** this is different compared to a piece of waveguide, where the phase progresses forward irrespectable of the direction of propagation through the waveguide."
   ]
  },
  {
   "cell_type": "code",
   "execution_count": null,
   "id": "13",
   "metadata": {
    "papermill": {
     "duration": null,
     "end_time": null,
     "exception": null,
     "start_time": null,
     "status": "pending"
    },
    "tags": []
   },
   "outputs": [],
   "source": [
    "from meow.eme import compute_interface_s_matrix\n",
    "\n",
    "for i in [0, 1]:\n",
    "    mw.vis(compute_interface_s_matrix(modes_[i], modes_[i + 1]))"
   ]
  },
  {
   "cell_type": "markdown",
   "id": "14",
   "metadata": {
    "papermill": {
     "duration": null,
     "end_time": null,
     "exception": null,
     "start_time": null,
     "status": "pending"
    },
    "tags": []
   },
   "source": [
    "## Note:\n",
    "when changing the phase of the mode at the input/output of the structure the phase of the S-parameters will change, as the \"reference\" changes. It is thus still a good idea to have a consistent definition of the zero phase. "
   ]
  },
  {
   "cell_type": "code",
   "execution_count": null,
   "id": "15",
   "metadata": {
    "papermill": {
     "duration": null,
     "end_time": null,
     "exception": null,
     "start_time": null,
     "status": "pending"
    },
    "tags": []
   },
   "outputs": [],
   "source": [
    "modes_ = modes.copy()\n",
    "modes_[0] = [m * np.exp(0.2j) for m in modes_[0]]\n",
    "S = mw.compute_s_matrix(modes_, cells, enforce_reciprocity=False)\n",
    "mw.vis(S)\n",
    "mw.vis(S, phase=True)"
   ]
  },
  {
   "cell_type": "markdown",
   "id": "16",
   "metadata": {
    "papermill": {
     "duration": null,
     "end_time": null,
     "exception": null,
     "start_time": null,
     "status": "pending"
    },
    "tags": []
   },
   "source": [
    "## Additional Note\n",
    "how that zero phase is defined is however irrelevant:"
   ]
  },
  {
   "cell_type": "code",
   "execution_count": null,
   "id": "17",
   "metadata": {
    "papermill": {
     "duration": null,
     "end_time": null,
     "exception": null,
     "start_time": null,
     "status": "pending"
    },
    "tags": []
   },
   "outputs": [],
   "source": [
    "modes_ = modes.copy()\n",
    "for i in [0, 2]:\n",
    "    modes_[i] = [m * np.exp(0.2j) for m in modes_[i]]\n",
    "S = mw.compute_s_matrix(modes_, cells, enforce_reciprocity=False)\n",
    "mw.vis(S)"
   ]
  }
 ],
 "metadata": {
  "kernelspec": {
   "display_name": "meow",
   "language": "python",
   "name": "meow"
  },
  "language_info": {
   "codemirror_mode": {
    "name": "ipython",
    "version": 3
   },
   "file_extension": ".py",
   "mimetype": "text/x-python",
   "name": "python",
   "nbconvert_exporter": "python",
   "pygments_lexer": "ipython3",
   "version": "3.12.10"
  },
  "papermill": {
   "default_parameters": {},
   "duration": 70.920688,
   "end_time": "2024-06-14T09:09:40.341595",
   "environment_variables": {},
   "exception": true,
   "input_path": "./tests/nbs/phase_zero.ipynb",
   "output_path": "./tests/nbs/phase_zero.ipynb",
   "parameters": {},
   "start_time": "2024-06-14T09:08:29.420907",
   "version": "2.4.0"
  },
  "vscode": {
   "interpreter": {
    "hash": "8cb1a8d1c3ece4eb1e4592eaec04207f7b73f2abcb1f254721941c0090e83ef8"
   }
  }
 },
 "nbformat": 4,
 "nbformat_minor": 5
}
