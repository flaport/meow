{
 "cells": [
  {
   "cell_type": "code",
   "execution_count": null,
   "id": "a1215b2d-bbce-44db-ac38-fa92084096fc",
   "metadata": {},
   "outputs": [],
   "source": [
    "import meow as mw"
   ]
  },
  {
   "cell_type": "code",
   "execution_count": null,
   "id": "8b2a8690-f2ec-4b88-a6b5-f14a87cf74c0",
   "metadata": {},
   "outputs": [],
   "source": [
    "for k, v in vars(mw).items():\n",
    "    try:\n",
    "        if issubclass(v, mw.BaseModel):\n",
    "            print(k)\n",
    "            print(v.model_json_schema())\n",
    "    except TypeError:\n",
    "        continue"
   ]
  }
 ],
 "metadata": {
  "kernelspec": {
   "display_name": "Python 3 (ipykernel)",
   "language": "python",
   "name": "python3"
  },
  "language_info": {
   "codemirror_mode": {
    "name": "ipython",
    "version": 3
   },
   "file_extension": ".py",
   "mimetype": "text/x-python",
   "name": "python",
   "nbconvert_exporter": "python",
   "pygments_lexer": "ipython3",
   "version": "3.11.9"
  }
 },
 "nbformat": 4,
 "nbformat_minor": 5
}
