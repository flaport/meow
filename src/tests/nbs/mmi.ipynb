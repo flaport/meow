{
 "cells": [
  {
   "cell_type": "code",
   "execution_count": null,
   "id": "0",
   "metadata": {},
   "outputs": [],
   "source": [
    "import gdsfactory as gf\n",
    "import jax.numpy as np\n",
    "import matplotlib.pyplot as plt\n",
    "import meow as mw\n",
    "import meow.eme.propagate as prop\n",
    "from tqdm.notebook import tqdm"
   ]
  },
  {
   "cell_type": "code",
   "execution_count": null,
   "id": "1",
   "metadata": {},
   "outputs": [],
   "source": [
    "def example_extrusions(\n",
    "    t_slab: float = 0.0,\n",
    "    t_soi: float = 0.4,\n",
    "    t_ox: float = 0.0,\n",
    "):\n",
    "    \"\"\"create some simple extrusion rules\n",
    "\n",
    "    Args:\n",
    "        t_slab: the slab thickness\n",
    "        t_soi: the SOI thickness\n",
    "        t_ox: the oxide layer thickness\n",
    "    \"\"\"\n",
    "    extrusions = {\n",
    "        (1, 0): [\n",
    "            mw.GdsExtrusionRule(\n",
    "                material=mw.silicon,\n",
    "                h_min=0.0,\n",
    "                h_max=0.0 + t_soi,\n",
    "                mesh_order=1,\n",
    "            ),\n",
    "        ],\n",
    "    }\n",
    "    return extrusions"
   ]
  },
  {
   "cell_type": "code",
   "execution_count": null,
   "id": "2",
   "metadata": {},
   "outputs": [],
   "source": [
    "l_taper = 20\n",
    "l_center = 20\n",
    "w_center = 3\n",
    "\n",
    "mmi = gf.components.mmi2x2(\n",
    "    length_taper=l_taper, length_mmi=l_center, width_mmi=w_center\n",
    ")\n",
    "\n",
    "c = gf.Component()\n",
    "ref = c.add_ref(mmi)\n",
    "ref.xmin = 0\n",
    "mmi = c\n",
    "\n",
    "extrusion_rules = example_extrusions()\n",
    "structs = mw.extrude_gds(mmi, extrusion_rules)\n",
    "\n",
    "# mw.visualize(structs, scale=(1, 1, 0.2))"
   ]
  },
  {
   "cell_type": "code",
   "execution_count": null,
   "id": "3",
   "metadata": {},
   "outputs": [],
   "source": [
    "mmi.plot()"
   ]
  },
  {
   "cell_type": "code",
   "execution_count": null,
   "id": "4",
   "metadata": {},
   "outputs": [],
   "source": [
    "eps = 1e-2\n",
    "left_cell_edges = np.linspace(0, 20, 11) + eps\n",
    "right_cell_edges = np.linspace(40, 60, 11) - eps\n",
    "cell_edges = np.concatenate(\n",
    "    [left_cell_edges[:1], left_cell_edges, right_cell_edges, right_cell_edges[-1:]]\n",
    ")\n",
    "\n",
    "mesh = mw.Mesh2D(\n",
    "    x=np.linspace(-2, 2, 101),\n",
    "    y=np.linspace(-1, 1, 101),\n",
    ")\n",
    "\n",
    "cells = []\n",
    "for z_min, z_max in zip(cell_edges[:-1], cell_edges[1:]):\n",
    "    cell = mw.Cell(\n",
    "        structures=structs,\n",
    "        mesh=mesh,\n",
    "        z_min=z_min,\n",
    "        z_max=z_max,\n",
    "    )\n",
    "    cells.append(cell)\n",
    "\n",
    "env = mw.Environment(wl=1.55, T=25.0)\n",
    "css = [mw.CrossSection.from_cell(cell=cell, env=env) for cell in cells]\n",
    "\n",
    "for cs in css:\n",
    "    mw.visualize(cs)"
   ]
  },
  {
   "cell_type": "code",
   "execution_count": null,
   "id": "5",
   "metadata": {},
   "outputs": [],
   "source": [
    "num_modes = 16\n",
    "modes = mw.compute_modes(css[0], num_modes=num_modes)\n",
    "\n",
    "mw.visualize(modes[0] - modes[1])\n",
    "mw.visualize(modes[0] + modes[1])\n",
    "plt.figure()\n",
    "for mode in modes:\n",
    "    mw.visualize(mode)"
   ]
  },
  {
   "cell_type": "code",
   "execution_count": null,
   "id": "6",
   "metadata": {},
   "outputs": [],
   "source": [
    "_S = mw.compute_interface_s_matrix(modes[:1], modes[:2])\n",
    "mw.visualize(_S)"
   ]
  },
  {
   "cell_type": "code",
   "execution_count": null,
   "id": "7",
   "metadata": {},
   "outputs": [],
   "source": [
    "modes = [mw.compute_modes(cs, num_modes=num_modes) for cs in tqdm(css)]"
   ]
  },
  {
   "cell_type": "code",
   "execution_count": null,
   "id": "8",
   "metadata": {},
   "outputs": [],
   "source": [
    "for modes_ in modes:\n",
    "    print(np.array([np.real(mode.neff) for mode in modes_]))"
   ]
  },
  {
   "cell_type": "code",
   "execution_count": null,
   "id": "9",
   "metadata": {},
   "outputs": [],
   "source": [
    "modes = [[mode for mode in modes_ if mode.neff > 1.45] for modes_ in modes]"
   ]
  },
  {
   "cell_type": "code",
   "execution_count": null,
   "id": "10",
   "metadata": {},
   "outputs": [],
   "source": [
    "modes[0] = [modes[0][0] + modes[0][1], modes[0][0] - modes[0][1]]\n",
    "modes[-1] = [modes[-1][0] + modes[-1][1], modes[-1][0] - modes[-1][1]]"
   ]
  },
  {
   "cell_type": "code",
   "execution_count": null,
   "id": "11",
   "metadata": {},
   "outputs": [],
   "source": [
    "mw.visualize(modes[0][0])\n",
    "mw.visualize(modes[-1][0])\n",
    "mw.visualize(modes[-1][1])"
   ]
  },
  {
   "cell_type": "code",
   "execution_count": null,
   "id": "12",
   "metadata": {},
   "outputs": [],
   "source": [
    "S, port_map = mw.compute_s_matrix(modes, cells)\n",
    "print(port_map)\n",
    "mw.visualize(S)"
   ]
  },
  {
   "cell_type": "code",
   "execution_count": null,
   "id": "13",
   "metadata": {},
   "outputs": [],
   "source": [
    "z = np.linspace(0, l_taper * 2 + l_center, 800)\n",
    "y = 0.2\n",
    "\n",
    "ex_l = np.zeros(len(modes[0]))\n",
    "ex_l = ex_l.at[0].set(1)\n",
    "ex_r = np.zeros(len(modes[-1]))\n",
    "# ex_r = ex_r.at[1].set(0.3)\n",
    "\n",
    "Ex, x = prop.propagate_modes(modes, cells, ex_l, ex_r, y, z)"
   ]
  },
  {
   "cell_type": "code",
   "execution_count": null,
   "id": "14",
   "metadata": {},
   "outputs": [],
   "source": [
    "X, Y = np.meshgrid(z, x)\n",
    "lim = np.max(np.abs(Ex.imag))\n",
    "plt.pcolormesh(X, Y, Ex.T.imag, shading=\"nearest\", vmin=-lim, vmax=lim, cmap=\"RdBu\")\n",
    "plt.colorbar()"
   ]
  },
  {
   "cell_type": "code",
   "execution_count": null,
   "id": "15",
   "metadata": {},
   "outputs": [],
   "source": [
    "X, Y = np.meshgrid(z, x)\n",
    "plt.pcolormesh(\n",
    "    X,\n",
    "    Y,\n",
    "    np.abs(Ex.T),\n",
    "    shading=\"nearest\",\n",
    "    cmap=\"jet\",\n",
    "    vmax=np.quantile(np.abs(Ex), 0.99),\n",
    ")\n",
    "plt.colorbar()"
   ]
  },
  {
   "cell_type": "code",
   "execution_count": null,
   "id": "16",
   "metadata": {},
   "outputs": [],
   "source": [
    "for mode in modes[9]:\n",
    "    mw.visualize(mode)"
   ]
  }
 ],
 "metadata": {
  "colab": {
   "provenance": []
  },
  "kernelspec": {
   "display_name": "meow",
   "language": "python",
   "name": "meow"
  },
  "language_info": {
   "codemirror_mode": {
    "name": "ipython",
    "version": 3
   },
   "file_extension": ".py",
   "mimetype": "text/x-python",
   "name": "python",
   "nbconvert_exporter": "python",
   "pygments_lexer": "ipython3"
  }
 },
 "nbformat": 4,
 "nbformat_minor": 5
}
