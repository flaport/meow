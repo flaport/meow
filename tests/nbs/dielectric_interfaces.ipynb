{
 "cells": [
  {
   "cell_type": "code",
   "execution_count": null,
   "id": "1149c0fd-0649-485c-bd04-0c4ce16c3f78",
   "metadata": {
    "papermill": {
     "duration": 4.842652,
     "end_time": "2023-06-23T18:59:08.396816",
     "exception": false,
     "start_time": "2023-06-23T18:59:03.554164",
     "status": "completed"
    },
    "tags": []
   },
   "outputs": [],
   "source": [
    "import matplotlib.pyplot as plt\n",
    "import meow as mw\n",
    "import numpy as np\n",
    "import tidy3d as td\n",
    "from matplotlib import colors\n",
    "from scipy.ndimage import convolve\n",
    "from tidy3d.plugins.mode.mode_solver import compute_modes as _compute_modes\n",
    "\n",
    "mw.cache.disable_cache();"
   ]
  },
  {
   "cell_type": "code",
   "execution_count": null,
   "id": "9e169a83-2051-498b-b9f9-a41fa2eae0df",
   "metadata": {
    "papermill": {
     "duration": 0.017916,
     "end_time": "2023-06-23T18:59:08.419460",
     "exception": false,
     "start_time": "2023-06-23T18:59:08.401544",
     "status": "completed"
    },
    "tags": []
   },
   "outputs": [],
   "source": [
    "w = 4.0\n",
    "hc = 2.0\n",
    "hs = 1.0\n",
    "nsi = 3\n",
    "nsl = 1.5\n",
    "wl = 1.5\n",
    "W, L, H = 12, 12, 12"
   ]
  },
  {
   "cell_type": "code",
   "execution_count": null,
   "id": "fa601757-27c3-413d-bcc4-54862425a2ce",
   "metadata": {
    "papermill": {
     "duration": 0.682845,
     "end_time": "2023-06-23T18:59:09.106428",
     "exception": false,
     "start_time": "2023-06-23T18:59:08.423583",
     "status": "completed"
    },
    "tags": []
   },
   "outputs": [],
   "source": [
    "silicon = mw.SampledMaterial(\n",
    "    name=\"si\",\n",
    "    params={\"wl\": [wl]},\n",
    "    n=[nsi],\n",
    "    meta={\"color\": (0.9, 0, 0, 0.9)},\n",
    ")\n",
    "silicon_oxide = mw.SampledMaterial(\n",
    "    name=\"sio2\",\n",
    "    params={\"wl\": [wl]},\n",
    "    n=[nsl],\n",
    ")\n",
    "core = mw.Structure(\n",
    "    geometry=mw.Prism(\n",
    "        axis=\"y\",\n",
    "        h_min=H // 3,\n",
    "        h_max=H // 3 + hc,\n",
    "        poly=[\n",
    "            (-1, W // 2 - w / 2),\n",
    "            (-1, W // 2 + w / 2),\n",
    "            (L + 1, W // 2 + w / 2),\n",
    "            (L + 1, W // 2 - w / 2),\n",
    "        ],\n",
    "    ),\n",
    "    material=silicon,\n",
    ")\n",
    "slab = mw.Structure(\n",
    "    geometry=mw.Prism(\n",
    "        axis=\"y\",\n",
    "        h_min=H // 3,\n",
    "        h_max=H // 3 + hs,\n",
    "        poly=[(-1, -1), (-1, W + 1), (L + 1, W + 1), (L + 1, -1)],\n",
    "    ),\n",
    "    material=silicon,\n",
    ")\n",
    "box = mw.Structure(\n",
    "    geometry=mw.Prism(\n",
    "        axis=\"y\",\n",
    "        h_min=-1,\n",
    "        h_max=H // 3,\n",
    "        poly=[(-1, -1), (-1, W + 1), (L + 1, W + 1), (L + 1, -1)],\n",
    "    ),\n",
    "    material=silicon_oxide,\n",
    ")\n",
    "\n",
    "structs = [core, slab]  # , box]\n",
    "\n",
    "cs1 = mw.CrossSection(\n",
    "    cell=mw.Cell(\n",
    "        structures=structs,\n",
    "        mesh=mw.Mesh2d(\n",
    "            x=np.linspace(0, W, 19),\n",
    "            y=np.linspace(0, H, 19),\n",
    "            num_pml=(0, 0),\n",
    "        ),\n",
    "        z_min=L / 2,\n",
    "        z_max=L / 2,\n",
    "        ez_interfaces=False,\n",
    "    ),\n",
    "    env=mw.Environment(wl=wl),\n",
    ")\n",
    "\n",
    "mw.visualize(cs1, debug_grid=True)"
   ]
  },
  {
   "cell_type": "code",
   "execution_count": null,
   "id": "d2a046da-32ab-4fc9-9b0b-763276f61618",
   "metadata": {
    "papermill": {
     "duration": 23.135038,
     "end_time": "2023-06-23T18:59:32.246924",
     "exception": false,
     "start_time": "2023-06-23T18:59:09.111886",
     "status": "completed"
    },
    "tags": []
   },
   "outputs": [],
   "source": [
    "modes1 = mw.compute_modes(cs=cs1, num_modes=6)\n",
    "mw.visualize(modes1, fields=[\"Ey\", \"Hy\"], plot_width=3)"
   ]
  },
  {
   "cell_type": "markdown",
   "id": "eef0d300-13e1-4b3e-8f66-9d342c58fb55",
   "metadata": {
    "papermill": {
     "duration": 0.048872,
     "end_time": "2023-06-23T18:59:32.360559",
     "exception": false,
     "start_time": "2023-06-23T18:59:32.311687",
     "status": "completed"
    },
    "tags": []
   },
   "source": [
    "## Current"
   ]
  },
  {
   "cell_type": "code",
   "execution_count": null,
   "id": "9d0f7aad-55b9-4ae2-a1f0-a061bba27f10",
   "metadata": {
    "papermill": {
     "duration": 0.077164,
     "end_time": "2023-06-23T18:59:32.492560",
     "exception": false,
     "start_time": "2023-06-23T18:59:32.415396",
     "status": "completed"
    },
    "tags": []
   },
   "outputs": [],
   "source": [
    "cmap1 = colors.LinearSegmentedColormap.from_list(\n",
    "    name=\"cmap1\", colors=[\"#ffffff\", \"#ff0000\"]\n",
    ")\n",
    "cmap2 = colors.LinearSegmentedColormap.from_list(\n",
    "    name=\"cmap2\", colors=[\"#ffffff\", \"#00ff00\"]\n",
    ")\n",
    "cmap3 = colors.LinearSegmentedColormap.from_list(\n",
    "    name=\"cmap3\", colors=[\"#ffffff\", \"#0000ff\"]\n",
    ")"
   ]
  },
  {
   "cell_type": "code",
   "execution_count": null,
   "id": "bc5dadca-9000-4b4d-9660-6032c7e99d61",
   "metadata": {
    "papermill": {
     "duration": 0.908495,
     "end_time": "2023-06-23T18:59:33.437447",
     "exception": false,
     "start_time": "2023-06-23T18:59:32.528952",
     "status": "completed"
    },
    "tags": []
   },
   "outputs": [],
   "source": [
    "plt.pcolormesh(\n",
    "    cs1.cell.mesh.Xx + 0.5,\n",
    "    cs1.cell.mesh.Yx + 0.5,\n",
    "    cs1.nx,\n",
    "    cmap=cmap1,\n",
    "    vmin=1.0,\n",
    "    alpha=0.3,\n",
    ")\n",
    "plt.pcolormesh(\n",
    "    cs1.cell.mesh.Xy + 0.5,\n",
    "    cs1.cell.mesh.Yy + 0.5,\n",
    "    cs1.ny,\n",
    "    cmap=cmap2,\n",
    "    vmin=1.0,\n",
    "    alpha=0.3,\n",
    ")\n",
    "plt.pcolormesh(\n",
    "    cs1.cell.mesh.Xz + 0.5,\n",
    "    cs1.cell.mesh.Yz + 0.5,\n",
    "    cs1.nz,\n",
    "    cmap=cmap3,\n",
    "    vmin=1.0,\n",
    "    alpha=0.3,\n",
    ")\n",
    "plt.xlim(0, W)\n",
    "plt.ylim(0, H)\n",
    "plt.show()"
   ]
  },
  {
   "cell_type": "markdown",
   "id": "00c84406-cc76-495d-aab0-f5bc7d692640",
   "metadata": {
    "papermill": {
     "duration": 0.056694,
     "end_time": "2023-06-23T18:59:33.517993",
     "exception": false,
     "start_time": "2023-06-23T18:59:33.461299",
     "status": "completed"
    },
    "tags": []
   },
   "source": [
    "## Desired"
   ]
  },
  {
   "cell_type": "code",
   "execution_count": null,
   "id": "d4a7fe65-c113-44d6-b15a-9512c5fec2f5",
   "metadata": {
    "papermill": {
     "duration": 1.397505,
     "end_time": "2023-06-23T18:59:34.975037",
     "exception": false,
     "start_time": "2023-06-23T18:59:33.577532",
     "status": "completed"
    },
    "tags": []
   },
   "outputs": [],
   "source": [
    "dx = cs1.cell.mesh.x[1:] - cs1.cell.mesh.x[:-1]\n",
    "dy = cs1.cell.mesh.y[1:] - cs1.cell.mesh.y[:-1]\n",
    "x_full = np.stack([cs1.cell.mesh.x[:-1], cs1.cell.mesh.x[:-1] + dx / 2], 1).ravel()\n",
    "y_full = np.stack([cs1.cell.mesh.y[:-1], cs1.cell.mesh.y[:-1] + dy / 2], 1).ravel()\n",
    "Y_full, X_full = np.meshgrid(y_full, x_full)\n",
    "n_full = np.ones_like(X_full)\n",
    "n_full[(4 <= Y_full) & (Y_full <= 4 + hs)] = nsi\n",
    "n_full[\n",
    "    (4 <= Y_full)\n",
    "    & (Y_full <= 4 + hc)\n",
    "    & (W // 2 - w // 2 <= X_full)\n",
    "    & (X_full <= W // 2 + w // 2)\n",
    "] = nsi\n",
    "# n_full[Y_full <= 4] = nsl\n",
    "\n",
    "mz = np.zeros_like(n_full, dtype=bool)\n",
    "mz[::2, ::2] = True\n",
    "mx = np.zeros_like(n_full, dtype=bool)\n",
    "mx[1::2, ::2] = True\n",
    "my = np.zeros_like(n_full, dtype=bool)\n",
    "my[::2, 1::2] = True\n",
    "m_ = np.zeros_like(n_full, dtype=bool)\n",
    "m_[1::2, 1::2] = True\n",
    "plot_mask = n_full > 1\n",
    "n_mask = (\n",
    "    1.0 * (plot_mask & mx)\n",
    "    + 2.0 * (plot_mask & my)\n",
    "    + 3.0 * (plot_mask & mz)\n",
    "    + 4.0 * (plot_mask & m_)\n",
    ")\n",
    "plt.pcolormesh(X_full, Y_full, n_mask, cmap=\"Blues\")\n",
    "\n",
    "x_ticks = np.sort(np.unique(X_full.ravel()))[::2]\n",
    "y_ticks = np.sort(np.unique(Y_full.ravel()))[::2]\n",
    "plt.xticks(x_ticks - 0.25 * dx, [f\"\" for x in x_ticks - 0.25 * dx])\n",
    "plt.yticks(y_ticks - 0.25 * dy, [f\"\" for y in y_ticks - 0.25 * dy])\n",
    "plt.xticks(x_ticks + 0.25 * dx, [f\"\" for x in x_ticks + 0.25 * dx], minor=True)\n",
    "plt.yticks(y_ticks + 0.25 * dy, [f\"\" for y in y_ticks + 0.25 * dy], minor=True)\n",
    "plt.grid(True, which=\"major\", ls=\"-\")\n",
    "plt.grid(True, which=\"minor\", ls=\":\")\n",
    "plt.xlim(0, W)\n",
    "plt.ylim(0, W)\n",
    "plt.show()"
   ]
  },
  {
   "cell_type": "code",
   "execution_count": null,
   "id": "839442e6-94d6-4425-aef6-ba1b7d455d0c",
   "metadata": {
    "papermill": {
     "duration": 1.422823,
     "end_time": "2023-06-23T18:59:36.415297",
     "exception": false,
     "start_time": "2023-06-23T18:59:34.992474",
     "status": "completed"
    },
    "tags": []
   },
   "outputs": [],
   "source": [
    "def get_boundary_mask_horizontal(n_full, negate=False):\n",
    "    mask = np.zeros((n_full.shape[0] + 2, n_full.shape[1] + 2), dtype=bool)\n",
    "    mask[1:-1, 1:-1] = n_full > 1\n",
    "    if negate:\n",
    "        mask = ~mask\n",
    "    mask1 = (convolve(np.array(mask[:, :], dtype=int), np.array([[-1, 1]])) > 0)[:, :]\n",
    "    mask2 = (convolve(np.array(mask[:, ::-1], dtype=int), np.array([[-1, 1]])) > 0)[\n",
    "        :, ::-1\n",
    "    ]\n",
    "    mask3 = (convolve(np.array(mask[::-1, :], dtype=int), np.array([[-1, 1]])) > 0)[\n",
    "        ::-1, :\n",
    "    ]\n",
    "    mask = (mask1 | mask2 | mask3)[1:-1, 1:-1]\n",
    "    # don't highlight mask at edge of simulation area\n",
    "    mask[:, 0] = mask[:, -1] = False\n",
    "    return mask\n",
    "\n",
    "\n",
    "def get_boundary_mask_vertical(n_full, negate=False):\n",
    "    return get_boundary_mask_horizontal(n_full.T, negate=negate).T\n",
    "\n",
    "\n",
    "def get_boundary_mask(n_full, negate=False):\n",
    "    mask1 = get_boundary_mask_horizontal(n_full, negate=negate)\n",
    "    mask2 = get_boundary_mask_vertical(n_full, negate=negate)\n",
    "    return mask1 | mask2\n",
    "\n",
    "\n",
    "mh = np.zeros_like(n_full, dtype=bool)\n",
    "mh[:, ::2] = True\n",
    "\n",
    "mv = np.zeros_like(n_full, dtype=bool)\n",
    "mv[::2, :] = True\n",
    "\n",
    "maskv = get_boundary_mask_vertical(n_full)\n",
    "maskv = maskv & (~mv)\n",
    "\n",
    "maskh = get_boundary_mask_horizontal(n_full)\n",
    "maskh = maskh & (~mh)\n",
    "\n",
    "mask = maskv | maskh\n",
    "\n",
    "maskc1 = convolve(np.asarray(mask, dtype=float), np.array([[-1.0, +1.0], [+1.0, -1.0]])) > 1  # fmt: skip\n",
    "maskc2 = convolve(np.asarray(mask, dtype=float), np.array([[0.0, 0.0], [+1.0, -1.0], [-1.0, +1.0]])) > 1  # fmt: skip\n",
    "mask = mask | maskc1 | maskc2\n",
    "\n",
    "plot_mask = (n_full > 1) & (~mask)\n",
    "n_mask = (\n",
    "    1.0 * (plot_mask & mx)\n",
    "    + 2.0 * (plot_mask & my)\n",
    "    + 3.0 * (plot_mask & mz)\n",
    "    + 4.0 * (plot_mask & m_)\n",
    ")\n",
    "\n",
    "\n",
    "plt.pcolormesh(X_full, Y_full, n_mask, cmap=\"Blues\", alpha=1.0)\n",
    "plt.pcolormesh(X_full, Y_full, mask, cmap=cmap1, alpha=0.5)\n",
    "x_ticks = np.sort(np.unique(X_full.ravel()))[::2]\n",
    "y_ticks = np.sort(np.unique(Y_full.ravel()))[::2]\n",
    "plt.xticks(x_ticks - 0.25 * dx, [f\"\" for x in x_ticks - 0.25 * dx])\n",
    "plt.yticks(y_ticks - 0.25 * dy, [f\"\" for y in y_ticks - 0.25 * dy])\n",
    "plt.xticks(x_ticks + 0.25 * dx, [f\"\" for x in x_ticks + 0.25 * dx], minor=True)\n",
    "plt.yticks(y_ticks + 0.25 * dy, [f\"\" for y in y_ticks + 0.25 * dy], minor=True)\n",
    "plt.grid(True, which=\"major\", ls=\"-\")\n",
    "plt.grid(True, which=\"minor\", ls=\":\")\n",
    "plt.xlim(0, W)\n",
    "plt.ylim(0, W)\n",
    "plt.show()"
   ]
  },
  {
   "cell_type": "code",
   "execution_count": null,
   "id": "8d7f6854-11fb-4897-a9db-2ac2b5057acf",
   "metadata": {
    "papermill": {
     "duration": 0.075449,
     "end_time": "2023-06-23T18:59:36.515112",
     "exception": false,
     "start_time": "2023-06-23T18:59:36.439663",
     "status": "completed"
    },
    "tags": []
   },
   "outputs": [],
   "source": [
    "n_full[n_mask < 1] = 1.0\n",
    "\n",
    "Xz = X_full[::2, ::2]\n",
    "Yz = Y_full[::2, ::2]\n",
    "nz = n_full[::2, ::2]\n",
    "\n",
    "Xx = X_full[1::2, ::2]\n",
    "Yx = Y_full[1::2, ::2]\n",
    "nx = n_full[1::2, ::2]\n",
    "\n",
    "Xy = X_full[::2, 1::2]\n",
    "Yy = Y_full[::2, 1::2]\n",
    "ny = n_full[::2, 1::2]"
   ]
  },
  {
   "cell_type": "code",
   "execution_count": null,
   "id": "6637de94-2c0c-4464-be61-2d2d0f648143",
   "metadata": {
    "papermill": {
     "duration": 1.534763,
     "end_time": "2023-06-23T18:59:38.104418",
     "exception": false,
     "start_time": "2023-06-23T18:59:36.569655",
     "status": "completed"
    },
    "tags": []
   },
   "outputs": [],
   "source": [
    "plt.pcolormesh(Xx + 0.5, Yx + 0.5, nx, cmap=cmap1, vmin=1.0, alpha=0.3)\n",
    "plt.pcolormesh(Xy + 0.5, Yy + 0.5, ny, cmap=cmap2, vmin=1.0, alpha=0.3)\n",
    "plt.pcolormesh(Xz + 0.5, Yz + 0.5, nz, cmap=cmap3, vmin=1.0, alpha=0.3)\n",
    "x_ticks = np.sort(np.unique(X_full.ravel()))[::2]\n",
    "y_ticks = np.sort(np.unique(Y_full.ravel()))[::2]\n",
    "plt.xticks(x_ticks - 0.25 * dx, [f\"\" for x in x_ticks - 0.25 * dx])\n",
    "plt.yticks(y_ticks - 0.25 * dy, [f\"\" for y in y_ticks - 0.25 * dy])\n",
    "plt.xticks(x_ticks + 0.25 * dx, [f\"\" for x in x_ticks + 0.25 * dx], minor=True)\n",
    "plt.yticks(y_ticks + 0.25 * dy, [f\"\" for y in y_ticks + 0.25 * dy], minor=True)\n",
    "plt.grid(True, which=\"major\", ls=\"-\")\n",
    "plt.grid(True, which=\"minor\", ls=\":\")\n",
    "plt.xlim(0 + dx.mean(), W + dx.mean())\n",
    "plt.ylim(0 + dy.mean(), W + dy.mean())\n",
    "plt.show()"
   ]
  },
  {
   "cell_type": "code",
   "execution_count": null,
   "id": "50cc01b7-b669-4939-bd5f-843b280f93e7",
   "metadata": {
    "papermill": {
     "duration": 0.095701,
     "end_time": "2023-06-23T18:59:38.223407",
     "exception": false,
     "start_time": "2023-06-23T18:59:38.127706",
     "status": "completed"
    },
    "tags": []
   },
   "outputs": [],
   "source": [
    "def compute_modes(\n",
    "    x,\n",
    "    y,\n",
    "    nx,\n",
    "    ny,\n",
    "    nz,\n",
    "    num_modes=10,\n",
    "    wl=1.5,\n",
    "):\n",
    "    od = np.zeros_like(nx)\n",
    "    eps_cross = [nx**2, od, od, od, ny**2, od, od, od, nz**2]\n",
    "    mode_spec = td.ModeSpec(\n",
    "        num_modes=num_modes,\n",
    "        precision=\"double\",\n",
    "        num_pml=(0, 0),\n",
    "    )\n",
    "    ((Ex, Ey, Ez), (Hx, Hy, Hz)), neffs = (\n",
    "        x.squeeze()\n",
    "        for x in _compute_modes(\n",
    "            eps_cross=eps_cross,\n",
    "            coords=[x, y],\n",
    "            freq=td.C_0 / wl,\n",
    "            mode_spec=mode_spec,\n",
    "        )\n",
    "    )\n",
    "    modes = [\n",
    "        mw.Mode(\n",
    "            cs=cs1,\n",
    "            Ex=Ex[..., i],\n",
    "            Ey=Ey[..., i],\n",
    "            Ez=Ez[..., i],\n",
    "            Hx=Hx[..., i],\n",
    "            Hy=Hy[..., i],\n",
    "            Hz=Hz[..., i],\n",
    "            neff=neffs[i],\n",
    "        )\n",
    "        for i in range(num_modes)\n",
    "    ]\n",
    "    # modes = [zero_phase(normalize_energy(mode)) for mode in modes]\n",
    "    # modes = sorted(modes, key=lambda m: float(np.real(m.neff)), reverse=True)\n",
    "    return modes"
   ]
  },
  {
   "cell_type": "code",
   "execution_count": null,
   "id": "929287c6-0567-41da-99a6-b5f965d03f58",
   "metadata": {
    "papermill": {
     "duration": 4.653301,
     "end_time": "2023-06-23T18:59:42.939949",
     "exception": false,
     "start_time": "2023-06-23T18:59:38.286648",
     "status": "completed"
    },
    "tags": []
   },
   "outputs": [],
   "source": [
    "modes2 = compute_modes(\n",
    "    x=cs1.cell.mesh.x,\n",
    "    y=cs1.cell.mesh.y,\n",
    "    nx=nx,\n",
    "    ny=ny,\n",
    "    nz=nz,\n",
    ")\n",
    "mw.visualize([modes2[i] for i in [0, 2]], fields=[\"Ey\", \"Hx\"], plot_width=3)"
   ]
  },
  {
   "cell_type": "markdown",
   "id": "dcf63849-49d2-4de0-8cc7-c55ad9ed3f58",
   "metadata": {
    "papermill": {
     "duration": 0.039949,
     "end_time": "2023-06-23T18:59:43.031800",
     "exception": false,
     "start_time": "2023-06-23T18:59:42.991851",
     "status": "completed"
    },
    "tags": []
   },
   "source": [
    "## Compare"
   ]
  },
  {
   "cell_type": "markdown",
   "id": "879b6edb-f362-4695-b0c1-a116b5b80e50",
   "metadata": {
    "papermill": {
     "duration": 0.040188,
     "end_time": "2023-06-23T18:59:43.130952",
     "exception": false,
     "start_time": "2023-06-23T18:59:43.090764",
     "status": "completed"
    },
    "tags": []
   },
   "source": [
    "This should be the same as the one right above."
   ]
  },
  {
   "cell_type": "code",
   "execution_count": null,
   "id": "8c17e59c-e779-4dbc-ad99-c695afbcce0f",
   "metadata": {
    "papermill": {
     "duration": 0.739209,
     "end_time": "2023-06-23T18:59:43.905996",
     "exception": false,
     "start_time": "2023-06-23T18:59:43.166787",
     "status": "completed"
    },
    "tags": []
   },
   "outputs": [],
   "source": [
    "cs2 = mw.CrossSection(\n",
    "    cell=cs1.cell,\n",
    "    env=cs1.env,\n",
    "    ez_interfaces=True,  # this enables all the steps we did before...\n",
    ")\n",
    "\n",
    "mw.visualize(cs2, debug_grid=True)"
   ]
  },
  {
   "cell_type": "code",
   "execution_count": null,
   "id": "a9fe8a0e-0915-4969-83be-2f8ac9554f82",
   "metadata": {
    "papermill": {
     "duration": 9.544296,
     "end_time": "2023-06-23T18:59:53.484401",
     "exception": false,
     "start_time": "2023-06-23T18:59:43.940105",
     "status": "completed"
    },
    "tags": []
   },
   "outputs": [],
   "source": [
    "modes3 = mw.compute_modes(cs=cs2, num_modes=6)\n",
    "mw.visualize(modes3, fields=[\"Ey\", \"Hx\"], plot_width=3)"
   ]
  }
 ],
 "metadata": {
  "kernelspec": {
   "display_name": "hom",
   "language": "python",
   "name": "hom"
  },
  "language_info": {
   "codemirror_mode": {
    "name": "ipython",
    "version": 3
   },
   "file_extension": ".py",
   "mimetype": "text/x-python",
   "name": "python",
   "nbconvert_exporter": "python",
   "pygments_lexer": "ipython3",
   "version": "3.10.11"
  },
  "papermill": {
   "default_parameters": {},
   "duration": 53.010731,
   "end_time": "2023-06-23T18:59:55.110167",
   "environment_variables": {},
   "exception": null,
   "input_path": "./tests/nbs/dielectric_interfaces.ipynb",
   "output_path": "./tests/nbs/dielectric_interfaces.ipynb",
   "parameters": {},
   "start_time": "2023-06-23T18:59:02.099436",
   "version": "2.4.0"
  }
 },
 "nbformat": 4,
 "nbformat_minor": 5
}
