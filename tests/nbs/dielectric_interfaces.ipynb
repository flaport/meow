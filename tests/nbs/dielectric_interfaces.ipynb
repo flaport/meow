{
 "cells": [
  {
   "cell_type": "code",
   "execution_count": null,
   "id": "1149c0fd-0649-485c-bd04-0c4ce16c3f78",
   "metadata": {
    "papermill": {
     "duration": 16.624011,
     "end_time": "2024-06-14T09:08:28.714099",
     "exception": false,
     "start_time": "2024-06-14T09:08:12.090088",
     "status": "completed"
    },
    "tags": []
   },
   "outputs": [],
   "source": [
    "import matplotlib.pyplot as plt\n",
    "import meow as mw\n",
    "import numpy as np\n",
    "import tidy3d as td\n",
    "from matplotlib import colors\n",
    "from scipy.ndimage import convolve\n",
    "from tidy3d.plugins.mode.mode_solver import compute_modes as _compute_modes\n",
    "\n",
    "mw.cache.disable_cache();"
   ]
  },
  {
   "cell_type": "code",
   "execution_count": null,
   "id": "9e169a83-2051-498b-b9f9-a41fa2eae0df",
   "metadata": {
    "papermill": {
     "duration": 0.028089,
     "end_time": "2024-06-14T09:08:28.754017",
     "exception": false,
     "start_time": "2024-06-14T09:08:28.725928",
     "status": "completed"
    },
    "tags": []
   },
   "outputs": [],
   "source": [
    "w = 4.0\n",
    "hc = 2.0\n",
    "hs = 1.0\n",
    "nsi = 3\n",
    "nsl = 1.5\n",
    "wl = 1.5\n",
    "W, L, H = 12, 12, 12"
   ]
  },
  {
   "cell_type": "code",
   "execution_count": null,
   "id": "fa601757-27c3-413d-bcc4-54862425a2ce",
   "metadata": {
    "papermill": {
     "duration": 1.719468,
     "end_time": "2024-06-14T09:08:30.477844",
     "exception": false,
     "start_time": "2024-06-14T09:08:28.758376",
     "status": "completed"
    },
    "tags": []
   },
   "outputs": [],
   "source": [
    "silicon = mw.SampledMaterial(\n",
    "    name=\"si\",\n",
    "    params={\"wl\": [wl]},\n",
    "    n=[nsi],\n",
    "    meta={\"color\": (0.9, 0, 0, 0.9)},\n",
    ")\n",
    "silicon_oxide = mw.SampledMaterial(\n",
    "    name=\"sio2\",\n",
    "    params={\"wl\": [wl]},\n",
    "    n=[nsl],\n",
    ")\n",
    "core = mw.Structure(\n",
    "    geometry=mw.Prism(\n",
    "        axis=\"y\",\n",
    "        h_min=H // 3,\n",
    "        h_max=H // 3 + hc,\n",
    "        poly=[\n",
    "            (-1, W // 2 - w / 2),\n",
    "            (-1, W // 2 + w / 2),\n",
    "            (L + 1, W // 2 + w / 2),\n",
    "            (L + 1, W // 2 - w / 2),\n",
    "        ],\n",
    "    ),\n",
    "    material=silicon,\n",
    ")\n",
    "slab = mw.Structure(\n",
    "    geometry=mw.Prism(\n",
    "        axis=\"y\",\n",
    "        h_min=H // 3,\n",
    "        h_max=H // 3 + hs,\n",
    "        poly=[(-1, -1), (-1, W + 1), (L + 1, W + 1), (L + 1, -1)],\n",
    "    ),\n",
    "    material=silicon,\n",
    ")\n",
    "box = mw.Structure(\n",
    "    geometry=mw.Prism(\n",
    "        axis=\"y\",\n",
    "        h_min=-1,\n",
    "        h_max=H // 3,\n",
    "        poly=[(-1, -1), (-1, W + 1), (L + 1, W + 1), (L + 1, -1)],\n",
    "    ),\n",
    "    material=silicon_oxide,\n",
    ")\n",
    "\n",
    "structs = [core, slab]  # , box]\n",
    "\n",
    "cell1 = mw.Cell(\n",
    "    structures=structs,\n",
    "    mesh=mw.Mesh2d(\n",
    "        x=np.linspace(0, W, 19),\n",
    "        y=np.linspace(0, H, 19),\n",
    "        num_pml=(0, 0),\n",
    "        ez_interfaces=False,\n",
    "    ),\n",
    "    z_min=L / 2,\n",
    "    z_max=L / 2,\n",
    ")\n",
    "cs1 = mw.CrossSection.from_cell(\n",
    "    cell=cell1,\n",
    "    env=mw.Environment(wl=wl),\n",
    ")\n",
    "\n",
    "mw.visualize(cs1, debug_grid=True)"
   ]
  },
  {
   "cell_type": "code",
   "execution_count": null,
   "id": "d2a046da-32ab-4fc9-9b0b-763276f61618",
   "metadata": {
    "papermill": {
     "duration": 18.90539,
     "end_time": "2024-06-14T09:08:49.406388",
     "exception": false,
     "start_time": "2024-06-14T09:08:30.500998",
     "status": "completed"
    },
    "tags": []
   },
   "outputs": [],
   "source": [
    "modes1 = mw.compute_modes(cs=cs1, num_modes=6)\n",
    "mw.visualize(modes1, fields=[\"Ey\", \"Hy\"], plot_width=3)"
   ]
  },
  {
   "cell_type": "markdown",
   "id": "eef0d300-13e1-4b3e-8f66-9d342c58fb55",
   "metadata": {
    "papermill": {
     "duration": 0.063021,
     "end_time": "2024-06-14T09:08:49.521068",
     "exception": false,
     "start_time": "2024-06-14T09:08:49.458047",
     "status": "completed"
    },
    "tags": []
   },
   "source": [
    "## Current"
   ]
  },
  {
   "cell_type": "code",
   "execution_count": null,
   "id": "9d0f7aad-55b9-4ae2-a1f0-a061bba27f10",
   "metadata": {
    "papermill": {
     "duration": 0.070036,
     "end_time": "2024-06-14T09:08:49.611333",
     "exception": false,
     "start_time": "2024-06-14T09:08:49.541297",
     "status": "completed"
    },
    "tags": []
   },
   "outputs": [],
   "source": [
    "cmap1 = colors.LinearSegmentedColormap.from_list(\n",
    "    name=\"cmap1\", colors=[\"#ffffff\", \"#ff0000\"]\n",
    ")\n",
    "cmap2 = colors.LinearSegmentedColormap.from_list(\n",
    "    name=\"cmap2\", colors=[\"#ffffff\", \"#00ff00\"]\n",
    ")\n",
    "cmap3 = colors.LinearSegmentedColormap.from_list(\n",
    "    name=\"cmap3\", colors=[\"#ffffff\", \"#0000ff\"]\n",
    ")"
   ]
  },
  {
   "cell_type": "code",
   "execution_count": null,
   "id": "bc5dadca-9000-4b4d-9660-6032c7e99d61",
   "metadata": {
    "papermill": {
     "duration": 0.934222,
     "end_time": "2024-06-14T09:08:50.576668",
     "exception": false,
     "start_time": "2024-06-14T09:08:49.642446",
     "status": "completed"
    },
    "tags": []
   },
   "outputs": [],
   "source": [
    "plt.pcolormesh(\n",
    "    cs1.mesh.Xx + 0.5,\n",
    "    cs1.mesh.Yx + 0.5,\n",
    "    cs1.nx,\n",
    "    cmap=cmap1,\n",
    "    vmin=1.0,\n",
    "    alpha=0.3,\n",
    ")\n",
    "plt.pcolormesh(\n",
    "    cs1.mesh.Xy + 0.5,\n",
    "    cs1.mesh.Yy + 0.5,\n",
    "    cs1.ny,\n",
    "    cmap=cmap2,\n",
    "    vmin=1.0,\n",
    "    alpha=0.3,\n",
    ")\n",
    "plt.pcolormesh(\n",
    "    cs1.mesh.Xz + 0.5,\n",
    "    cs1.mesh.Yz + 0.5,\n",
    "    cs1.nz,\n",
    "    cmap=cmap3,\n",
    "    vmin=1.0,\n",
    "    alpha=0.3,\n",
    ")\n",
    "plt.xlim(0, W)\n",
    "plt.ylim(0, H)\n",
    "plt.show()"
   ]
  },
  {
   "cell_type": "markdown",
   "id": "00c84406-cc76-495d-aab0-f5bc7d692640",
   "metadata": {
    "papermill": {
     "duration": 0.032434,
     "end_time": "2024-06-14T09:08:50.650894",
     "exception": false,
     "start_time": "2024-06-14T09:08:50.618460",
     "status": "completed"
    },
    "tags": []
   },
   "source": [
    "## Desired"
   ]
  },
  {
   "cell_type": "code",
   "execution_count": null,
   "id": "d4a7fe65-c113-44d6-b15a-9512c5fec2f5",
   "metadata": {
    "papermill": {
     "duration": 0.94319,
     "end_time": "2024-06-14T09:08:51.634165",
     "exception": false,
     "start_time": "2024-06-14T09:08:50.690975",
     "status": "completed"
    },
    "tags": []
   },
   "outputs": [],
   "source": [
    "dx = cs1.mesh.x[1:] - cs1.mesh.x[:-1]\n",
    "dy = cs1.mesh.y[1:] - cs1.mesh.y[:-1]\n",
    "x_full = np.stack([cs1.mesh.x[:-1], cs1.mesh.x[:-1] + dx / 2], 1).ravel()\n",
    "y_full = np.stack([cs1.mesh.y[:-1], cs1.mesh.y[:-1] + dy / 2], 1).ravel()\n",
    "Y_full, X_full = np.meshgrid(y_full, x_full)\n",
    "n_full = np.ones_like(X_full)\n",
    "n_full[(4 <= Y_full) & (Y_full <= 4 + hs)] = nsi\n",
    "n_full[\n",
    "    (4 <= Y_full)\n",
    "    & (Y_full <= 4 + hc)\n",
    "    & (W // 2 - w // 2 <= X_full)\n",
    "    & (X_full <= W // 2 + w // 2)\n",
    "] = nsi\n",
    "# n_full[Y_full <= 4] = nsl\n",
    "\n",
    "mz = np.zeros_like(n_full, dtype=bool)\n",
    "mz[::2, ::2] = True\n",
    "mx = np.zeros_like(n_full, dtype=bool)\n",
    "mx[1::2, ::2] = True\n",
    "my = np.zeros_like(n_full, dtype=bool)\n",
    "my[::2, 1::2] = True\n",
    "m_ = np.zeros_like(n_full, dtype=bool)\n",
    "m_[1::2, 1::2] = True\n",
    "plot_mask = n_full > 1\n",
    "n_mask = (\n",
    "    1.0 * (plot_mask & mx)\n",
    "    + 2.0 * (plot_mask & my)\n",
    "    + 3.0 * (plot_mask & mz)\n",
    "    + 4.0 * (plot_mask & m_)\n",
    ")\n",
    "plt.pcolormesh(X_full, Y_full, n_mask, cmap=\"Blues\")\n",
    "\n",
    "x_ticks = np.sort(np.unique(X_full.ravel()))[::2]\n",
    "y_ticks = np.sort(np.unique(Y_full.ravel()))[::2]\n",
    "plt.xticks(x_ticks - 0.25 * dx, [f\"\" for x in x_ticks - 0.25 * dx])\n",
    "plt.yticks(y_ticks - 0.25 * dy, [f\"\" for y in y_ticks - 0.25 * dy])\n",
    "plt.xticks(x_ticks + 0.25 * dx, [f\"\" for x in x_ticks + 0.25 * dx], minor=True)\n",
    "plt.yticks(y_ticks + 0.25 * dy, [f\"\" for y in y_ticks + 0.25 * dy], minor=True)\n",
    "plt.grid(True, which=\"major\", ls=\"-\")\n",
    "plt.grid(True, which=\"minor\", ls=\":\")\n",
    "plt.xlim(0, W)\n",
    "plt.ylim(0, W)\n",
    "plt.show()"
   ]
  },
  {
   "cell_type": "code",
   "execution_count": null,
   "id": "839442e6-94d6-4425-aef6-ba1b7d455d0c",
   "metadata": {
    "papermill": {
     "duration": 1.34731,
     "end_time": "2024-06-14T09:08:53.059291",
     "exception": false,
     "start_time": "2024-06-14T09:08:51.711981",
     "status": "completed"
    },
    "tags": []
   },
   "outputs": [],
   "source": [
    "def get_boundary_mask_horizontal(n_full, negate=False):\n",
    "    mask = np.zeros((n_full.shape[0] + 2, n_full.shape[1] + 2), dtype=bool)\n",
    "    mask[1:-1, 1:-1] = n_full > 1\n",
    "    if negate:\n",
    "        mask = ~mask\n",
    "    mask1 = (convolve(np.array(mask[:, :], dtype=int), np.array([[-1, 1]])) > 0)[:, :]\n",
    "    mask2 = (convolve(np.array(mask[:, ::-1], dtype=int), np.array([[-1, 1]])) > 0)[\n",
    "        :, ::-1\n",
    "    ]\n",
    "    mask3 = (convolve(np.array(mask[::-1, :], dtype=int), np.array([[-1, 1]])) > 0)[\n",
    "        ::-1, :\n",
    "    ]\n",
    "    mask = (mask1 | mask2 | mask3)[1:-1, 1:-1]\n",
    "    # don't highlight mask at edge of simulation area\n",
    "    mask[:, 0] = mask[:, -1] = False\n",
    "    return mask\n",
    "\n",
    "\n",
    "def get_boundary_mask_vertical(n_full, negate=False):\n",
    "    return get_boundary_mask_horizontal(n_full.T, negate=negate).T\n",
    "\n",
    "\n",
    "def get_boundary_mask(n_full, negate=False):\n",
    "    mask1 = get_boundary_mask_horizontal(n_full, negate=negate)\n",
    "    mask2 = get_boundary_mask_vertical(n_full, negate=negate)\n",
    "    return mask1 | mask2\n",
    "\n",
    "\n",
    "mh = np.zeros_like(n_full, dtype=bool)\n",
    "mh[:, ::2] = True\n",
    "\n",
    "mv = np.zeros_like(n_full, dtype=bool)\n",
    "mv[::2, :] = True\n",
    "\n",
    "maskv = get_boundary_mask_vertical(n_full)\n",
    "maskv = maskv & (~mv)\n",
    "\n",
    "maskh = get_boundary_mask_horizontal(n_full)\n",
    "maskh = maskh & (~mh)\n",
    "\n",
    "mask = maskv | maskh\n",
    "\n",
    "maskc1 = convolve(np.asarray(mask, dtype=float), np.array([[-1.0, +1.0], [+1.0, -1.0]])) > 1  # fmt: skip\n",
    "maskc2 = convolve(np.asarray(mask, dtype=float), np.array([[0.0, 0.0], [+1.0, -1.0], [-1.0, +1.0]])) > 1  # fmt: skip\n",
    "mask = mask | maskc1 | maskc2\n",
    "\n",
    "plot_mask = (n_full > 1) & (~mask)\n",
    "n_mask = (\n",
    "    1.0 * (plot_mask & mx)\n",
    "    + 2.0 * (plot_mask & my)\n",
    "    + 3.0 * (plot_mask & mz)\n",
    "    + 4.0 * (plot_mask & m_)\n",
    ")\n",
    "\n",
    "\n",
    "plt.pcolormesh(X_full, Y_full, n_mask, cmap=\"Blues\", alpha=1.0)\n",
    "plt.pcolormesh(X_full, Y_full, mask, cmap=cmap1, alpha=0.5)\n",
    "x_ticks = np.sort(np.unique(X_full.ravel()))[::2]\n",
    "y_ticks = np.sort(np.unique(Y_full.ravel()))[::2]\n",
    "plt.xticks(x_ticks - 0.25 * dx, [f\"\" for x in x_ticks - 0.25 * dx])\n",
    "plt.yticks(y_ticks - 0.25 * dy, [f\"\" for y in y_ticks - 0.25 * dy])\n",
    "plt.xticks(x_ticks + 0.25 * dx, [f\"\" for x in x_ticks + 0.25 * dx], minor=True)\n",
    "plt.yticks(y_ticks + 0.25 * dy, [f\"\" for y in y_ticks + 0.25 * dy], minor=True)\n",
    "plt.grid(True, which=\"major\", ls=\"-\")\n",
    "plt.grid(True, which=\"minor\", ls=\":\")\n",
    "plt.xlim(0, W)\n",
    "plt.ylim(0, W)\n",
    "plt.show()"
   ]
  },
  {
   "cell_type": "code",
   "execution_count": null,
   "id": "8d7f6854-11fb-4897-a9db-2ac2b5057acf",
   "metadata": {
    "papermill": {
     "duration": 0.041739,
     "end_time": "2024-06-14T09:08:53.138795",
     "exception": false,
     "start_time": "2024-06-14T09:08:53.097056",
     "status": "completed"
    },
    "tags": []
   },
   "outputs": [],
   "source": [
    "n_full[n_mask < 1] = 1.0\n",
    "\n",
    "Xz = X_full[::2, ::2]\n",
    "Yz = Y_full[::2, ::2]\n",
    "nz = n_full[::2, ::2]\n",
    "\n",
    "Xx = X_full[1::2, ::2]\n",
    "Yx = Y_full[1::2, ::2]\n",
    "nx = n_full[1::2, ::2]\n",
    "\n",
    "Xy = X_full[::2, 1::2]\n",
    "Yy = Y_full[::2, 1::2]\n",
    "ny = n_full[::2, 1::2]"
   ]
  },
  {
   "cell_type": "code",
   "execution_count": null,
   "id": "6637de94-2c0c-4464-be61-2d2d0f648143",
   "metadata": {
    "papermill": {
     "duration": 0.749002,
     "end_time": "2024-06-14T09:08:53.926417",
     "exception": false,
     "start_time": "2024-06-14T09:08:53.177415",
     "status": "completed"
    },
    "tags": []
   },
   "outputs": [],
   "source": [
    "plt.pcolormesh(Xx + 0.5, Yx + 0.5, nx, cmap=cmap1, vmin=1.0, alpha=0.3)\n",
    "plt.pcolormesh(Xy + 0.5, Yy + 0.5, ny, cmap=cmap2, vmin=1.0, alpha=0.3)\n",
    "plt.pcolormesh(Xz + 0.5, Yz + 0.5, nz, cmap=cmap3, vmin=1.0, alpha=0.3)\n",
    "x_ticks = np.sort(np.unique(X_full.ravel()))[::2]\n",
    "y_ticks = np.sort(np.unique(Y_full.ravel()))[::2]\n",
    "plt.xticks(x_ticks - 0.25 * dx, [f\"\" for x in x_ticks - 0.25 * dx])\n",
    "plt.yticks(y_ticks - 0.25 * dy, [f\"\" for y in y_ticks - 0.25 * dy])\n",
    "plt.xticks(x_ticks + 0.25 * dx, [f\"\" for x in x_ticks + 0.25 * dx], minor=True)\n",
    "plt.yticks(y_ticks + 0.25 * dy, [f\"\" for y in y_ticks + 0.25 * dy], minor=True)\n",
    "plt.grid(True, which=\"major\", ls=\"-\")\n",
    "plt.grid(True, which=\"minor\", ls=\":\")\n",
    "plt.xlim(0 + dx.mean(), W + dx.mean())\n",
    "plt.ylim(0 + dy.mean(), W + dy.mean())\n",
    "plt.show()"
   ]
  },
  {
   "cell_type": "code",
   "execution_count": null,
   "id": "50cc01b7-b669-4939-bd5f-843b280f93e7",
   "metadata": {
    "papermill": {
     "duration": 0.057615,
     "end_time": "2024-06-14T09:08:54.073806",
     "exception": false,
     "start_time": "2024-06-14T09:08:54.016191",
     "status": "completed"
    },
    "tags": []
   },
   "outputs": [],
   "source": [
    "def compute_modes(\n",
    "    x,\n",
    "    y,\n",
    "    nx,\n",
    "    ny,\n",
    "    nz,\n",
    "    num_modes=10,\n",
    "    wl=1.5,\n",
    "):\n",
    "    od = np.zeros_like(nx)\n",
    "    eps_cross = [nx**2, od, od, od, ny**2, od, od, od, nz**2]\n",
    "    mode_spec = td.ModeSpec(\n",
    "        num_modes=num_modes,\n",
    "        precision=\"double\",\n",
    "        num_pml=(0, 0),\n",
    "    )\n",
    "    ((Ex, Ey, Ez), (Hx, Hy, Hz)), neffs, _ = _compute_modes(\n",
    "        eps_cross=eps_cross,\n",
    "        coords=[x, y],\n",
    "        freq=td.C_0 / wl,\n",
    "        mode_spec=mode_spec,\n",
    "    )\n",
    "    modes = [\n",
    "        mw.Mode(\n",
    "            cs=cs1,\n",
    "            Ex=Ex.squeeze()[..., i],\n",
    "            Ey=Ey.squeeze()[..., i],\n",
    "            Ez=Ez.squeeze()[..., i],\n",
    "            Hx=Hx.squeeze()[..., i],\n",
    "            Hy=Hy.squeeze()[..., i],\n",
    "            Hz=Hz.squeeze()[..., i],\n",
    "            neff=neffs.squeeze()[i],\n",
    "        )\n",
    "        for i in range(num_modes)\n",
    "    ]\n",
    "    # modes = [zero_phase(normalize_energy(mode)) for mode in modes]\n",
    "    # modes = sorted(modes, key=lambda m: float(np.real(m.neff)), reverse=True)\n",
    "    return modes"
   ]
  },
  {
   "cell_type": "code",
   "execution_count": null,
   "id": "929287c6-0567-41da-99a6-b5f965d03f58",
   "metadata": {
    "papermill": {
     "duration": 4.916178,
     "end_time": "2024-06-14T09:08:59.024670",
     "exception": false,
     "start_time": "2024-06-14T09:08:54.108492",
     "status": "completed"
    },
    "tags": []
   },
   "outputs": [],
   "source": [
    "modes2 = compute_modes(\n",
    "    x=cs1.mesh.x,\n",
    "    y=cs1.mesh.y,\n",
    "    nx=nx,\n",
    "    ny=ny,\n",
    "    nz=nz,\n",
    ")\n",
    "mw.visualize([modes2[i] for i in [0, 2]], fields=[\"Ey\", \"Hx\"], plot_width=3)"
   ]
  }
 ],
 "metadata": {
  "kernelspec": {
   "display_name": "Python 3 (ipykernel)",
   "language": "python",
   "name": "python3"
  },
  "language_info": {
   "codemirror_mode": {
    "name": "ipython",
    "version": 3
   },
   "file_extension": ".py",
   "mimetype": "text/x-python",
   "name": "python",
   "nbconvert_exporter": "python",
   "pygments_lexer": "ipython3",
   "version": "3.12.2"
  },
  "papermill": {
   "default_parameters": {},
   "duration": 53.461931,
   "end_time": "2024-06-14T09:09:01.982705",
   "environment_variables": {},
   "exception": null,
   "input_path": "./tests/nbs/dielectric_interfaces.ipynb",
   "output_path": "./tests/nbs/dielectric_interfaces.ipynb",
   "parameters": {},
   "start_time": "2024-06-14T09:08:08.520774",
   "version": "2.4.0"
  }
 },
 "nbformat": 4,
 "nbformat_minor": 5
}
