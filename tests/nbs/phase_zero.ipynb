{
 "cells": [
  {
   "cell_type": "code",
   "execution_count": null,
   "id": "80f04b0d",
   "metadata": {
    "papermill": {
     "duration": 4.686296,
     "end_time": "2023-06-23T18:59:08.346309",
     "exception": false,
     "start_time": "2023-06-23T18:59:03.660013",
     "status": "completed"
    },
    "tags": []
   },
   "outputs": [],
   "source": [
    "import meow as mw\n",
    "import numpy as np\n",
    "import matplotlib.pyplot as plt\n",
    "\n",
    "plt.rcParams[\"pcolor.shading\"] = \"auto\""
   ]
  },
  {
   "cell_type": "markdown",
   "id": "bf7f0fef",
   "metadata": {
    "papermill": {
     "duration": 0.004157,
     "end_time": "2023-06-23T18:59:08.355506",
     "exception": false,
     "start_time": "2023-06-23T18:59:08.351349",
     "status": "completed"
    },
    "tags": []
   },
   "source": [
    "## Preparation\n",
    "let's perform a mode simulation"
   ]
  },
  {
   "cell_type": "code",
   "execution_count": null,
   "id": "bb03212b",
   "metadata": {
    "papermill": {
     "duration": 0.03792,
     "end_time": "2023-06-23T18:59:08.397719",
     "exception": false,
     "start_time": "2023-06-23T18:59:08.359799",
     "status": "completed"
    },
    "tags": []
   },
   "outputs": [],
   "source": [
    "length = 10.0\n",
    "box = mw.Box(\n",
    "    x_min=-0.22,\n",
    "    x_max=0.22,\n",
    "    y_min=0,\n",
    "    y_max=0.22,\n",
    "    z_min=0.0,\n",
    "    z_max=length,\n",
    ")"
   ]
  },
  {
   "cell_type": "code",
   "execution_count": null,
   "id": "54801f93",
   "metadata": {
    "papermill": {
     "duration": 0.019194,
     "end_time": "2023-06-23T18:59:08.421126",
     "exception": false,
     "start_time": "2023-06-23T18:59:08.401932",
     "status": "completed"
    },
    "tags": []
   },
   "outputs": [],
   "source": [
    "struct = mw.Structure(material=mw.silicon_nitride, geometry=box)"
   ]
  },
  {
   "cell_type": "code",
   "execution_count": null,
   "id": "c5c7608c",
   "metadata": {
    "papermill": {
     "duration": 0.018592,
     "end_time": "2023-06-23T18:59:08.443814",
     "exception": false,
     "start_time": "2023-06-23T18:59:08.425222",
     "status": "completed"
    },
    "tags": []
   },
   "outputs": [],
   "source": [
    "env = mw.Environment(wl=1.55, T=25.0)"
   ]
  },
  {
   "cell_type": "code",
   "execution_count": null,
   "id": "e28246a2",
   "metadata": {
    "papermill": {
     "duration": 0.02249,
     "end_time": "2023-06-23T18:59:08.470570",
     "exception": false,
     "start_time": "2023-06-23T18:59:08.448080",
     "status": "completed"
    },
    "tags": []
   },
   "outputs": [],
   "source": [
    "cells = mw.create_cells(\n",
    "    structures=[struct],\n",
    "    mesh=mw.Mesh2d(\n",
    "        x=np.linspace(-1, 1, 101),\n",
    "        y=np.linspace(-1, 1, 101),\n",
    "    ),\n",
    "    Ls=[length / 3] * 3,\n",
    ")\n",
    "css = [mw.CrossSection(cell=cell, env=env) for cell in cells]"
   ]
  },
  {
   "cell_type": "code",
   "execution_count": null,
   "id": "29ab9f15",
   "metadata": {
    "papermill": {
     "duration": 17.914669,
     "end_time": "2023-06-23T18:59:26.389893",
     "exception": false,
     "start_time": "2023-06-23T18:59:08.475224",
     "status": "completed"
    },
    "tags": []
   },
   "outputs": [],
   "source": [
    "modes = [mw.compute_modes(cs, num_modes=2) for cs in css]"
   ]
  },
  {
   "cell_type": "markdown",
   "id": "4029424e",
   "metadata": {
    "papermill": {
     "duration": 0.005852,
     "end_time": "2023-06-23T18:59:26.401871",
     "exception": false,
     "start_time": "2023-06-23T18:59:26.396019",
     "status": "completed"
    },
    "tags": []
   },
   "source": [
    "## Interface matrices\n",
    "Here begins the interesting part.\n",
    "Let`s try to calculate the S matrix."
   ]
  },
  {
   "cell_type": "code",
   "execution_count": null,
   "id": "179f8c99",
   "metadata": {
    "papermill": {
     "duration": 6.941512,
     "end_time": "2023-06-23T18:59:33.367841",
     "exception": false,
     "start_time": "2023-06-23T18:59:26.426329",
     "status": "completed"
    },
    "tags": []
   },
   "outputs": [],
   "source": [
    "S, _ = mw.compute_s_matrix(modes)\n",
    "mw.vis(np.abs(S))\n",
    "mw.vis(S)\n",
    "mw.vis(S, phase=True)"
   ]
  },
  {
   "cell_type": "markdown",
   "id": "ed0394a4",
   "metadata": {
    "papermill": {
     "duration": 0.022351,
     "end_time": "2023-06-23T18:59:33.400353",
     "exception": false,
     "start_time": "2023-06-23T18:59:33.378002",
     "status": "completed"
    },
    "tags": []
   },
   "source": [
    "The S-parameters are as we would expect: no reflection and full transmission in the qTE and qTM modes, which gain a different phase while propagating along the waveguide.\n",
    "\n",
    "Let's change the mode of the center section by giving it an **additive phase**:"
   ]
  },
  {
   "cell_type": "code",
   "execution_count": null,
   "id": "41443bb7",
   "metadata": {
    "papermill": {
     "duration": 2.708204,
     "end_time": "2023-06-23T18:59:36.139112",
     "exception": false,
     "start_time": "2023-06-23T18:59:33.430908",
     "status": "completed"
    },
    "tags": []
   },
   "outputs": [],
   "source": [
    "modes_ = modes.copy()\n",
    "modes_[1] = [m * np.exp(0.2j) for m in modes_[1]]\n",
    "S, _ = mw.compute_s_matrix(modes_, enforce_reciprocity=False)\n",
    "mw.vis(abs(S))\n",
    "mw.vis(S)\n",
    "mw.vis(S, phase=True)"
   ]
  },
  {
   "cell_type": "markdown",
   "id": "3fadf0af",
   "metadata": {
    "papermill": {
     "duration": 0.022516,
     "end_time": "2023-06-23T18:59:36.169863",
     "exception": false,
     "start_time": "2023-06-23T18:59:36.147347",
     "status": "completed"
    },
    "tags": []
   },
   "source": [
    "As we can see the overall system matrix is unchanged, which is as expected, as there is no global well defined phase.\n",
    "Note that this also means, that strictly speaking no phase zeroing is required."
   ]
  },
  {
   "cell_type": "markdown",
   "id": "36dea8a5",
   "metadata": {
    "papermill": {
     "duration": 0.034552,
     "end_time": "2023-06-23T18:59:36.236436",
     "exception": false,
     "start_time": "2023-06-23T18:59:36.201884",
     "status": "completed"
    },
    "tags": []
   },
   "source": [
    "We can see from the single interface matrices (below), that the phase is changed forth and back while traversing the inner section. Note that the interface matrices are not reciprocal in the typical sense. That is the intended behavior: The mode in section 0 is mapped to a phase shifted vesion of itself in section 1. Going back to the mode of section one requires inverting the applied phase shift. **Important:** this is different compared to a piece of waveguide, where the phase progresses forward irrespectable of the direction of propagation through the waveguide."
   ]
  },
  {
   "cell_type": "code",
   "execution_count": null,
   "id": "53cfa205",
   "metadata": {
    "papermill": {
     "duration": 1.258659,
     "end_time": "2023-06-23T18:59:37.524002",
     "exception": false,
     "start_time": "2023-06-23T18:59:36.265343",
     "status": "completed"
    },
    "tags": []
   },
   "outputs": [],
   "source": [
    "from meow.eme import compute_interface_s_matrix\n",
    "\n",
    "for i in [0, 1]:\n",
    "    mw.vis(compute_interface_s_matrix(modes_[i], modes_[i + 1]))"
   ]
  },
  {
   "cell_type": "markdown",
   "id": "603cb2ca",
   "metadata": {
    "papermill": {
     "duration": 0.009915,
     "end_time": "2023-06-23T18:59:37.542382",
     "exception": false,
     "start_time": "2023-06-23T18:59:37.532467",
     "status": "completed"
    },
    "tags": []
   },
   "source": [
    "## Note:\n",
    "when changing the phase of the mode at the input/output of the structure the phase of the S-parameters will change, as the \"reference\" changes. It is thus still a good idea to have a consistent definition of the zero phase. "
   ]
  },
  {
   "cell_type": "code",
   "execution_count": null,
   "id": "dec79fb4",
   "metadata": {
    "papermill": {
     "duration": 2.080247,
     "end_time": "2023-06-23T18:59:39.638757",
     "exception": false,
     "start_time": "2023-06-23T18:59:37.558510",
     "status": "completed"
    },
    "tags": []
   },
   "outputs": [],
   "source": [
    "modes_ = modes.copy()\n",
    "modes_[0] = [m * np.exp(0.2j) for m in modes_[0]]\n",
    "S = mw.compute_s_matrix(modes_, enforce_reciprocity=False)\n",
    "mw.vis(S)\n",
    "mw.vis(S, phase=True)"
   ]
  },
  {
   "cell_type": "markdown",
   "id": "8c50faa4",
   "metadata": {
    "papermill": {
     "duration": 0.010065,
     "end_time": "2023-06-23T18:59:39.658794",
     "exception": false,
     "start_time": "2023-06-23T18:59:39.648729",
     "status": "completed"
    },
    "tags": []
   },
   "source": [
    "## Additional Note\n",
    "how that zero phase is defined is however irrelevant:"
   ]
  },
  {
   "cell_type": "code",
   "execution_count": null,
   "id": "e782908b",
   "metadata": {
    "papermill": {
     "duration": 2.270389,
     "end_time": "2023-06-23T18:59:41.949003",
     "exception": false,
     "start_time": "2023-06-23T18:59:39.678614",
     "status": "completed"
    },
    "tags": []
   },
   "outputs": [],
   "source": [
    "modes_ = modes.copy()\n",
    "for i in [0, 2]:\n",
    "    modes_[i] = [m * np.exp(0.2j) for m in modes_[i]]\n",
    "S = mw.compute_s_matrix(modes_, enforce_reciprocity=False)\n",
    "mw.vis(S)"
   ]
  },
  {
   "cell_type": "code",
   "execution_count": null,
   "id": "3eaa21a1",
   "metadata": {
    "papermill": {
     "duration": 0.009573,
     "end_time": "2023-06-23T18:59:41.968479",
     "exception": false,
     "start_time": "2023-06-23T18:59:41.958906",
     "status": "completed"
    },
    "tags": []
   },
   "outputs": [],
   "source": []
  }
 ],
 "metadata": {
  "kernelspec": {
   "display_name": "Python 3 (ipykernel)",
   "language": "python",
   "name": "python3"
  },
  "language_info": {
   "codemirror_mode": {
    "name": "ipython",
    "version": 3
   },
   "file_extension": ".py",
   "mimetype": "text/x-python",
   "name": "python",
   "nbconvert_exporter": "python",
   "pygments_lexer": "ipython3",
   "version": "3.10.11"
  },
  "papermill": {
   "default_parameters": {},
   "duration": 41.447404,
   "end_time": "2023-06-23T18:59:43.547588",
   "environment_variables": {},
   "exception": null,
   "input_path": "./tests/nbs/phase_zero.ipynb",
   "output_path": "./tests/nbs/phase_zero.ipynb",
   "parameters": {},
   "start_time": "2023-06-23T18:59:02.100184",
   "version": "2.4.0"
  },
  "vscode": {
   "interpreter": {
    "hash": "8cb1a8d1c3ece4eb1e4592eaec04207f7b73f2abcb1f254721941c0090e83ef8"
   }
  }
 },
 "nbformat": 4,
 "nbformat_minor": 5
}
