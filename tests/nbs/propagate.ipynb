{
 "cells": [
  {
   "cell_type": "code",
   "execution_count": null,
   "id": "8c20b4e6",
   "metadata": {
    "papermill": {
     "duration": 4.764145,
     "end_time": "2023-06-23T18:59:08.439442",
     "exception": false,
     "start_time": "2023-06-23T18:59:03.675297",
     "status": "completed"
    },
    "tags": []
   },
   "outputs": [],
   "source": [
    "import meow as mw\n",
    "import jax.numpy as np\n",
    "import matplotlib.pyplot as plt"
   ]
  },
  {
   "cell_type": "markdown",
   "id": "65eb039d",
   "metadata": {
    "papermill": {
     "duration": 0.003018,
     "end_time": "2023-06-23T18:59:08.446065",
     "exception": false,
     "start_time": "2023-06-23T18:59:08.443047",
     "status": "completed"
    },
    "tags": []
   },
   "source": [
    "## Preparation\n",
    "let's perform a mode simulation"
   ]
  },
  {
   "cell_type": "code",
   "execution_count": null,
   "id": "2d1c1964",
   "metadata": {
    "papermill": {
     "duration": 0.018358,
     "end_time": "2023-06-23T18:59:08.467258",
     "exception": false,
     "start_time": "2023-06-23T18:59:08.448900",
     "status": "completed"
    },
    "tags": []
   },
   "outputs": [],
   "source": [
    "length = 10.0\n",
    "box = mw.Box(\n",
    "    x_min=-0.22,\n",
    "    x_max=0.22,\n",
    "    y_min=0,\n",
    "    y_max=0.22,\n",
    "    z_min=0.0,\n",
    "    z_max=length,\n",
    ")"
   ]
  },
  {
   "cell_type": "code",
   "execution_count": null,
   "id": "e9f76fd4",
   "metadata": {
    "papermill": {
     "duration": 0.024873,
     "end_time": "2023-06-23T18:59:08.495314",
     "exception": false,
     "start_time": "2023-06-23T18:59:08.470441",
     "status": "completed"
    },
    "tags": []
   },
   "outputs": [],
   "source": [
    "struct = mw.Structure(material=mw.silicon, geometry=box)"
   ]
  },
  {
   "cell_type": "code",
   "execution_count": null,
   "id": "02e26f83",
   "metadata": {
    "papermill": {
     "duration": 0.016896,
     "end_time": "2023-06-23T18:59:08.515468",
     "exception": false,
     "start_time": "2023-06-23T18:59:08.498572",
     "status": "completed"
    },
    "tags": []
   },
   "outputs": [],
   "source": [
    "env = mw.Environment(wl=1.55, T=25.0)"
   ]
  },
  {
   "cell_type": "code",
   "execution_count": null,
   "id": "769c3c3b",
   "metadata": {
    "papermill": {
     "duration": 0.148153,
     "end_time": "2023-06-23T18:59:08.669225",
     "exception": false,
     "start_time": "2023-06-23T18:59:08.521072",
     "status": "completed"
    },
    "tags": []
   },
   "outputs": [],
   "source": [
    "cells = mw.create_cells(\n",
    "    structures=[struct],\n",
    "    mesh=mw.Mesh2d(\n",
    "        x=np.linspace(-1, 1, 101),\n",
    "        y=np.linspace(-1, 1, 101),\n",
    "    ),\n",
    "    Ls=[length / 3] * 3,\n",
    ")\n",
    "css = [mw.CrossSection(cell=cell, env=env) for cell in cells]"
   ]
  },
  {
   "cell_type": "code",
   "execution_count": null,
   "id": "8dee4bb0",
   "metadata": {
    "papermill": {
     "duration": 31.666203,
     "end_time": "2023-06-23T18:59:40.340140",
     "exception": false,
     "start_time": "2023-06-23T18:59:08.673937",
     "status": "completed"
    },
    "tags": []
   },
   "outputs": [],
   "source": [
    "modes = [mw.compute_modes(cs, num_modes=3) for cs in css]"
   ]
  },
  {
   "cell_type": "code",
   "execution_count": null,
   "id": "b5590bd6",
   "metadata": {
    "papermill": {
     "duration": 0.019105,
     "end_time": "2023-06-23T18:59:40.371403",
     "exception": false,
     "start_time": "2023-06-23T18:59:40.352298",
     "status": "completed"
    },
    "tags": []
   },
   "outputs": [],
   "source": [
    "modes_ = modes.copy()"
   ]
  },
  {
   "cell_type": "code",
   "execution_count": null,
   "id": "74ee8dca",
   "metadata": {
    "papermill": {
     "duration": 0.038506,
     "end_time": "2023-06-23T18:59:40.414950",
     "exception": false,
     "start_time": "2023-06-23T18:59:40.376444",
     "status": "completed"
    },
    "tags": []
   },
   "outputs": [],
   "source": [
    "modes = modes_.copy()"
   ]
  },
  {
   "cell_type": "code",
   "execution_count": null,
   "id": "40ec6c03",
   "metadata": {
    "papermill": {
     "duration": 0.473679,
     "end_time": "2023-06-23T18:59:40.895761",
     "exception": false,
     "start_time": "2023-06-23T18:59:40.422082",
     "status": "completed"
    },
    "tags": []
   },
   "outputs": [],
   "source": [
    "modes[1] = modes[1][:-1]\n",
    "modes[1] = [m * complex(np.exp(0.4j)) for m in modes[1]]"
   ]
  },
  {
   "cell_type": "code",
   "execution_count": null,
   "id": "c05d86f9",
   "metadata": {
    "papermill": {
     "duration": 0.040451,
     "end_time": "2023-06-23T18:59:40.941880",
     "exception": false,
     "start_time": "2023-06-23T18:59:40.901429",
     "status": "completed"
    },
    "tags": []
   },
   "outputs": [],
   "source": [
    "from meow.eme.propagate import propagate_modes"
   ]
  },
  {
   "cell_type": "code",
   "execution_count": null,
   "id": "8a4884e9",
   "metadata": {
    "papermill": {
     "duration": 13.124211,
     "end_time": "2023-06-23T18:59:54.078327",
     "exception": false,
     "start_time": "2023-06-23T18:59:40.954116",
     "status": "completed"
    },
    "tags": []
   },
   "outputs": [],
   "source": [
    "z = np.linspace(0, length, 300)\n",
    "y = 0.5\n",
    "\n",
    "ex_l = np.zeros(len(modes[0]))\n",
    "ex_l = ex_l.at[0].set(1)\n",
    "ex_r = np.zeros(len(modes[-1]))\n",
    "ex_r = ex_r.at[0].set(0.3)\n",
    "\n",
    "E, x = propagate_modes(modes, ex_l, ex_r, y, z)\n",
    "\n",
    "X, Y = np.meshgrid(z, x)\n",
    "lim = np.quantile(np.abs(E), 0.98)\n",
    "plt.pcolormesh(X, Y, np.abs(E).T, shading=\"nearest\", cmap=\"magma\", vmin=0, vmax=lim)"
   ]
  },
  {
   "cell_type": "code",
   "execution_count": null,
   "id": "1b92f482",
   "metadata": {
    "papermill": {
     "duration": 0.006824,
     "end_time": "2023-06-23T18:59:54.093383",
     "exception": false,
     "start_time": "2023-06-23T18:59:54.086559",
     "status": "completed"
    },
    "tags": []
   },
   "outputs": [],
   "source": []
  }
 ],
 "metadata": {
  "kernelspec": {
   "display_name": "Python 3 (ipykernel)",
   "language": "python",
   "name": "python3"
  },
  "language_info": {
   "codemirror_mode": {
    "name": "ipython",
    "version": 3
   },
   "file_extension": ".py",
   "mimetype": "text/x-python",
   "name": "python",
   "nbconvert_exporter": "python",
   "pygments_lexer": "ipython3",
   "version": "3.10.11"
  },
  "papermill": {
   "default_parameters": {},
   "duration": 53.420238,
   "end_time": "2023-06-23T18:59:55.543442",
   "environment_variables": {},
   "exception": null,
   "input_path": "./tests/nbs/propagate.ipynb",
   "output_path": "./tests/nbs/propagate.ipynb",
   "parameters": {},
   "start_time": "2023-06-23T18:59:02.123204",
   "version": "2.4.0"
  },
  "vscode": {
   "interpreter": {
    "hash": "8cb1a8d1c3ece4eb1e4592eaec04207f7b73f2abcb1f254721941c0090e83ef8"
   }
  }
 },
 "nbformat": 4,
 "nbformat_minor": 5
}
