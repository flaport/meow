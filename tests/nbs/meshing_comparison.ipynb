{
 "cells": [
  {
   "cell_type": "code",
   "execution_count": null,
   "id": "p1jNHYSnZTmt",
   "metadata": {
    "colab": {
     "base_uri": "https://localhost:8080/"
    },
    "id": "p1jNHYSnZTmt",
    "outputId": "bfd30d25-1d33-41f0-dba6-a76f4a83f8ec",
    "papermill": {
     "duration": 4.854057,
     "end_time": "2023-06-23T18:59:08.418926",
     "exception": false,
     "start_time": "2023-06-23T18:59:03.564869",
     "status": "completed"
    },
    "tags": []
   },
   "outputs": [],
   "source": [
    "import os\n",
    "import pickle\n",
    "import time\n",
    "\n",
    "import matplotlib.pyplot as plt\n",
    "import meow as mw\n",
    "import numpy as np\n",
    "import tidy3d as td\n",
    "from matplotlib import colors\n",
    "from scipy.ndimage import convolve\n",
    "from tidy3d.plugins.mode.mode_solver import compute_modes as _compute_modes\n",
    "\n",
    "mw.cache.disable_cache();"
   ]
  },
  {
   "cell_type": "code",
   "execution_count": null,
   "id": "9e169a83-2051-498b-b9f9-a41fa2eae0df",
   "metadata": {
    "id": "9e169a83-2051-498b-b9f9-a41fa2eae0df",
    "papermill": {
     "duration": 0.017143,
     "end_time": "2023-06-23T18:59:08.445677",
     "exception": false,
     "start_time": "2023-06-23T18:59:08.428534",
     "status": "completed"
    },
    "tags": []
   },
   "outputs": [],
   "source": [
    "wl = 1.5\n",
    "W, L, H = 12, 12, 12"
   ]
  },
  {
   "cell_type": "code",
   "execution_count": null,
   "id": "HUQLoGgwnqsl",
   "metadata": {
    "colab": {
     "base_uri": "https://localhost:8080/",
     "height": 411
    },
    "id": "HUQLoGgwnqsl",
    "outputId": "cebe6b68-1748-4c95-b69d-2528912fb3ef",
    "papermill": {
     "duration": 0.505809,
     "end_time": "2023-06-23T18:59:08.953940",
     "exception": false,
     "start_time": "2023-06-23T18:59:08.448131",
     "status": "completed"
    },
    "tags": []
   },
   "outputs": [],
   "source": [
    "csm = mw.CrossSection(\n",
    "    cell=mw.Cell(\n",
    "        structures=[],\n",
    "        mesh=mw.Mesh2d(\n",
    "            # x=np.delete(np.linspace(0, W, 20), 2),\n",
    "            x=np.linspace(0, W, 20),\n",
    "            y=np.linspace(0, H, 10),\n",
    "            num_pml=(0, 0),\n",
    "        ),\n",
    "        z_min=L / 2,\n",
    "        z_max=L / 2,\n",
    "    ),\n",
    "    env=mw.Environment(wl=wl),\n",
    "    ez_interfaces=False,\n",
    ")\n",
    "\n",
    "mw.visualize(csm, debug_grid=True)"
   ]
  },
  {
   "cell_type": "raw",
   "id": "f01a09b6-5014-4b93-8126-17ea103617e5",
   "metadata": {
    "papermill": {
     "duration": 62.174753,
     "end_time": "2023-06-23T19:00:11.131560",
     "exception": true,
     "start_time": "2023-06-23T18:59:08.956807",
     "status": "failed"
    },
    "tags": []
   },
   "source": [
    "import lumapi\n",
    "from lumapi import LumApiError\n",
    "\n",
    "unit = 1e-6\n",
    "try:\n",
    "    sim = sim  # type: ignore\n",
    "except NameError:\n",
    "    sim = lumapi.MODE(hide=False)\n",
    "while True:\n",
    "    try:\n",
    "        sim.switchtolayout()\n",
    "        break\n",
    "    except LumApiError:\n",
    "        time.sleep(1)\n",
    "mw.fde.lumerical.create_lumerical_geometries(sim, [], csm.env, unit)\n",
    "sim.switchtolayout()\n",
    "sim.select(\"EME\")\n",
    "sim.delete()\n",
    "\n",
    "mesh = csm.cell.mesh\n",
    "assert (\n",
    "    (mesh.num_pml[0] == 0)\n",
    "    or (mesh.num_pml[1] == 0)\n",
    "    or (mesh.num_pml[0] == mesh.num_pml[1])\n",
    ")\n",
    "\n",
    "num_x = mesh.x.shape[0]\n",
    "num_y = mesh.y.shape[0]\n",
    "num_x_lum = num_x - 2 * max(mesh.num_pml[0], 1) + 1\n",
    "num_y_lum = num_y - 2 * max(mesh.num_pml[1], 1) + 1\n",
    "dnum_x = num_x - num_x_lum\n",
    "dnum_y = num_y - num_y_lum\n",
    "# x_min, x_max = mesh.x.min() - 1.0, mesh.x.max() - 1.0\n",
    "x_min, x_max = mesh.x.min(), mesh.x.max()\n",
    "y_min, y_max = mesh.y.min(), mesh.y.max()\n",
    "dx = (x_max - x_min) / num_x\n",
    "dy = (y_max - y_min) / num_y\n",
    "x_min_lum = x_min + mesh.num_pml[0] * dx\n",
    "x_max_lum = x_max - mesh.num_pml[0] * dx\n",
    "y_min_lum = y_min + mesh.num_pml[0] * dy\n",
    "y_max_lum = y_max - mesh.num_pml[0] * dy\n",
    "\n",
    "sim.addeme(\n",
    "    wavelength=float(csm.env.wl * unit),\n",
    "    use_relative_coordinates=True,\n",
    "    use_legacy_conformal_interface_detection=True,\n",
    "    algorithm=\"finite-difference\",\n",
    "    allow_custom_eigensolver_settings=True,\n",
    "    allow_symmetry_on_all_boundaries=False,\n",
    "    energy_conservation=\"make passive\",\n",
    "    simulation_temperature=273.0,\n",
    "    solver_type=\"3D: X Prop\",\n",
    "    index=1.0,\n",
    "    fractional_offset_for_group_delay=1e-05,\n",
    "    number_of_cell_groups=1,\n",
    "    cells=np.array([1]),\n",
    "    modes=np.array([2]),\n",
    "    group_spans=np.array([1.0]) * unit,\n",
    "    subcell_method=np.array([0]),\n",
    "    min_mesh_step=1e-12,\n",
    "    meshing_refinement=True,\n",
    "    max_stored_modes=1000,\n",
    "    define_z_mesh_by=\"number of mesh cells\",\n",
    "    define_y_mesh_by=\"number of mesh cells\",\n",
    "    mesh_cells_y=num_x_lum,\n",
    "    mesh_cells_z=num_y_lum,\n",
    "    x_min=0.0 * unit,\n",
    "    y_min=float(x_min_lum * unit),\n",
    "    y_max=float(x_max_lum * unit),\n",
    "    z_min=float(y_min_lum * unit),\n",
    "    z_max=float(y_max_lum * unit),\n",
    "    pml_layers=max(mesh.num_pml),\n",
    "    display_cells=True,\n",
    "    y_min_bc=\"Metal\",\n",
    "    y_max_bc=\"Metal\",\n",
    "    z_min_bc=\"Metal\",\n",
    "    z_max_bc=\"Metal\",\n",
    "    mesh_refinement=\"conformal variant 0\",\n",
    "    correct_backward_propagating_modes=True,\n",
    ")\n",
    "sim.setactivesolver(\"EME\")\n",
    "os.makedirs(\"temp\", exist_ok=True)\n",
    "path = os.path.abspath(\"temp/eme.lms\")\n",
    "sim.save(path)\n",
    "\n",
    "sim.run()\n",
    "\n",
    "sim.setemeanalysis(\"update monitors\", True)\n",
    "sim.setemeanalysis(\"include fast diagnostics\", True)\n",
    "sim.setemeanalysis(\"include slow diagnostics\", True)\n",
    "sim.setemeanalysis(\"calculate group delays\", True)\n",
    "sim.emepropagate()\n",
    "\n",
    "S_lum = sim.getresult(\"EME\", \"internal s matrix\")\n",
    "result_lum = sim.getresult(\"EME::Cells::cell_1\", \"mode fields\")\n",
    "neff_lum = sim.getresult(\"EME::Cells::cell_1\", \"neff\")[\"neff\"].squeeze()\n",
    "\n",
    "modes_lum = []\n",
    "for i, neff in enumerate(neff_lum, start=1):\n",
    "    mode = mw.Mode(\n",
    "        neff=neff,\n",
    "        cs=csm,\n",
    "        Ex=result_lum[f\"E{i}\"].squeeze()[:-1, :-1, 1],\n",
    "        Ey=result_lum[f\"E{i}\"].squeeze()[:-1, :-1, 2],\n",
    "        Ez=result_lum[f\"E{i}\"].squeeze()[:-1, :-1, 0],\n",
    "        Hx=result_lum[f\"H{i}\"].squeeze()[:-1, :-1, 1],\n",
    "        Hy=result_lum[f\"H{i}\"].squeeze()[:-1, :-1, 2],\n",
    "        Hz=result_lum[f\"H{i}\"].squeeze()[:-1, :-1, 0],\n",
    "    )\n",
    "    modes_lum.append(mode)\n",
    "\n",
    "pickle.dump(S_lum, open(\"dielectric_interfaces_lumerical_S_lum.pkl\", \"wb\"))\n",
    "pickle.dump(result_lum, open(\"dielectric_interfaces_lumerical_result_lum.pkl\", \"wb\"))\n",
    "pickle.dump(neff_lum, open(\"dielectric_interfaces_lumerical_neff_lum.pkl\", \"wb\"))\n",
    "pickle.dump(modes_lum, open(\"dielectric_interfaces_lumerical_modes_lum.pkl\", \"wb\"))"
   ]
  },
  {
   "cell_type": "code",
   "execution_count": null,
   "id": "6786af23-a326-4ead-9aa2-aa260d43a6b2",
   "metadata": {
    "colab": {
     "base_uri": "https://localhost:8080/",
     "height": 668
    },
    "id": "d2a046da-32ab-4fc9-9b0b-763276f61618",
    "outputId": "bb705dfb-2630-4f4f-e153-4c293b1aa841",
    "papermill": {
     "duration": null,
     "end_time": null,
     "exception": null,
     "start_time": null,
     "status": "pending"
    },
    "tags": []
   },
   "outputs": [],
   "source": [
    "modes_td = mw.compute_modes(cs=csm, num_modes=2)\n",
    "modes_lum = pickle.load(open(\"dielectric_interfaces_lumerical_modes_lum.pkl\", \"rb\"))\n",
    "mw.visualize(modes_lum, fields=[\"Ex\", \"Ey\"], plot_width=3)\n",
    "mw.visualize(modes_td, fields=[\"Ex\", \"Ey\"], plot_width=3)"
   ]
  },
  {
   "cell_type": "raw",
   "id": "c946d831-42e6-4b4e-a266-514e885a1cb5",
   "metadata": {
    "colab": {
     "base_uri": "https://localhost:8080/",
     "height": 482
    },
    "id": "tXUtvzXfpACB",
    "outputId": "02259aa5-dca6-4e87-fa84-598fa1d5b794",
    "papermill": {
     "duration": null,
     "end_time": null,
     "exception": null,
     "start_time": null,
     "status": "pending"
    },
    "tags": []
   },
   "source": [
    "fig, ax = plt.subplots(2, 1, figsize=(7, 9), sharex=True)\n",
    "\n",
    "plt.sca(ax[0])\n",
    "plt.title(\"Lumerical\")\n",
    "mode = modes_lum[1]\n",
    "x = mode.cs.cell.mesh.x\n",
    "x_center = x[:-1] + np.diff(x)\n",
    "x_left = x[:-1]\n",
    "Ey = mode.Ey[:, 1]\n",
    "w = np.s_[:]\n",
    "plt.plot(x_left[w], Ey[w])\n",
    "plt.plot(x_center[w], Ey[w])\n",
    "plt.grid(True)\n",
    "np.sort(np.unique(csm.cell.mesh.Xz.ravel()))\n",
    "plt.xticks(x, rotation=90)\n",
    "\n",
    "plt.sca(ax[1])\n",
    "plt.title(\"Tidy3D\")\n",
    "mode = modes_td[1]\n",
    "x = mode.cs.cell.mesh.x\n",
    "x_center = x[:-1] + np.diff(x)\n",
    "x_left = x[:-1]\n",
    "Ey = mode.Ey[:, 1]\n",
    "w = np.s_[:]\n",
    "plt.plot(x_left[w], Ey[w])\n",
    "plt.plot(x_center[w], Ey[w])\n",
    "plt.grid(True)\n",
    "plt.xticks(x, rotation=90)\n",
    "plt.show()"
   ]
  }
 ],
 "metadata": {
  "colab": {
   "provenance": []
  },
  "kernelspec": {
   "display_name": "hom",
   "language": "python",
   "name": "hom"
  },
  "language_info": {
   "codemirror_mode": {
    "name": "ipython",
    "version": 3
   },
   "file_extension": ".py",
   "mimetype": "text/x-python",
   "name": "python",
   "nbconvert_exporter": "python",
   "pygments_lexer": "ipython3",
   "version": "3.10.11"
  },
  "papermill": {
   "default_parameters": {},
   "duration": 71.565159,
   "end_time": "2023-06-23T19:00:13.704342",
   "environment_variables": {},
   "exception": true,
   "input_path": "./tests/nbs/meshing_comparison.ipynb",
   "output_path": "./tests/nbs/meshing_comparison.ipynb",
   "parameters": {},
   "start_time": "2023-06-23T18:59:02.139183",
   "version": "2.4.0"
  }
 },
 "nbformat": 4,
 "nbformat_minor": 5
}
