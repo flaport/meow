{
 "cells": [
  {
   "cell_type": "code",
   "execution_count": null,
   "id": "9ada3eb8",
   "metadata": {
    "papermill": {
     "duration": 4.808091,
     "end_time": "2023-06-23T18:59:08.536217",
     "exception": false,
     "start_time": "2023-06-23T18:59:03.728126",
     "status": "completed"
    },
    "tags": []
   },
   "outputs": [],
   "source": [
    "import meow as mw\n",
    "import numpy as np\n",
    "import matplotlib.pyplot as plt\n",
    "\n",
    "plt.style.use(\"default\")"
   ]
  },
  {
   "cell_type": "markdown",
   "id": "fcd77d2e",
   "metadata": {
    "papermill": {
     "duration": 0.003794,
     "end_time": "2023-06-23T18:59:08.544096",
     "exception": false,
     "start_time": "2023-06-23T18:59:08.540302",
     "status": "completed"
    },
    "tags": []
   },
   "source": [
    "## Preparation\n",
    "let's perform a mode simulation"
   ]
  },
  {
   "cell_type": "code",
   "execution_count": null,
   "id": "d1f359c8",
   "metadata": {
    "papermill": {
     "duration": 0.01458,
     "end_time": "2023-06-23T18:59:08.562404",
     "exception": false,
     "start_time": "2023-06-23T18:59:08.547824",
     "status": "completed"
    },
    "tags": []
   },
   "outputs": [],
   "source": [
    "length = 10.0\n",
    "box = mw.Box(\n",
    "    x_min=-0.22,\n",
    "    x_max=0.22,\n",
    "    y_min=0,\n",
    "    y_max=0.22,\n",
    "    z_min=0.0,\n",
    "    z_max=length,\n",
    ")"
   ]
  },
  {
   "cell_type": "code",
   "execution_count": null,
   "id": "9aaa601e",
   "metadata": {
    "papermill": {
     "duration": 0.029055,
     "end_time": "2023-06-23T18:59:08.595437",
     "exception": false,
     "start_time": "2023-06-23T18:59:08.566382",
     "status": "completed"
    },
    "tags": []
   },
   "outputs": [],
   "source": [
    "struct = mw.Structure(material=mw.silicon, geometry=box)"
   ]
  },
  {
   "cell_type": "code",
   "execution_count": null,
   "id": "f28deaee",
   "metadata": {
    "papermill": {
     "duration": 0.015884,
     "end_time": "2023-06-23T18:59:08.615556",
     "exception": false,
     "start_time": "2023-06-23T18:59:08.599672",
     "status": "completed"
    },
    "tags": []
   },
   "outputs": [],
   "source": [
    "cell = mw.Cell(\n",
    "    structures=[struct],\n",
    "    mesh=mw.Mesh2d(\n",
    "        x=np.linspace(-1, 1, 101),\n",
    "        y=np.linspace(-1, 1, 101),\n",
    "    ),\n",
    "    z_min=0.0,\n",
    "    z_max=length,\n",
    ")"
   ]
  },
  {
   "cell_type": "code",
   "execution_count": null,
   "id": "7826e578",
   "metadata": {
    "papermill": {
     "duration": 0.014438,
     "end_time": "2023-06-23T18:59:08.635151",
     "exception": false,
     "start_time": "2023-06-23T18:59:08.620713",
     "status": "completed"
    },
    "tags": []
   },
   "outputs": [],
   "source": [
    "env = mw.Environment(wl=1.55, T=25.0)"
   ]
  },
  {
   "cell_type": "code",
   "execution_count": null,
   "id": "e463a446",
   "metadata": {
    "papermill": {
     "duration": 0.025561,
     "end_time": "2023-06-23T18:59:08.673793",
     "exception": false,
     "start_time": "2023-06-23T18:59:08.648232",
     "status": "completed"
    },
    "tags": []
   },
   "outputs": [],
   "source": [
    "cs = mw.CrossSection(\n",
    "    cell=cell,\n",
    "    env=env,\n",
    ")"
   ]
  },
  {
   "cell_type": "code",
   "execution_count": null,
   "id": "357ef770",
   "metadata": {
    "papermill": {
     "duration": 3.937848,
     "end_time": "2023-06-23T18:59:12.615625",
     "exception": false,
     "start_time": "2023-06-23T18:59:08.677777",
     "status": "completed"
    },
    "tags": []
   },
   "outputs": [],
   "source": [
    "mode = mw.compute_modes(cs, 1)[0]"
   ]
  },
  {
   "cell_type": "markdown",
   "id": "785cac84",
   "metadata": {
    "papermill": {
     "duration": 0.004199,
     "end_time": "2023-06-23T18:59:12.623830",
     "exception": false,
     "start_time": "2023-06-23T18:59:12.619631",
     "status": "completed"
    },
    "tags": []
   },
   "source": [
    "## get the Poynting Vector\n",
    "$$ \\vec{P} = \\vec{E} \\times \\vec{H} $$\n",
    "calculating the poynting vector is performed under the hood, when one of `Px`,`Py` or `Pz` is requested\n"
   ]
  },
  {
   "cell_type": "code",
   "execution_count": null,
   "id": "f145bbe4",
   "metadata": {
    "papermill": {
     "duration": 0.045204,
     "end_time": "2023-06-23T18:59:12.673344",
     "exception": false,
     "start_time": "2023-06-23T18:59:12.628140",
     "status": "completed"
    },
    "tags": []
   },
   "outputs": [],
   "source": [
    "mode.Px.shape"
   ]
  },
  {
   "cell_type": "markdown",
   "id": "2bbead58",
   "metadata": {
    "papermill": {
     "duration": 0.020753,
     "end_time": "2023-06-23T18:59:12.698298",
     "exception": false,
     "start_time": "2023-06-23T18:59:12.677545",
     "status": "completed"
    },
    "tags": []
   },
   "source": [
    "It can be used with the native visualization functions"
   ]
  },
  {
   "cell_type": "code",
   "execution_count": null,
   "id": "3b666011",
   "metadata": {
    "papermill": {
     "duration": 5.220554,
     "end_time": "2023-06-23T18:59:17.923445",
     "exception": true,
     "start_time": "2023-06-23T18:59:12.702891",
     "status": "failed"
    },
    "tags": []
   },
   "outputs": [],
   "source": [
    "mw.visualize(mode, fields=[\"Ex\"])\n",
    "mw.visualize(mode, fields=[\"Pz\"])"
   ]
  },
  {
   "cell_type": "markdown",
   "id": "f5f23567",
   "metadata": {
    "papermill": {
     "duration": null,
     "end_time": null,
     "exception": null,
     "start_time": null,
     "status": "pending"
    },
    "tags": []
   },
   "source": [
    "## Mode area calculation\n",
    "\n",
    "$$ A_{eff} = \\frac{\\left(\\int|\\vec{E}|^2dA\\right)^2}{\\int|\\vec{E}|^4dA} $$"
   ]
  },
  {
   "cell_type": "code",
   "execution_count": null,
   "id": "c59e7455",
   "metadata": {
    "papermill": {
     "duration": null,
     "end_time": null,
     "exception": null,
     "start_time": null,
     "status": "pending"
    },
    "tags": []
   },
   "outputs": [],
   "source": [
    "mode.A"
   ]
  },
  {
   "cell_type": "markdown",
   "id": "384c3d50",
   "metadata": {
    "papermill": {
     "duration": null,
     "end_time": null,
     "exception": null,
     "start_time": null,
     "status": "pending"
    },
    "tags": []
   },
   "source": [
    "## Compare to integrate interpolate"
   ]
  },
  {
   "cell_type": "markdown",
   "id": "44fa8ae0",
   "metadata": {
    "papermill": {
     "duration": null,
     "end_time": null,
     "exception": null,
     "start_time": null,
     "status": "pending"
    },
    "tags": []
   },
   "source": [
    "We can also itegrate over the modal fields and derived quantities by first finding a suitable interpolation function. This is computationally much more expensive and not necessarily more accurate. It however provides tha benefit, that the integration can be performed over a region of interest, not limited to integer mesh positions. \n",
    "\n",
    "For the calculation of the effective mode area this is however not beneficial. Just as a demonstration:"
   ]
  },
  {
   "cell_type": "code",
   "execution_count": null,
   "id": "a1bc75f9",
   "metadata": {
    "papermill": {
     "duration": null,
     "end_time": null,
     "exception": null,
     "start_time": null,
     "status": "pending"
    },
    "tags": []
   },
   "outputs": [],
   "source": [
    "from scipy.linalg import norm\n",
    "from meow.integrate import integrate_interpolate_2d as integrate_2d\n",
    "import numpy as np"
   ]
  },
  {
   "cell_type": "code",
   "execution_count": null,
   "id": "f78da48f",
   "metadata": {
    "papermill": {
     "duration": null,
     "end_time": null,
     "exception": null,
     "start_time": null,
     "status": "pending"
    },
    "tags": []
   },
   "outputs": [],
   "source": [
    "vecE = np.stack([mode.Ex, mode.Ey, mode.Ez], axis=-1)\n",
    "E_sq = norm(vecE, axis=-1, ord=2)\n",
    "E_qu = E_sq**2\n",
    "x = mode.cs.cell.mesh.x_\n",
    "y = mode.cs.cell.mesh.y_\n",
    "integrate_2d(x, y, E_sq) ** 2 / integrate_2d(x, y, E_qu)"
   ]
  }
 ],
 "metadata": {
  "kernelspec": {
   "display_name": "hom",
   "language": "python",
   "name": "hom"
  },
  "language_info": {
   "codemirror_mode": {
    "name": "ipython",
    "version": 3
   },
   "file_extension": ".py",
   "mimetype": "text/x-python",
   "name": "python",
   "nbconvert_exporter": "python",
   "pygments_lexer": "ipython3",
   "version": "3.10.11"
  },
  "papermill": {
   "default_parameters": {},
   "duration": 19.518193,
   "end_time": "2023-06-23T18:59:21.644190",
   "environment_variables": {},
   "exception": true,
   "input_path": "./tests/nbs/poynting_and_area.ipynb",
   "output_path": "./tests/nbs/poynting_and_area.ipynb",
   "parameters": {},
   "start_time": "2023-06-23T18:59:02.125997",
   "version": "2.4.0"
  },
  "vscode": {
   "interpreter": {
    "hash": "8cb1a8d1c3ece4eb1e4592eaec04207f7b73f2abcb1f254721941c0090e83ef8"
   }
  }
 },
 "nbformat": 4,
 "nbformat_minor": 5
}
