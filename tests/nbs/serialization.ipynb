{
 "cells": [
  {
   "cell_type": "markdown",
   "id": "dd643a5d-d081-48d7-a8ed-2c4b80faa122",
   "metadata": {
    "papermill": {
     "duration": 0.019334,
     "end_time": "2023-06-23T18:59:03.725616",
     "exception": false,
     "start_time": "2023-06-23T18:59:03.706282",
     "status": "completed"
    },
    "tags": []
   },
   "source": [
    "# Serialization\n",
    "\n",
    "> Everything in the `meow` package is easily serializable.\n",
    "\n",
    "Everything in the `meow` package is easily serializable. Why is that useful? Well this allows you to very quite easily make a REST API out of `meow`. And why is that useful? Having an FDE-solver behind a REST-api allows you to simultaneously solve for the modes in all the EME cells at once! Anyway, this notebook serves to show how the most common data structures are _serialized_, we might go into the details of making an api at a later stage."
   ]
  },
  {
   "cell_type": "code",
   "execution_count": null,
   "id": "4859f69dd76d8b17",
   "metadata": {
    "papermill": {
     "duration": 4.542351,
     "end_time": "2023-06-23T18:59:08.337022",
     "exception": false,
     "start_time": "2023-06-23T18:59:03.794671",
     "status": "completed"
    },
    "tags": [
     "remove-cell"
    ]
   },
   "outputs": [],
   "source": [
    "import json\n",
    "from typing import List\n",
    "\n",
    "import meow as mw\n",
    "import numpy as np\n",
    "from pydantic.schema import model_process_schema\n",
    "from pydantic import parse_obj_as"
   ]
  },
  {
   "cell_type": "code",
   "execution_count": null,
   "id": "57e7346b",
   "metadata": {
    "papermill": {
     "duration": 0.061427,
     "end_time": "2023-06-23T18:59:08.437458",
     "exception": false,
     "start_time": "2023-06-23T18:59:08.376031",
     "status": "completed"
    },
    "tags": []
   },
   "outputs": [],
   "source": [
    "def _try_is_base_model(cls):\n",
    "    try:\n",
    "        return issubclass(cls, mw.BaseModel)\n",
    "    except Exception:\n",
    "        return False\n",
    "\n",
    "\n",
    "model_name_map = {v: k for k, v in vars(mw).items() if _try_is_base_model(v)}\n",
    "model_name_map"
   ]
  },
  {
   "cell_type": "markdown",
   "id": "e563a59a-6494-431b-b124-6c1804a6c7cb",
   "metadata": {
    "papermill": {
     "duration": 0.016543,
     "end_time": "2023-06-23T18:59:08.469445",
     "exception": false,
     "start_time": "2023-06-23T18:59:08.452902",
     "status": "completed"
    },
    "tags": []
   },
   "source": [
    "## Geometry"
   ]
  },
  {
   "cell_type": "code",
   "execution_count": null,
   "id": "0633d803",
   "metadata": {
    "papermill": {
     "duration": 0.036392,
     "end_time": "2023-06-23T18:59:08.522406",
     "exception": false,
     "start_time": "2023-06-23T18:59:08.486014",
     "status": "completed"
    },
    "tags": []
   },
   "outputs": [],
   "source": [
    "schema, definitions, nested_models = model_process_schema(\n",
    "    mw.Geometry,\n",
    "    model_name_map=model_name_map,\n",
    ")\n",
    "display(schema)\n",
    "schema, definitions, nested_models = model_process_schema(\n",
    "    mw.Box,\n",
    "    model_name_map=model_name_map,\n",
    ")\n",
    "display(schema)\n",
    "schema, definitions, nested_models = model_process_schema(\n",
    "    mw.Prism,\n",
    "    model_name_map=model_name_map,\n",
    ")\n",
    "display(schema)"
   ]
  },
  {
   "cell_type": "code",
   "execution_count": null,
   "id": "e2b9b50f-9ec1-440d-a2ae-207cd3a90251",
   "metadata": {
    "papermill": {
     "duration": 0.029323,
     "end_time": "2023-06-23T18:59:08.569885",
     "exception": false,
     "start_time": "2023-06-23T18:59:08.540562",
     "status": "completed"
    },
    "tags": []
   },
   "outputs": [],
   "source": [
    "length = 10.0\n",
    "box = mw.Box(\n",
    "    x_min=-1.0,\n",
    "    x_max=1.0,\n",
    "    y_min=-1.0,\n",
    "    y_max=0.0,\n",
    "    z_min=0.0,\n",
    "    z_max=length,\n",
    ")"
   ]
  },
  {
   "cell_type": "markdown",
   "id": "b65a79f2-0d39-419e-a8b8-78db2fd6d103",
   "metadata": {
    "papermill": {
     "duration": 0.018979,
     "end_time": "2023-06-23T18:59:08.608192",
     "exception": false,
     "start_time": "2023-06-23T18:59:08.589213",
     "status": "completed"
    },
    "tags": []
   },
   "source": [
    "self-deserialization:"
   ]
  },
  {
   "cell_type": "code",
   "execution_count": null,
   "id": "9111a184-5700-4a26-a7b0-da51e079d437",
   "metadata": {
    "papermill": {
     "duration": 0.031067,
     "end_time": "2023-06-23T18:59:08.658793",
     "exception": false,
     "start_time": "2023-06-23T18:59:08.627726",
     "status": "completed"
    },
    "tags": []
   },
   "outputs": [],
   "source": [
    "mw.Geometry.parse_obj(box)"
   ]
  },
  {
   "cell_type": "markdown",
   "id": "97c97603-fda3-4bd9-bb47-9695ec739b21",
   "metadata": {
    "papermill": {
     "duration": 0.019287,
     "end_time": "2023-06-23T18:59:08.697921",
     "exception": false,
     "start_time": "2023-06-23T18:59:08.678634",
     "status": "completed"
    },
    "tags": []
   },
   "source": [
    "### dictionary"
   ]
  },
  {
   "cell_type": "markdown",
   "id": "8a57a18e-3b7f-45af-b72a-5cf826b13cea",
   "metadata": {
    "papermill": {
     "duration": 0.056042,
     "end_time": "2023-06-23T18:59:08.785933",
     "exception": false,
     "start_time": "2023-06-23T18:59:08.729891",
     "status": "completed"
    },
    "tags": []
   },
   "source": [
    "serialize"
   ]
  },
  {
   "cell_type": "code",
   "execution_count": null,
   "id": "4c50b221-05a9-4ae1-b2e4-18c52a953028",
   "metadata": {
    "papermill": {
     "duration": 0.054799,
     "end_time": "2023-06-23T18:59:08.896211",
     "exception": false,
     "start_time": "2023-06-23T18:59:08.841412",
     "status": "completed"
    },
    "tags": []
   },
   "outputs": [],
   "source": [
    "dic = box.dict()\n",
    "dic"
   ]
  },
  {
   "cell_type": "markdown",
   "id": "9d27cc57-e33f-4e55-b7ba-a3b16cfb7c79",
   "metadata": {
    "papermill": {
     "duration": 0.060455,
     "end_time": "2023-06-23T18:59:08.999405",
     "exception": false,
     "start_time": "2023-06-23T18:59:08.938950",
     "status": "completed"
    },
    "tags": []
   },
   "source": [
    "deserialize"
   ]
  },
  {
   "cell_type": "code",
   "execution_count": null,
   "id": "ac787ce8-9f59-4317-ad89-14ff63fc65b7",
   "metadata": {
    "papermill": {
     "duration": 0.036815,
     "end_time": "2023-06-23T18:59:09.053316",
     "exception": false,
     "start_time": "2023-06-23T18:59:09.016501",
     "status": "completed"
    },
    "tags": []
   },
   "outputs": [],
   "source": [
    "mw.Geometry.parse_obj(dic)"
   ]
  },
  {
   "cell_type": "markdown",
   "id": "7f58e463-5023-484a-a5c3-47f78325b6c6",
   "metadata": {
    "papermill": {
     "duration": 0.019343,
     "end_time": "2023-06-23T18:59:09.091393",
     "exception": false,
     "start_time": "2023-06-23T18:59:09.072050",
     "status": "completed"
    },
    "tags": []
   },
   "source": [
    "### json"
   ]
  },
  {
   "cell_type": "markdown",
   "id": "8081ee06-e20c-4e59-8b02-a2ed117fda1e",
   "metadata": {
    "papermill": {
     "duration": 0.022613,
     "end_time": "2023-06-23T18:59:09.136955",
     "exception": false,
     "start_time": "2023-06-23T18:59:09.114342",
     "status": "completed"
    },
    "tags": []
   },
   "source": [
    "serialize"
   ]
  },
  {
   "cell_type": "code",
   "execution_count": null,
   "id": "4d6580fc-209b-436e-8a84-7fdce80d4e1f",
   "metadata": {
    "papermill": {
     "duration": 0.035196,
     "end_time": "2023-06-23T18:59:09.193498",
     "exception": false,
     "start_time": "2023-06-23T18:59:09.158302",
     "status": "completed"
    },
    "tags": []
   },
   "outputs": [],
   "source": [
    "s = box.json()\n",
    "s"
   ]
  },
  {
   "cell_type": "markdown",
   "id": "cfe0bdf2-fb99-4158-9945-5195d1ff13e0",
   "metadata": {
    "papermill": {
     "duration": 0.03304,
     "end_time": "2023-06-23T18:59:09.257349",
     "exception": false,
     "start_time": "2023-06-23T18:59:09.224309",
     "status": "completed"
    },
    "tags": []
   },
   "source": [
    "deserialize"
   ]
  },
  {
   "cell_type": "code",
   "execution_count": null,
   "id": "ce41e0ec-f8e7-421f-8af0-ba20fc6503f1",
   "metadata": {
    "papermill": {
     "duration": 0.055027,
     "end_time": "2023-06-23T18:59:09.393797",
     "exception": false,
     "start_time": "2023-06-23T18:59:09.338770",
     "status": "completed"
    },
    "tags": []
   },
   "outputs": [],
   "source": [
    "mw.Geometry.parse_raw(s)"
   ]
  },
  {
   "cell_type": "markdown",
   "id": "8702bd10-ed03-408a-a931-447d59a777f1",
   "metadata": {
    "papermill": {
     "duration": 0.10845,
     "end_time": "2023-06-23T18:59:09.558180",
     "exception": false,
     "start_time": "2023-06-23T18:59:09.449730",
     "status": "completed"
    },
    "tags": []
   },
   "source": [
    "## Material"
   ]
  },
  {
   "cell_type": "code",
   "execution_count": null,
   "id": "9528924f",
   "metadata": {
    "papermill": {
     "duration": 0.10348,
     "end_time": "2023-06-23T18:59:09.754367",
     "exception": false,
     "start_time": "2023-06-23T18:59:09.650887",
     "status": "completed"
    },
    "tags": []
   },
   "outputs": [],
   "source": [
    "schema, definitions, nested_models = model_process_schema(\n",
    "    mw.Material,\n",
    "    model_name_map=model_name_map,\n",
    ")\n",
    "display(schema)"
   ]
  },
  {
   "cell_type": "markdown",
   "id": "e586860f-cb6e-444b-8bca-71f6255e1d9c",
   "metadata": {
    "papermill": {
     "duration": 0.066008,
     "end_time": "2023-06-23T18:59:09.870783",
     "exception": false,
     "start_time": "2023-06-23T18:59:09.804775",
     "status": "completed"
    },
    "tags": []
   },
   "source": [
    "self-deserialization:"
   ]
  },
  {
   "cell_type": "code",
   "execution_count": null,
   "id": "80ca82da-88ff-4f4f-8278-81100438f65d",
   "metadata": {
    "papermill": {
     "duration": 0.075106,
     "end_time": "2023-06-23T18:59:10.004259",
     "exception": false,
     "start_time": "2023-06-23T18:59:09.929153",
     "status": "completed"
    },
    "tags": []
   },
   "outputs": [],
   "source": [
    "mw.Material.parse_obj(mw.silicon)"
   ]
  },
  {
   "cell_type": "markdown",
   "id": "b3a7244e-21c0-480d-9d10-581a5c5623e0",
   "metadata": {
    "papermill": {
     "duration": 0.046802,
     "end_time": "2023-06-23T18:59:10.128623",
     "exception": false,
     "start_time": "2023-06-23T18:59:10.081821",
     "status": "completed"
    },
    "tags": []
   },
   "source": [
    "### dictionary"
   ]
  },
  {
   "cell_type": "markdown",
   "id": "f2ef4e23-2165-486b-b51a-cebf29fcce1a",
   "metadata": {
    "papermill": {
     "duration": 0.062805,
     "end_time": "2023-06-23T18:59:10.238144",
     "exception": false,
     "start_time": "2023-06-23T18:59:10.175339",
     "status": "completed"
    },
    "tags": []
   },
   "source": [
    "serialize"
   ]
  },
  {
   "cell_type": "code",
   "execution_count": null,
   "id": "0ec8b96f-4920-4e55-af9a-8528b5b95f66",
   "metadata": {
    "papermill": {
     "duration": 0.07452,
     "end_time": "2023-06-23T18:59:10.374168",
     "exception": false,
     "start_time": "2023-06-23T18:59:10.299648",
     "status": "completed"
    },
    "tags": []
   },
   "outputs": [],
   "source": [
    "dic = mw.silicon.dict()\n",
    "dic"
   ]
  },
  {
   "cell_type": "markdown",
   "id": "89fdf839-77b1-489b-a445-67c6b848997b",
   "metadata": {
    "papermill": {
     "duration": 0.057939,
     "end_time": "2023-06-23T18:59:10.534645",
     "exception": false,
     "start_time": "2023-06-23T18:59:10.476706",
     "status": "completed"
    },
    "tags": []
   },
   "source": [
    "deserialize"
   ]
  },
  {
   "cell_type": "code",
   "execution_count": null,
   "id": "2d57cc42-8b84-44fe-9f21-75d997bccf45",
   "metadata": {
    "papermill": {
     "duration": 0.050629,
     "end_time": "2023-06-23T18:59:10.611259",
     "exception": false,
     "start_time": "2023-06-23T18:59:10.560630",
     "status": "completed"
    },
    "tags": []
   },
   "outputs": [],
   "source": [
    "mw.Material.parse_obj(dic)"
   ]
  },
  {
   "cell_type": "markdown",
   "id": "b5a01c4c-0baa-40ff-84ab-ad4d43c7a2b9",
   "metadata": {
    "papermill": {
     "duration": 0.052103,
     "end_time": "2023-06-23T18:59:10.728129",
     "exception": false,
     "start_time": "2023-06-23T18:59:10.676026",
     "status": "completed"
    },
    "tags": []
   },
   "source": [
    "### json"
   ]
  },
  {
   "cell_type": "markdown",
   "id": "ab48f31f-c18d-44c8-8417-72bbe469f7d0",
   "metadata": {
    "papermill": {
     "duration": 0.053909,
     "end_time": "2023-06-23T18:59:10.840971",
     "exception": false,
     "start_time": "2023-06-23T18:59:10.787062",
     "status": "completed"
    },
    "tags": []
   },
   "source": [
    "serialize"
   ]
  },
  {
   "cell_type": "code",
   "execution_count": null,
   "id": "c5d83d0c-4dea-4b7f-ba92-a56a6388394b",
   "metadata": {
    "papermill": {
     "duration": 0.086869,
     "end_time": "2023-06-23T18:59:10.970322",
     "exception": false,
     "start_time": "2023-06-23T18:59:10.883453",
     "status": "completed"
    },
    "tags": []
   },
   "outputs": [],
   "source": [
    "s = mw.silicon.json()\n",
    "f\"{s[:100]}...\""
   ]
  },
  {
   "cell_type": "markdown",
   "id": "19c837e5-b187-41a0-b70b-6bf775475054",
   "metadata": {
    "papermill": {
     "duration": 0.06882,
     "end_time": "2023-06-23T18:59:11.129514",
     "exception": false,
     "start_time": "2023-06-23T18:59:11.060694",
     "status": "completed"
    },
    "tags": []
   },
   "source": [
    "deserialize"
   ]
  },
  {
   "cell_type": "code",
   "execution_count": null,
   "id": "f71a3ff6-83ee-4c03-8eaa-0e174aebe020",
   "metadata": {
    "papermill": {
     "duration": 0.083273,
     "end_time": "2023-06-23T18:59:11.286807",
     "exception": false,
     "start_time": "2023-06-23T18:59:11.203534",
     "status": "completed"
    },
    "tags": []
   },
   "outputs": [],
   "source": [
    "mat_raw = mw.Material.parse_raw(s)\n",
    "mat_raw"
   ]
  },
  {
   "cell_type": "markdown",
   "id": "2f141592-ddc4-42a9-96a9-80945373e106",
   "metadata": {
    "papermill": {
     "duration": 0.10508,
     "end_time": "2023-06-23T18:59:11.458443",
     "exception": false,
     "start_time": "2023-06-23T18:59:11.353363",
     "status": "completed"
    },
    "tags": []
   },
   "source": [
    "## Structure"
   ]
  },
  {
   "cell_type": "code",
   "execution_count": null,
   "id": "18747c11",
   "metadata": {
    "papermill": {
     "duration": 0.057026,
     "end_time": "2023-06-23T18:59:11.554408",
     "exception": false,
     "start_time": "2023-06-23T18:59:11.497382",
     "status": "completed"
    },
    "tags": []
   },
   "outputs": [],
   "source": [
    "schema, definitions, nested_models = model_process_schema(\n",
    "    mw.Structure,\n",
    "    model_name_map=model_name_map,\n",
    ")\n",
    "display(schema)"
   ]
  },
  {
   "cell_type": "code",
   "execution_count": null,
   "id": "c8e8f32b-a087-46c1-b15d-296aff7a17c7",
   "metadata": {
    "papermill": {
     "duration": 0.097433,
     "end_time": "2023-06-23T18:59:11.742589",
     "exception": false,
     "start_time": "2023-06-23T18:59:11.645156",
     "status": "completed"
    },
    "tags": []
   },
   "outputs": [],
   "source": [
    "struct = mw.Structure(material=mw.silicon, geometry=box)"
   ]
  },
  {
   "cell_type": "markdown",
   "id": "d85251f3-1cdd-4328-8fe2-a35b2f58bb9a",
   "metadata": {
    "papermill": {
     "duration": 0.051319,
     "end_time": "2023-06-23T18:59:11.867312",
     "exception": false,
     "start_time": "2023-06-23T18:59:11.815993",
     "status": "completed"
    },
    "tags": []
   },
   "source": [
    "self-deserialization:"
   ]
  },
  {
   "cell_type": "code",
   "execution_count": null,
   "id": "bbf8f8b4-bf54-4ce2-883b-3a3ca2aad23c",
   "metadata": {
    "papermill": {
     "duration": 0.10801,
     "end_time": "2023-06-23T18:59:12.040836",
     "exception": false,
     "start_time": "2023-06-23T18:59:11.932826",
     "status": "completed"
    },
    "tags": []
   },
   "outputs": [],
   "source": [
    "mw.Structure.parse_obj(struct)"
   ]
  },
  {
   "cell_type": "markdown",
   "id": "6595d99f-121a-4fd5-8d06-7e55ab71b395",
   "metadata": {
    "papermill": {
     "duration": 0.059608,
     "end_time": "2023-06-23T18:59:12.211308",
     "exception": false,
     "start_time": "2023-06-23T18:59:12.151700",
     "status": "completed"
    },
    "tags": []
   },
   "source": [
    "### dictionary"
   ]
  },
  {
   "cell_type": "markdown",
   "id": "9afa936b-a4ac-4854-854c-0bdefff2cd7f",
   "metadata": {
    "papermill": {
     "duration": 0.043247,
     "end_time": "2023-06-23T18:59:12.340761",
     "exception": false,
     "start_time": "2023-06-23T18:59:12.297514",
     "status": "completed"
    },
    "tags": []
   },
   "source": [
    "serialize"
   ]
  },
  {
   "cell_type": "code",
   "execution_count": null,
   "id": "043521d2-2317-4d79-8f85-372013a0f902",
   "metadata": {
    "papermill": {
     "duration": 0.126537,
     "end_time": "2023-06-23T18:59:12.559278",
     "exception": false,
     "start_time": "2023-06-23T18:59:12.432741",
     "status": "completed"
    },
    "tags": []
   },
   "outputs": [],
   "source": [
    "dic = struct.dict()\n",
    "dic"
   ]
  },
  {
   "cell_type": "markdown",
   "id": "403af19d-c5de-4d17-9f3b-d0aed5b59d87",
   "metadata": {
    "papermill": {
     "duration": 0.035266,
     "end_time": "2023-06-23T18:59:12.644044",
     "exception": false,
     "start_time": "2023-06-23T18:59:12.608778",
     "status": "completed"
    },
    "tags": []
   },
   "source": [
    "deserialize"
   ]
  },
  {
   "cell_type": "code",
   "execution_count": null,
   "id": "d1bd9fa5-d5f5-4011-a6ad-256bd3af98cf",
   "metadata": {
    "papermill": {
     "duration": 0.096146,
     "end_time": "2023-06-23T18:59:12.831077",
     "exception": false,
     "start_time": "2023-06-23T18:59:12.734931",
     "status": "completed"
    },
    "tags": []
   },
   "outputs": [],
   "source": [
    "struct = mw.Structure.parse_obj(dic)\n",
    "struct"
   ]
  },
  {
   "cell_type": "markdown",
   "id": "5fa2054c-26b4-46e2-8ff6-f1b693e54e0a",
   "metadata": {
    "papermill": {
     "duration": 0.037316,
     "end_time": "2023-06-23T18:59:12.919983",
     "exception": false,
     "start_time": "2023-06-23T18:59:12.882667",
     "status": "completed"
    },
    "tags": []
   },
   "source": [
    "### json"
   ]
  },
  {
   "cell_type": "markdown",
   "id": "7680a15e-5373-4a57-a45c-5dbec551885c",
   "metadata": {
    "papermill": {
     "duration": 0.022287,
     "end_time": "2023-06-23T18:59:12.977087",
     "exception": false,
     "start_time": "2023-06-23T18:59:12.954800",
     "status": "completed"
    },
    "tags": []
   },
   "source": [
    "serialize"
   ]
  },
  {
   "cell_type": "code",
   "execution_count": null,
   "id": "d408f86f-ad77-4a56-b131-1db8f825161b",
   "metadata": {
    "papermill": {
     "duration": 0.057834,
     "end_time": "2023-06-23T18:59:13.061956",
     "exception": false,
     "start_time": "2023-06-23T18:59:13.004122",
     "status": "completed"
    },
    "tags": []
   },
   "outputs": [],
   "source": [
    "s = struct.json()\n",
    "f\"{s[:100]}...\""
   ]
  },
  {
   "cell_type": "markdown",
   "id": "b63531e4-13d6-4754-aaaf-ea32304a61d5",
   "metadata": {
    "papermill": {
     "duration": 0.062479,
     "end_time": "2023-06-23T18:59:13.173452",
     "exception": false,
     "start_time": "2023-06-23T18:59:13.110973",
     "status": "completed"
    },
    "tags": []
   },
   "source": [
    "deserialize"
   ]
  },
  {
   "cell_type": "code",
   "execution_count": null,
   "id": "40bdd675-530e-4f74-9f48-cad67667d81b",
   "metadata": {
    "papermill": {
     "duration": 0.078401,
     "end_time": "2023-06-23T18:59:13.303271",
     "exception": false,
     "start_time": "2023-06-23T18:59:13.224870",
     "status": "completed"
    },
    "tags": []
   },
   "outputs": [],
   "source": [
    "mw.Structure.parse_raw(s)"
   ]
  },
  {
   "cell_type": "markdown",
   "id": "cfc57307-7bdd-4f8d-af9a-fcd7fb286dd9",
   "metadata": {
    "papermill": {
     "duration": 0.071806,
     "end_time": "2023-06-23T18:59:13.442861",
     "exception": false,
     "start_time": "2023-06-23T18:59:13.371055",
     "status": "completed"
    },
    "tags": []
   },
   "source": [
    "## Cell"
   ]
  },
  {
   "cell_type": "code",
   "execution_count": null,
   "id": "4b8cd859",
   "metadata": {
    "papermill": {
     "duration": 0.110454,
     "end_time": "2023-06-23T18:59:13.621725",
     "exception": false,
     "start_time": "2023-06-23T18:59:13.511271",
     "status": "completed"
    },
    "tags": []
   },
   "outputs": [],
   "source": [
    "schema, definitions, nested_models = model_process_schema(\n",
    "    mw.Cell,\n",
    "    model_name_map=model_name_map,\n",
    ")\n",
    "display(schema)"
   ]
  },
  {
   "cell_type": "code",
   "execution_count": null,
   "id": "50df56f0-ce78-41f5-a854-8d1cfa486392",
   "metadata": {
    "papermill": {
     "duration": 0.13367,
     "end_time": "2023-06-23T18:59:13.868835",
     "exception": false,
     "start_time": "2023-06-23T18:59:13.735165",
     "status": "completed"
    },
    "tags": []
   },
   "outputs": [],
   "source": [
    "cell = mw.Cell(\n",
    "    structures=[struct],\n",
    "    mesh=mw.Mesh2d(\n",
    "        x=np.linspace(-1, 1, 101),\n",
    "        y=np.linspace(-1, 1, 101),\n",
    "    ),\n",
    "    z_min=0.0,\n",
    "    z_max=length,\n",
    ")"
   ]
  },
  {
   "cell_type": "markdown",
   "id": "16b0c4aa-0e9f-4765-b16f-9731daef1f17",
   "metadata": {
    "papermill": {
     "duration": 0.122544,
     "end_time": "2023-06-23T18:59:14.106572",
     "exception": false,
     "start_time": "2023-06-23T18:59:13.984028",
     "status": "completed"
    },
    "tags": []
   },
   "source": [
    "self-deserialization:"
   ]
  },
  {
   "cell_type": "code",
   "execution_count": null,
   "id": "b49d9059-9686-4d37-9faf-c92a9963e5e0",
   "metadata": {
    "papermill": {
     "duration": 0.175871,
     "end_time": "2023-06-23T18:59:14.411955",
     "exception": false,
     "start_time": "2023-06-23T18:59:14.236084",
     "status": "completed"
    },
    "tags": []
   },
   "outputs": [],
   "source": [
    "mw.Cell.parse_obj(cell)"
   ]
  },
  {
   "cell_type": "markdown",
   "id": "7f3102e1-c07f-47b6-82b3-579efbedd490",
   "metadata": {
    "papermill": {
     "duration": 0.113217,
     "end_time": "2023-06-23T18:59:14.649626",
     "exception": false,
     "start_time": "2023-06-23T18:59:14.536409",
     "status": "completed"
    },
    "tags": []
   },
   "source": [
    "### dictionary"
   ]
  },
  {
   "cell_type": "markdown",
   "id": "eea1cdd7-09c3-4538-bd75-aa319cf7d058",
   "metadata": {
    "papermill": {
     "duration": 0.106631,
     "end_time": "2023-06-23T18:59:14.897100",
     "exception": false,
     "start_time": "2023-06-23T18:59:14.790469",
     "status": "completed"
    },
    "tags": []
   },
   "source": [
    "serialize"
   ]
  },
  {
   "cell_type": "code",
   "execution_count": null,
   "id": "7cb304de-ee82-4525-b1c9-9f58c1c66b63",
   "metadata": {
    "papermill": {
     "duration": 0.130606,
     "end_time": "2023-06-23T18:59:15.110901",
     "exception": false,
     "start_time": "2023-06-23T18:59:14.980295",
     "status": "completed"
    },
    "tags": []
   },
   "outputs": [],
   "source": [
    "dic = cell.dict()\n",
    "dic"
   ]
  },
  {
   "cell_type": "markdown",
   "id": "f3ff1076-8e83-433d-8988-e3bed1152d03",
   "metadata": {
    "papermill": {
     "duration": 0.084047,
     "end_time": "2023-06-23T18:59:15.302267",
     "exception": false,
     "start_time": "2023-06-23T18:59:15.218220",
     "status": "completed"
    },
    "tags": []
   },
   "source": [
    "deserialize"
   ]
  },
  {
   "cell_type": "code",
   "execution_count": null,
   "id": "773dec9b-b869-4041-95f0-88897b344258",
   "metadata": {
    "papermill": {
     "duration": 0.14116,
     "end_time": "2023-06-23T18:59:15.568435",
     "exception": false,
     "start_time": "2023-06-23T18:59:15.427275",
     "status": "completed"
    },
    "tags": []
   },
   "outputs": [],
   "source": [
    "cell = mw.Cell.parse_obj(dic)\n",
    "cell"
   ]
  },
  {
   "cell_type": "markdown",
   "id": "22bf02c7-8770-4116-8255-5a1090b42c64",
   "metadata": {
    "papermill": {
     "duration": 0.107693,
     "end_time": "2023-06-23T18:59:15.787308",
     "exception": false,
     "start_time": "2023-06-23T18:59:15.679615",
     "status": "completed"
    },
    "tags": []
   },
   "source": [
    "### json"
   ]
  },
  {
   "cell_type": "markdown",
   "id": "3aca87b0-4d97-4ff9-a478-1eb007b0bf37",
   "metadata": {
    "papermill": {
     "duration": 0.114577,
     "end_time": "2023-06-23T18:59:16.010210",
     "exception": false,
     "start_time": "2023-06-23T18:59:15.895633",
     "status": "completed"
    },
    "tags": []
   },
   "source": [
    "serialize"
   ]
  },
  {
   "cell_type": "code",
   "execution_count": null,
   "id": "2ea1b0fa-1721-4c02-ac11-5dc92fd80c0a",
   "metadata": {
    "papermill": {
     "duration": 0.146164,
     "end_time": "2023-06-23T18:59:16.277765",
     "exception": false,
     "start_time": "2023-06-23T18:59:16.131601",
     "status": "completed"
    },
    "tags": []
   },
   "outputs": [],
   "source": [
    "s = cell.json()\n",
    "f\"{s[:100]}...\""
   ]
  },
  {
   "cell_type": "markdown",
   "id": "bf3f8608-c600-4f26-84d8-f406c4b7152e",
   "metadata": {
    "papermill": {
     "duration": 0.060716,
     "end_time": "2023-06-23T18:59:16.401578",
     "exception": false,
     "start_time": "2023-06-23T18:59:16.340862",
     "status": "completed"
    },
    "tags": []
   },
   "source": [
    "deserialize"
   ]
  },
  {
   "cell_type": "code",
   "execution_count": null,
   "id": "1cd7d7c8-44c6-43fd-ad9c-2d9aee912b68",
   "metadata": {
    "papermill": {
     "duration": 0.065619,
     "end_time": "2023-06-23T18:59:16.536324",
     "exception": false,
     "start_time": "2023-06-23T18:59:16.470705",
     "status": "completed"
    },
    "tags": []
   },
   "outputs": [],
   "source": [
    "mw.Cell.parse_raw(s)"
   ]
  },
  {
   "cell_type": "markdown",
   "id": "b6b7fded-d1f5-4440-99fd-6a2118e65ff0",
   "metadata": {
    "papermill": {
     "duration": 0.061558,
     "end_time": "2023-06-23T18:59:16.644592",
     "exception": false,
     "start_time": "2023-06-23T18:59:16.583034",
     "status": "completed"
    },
    "tags": []
   },
   "source": [
    "## Environment"
   ]
  },
  {
   "cell_type": "code",
   "execution_count": null,
   "id": "6a46ca57",
   "metadata": {
    "papermill": {
     "duration": 0.086224,
     "end_time": "2023-06-23T18:59:16.783857",
     "exception": false,
     "start_time": "2023-06-23T18:59:16.697633",
     "status": "completed"
    },
    "tags": []
   },
   "outputs": [],
   "source": [
    "schema, definitions, nested_models = model_process_schema(\n",
    "    mw.Environment,\n",
    "    model_name_map=model_name_map,\n",
    ")\n",
    "display(schema)"
   ]
  },
  {
   "cell_type": "code",
   "execution_count": null,
   "id": "62ef31d0-373a-4337-9f07-26dd0c0d8a8e",
   "metadata": {
    "papermill": {
     "duration": 0.083484,
     "end_time": "2023-06-23T18:59:16.926550",
     "exception": false,
     "start_time": "2023-06-23T18:59:16.843066",
     "status": "completed"
    },
    "tags": []
   },
   "outputs": [],
   "source": [
    "env = mw.Environment(wl=1.55, T=25.0)"
   ]
  },
  {
   "cell_type": "markdown",
   "id": "c1d3edf8-b41c-4fbf-bd69-a4ef91fa9afe",
   "metadata": {
    "papermill": {
     "duration": 0.09116,
     "end_time": "2023-06-23T18:59:17.086079",
     "exception": false,
     "start_time": "2023-06-23T18:59:16.994919",
     "status": "completed"
    },
    "tags": []
   },
   "source": [
    "self-deserialization:"
   ]
  },
  {
   "cell_type": "code",
   "execution_count": null,
   "id": "02190849-3009-41a9-ad48-672a01ff0703",
   "metadata": {
    "papermill": {
     "duration": 0.078466,
     "end_time": "2023-06-23T18:59:17.264572",
     "exception": false,
     "start_time": "2023-06-23T18:59:17.186106",
     "status": "completed"
    },
    "tags": []
   },
   "outputs": [],
   "source": [
    "mw.Environment.parse_obj(env)"
   ]
  },
  {
   "cell_type": "markdown",
   "id": "528afb3c-3011-4b11-badd-32617e0ed4aa",
   "metadata": {
    "papermill": {
     "duration": 0.06204,
     "end_time": "2023-06-23T18:59:17.415153",
     "exception": false,
     "start_time": "2023-06-23T18:59:17.353113",
     "status": "completed"
    },
    "tags": []
   },
   "source": [
    "### dictionary"
   ]
  },
  {
   "cell_type": "markdown",
   "id": "607ffed2-0927-40fb-846b-73e0daafd3fd",
   "metadata": {
    "papermill": {
     "duration": 0.060072,
     "end_time": "2023-06-23T18:59:17.540604",
     "exception": false,
     "start_time": "2023-06-23T18:59:17.480532",
     "status": "completed"
    },
    "tags": []
   },
   "source": [
    "serialize"
   ]
  },
  {
   "cell_type": "code",
   "execution_count": null,
   "id": "d0927998-5ef0-4926-8fd6-dadf5e4e05e1",
   "metadata": {
    "papermill": {
     "duration": 0.120113,
     "end_time": "2023-06-23T18:59:17.727902",
     "exception": false,
     "start_time": "2023-06-23T18:59:17.607789",
     "status": "completed"
    },
    "tags": []
   },
   "outputs": [],
   "source": [
    "dic = env.dict()\n",
    "dic"
   ]
  },
  {
   "cell_type": "markdown",
   "id": "a56a75b1-c2c2-4651-8c60-957722a28eab",
   "metadata": {
    "papermill": {
     "duration": 0.094141,
     "end_time": "2023-06-23T18:59:17.891205",
     "exception": false,
     "start_time": "2023-06-23T18:59:17.797064",
     "status": "completed"
    },
    "tags": []
   },
   "source": [
    "deserialize"
   ]
  },
  {
   "cell_type": "code",
   "execution_count": null,
   "id": "23a6398a-ccad-486a-9663-8b84d8b0830c",
   "metadata": {
    "papermill": {
     "duration": 0.097267,
     "end_time": "2023-06-23T18:59:18.079374",
     "exception": false,
     "start_time": "2023-06-23T18:59:17.982107",
     "status": "completed"
    },
    "tags": []
   },
   "outputs": [],
   "source": [
    "mw.Environment.parse_obj(dic)"
   ]
  },
  {
   "cell_type": "markdown",
   "id": "6afad3d5-9137-45c2-8dd1-ced73c32e03a",
   "metadata": {
    "papermill": {
     "duration": 0.125281,
     "end_time": "2023-06-23T18:59:18.343400",
     "exception": false,
     "start_time": "2023-06-23T18:59:18.218119",
     "status": "completed"
    },
    "tags": []
   },
   "source": [
    "### json"
   ]
  },
  {
   "cell_type": "markdown",
   "id": "9326a85a-237c-49bd-a412-4aa11fda8ce3",
   "metadata": {
    "papermill": {
     "duration": 0.185237,
     "end_time": "2023-06-23T18:59:18.632786",
     "exception": false,
     "start_time": "2023-06-23T18:59:18.447549",
     "status": "completed"
    },
    "tags": []
   },
   "source": [
    "serialize"
   ]
  },
  {
   "cell_type": "code",
   "execution_count": null,
   "id": "60128d4b-8eea-4a2d-9086-a84689e75165",
   "metadata": {
    "papermill": {
     "duration": 0.115058,
     "end_time": "2023-06-23T18:59:18.842632",
     "exception": false,
     "start_time": "2023-06-23T18:59:18.727574",
     "status": "completed"
    },
    "tags": []
   },
   "outputs": [],
   "source": [
    "s = env.json()\n",
    "s"
   ]
  },
  {
   "cell_type": "markdown",
   "id": "cca849d8-27a7-42e0-992b-f5abef29fb95",
   "metadata": {
    "papermill": {
     "duration": 0.18802,
     "end_time": "2023-06-23T18:59:19.223389",
     "exception": false,
     "start_time": "2023-06-23T18:59:19.035369",
     "status": "completed"
    },
    "tags": []
   },
   "source": [
    "deserialize"
   ]
  },
  {
   "cell_type": "code",
   "execution_count": null,
   "id": "35815fcd-284e-49da-b092-e07c993e63b6",
   "metadata": {
    "papermill": {
     "duration": 0.226505,
     "end_time": "2023-06-23T18:59:19.608733",
     "exception": false,
     "start_time": "2023-06-23T18:59:19.382228",
     "status": "completed"
    },
    "tags": []
   },
   "outputs": [],
   "source": [
    "mw.Environment.parse_raw(s)"
   ]
  },
  {
   "cell_type": "markdown",
   "id": "ee4e586c-bc2d-427f-a95e-83cc7b0af5e2",
   "metadata": {
    "papermill": {
     "duration": 0.132742,
     "end_time": "2023-06-23T18:59:19.918348",
     "exception": false,
     "start_time": "2023-06-23T18:59:19.785606",
     "status": "completed"
    },
    "tags": []
   },
   "source": [
    "## Cross Section"
   ]
  },
  {
   "cell_type": "code",
   "execution_count": null,
   "id": "defab96a",
   "metadata": {
    "papermill": {
     "duration": 0.179401,
     "end_time": "2023-06-23T18:59:20.284756",
     "exception": false,
     "start_time": "2023-06-23T18:59:20.105355",
     "status": "completed"
    },
    "tags": []
   },
   "outputs": [],
   "source": [
    "schema, definitions, nested_models = model_process_schema(\n",
    "    mw.CrossSection,\n",
    "    model_name_map=model_name_map,\n",
    ")\n",
    "display(schema)"
   ]
  },
  {
   "cell_type": "code",
   "execution_count": null,
   "id": "a88e01ae-06c4-43d9-8c2e-dfe2ee4e0d91",
   "metadata": {
    "papermill": {
     "duration": 0.164869,
     "end_time": "2023-06-23T18:59:20.647265",
     "exception": false,
     "start_time": "2023-06-23T18:59:20.482396",
     "status": "completed"
    },
    "tags": []
   },
   "outputs": [],
   "source": [
    "cs = mw.CrossSection(\n",
    "    cell=cell,\n",
    "    env=env,\n",
    ")"
   ]
  },
  {
   "cell_type": "markdown",
   "id": "c7228a8f-ef31-4372-82a3-e6734ae43c93",
   "metadata": {
    "papermill": {
     "duration": 0.15021,
     "end_time": "2023-06-23T18:59:20.924748",
     "exception": false,
     "start_time": "2023-06-23T18:59:20.774538",
     "status": "completed"
    },
    "tags": []
   },
   "source": [
    "self-deserialization:"
   ]
  },
  {
   "cell_type": "code",
   "execution_count": null,
   "id": "05b1ba01-5d9d-4fb5-9f22-83bd803bf533",
   "metadata": {
    "papermill": {
     "duration": 0.159443,
     "end_time": "2023-06-23T18:59:21.260243",
     "exception": false,
     "start_time": "2023-06-23T18:59:21.100800",
     "status": "completed"
    },
    "tags": []
   },
   "outputs": [],
   "source": [
    "mw.CrossSection.parse_obj(cs)"
   ]
  },
  {
   "cell_type": "markdown",
   "id": "436fb94c-1ae4-4655-8b61-0f18e584d89c",
   "metadata": {
    "papermill": {
     "duration": 0.159859,
     "end_time": "2023-06-23T18:59:21.529011",
     "exception": false,
     "start_time": "2023-06-23T18:59:21.369152",
     "status": "completed"
    },
    "tags": []
   },
   "source": [
    "### dictionary"
   ]
  },
  {
   "cell_type": "markdown",
   "id": "7091a293-6c45-40eb-9789-5ff7d709ca11",
   "metadata": {
    "papermill": {
     "duration": 0.152912,
     "end_time": "2023-06-23T18:59:21.838466",
     "exception": false,
     "start_time": "2023-06-23T18:59:21.685554",
     "status": "completed"
    },
    "tags": []
   },
   "source": [
    "serialize"
   ]
  },
  {
   "cell_type": "code",
   "execution_count": null,
   "id": "266233ce-0496-494a-8370-4bc6f1874f40",
   "metadata": {
    "papermill": {
     "duration": 0.198255,
     "end_time": "2023-06-23T18:59:22.176733",
     "exception": false,
     "start_time": "2023-06-23T18:59:21.978478",
     "status": "completed"
    },
    "tags": []
   },
   "outputs": [],
   "source": [
    "dic = cs.dict()\n",
    "dic"
   ]
  },
  {
   "cell_type": "markdown",
   "id": "5ca28749-d495-45ee-84a1-6ed8d18492ac",
   "metadata": {
    "papermill": {
     "duration": 0.182367,
     "end_time": "2023-06-23T18:59:22.514913",
     "exception": false,
     "start_time": "2023-06-23T18:59:22.332546",
     "status": "completed"
    },
    "tags": []
   },
   "source": [
    "deserialize"
   ]
  },
  {
   "cell_type": "code",
   "execution_count": null,
   "id": "eb32d9a9-3727-48b7-9df6-51e9f9a4bdf0",
   "metadata": {
    "papermill": {
     "duration": 0.260388,
     "end_time": "2023-06-23T18:59:22.992680",
     "exception": false,
     "start_time": "2023-06-23T18:59:22.732292",
     "status": "completed"
    },
    "tags": []
   },
   "outputs": [],
   "source": [
    "mw.CrossSection.parse_obj(dic)"
   ]
  },
  {
   "cell_type": "markdown",
   "id": "d4793785-5a76-49dd-b489-9b6e703a1e4f",
   "metadata": {
    "papermill": {
     "duration": 0.148793,
     "end_time": "2023-06-23T18:59:23.308190",
     "exception": false,
     "start_time": "2023-06-23T18:59:23.159397",
     "status": "completed"
    },
    "tags": []
   },
   "source": [
    "### json"
   ]
  },
  {
   "cell_type": "markdown",
   "id": "2a7e7d6e-4528-4cb1-925f-b109833bc0f5",
   "metadata": {
    "papermill": {
     "duration": 0.137995,
     "end_time": "2023-06-23T18:59:23.572749",
     "exception": false,
     "start_time": "2023-06-23T18:59:23.434754",
     "status": "completed"
    },
    "tags": []
   },
   "source": [
    "serialize"
   ]
  },
  {
   "cell_type": "code",
   "execution_count": null,
   "id": "32036233-fa56-4ef8-b52b-e7d612a8493f",
   "metadata": {
    "papermill": {
     "duration": 0.169812,
     "end_time": "2023-06-23T18:59:23.845909",
     "exception": false,
     "start_time": "2023-06-23T18:59:23.676097",
     "status": "completed"
    },
    "tags": []
   },
   "outputs": [],
   "source": [
    "s = cs.json()\n",
    "f\"{s[:100]}...\""
   ]
  },
  {
   "cell_type": "markdown",
   "id": "c41e75dc-9419-40f5-92a6-b7c053ed0dd2",
   "metadata": {
    "papermill": {
     "duration": 0.154385,
     "end_time": "2023-06-23T18:59:24.176630",
     "exception": false,
     "start_time": "2023-06-23T18:59:24.022245",
     "status": "completed"
    },
    "tags": []
   },
   "source": [
    "deserialize"
   ]
  },
  {
   "cell_type": "code",
   "execution_count": null,
   "id": "dfececec-be99-4f86-b109-2fec00bc69be",
   "metadata": {
    "papermill": {
     "duration": 0.182865,
     "end_time": "2023-06-23T18:59:24.497770",
     "exception": false,
     "start_time": "2023-06-23T18:59:24.314905",
     "status": "completed"
    },
    "tags": []
   },
   "outputs": [],
   "source": [
    "mw.CrossSection.parse_raw(s)"
   ]
  },
  {
   "cell_type": "markdown",
   "id": "0992b535-f068-41fd-8d06-55533818cfb0",
   "metadata": {
    "papermill": {
     "duration": 0.157233,
     "end_time": "2023-06-23T18:59:24.802509",
     "exception": false,
     "start_time": "2023-06-23T18:59:24.645276",
     "status": "completed"
    },
    "tags": []
   },
   "source": [
    "## Mode"
   ]
  },
  {
   "cell_type": "code",
   "execution_count": null,
   "id": "05b68456",
   "metadata": {
    "papermill": {
     "duration": 0.163041,
     "end_time": "2023-06-23T18:59:25.132183",
     "exception": false,
     "start_time": "2023-06-23T18:59:24.969142",
     "status": "completed"
    },
    "tags": []
   },
   "outputs": [],
   "source": [
    "schema, definitions, nested_models = model_process_schema(\n",
    "    mw.Mode,\n",
    "    model_name_map=model_name_map,\n",
    ")\n",
    "display(schema)"
   ]
  },
  {
   "cell_type": "code",
   "execution_count": null,
   "id": "decadd35-7512-445c-a1a0-341a048156c3",
   "metadata": {
    "papermill": {
     "duration": 0.165513,
     "end_time": "2023-06-23T18:59:25.425049",
     "exception": false,
     "start_time": "2023-06-23T18:59:25.259536",
     "status": "completed"
    },
    "tags": []
   },
   "outputs": [],
   "source": [
    "cs"
   ]
  },
  {
   "cell_type": "code",
   "execution_count": null,
   "id": "262cfb71-3c8f-4678-a00f-2ae4c782a78b",
   "metadata": {
    "papermill": {
     "duration": 0.19754,
     "end_time": "2023-06-23T18:59:25.788382",
     "exception": false,
     "start_time": "2023-06-23T18:59:25.590842",
     "status": "completed"
    },
    "tags": []
   },
   "outputs": [],
   "source": [
    "cs.cell.materials"
   ]
  },
  {
   "cell_type": "code",
   "execution_count": null,
   "id": "829d3e4a-f16e-4c26-b258-8da0b1cf3b9d",
   "metadata": {
    "papermill": {
     "duration": 5.321027,
     "end_time": "2023-06-23T18:59:31.301571",
     "exception": false,
     "start_time": "2023-06-23T18:59:25.980544",
     "status": "completed"
    },
    "tags": []
   },
   "outputs": [],
   "source": [
    "mode = mw.compute_modes(cs, 1)[0]"
   ]
  },
  {
   "cell_type": "markdown",
   "id": "79033454-a45a-43a5-9ebc-5b00bec0e1c9",
   "metadata": {
    "papermill": {
     "duration": 0.078339,
     "end_time": "2023-06-23T18:59:31.421626",
     "exception": false,
     "start_time": "2023-06-23T18:59:31.343287",
     "status": "completed"
    },
    "tags": []
   },
   "source": [
    "self-deserialization:"
   ]
  },
  {
   "cell_type": "code",
   "execution_count": null,
   "id": "55420e37-4241-407a-bcbb-4d0d5c36d093",
   "metadata": {
    "papermill": {
     "duration": 0.445165,
     "end_time": "2023-06-23T18:59:31.975415",
     "exception": false,
     "start_time": "2023-06-23T18:59:31.530250",
     "status": "completed"
    },
    "tags": []
   },
   "outputs": [],
   "source": [
    "mw.Mode.parse_obj(mode)"
   ]
  },
  {
   "cell_type": "markdown",
   "id": "a1194be4-2268-4ccc-8768-6b841454c75a",
   "metadata": {
    "papermill": {
     "duration": 0.088822,
     "end_time": "2023-06-23T18:59:32.161602",
     "exception": false,
     "start_time": "2023-06-23T18:59:32.072780",
     "status": "completed"
    },
    "tags": []
   },
   "source": [
    "### dictionary"
   ]
  },
  {
   "cell_type": "markdown",
   "id": "572b47dc-82ca-45ea-b4c0-f411f730e2ec",
   "metadata": {
    "papermill": {
     "duration": 0.074778,
     "end_time": "2023-06-23T18:59:32.311519",
     "exception": false,
     "start_time": "2023-06-23T18:59:32.236741",
     "status": "completed"
    },
    "tags": []
   },
   "source": [
    "serialize"
   ]
  },
  {
   "cell_type": "code",
   "execution_count": null,
   "id": "4a117bb3-0fd3-4b1b-8bf4-6e24cfe0ed5b",
   "metadata": {
    "papermill": {
     "duration": 0.138169,
     "end_time": "2023-06-23T18:59:32.555064",
     "exception": false,
     "start_time": "2023-06-23T18:59:32.416895",
     "status": "completed"
    },
    "tags": []
   },
   "outputs": [],
   "source": [
    "dic = mode.dict()\n",
    "dic"
   ]
  },
  {
   "cell_type": "markdown",
   "id": "01b53f19-8ddf-46d4-b3fc-a156e66e7d60",
   "metadata": {
    "papermill": {
     "duration": 0.120329,
     "end_time": "2023-06-23T18:59:32.782911",
     "exception": false,
     "start_time": "2023-06-23T18:59:32.662582",
     "status": "completed"
    },
    "tags": []
   },
   "source": [
    "deserialize"
   ]
  },
  {
   "cell_type": "code",
   "execution_count": null,
   "id": "61eb16be-eaa8-46e5-868a-3f04db3187cb",
   "metadata": {
    "papermill": {
     "duration": 0.485922,
     "end_time": "2023-06-23T18:59:33.404703",
     "exception": false,
     "start_time": "2023-06-23T18:59:32.918781",
     "status": "completed"
    },
    "tags": []
   },
   "outputs": [],
   "source": [
    "mw.Mode.parse_obj(dic)"
   ]
  },
  {
   "cell_type": "markdown",
   "id": "6af11812-513c-4ebe-a884-898688e83fa8",
   "metadata": {
    "papermill": {
     "duration": 0.138072,
     "end_time": "2023-06-23T18:59:33.655935",
     "exception": false,
     "start_time": "2023-06-23T18:59:33.517863",
     "status": "completed"
    },
    "tags": []
   },
   "source": [
    "### json"
   ]
  },
  {
   "cell_type": "markdown",
   "id": "0cb0bace-5dd8-4b15-bbaf-55323d0482e9",
   "metadata": {
    "papermill": {
     "duration": 0.131568,
     "end_time": "2023-06-23T18:59:33.925470",
     "exception": false,
     "start_time": "2023-06-23T18:59:33.793902",
     "status": "completed"
    },
    "tags": []
   },
   "source": [
    "serialize"
   ]
  },
  {
   "cell_type": "code",
   "execution_count": null,
   "id": "e6a4a093-c3fe-4148-bc99-1ecbbd56a377",
   "metadata": {
    "papermill": {
     "duration": 0.466977,
     "end_time": "2023-06-23T18:59:34.525476",
     "exception": false,
     "start_time": "2023-06-23T18:59:34.058499",
     "status": "completed"
    },
    "tags": []
   },
   "outputs": [],
   "source": [
    "s = mode.json()\n",
    "f\"{s[:100]}...\""
   ]
  },
  {
   "cell_type": "markdown",
   "id": "2a1530c3-2b17-4b69-9742-bde5bde746c7",
   "metadata": {
    "papermill": {
     "duration": 0.110747,
     "end_time": "2023-06-23T18:59:34.752399",
     "exception": false,
     "start_time": "2023-06-23T18:59:34.641652",
     "status": "completed"
    },
    "tags": []
   },
   "source": [
    "deserialize"
   ]
  },
  {
   "cell_type": "code",
   "execution_count": null,
   "id": "a812d568-5eee-479b-9335-d84648a9084f",
   "metadata": {
    "papermill": {
     "duration": 0.678782,
     "end_time": "2023-06-23T18:59:35.546960",
     "exception": false,
     "start_time": "2023-06-23T18:59:34.868178",
     "status": "completed"
    },
    "tags": []
   },
   "outputs": [],
   "source": [
    "mw.Mode.parse_raw(s)"
   ]
  }
 ],
 "metadata": {
  "kernelspec": {
   "display_name": "hom",
   "language": "python",
   "name": "hom"
  },
  "language_info": {
   "codemirror_mode": {
    "name": "ipython",
    "version": 3
   },
   "file_extension": ".py",
   "mimetype": "text/x-python",
   "name": "python",
   "nbconvert_exporter": "python",
   "pygments_lexer": "ipython3",
   "version": "3.10.11"
  },
  "papermill": {
   "default_parameters": {},
   "duration": 36.868694,
   "end_time": "2023-06-23T18:59:38.978545",
   "environment_variables": {},
   "exception": null,
   "input_path": "./tests/nbs/serialization.ipynb",
   "output_path": "./tests/nbs/serialization.ipynb",
   "parameters": {},
   "start_time": "2023-06-23T18:59:02.109851",
   "version": "2.3.4"
  },
  "vscode": {
   "interpreter": {
    "hash": "a8971708a364ac32208e981bf301b4ca4d16b0e5b4fdbcfee80044478ab63430"
   }
  }
 },
 "nbformat": 4,
 "nbformat_minor": 5
}
