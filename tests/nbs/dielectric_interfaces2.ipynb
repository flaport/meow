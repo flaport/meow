{
 "cells": [
  {
   "cell_type": "code",
   "execution_count": null,
   "id": "1149c0fd-0649-485c-bd04-0c4ce16c3f78",
   "metadata": {
    "tags": []
   },
   "outputs": [],
   "source": [
    "import matplotlib.pyplot as plt\n",
    "import meow as mw\n",
    "import numpy as np\n",
    "import tidy3d as td\n",
    "from matplotlib import colors\n",
    "from scipy.ndimage import convolve\n",
    "from tidy3d.plugins.mode.mode_solver import compute_modes as _compute_modes\n",
    "\n",
    "mw.cache.disable_cache();"
   ]
  },
  {
   "cell_type": "markdown",
   "id": "7fbe6a1f-eb0e-4f8f-9a61-09907b323c5f",
   "metadata": {},
   "source": [
    "## Settings"
   ]
  },
  {
   "cell_type": "code",
   "execution_count": null,
   "id": "49346bf7-94aa-4614-b51c-7125b7e04ddc",
   "metadata": {
    "tags": []
   },
   "outputs": [],
   "source": [
    "T = 25.0\n",
    "height = 0.22\n",
    "length = 10\n",
    "num_modes = 5\n",
    "width_in = 0.45\n",
    "width_out = 2.0\n",
    "wl = 1.5\n",
    "cell_length = 2.0"
   ]
  },
  {
   "cell_type": "markdown",
   "id": "ef4ec049-978a-4ddf-ad8b-9f1751f4ada0",
   "metadata": {
    "papermill": {
     "duration": 0.006192,
     "end_time": "2023-06-05T20:32:09.637898",
     "exception": false,
     "start_time": "2023-06-05T20:32:09.631706",
     "status": "completed"
    },
    "tags": []
   },
   "source": [
    "## Meow Structures"
   ]
  },
  {
   "cell_type": "code",
   "execution_count": null,
   "id": "8d1bd4e0-c4d4-4376-a74f-0aa68fd98700",
   "metadata": {
    "papermill": {
     "duration": 0.014156,
     "end_time": "2023-06-05T20:32:09.657994",
     "exception": false,
     "start_time": "2023-06-05T20:32:09.643838",
     "status": "completed"
    },
    "tags": []
   },
   "outputs": [],
   "source": [
    "oxide = mw.Structure(\n",
    "    material=mw.silicon_oxide,\n",
    "    geometry=mw.Prism(\n",
    "        poly=np.array(\n",
    "            [\n",
    "                (-2, -3.1),\n",
    "                (length + 2, -3.1),\n",
    "                (length + 2, 3.1),\n",
    "                (-2, 3.1),\n",
    "            ]\n",
    "        ),\n",
    "        h_min=-3,\n",
    "        h_max=0,\n",
    "        axis=\"y\",\n",
    "    ),\n",
    ")\n",
    "\n",
    "poly = np.array(\n",
    "    [\n",
    "        (-2, -width_in / 2),\n",
    "        (0, -width_in / 2),\n",
    "        (length, -width_out / 2),\n",
    "        (length + 2, -width_out / 2),\n",
    "        (length + 2, width_out / 2),\n",
    "        (length, width_out / 2),\n",
    "        (0, width_in / 2),\n",
    "        (-2, width_in / 2),\n",
    "    ]\n",
    ")\n",
    "\n",
    "core = mw.Structure(\n",
    "    material=mw.silicon,\n",
    "    geometry=mw.Prism(\n",
    "        poly=poly,\n",
    "        h_min=0,\n",
    "        h_max=0.22,\n",
    "        axis=\"y\",\n",
    "    ),\n",
    ")\n",
    "\n",
    "structures = [oxide, core]\n",
    "\n",
    "cs1 = mw.CrossSection(\n",
    "    cell=mw.Cell(\n",
    "        structures=structures,\n",
    "        mesh=mw.Mesh2d(\n",
    "            x=np.linspace(-2, 2, round(4 / (wl / 20))),\n",
    "            y=np.linspace(-2, 2, round(4 / (wl / 20))),\n",
    "        ),\n",
    "        z_min=0,\n",
    "        z_max=0,\n",
    "    ),\n",
    "    env=mw.Environment(wl=wl, T=T),\n",
    "    ez_interfaces=False,\n",
    ")\n",
    "\n",
    "mw.visualize(cs1)"
   ]
  },
  {
   "cell_type": "code",
   "execution_count": null,
   "id": "d2a046da-32ab-4fc9-9b0b-763276f61618",
   "metadata": {
    "tags": []
   },
   "outputs": [],
   "source": [
    "modes1 = mw.compute_modes(cs=cs1, num_modes=5)\n",
    "mw.visualize(modes1, fields=[\"Ey\", \"Hy\"], plot_width=3)"
   ]
  },
  {
   "cell_type": "markdown",
   "id": "eef0d300-13e1-4b3e-8f66-9d342c58fb55",
   "metadata": {},
   "source": [
    "## Current"
   ]
  },
  {
   "cell_type": "code",
   "execution_count": null,
   "id": "9d0f7aad-55b9-4ae2-a1f0-a061bba27f10",
   "metadata": {
    "tags": []
   },
   "outputs": [],
   "source": [
    "cmap1 = colors.LinearSegmentedColormap.from_list(\n",
    "    name=\"cmap1\", colors=[\"#ffffff\", \"#ff0000\"]\n",
    ")\n",
    "cmap2 = colors.LinearSegmentedColormap.from_list(\n",
    "    name=\"cmap2\", colors=[\"#ffffff\", \"#00ff00\"]\n",
    ")\n",
    "cmap3 = colors.LinearSegmentedColormap.from_list(\n",
    "    name=\"cmap3\", colors=[\"#ffffff\", \"#0000ff\"]\n",
    ")"
   ]
  },
  {
   "cell_type": "code",
   "execution_count": null,
   "id": "bc5dadca-9000-4b4d-9660-6032c7e99d61",
   "metadata": {
    "tags": []
   },
   "outputs": [],
   "source": [
    "plt.pcolormesh(\n",
    "    cs1.cell.mesh.Xx + 0.5,\n",
    "    cs1.cell.mesh.Yx + 0.5,\n",
    "    cs1.nx,\n",
    "    cmap=cmap1,\n",
    "    vmin=1.0,\n",
    "    alpha=0.3,\n",
    ")\n",
    "plt.pcolormesh(\n",
    "    cs1.cell.mesh.Xy + 0.5,\n",
    "    cs1.cell.mesh.Yy + 0.5,\n",
    "    cs1.ny,\n",
    "    cmap=cmap2,\n",
    "    vmin=1.0,\n",
    "    alpha=0.3,\n",
    ")\n",
    "plt.pcolormesh(\n",
    "    cs1.cell.mesh.Xz + 0.5,\n",
    "    cs1.cell.mesh.Yz + 0.5,\n",
    "    cs1.nz,\n",
    "    cmap=cmap3,\n",
    "    vmin=1.0,\n",
    "    alpha=0.3,\n",
    ")\n",
    "plt.show()"
   ]
  },
  {
   "cell_type": "markdown",
   "id": "00c84406-cc76-495d-aab0-f5bc7d692640",
   "metadata": {
    "tags": []
   },
   "source": [
    "## Desired"
   ]
  },
  {
   "cell_type": "code",
   "execution_count": null,
   "id": "9d2a3e87-9bc8-46ed-80ca-459897cd0d39",
   "metadata": {
    "tags": []
   },
   "outputs": [],
   "source": [
    "from meow.cross_section import (\n",
    "    _get_boundary_mask_vertical,\n",
    "    _get_boundary_mask_horizontal,\n",
    "    _fill_corner_left_mask,\n",
    "    _fill_corner_right_mask,\n",
    ")\n",
    "\n",
    "x_full = cs1.cell.mesh.x_full.copy()\n",
    "y_full = cs1.cell.mesh.y_full.copy()\n",
    "X_full = cs1.cell.mesh.X_full.copy()\n",
    "Y_full = cs1.cell.mesh.Y_full.copy()\n",
    "n_full = cs1.n_full.copy()\n",
    "\n",
    "mask_ez_horizontal = np.zeros_like(n_full, dtype=bool)\n",
    "mask_ez_horizontal[:, ::2] = True\n",
    "mask_ez_vertical = np.zeros_like(n_full, dtype=bool)\n",
    "mask_ez_vertical[::2, :] = True\n",
    "mask_boundaries_vertical = _get_boundary_mask_vertical(n_full)\n",
    "mask_boundaries_vertical = mask_boundaries_vertical & (~mask_ez_vertical)\n",
    "mask_boundaries_horizontal = _get_boundary_mask_horizontal(n_full)\n",
    "mask_boundaries_horizontal = mask_boundaries_horizontal & (~mask_ez_horizontal)\n",
    "mask_temp = mask_boundaries_vertical  # | mask_boundaries_horizontal\n",
    "mask_corner_left = _fill_corner_left_mask(mask_temp)\n",
    "mask_corner_right = _fill_corner_right_mask(mask_temp)\n",
    "mask_to_remove = mask_temp | mask_corner_left | mask_corner_right\n",
    "\n",
    "mask_to_keep = (n_full > 1) & (~mask_to_remove)\n",
    "\n",
    "mask_ez = np.zeros_like(n_full, dtype=bool)\n",
    "mask_ez[::2, ::2] = True\n",
    "final_mask_to_keep = mask_to_keep & mask_ez\n",
    "\n",
    "mask_ex = np.zeros_like(n_full, dtype=bool)\n",
    "mask_ex[1::2, ::2] = True\n",
    "final_mask_to_keep |= mask_to_keep & mask_ex\n",
    "\n",
    "mask_ey = np.zeros_like(n_full, dtype=bool)\n",
    "mask_ey[::2, 1::2] = True\n",
    "final_mask_to_keep |= mask_to_keep & mask_ey\n",
    "\n",
    "mask_hz = np.zeros_like(n_full, dtype=bool)\n",
    "mask_hz[1::2, 1::2] = True\n",
    "final_mask_to_keep |= mask_to_keep & mask_hz\n",
    "\n",
    "n_full[~final_mask_to_keep] = 1.0\n",
    "\n",
    "plt.pcolormesh(X_full, Y_full, n_full, cmap=\"Blues\")\n",
    "plt.pcolormesh(X_full, Y_full, mask_to_remove, cmap=\"Reds\", alpha=0.5)\n",
    "\n",
    "dx = cs1.cell.mesh.x[1:] - cs1.cell.mesh.x[:-1]\n",
    "dy = cs1.cell.mesh.y[1:] - cs1.cell.mesh.y[:-1]\n",
    "x_ticks = np.sort(np.unique(X_full.ravel()))[::2]\n",
    "y_ticks = np.sort(np.unique(Y_full.ravel()))[::2]\n",
    "plt.xticks(x_ticks - 0.25 * dx, [f\"\" for x in x_ticks - 0.25 * dx])\n",
    "plt.yticks(y_ticks - 0.25 * dy, [f\"\" for y in y_ticks - 0.25 * dy])\n",
    "plt.xticks(x_ticks + 0.25 * dx, [f\"\" for x in x_ticks + 0.25 * dx], minor=True)\n",
    "plt.yticks(y_ticks + 0.25 * dy, [f\"\" for y in y_ticks + 0.25 * dy], minor=True)\n",
    "plt.grid(True, which=\"major\", ls=\"-\")\n",
    "plt.grid(True, which=\"minor\", ls=\":\")\n",
    "plt.xlim(-0.5, 0.5)\n",
    "plt.ylim(-0.11, 0.33)\n",
    "plt.show()"
   ]
  },
  {
   "cell_type": "markdown",
   "id": "164be83e-4838-41f8-9548-996c1ce45585",
   "metadata": {},
   "source": [
    "You can see that removing some mesh points horizontally will place the silicon on slightly higher bed of silicon oxide. Even though this is not ideal, I think it's still better than not doing this extra meshing cleanup step. That being said... it would be great if we could fix this too in the future."
   ]
  }
 ],
 "metadata": {
  "kernelspec": {
   "display_name": "hom",
   "language": "python",
   "name": "hom"
  },
  "language_info": {
   "codemirror_mode": {
    "name": "ipython",
    "version": 3
   },
   "file_extension": ".py",
   "mimetype": "text/x-python",
   "name": "python",
   "nbconvert_exporter": "python",
   "pygments_lexer": "ipython3",
   "version": "3.10.11"
  }
 },
 "nbformat": 4,
 "nbformat_minor": 5
}
