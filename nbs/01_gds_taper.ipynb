{
 "cells": [
  {
   "cell_type": "markdown",
   "id": "0",
   "metadata": {
    "papermill": {
     "duration": 0.015284,
     "end_time": "2024-06-14T09:06:42.694089",
     "exception": false,
     "start_time": "2024-06-14T09:06:42.678805",
     "status": "completed"
    },
    "tags": []
   },
   "source": [
    "# GDS Taper\n",
    "> Create a Taper and Simulate"
   ]
  },
  {
   "cell_type": "code",
   "execution_count": null,
   "id": "1",
   "metadata": {
    "papermill": {
     "duration": 6.359635,
     "end_time": "2024-06-14T09:06:49.062503",
     "exception": false,
     "start_time": "2024-06-14T09:06:42.702868",
     "status": "completed"
    },
    "tags": []
   },
   "outputs": [],
   "source": [
    "import meow as mw\n",
    "import gdsfactory as gf  # pip install meow-sim[gf]\n",
    "from gdsfactory.cross_section import cross_section\n",
    "import matplotlib.pyplot as plt\n",
    "import numpy as np"
   ]
  },
  {
   "cell_type": "markdown",
   "id": "2",
   "metadata": {
    "papermill": {
     "duration": 0.005379,
     "end_time": "2024-06-14T09:06:49.073255",
     "exception": false,
     "start_time": "2024-06-14T09:06:49.067876",
     "status": "completed"
    },
    "tags": []
   },
   "source": [
    "## Example Taper"
   ]
  },
  {
   "cell_type": "markdown",
   "id": "3",
   "metadata": {
    "papermill": {
     "duration": 0.005227,
     "end_time": "2024-06-14T09:06:49.083749",
     "exception": false,
     "start_time": "2024-06-14T09:06:49.078522",
     "status": "completed"
    },
    "tags": []
   },
   "source": [
    "> Note: `meow` expects the propagation direction to be the `z`-axis! This makes the `zx`-plane parallel with the chip and the `y`-axis perpendicular to the chip. Somewhat confusingly, the (x, y) GDS coordinate tuple hence maps onto the (z, x) `meow` coordinate tuple. Whereas the y coordinate from meow denotes the direction perpendicular to the chip. (I will probably change the `meow` convention in the future.)"
   ]
  },
  {
   "cell_type": "code",
   "execution_count": null,
   "id": "4",
   "metadata": {
    "papermill": {
     "duration": 0.016085,
     "end_time": "2024-06-14T09:06:49.105131",
     "exception": false,
     "start_time": "2024-06-14T09:06:49.089046",
     "status": "completed"
    },
    "tags": []
   },
   "outputs": [],
   "source": [
    "def example_gds_cross_section(\n",
    "    width: float = 0.450,\n",
    "    clad_width: float = 2.0,\n",
    ") -> gf.CrossSection:\n",
    "    \"\"\"a strip waveguide cross section\n",
    "\n",
    "    Args:\n",
    "        width:  the width of the strip waveguide\n",
    "        clad_width: the width of the cladding\n",
    "    \"\"\"\n",
    "    core_width = width\n",
    "    port_names = (\"in0\", \"out0\")\n",
    "    sections = (\n",
    "        gf.Section(width=core_width, offset=0, layer=(1, 0), name=\"core\"),\n",
    "        gf.Section(\n",
    "            width=clad_width,\n",
    "            offset=0.5 * (core_width + clad_width),\n",
    "            layer=(2, 0),\n",
    "            name=\"upper\",\n",
    "        ),\n",
    "        gf.Section(\n",
    "            width=clad_width,\n",
    "            offset=-0.5 * (core_width + clad_width),\n",
    "            layer=(2, 0),\n",
    "            name=\"lower\",\n",
    "        ),\n",
    "    )\n",
    "    cs = cross_section(\n",
    "        width=width,\n",
    "        port_names=port_names,\n",
    "        sections=sections,\n",
    "    )\n",
    "    return cs"
   ]
  },
  {
   "cell_type": "code",
   "execution_count": null,
   "id": "5",
   "metadata": {
    "papermill": {
     "duration": 0.015102,
     "end_time": "2024-06-14T09:06:49.124963",
     "exception": false,
     "start_time": "2024-06-14T09:06:49.109861",
     "status": "completed"
    },
    "tags": []
   },
   "outputs": [],
   "source": [
    "@gf.cell\n",
    "def example_taper(\n",
    "    width_input: float = 0.450,\n",
    "    width_output: float = 1.0,\n",
    "    length: float = 10.0,\n",
    ") -> gf.Component:\n",
    "    \"\"\"create a linear taper\n",
    "\n",
    "    Args:\n",
    "        width_input: input width of the linear taper\n",
    "        width_output: output width of the linear taper\n",
    "        length: the length of the linear taper\n",
    "    \"\"\"\n",
    "    input_cs = example_gds_cross_section(width_input)\n",
    "    output_cs = example_gds_cross_section(width_output)\n",
    "    transition = gf.path.transition(input_cs, output_cs, width_type=\"linear\")\n",
    "    length = gf.snap.snap_to_grid(length)  # type: ignore\n",
    "    path = gf.path.straight(length)\n",
    "    component = gf.path.extrude_transition(p=path, transition=transition)\n",
    "    return component"
   ]
  },
  {
   "cell_type": "code",
   "execution_count": null,
   "id": "6",
   "metadata": {
    "papermill": {
     "duration": 1.049569,
     "end_time": "2024-06-14T09:06:50.179602",
     "exception": false,
     "start_time": "2024-06-14T09:06:49.130033",
     "status": "completed"
    },
    "tags": []
   },
   "outputs": [],
   "source": [
    "taper = example_taper(width_input=0.45, width_output=1.0, length=20)\n",
    "taper"
   ]
  },
  {
   "cell_type": "markdown",
   "id": "7",
   "metadata": {
    "papermill": {
     "duration": 0.021759,
     "end_time": "2024-06-14T09:06:50.217680",
     "exception": false,
     "start_time": "2024-06-14T09:06:50.195921",
     "status": "completed"
    },
    "tags": []
   },
   "source": [
    "## Example Structure Map"
   ]
  },
  {
   "cell_type": "code",
   "execution_count": null,
   "id": "8",
   "metadata": {
    "papermill": {
     "duration": 0.051236,
     "end_time": "2024-06-14T09:06:50.285313",
     "exception": false,
     "start_time": "2024-06-14T09:06:50.234077",
     "status": "completed"
    },
    "tags": []
   },
   "outputs": [],
   "source": [
    "def example_extrusions(\n",
    "    t_slab: float = 0.020,\n",
    "    t_soi: float = 0.220,\n",
    "    t_ox: float = 1.0,\n",
    "):\n",
    "    \"\"\"create some simple extrusion rules\n",
    "\n",
    "    Args:\n",
    "        t_slab: the slab thickness\n",
    "        t_soi: the SOI thickness\n",
    "        t_ox: the oxide layer thickness\n",
    "    \"\"\"\n",
    "    extrusions = {\n",
    "        (1, 0): [\n",
    "            mw.GdsExtrusionRule(\n",
    "                material=mw.silicon,\n",
    "                h_min=0.0,\n",
    "                h_max=0.0 + t_soi,\n",
    "                mesh_order=1,\n",
    "            ),\n",
    "            mw.GdsExtrusionRule(\n",
    "                material=mw.silicon_oxide,\n",
    "                h_min=-1.0,\n",
    "                h_max=t_soi + t_ox,\n",
    "                buffer=t_ox / 2,\n",
    "                mesh_order=2,\n",
    "            ),\n",
    "        ],\n",
    "        (2, 0): [\n",
    "            mw.GdsExtrusionRule(\n",
    "                material=mw.silicon,\n",
    "                h_min=0.0,\n",
    "                h_max=0.0 + t_slab,\n",
    "                mesh_order=1,\n",
    "            ),\n",
    "            mw.GdsExtrusionRule(\n",
    "                material=mw.silicon_oxide,\n",
    "                h_min=-1.0,\n",
    "                h_max=t_slab + t_ox,\n",
    "                mesh_order=2,\n",
    "            ),\n",
    "        ],\n",
    "    }\n",
    "    return extrusions"
   ]
  },
  {
   "cell_type": "markdown",
   "id": "9",
   "metadata": {
    "papermill": {
     "duration": 0.029728,
     "end_time": "2024-06-14T09:06:50.335247",
     "exception": false,
     "start_time": "2024-06-14T09:06:50.305519",
     "status": "completed"
    },
    "tags": []
   },
   "source": [
    "## Extrude GDS"
   ]
  },
  {
   "cell_type": "code",
   "execution_count": null,
   "id": "10",
   "metadata": {
    "papermill": {
     "duration": 1.071917,
     "end_time": "2024-06-14T09:06:51.443677",
     "exception": false,
     "start_time": "2024-06-14T09:06:50.371760",
     "status": "completed"
    },
    "tags": []
   },
   "outputs": [],
   "source": [
    "extrusion_rules = example_extrusions()\n",
    "structs = mw.extrude_gds(taper, extrusion_rules)\n",
    "mw.visualize(structs, scale=(1, 1, 0.2))"
   ]
  },
  {
   "cell_type": "markdown",
   "id": "11",
   "metadata": {
    "papermill": {
     "duration": 0.098768,
     "end_time": "2024-06-14T09:06:51.636237",
     "exception": false,
     "start_time": "2024-06-14T09:06:51.537469",
     "status": "completed"
    },
    "tags": []
   },
   "source": [
    "## Divide into Cells"
   ]
  },
  {
   "cell_type": "code",
   "execution_count": null,
   "id": "12",
   "metadata": {
    "papermill": {
     "duration": 4.260801,
     "end_time": "2024-06-14T09:06:55.985491",
     "exception": false,
     "start_time": "2024-06-14T09:06:51.724690",
     "status": "completed"
    },
    "tags": []
   },
   "outputs": [],
   "source": [
    "w_sim = 1.0\n",
    "h_sim = 1.0\n",
    "mesh = 100\n",
    "num_cells = 10\n",
    "dbu = taper.layout().dbu\n",
    "taper_length = abs(taper.bbox().right - taper.bbox().left) * dbu\n",
    "Ls = [taper_length / num_cells for _ in range(num_cells)]\n",
    "\n",
    "cells = mw.create_cells(\n",
    "    structures=structs,\n",
    "    mesh=mw.Mesh2D(\n",
    "        x=np.linspace(-0.75, 0.75, mesh + 1),\n",
    "        y=np.linspace(-0.3, 0.5, mesh + 1),\n",
    "    ),\n",
    "    Ls=Ls,\n",
    ")\n",
    "\n",
    "mw.visualize(cells[0], cbar=False)\n",
    "plt.show()\n",
    "\n",
    "mw.visualize(cells[-1], cbar=False)\n",
    "plt.show()"
   ]
  },
  {
   "cell_type": "markdown",
   "id": "13",
   "metadata": {
    "papermill": {
     "duration": 0.070025,
     "end_time": "2024-06-14T09:06:56.140224",
     "exception": false,
     "start_time": "2024-06-14T09:06:56.070199",
     "status": "completed"
    },
    "tags": []
   },
   "source": [
    "## Find Cross Sections"
   ]
  },
  {
   "cell_type": "code",
   "execution_count": null,
   "id": "14",
   "metadata": {
    "papermill": {
     "duration": 7.2078,
     "end_time": "2024-06-14T09:07:03.431011",
     "exception": false,
     "start_time": "2024-06-14T09:06:56.223211",
     "status": "completed"
    },
    "tags": []
   },
   "outputs": [],
   "source": [
    "env = mw.Environment(wl=1.55, T=25.0)\n",
    "css = [mw.CrossSection.from_cell(cell=cell, env=env) for cell in cells]\n",
    "\n",
    "mw.visualize(css[0])\n",
    "mw.visualize(css[-1])"
   ]
  },
  {
   "cell_type": "code",
   "execution_count": null,
   "id": "15",
   "metadata": {
    "papermill": {
     "duration": 25.877941,
     "end_time": "2024-06-14T09:07:29.388549",
     "exception": false,
     "start_time": "2024-06-14T09:07:03.510608",
     "status": "completed"
    },
    "tags": []
   },
   "outputs": [],
   "source": [
    "num_modes = 4\n",
    "modes = mw.compute_modes(css[0], num_modes=num_modes)\n",
    "mw.visualize(modes[0])"
   ]
  },
  {
   "cell_type": "markdown",
   "id": "16",
   "metadata": {
    "papermill": {
     "duration": 0.085818,
     "end_time": "2024-06-14T09:07:29.577789",
     "exception": false,
     "start_time": "2024-06-14T09:07:29.491971",
     "status": "completed"
    },
    "tags": []
   },
   "source": [
    "## Compute Modes (FDE)"
   ]
  },
  {
   "cell_type": "code",
   "execution_count": null,
   "id": "17",
   "metadata": {
    "papermill": {
     "duration": 139.165559,
     "end_time": "2024-06-14T09:09:48.838839",
     "exception": false,
     "start_time": "2024-06-14T09:07:29.673280",
     "status": "completed"
    },
    "tags": []
   },
   "outputs": [],
   "source": [
    "%%time\n",
    "num_modes = 4\n",
    "modes = [mw.compute_modes(cs, num_modes=num_modes) for cs in css]"
   ]
  },
  {
   "cell_type": "code",
   "execution_count": null,
   "id": "18",
   "metadata": {
    "papermill": {
     "duration": 1.272393,
     "end_time": "2024-06-14T09:09:50.147504",
     "exception": false,
     "start_time": "2024-06-14T09:09:48.875111",
     "status": "completed"
    },
    "tags": []
   },
   "outputs": [],
   "source": [
    "mw.visualize(modes[0][0], fields=[\"Hx\"])\n",
    "mw.visualize(modes[-1][1], fields=[\"Hx\"])"
   ]
  },
  {
   "cell_type": "markdown",
   "id": "19",
   "metadata": {
    "papermill": {
     "duration": 0.06514,
     "end_time": "2024-06-14T09:09:50.309089",
     "exception": false,
     "start_time": "2024-06-14T09:09:50.243949",
     "status": "completed"
    },
    "tags": []
   },
   "source": [
    "## Calculate S-matrix (EME)"
   ]
  },
  {
   "cell_type": "code",
   "execution_count": null,
   "id": "20",
   "metadata": {
    "papermill": {
     "duration": 2.329836,
     "end_time": "2024-06-14T09:09:52.677153",
     "exception": false,
     "start_time": "2024-06-14T09:09:50.347317",
     "status": "completed"
    },
    "tags": []
   },
   "outputs": [],
   "source": [
    "S, port_map = mw.compute_s_matrix(modes, cells)\n",
    "print(port_map)\n",
    "mw.visualize((abs(S), port_map))"
   ]
  }
 ],
 "metadata": {
  "kernelspec": {
   "display_name": "meow",
   "language": "python",
   "name": "meow"
  },
  "language_info": {
   "codemirror_mode": {
    "name": "ipython",
    "version": 3
   },
   "file_extension": ".py",
   "mimetype": "text/x-python",
   "name": "python",
   "nbconvert_exporter": "python",
   "pygments_lexer": "ipython3",
   "version": "3.12.10"
  },
  "papermill": {
   "default_parameters": {},
   "duration": 193.762473,
   "end_time": "2024-06-14T09:09:54.626485",
   "environment_variables": {},
   "exception": null,
   "input_path": "./examples/01_gds_taper.ipynb",
   "output_path": "./examples/01_gds_taper.ipynb",
   "parameters": {},
   "start_time": "2024-06-14T09:06:40.864012",
   "version": "2.3.4"
  }
 },
 "nbformat": 4,
 "nbformat_minor": 5
}
