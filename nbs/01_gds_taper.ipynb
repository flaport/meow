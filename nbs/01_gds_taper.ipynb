{
 "cells": [
  {
   "cell_type": "markdown",
   "id": "84e806ae-7505-498f-bff3-dca9070ce0bb",
   "metadata": {
    "papermill": {
     "duration": 0.015284,
     "end_time": "2024-06-14T09:06:42.694089",
     "exception": false,
     "start_time": "2024-06-14T09:06:42.678805",
     "status": "completed"
    },
    "tags": []
   },
   "source": [
    "# GDS Taper\n",
    "> Create a Taper and Simulate"
   ]
  },
  {
   "cell_type": "code",
   "execution_count": null,
   "id": "6affcecb-2c94-47e8-9e78-60dcc7b5abe3",
   "metadata": {
    "papermill": {
     "duration": 6.359635,
     "end_time": "2024-06-14T09:06:49.062503",
     "exception": false,
     "start_time": "2024-06-14T09:06:42.702868",
     "status": "completed"
    },
    "tags": []
   },
   "outputs": [],
   "source": [
    "import meow as mw\n",
    "import gdsfactory as gf  # pip install meow-sim[gds]\n",
    "from gdsfactory.cross_section import cross_section\n",
    "import matplotlib.pyplot as plt\n",
    "import numpy as np"
   ]
  },
  {
   "cell_type": "markdown",
   "id": "d715d561-1cea-44be-9efa-fab8d127dcf9",
   "metadata": {
    "papermill": {
     "duration": 0.005379,
     "end_time": "2024-06-14T09:06:49.073255",
     "exception": false,
     "start_time": "2024-06-14T09:06:49.067876",
     "status": "completed"
    },
    "tags": []
   },
   "source": [
    "## Example Taper"
   ]
  },
  {
   "cell_type": "markdown",
   "id": "dc47f09c-445a-4396-a7bb-d581c2a46543",
   "metadata": {
    "papermill": {
     "duration": 0.005227,
     "end_time": "2024-06-14T09:06:49.083749",
     "exception": false,
     "start_time": "2024-06-14T09:06:49.078522",
     "status": "completed"
    },
    "tags": []
   },
   "source": [
    "> Note: `meow` expects the propagation direction to be the `z`-axis! This makes the `zx`-plane parallel with the chip and the `y`-axis perpendicular to the chip. Somewhat confusingly, the (x, y) GDS coordinate tuple hence maps onto the (z, x) `meow` coordinate tuple. Whereas the y coordinate from meow denotes the direction perpendicular to the chip. (I will probably change the `meow` convention in the future.)"
   ]
  },
  {
   "cell_type": "code",
   "execution_count": null,
   "id": "5b6b6459-378d-41c3-94e5-cc9ff81b4790",
   "metadata": {
    "papermill": {
     "duration": 0.016085,
     "end_time": "2024-06-14T09:06:49.105131",
     "exception": false,
     "start_time": "2024-06-14T09:06:49.089046",
     "status": "completed"
    },
    "tags": []
   },
   "outputs": [],
   "source": [
    "def example_gds_cross_section(\n",
    "    width: float = 0.450,\n",
    "    clad_width: float = 2.0,\n",
    ") -> gf.CrossSection:\n",
    "    \"\"\"a strip waveguide cross section\n",
    "\n",
    "    Args:\n",
    "        width:  the width of the strip waveguide\n",
    "        clad_width: the width of the cladding\n",
    "    \"\"\"\n",
    "    core_width = width\n",
    "    port_names = (\"in0\", \"out0\")\n",
    "    sections = (\n",
    "        gf.Section(width=core_width, offset=0, layer=(1, 0), name=\"core\"),\n",
    "        gf.Section(\n",
    "            width=clad_width,\n",
    "            offset=0.5 * (core_width + clad_width),\n",
    "            layer=(2, 0),\n",
    "            name=\"upper\",\n",
    "        ),\n",
    "        gf.Section(\n",
    "            width=clad_width,\n",
    "            offset=-0.5 * (core_width + clad_width),\n",
    "            layer=(2, 0),\n",
    "            name=\"lower\",\n",
    "        ),\n",
    "    )\n",
    "    cs = cross_section(\n",
    "        width=width,\n",
    "        port_names=port_names,\n",
    "        sections=sections,\n",
    "    )\n",
    "    return cs"
   ]
  },
  {
   "cell_type": "code",
   "execution_count": null,
   "id": "3f0f925f-5c73-4993-bd45-a28baedfe8d8",
   "metadata": {
    "papermill": {
     "duration": 0.015102,
     "end_time": "2024-06-14T09:06:49.124963",
     "exception": false,
     "start_time": "2024-06-14T09:06:49.109861",
     "status": "completed"
    },
    "tags": []
   },
   "outputs": [],
   "source": [
    "@gf.cell\n",
    "def example_taper(\n",
    "    width_input: float = 0.450,\n",
    "    width_output: float = 1.0,\n",
    "    length: float = 10.0,\n",
    ") -> gf.Component:\n",
    "    \"\"\"create a linear taper\n",
    "\n",
    "    Args:\n",
    "        width_input: input width of the linear taper\n",
    "        width_output: output width of the linear taper\n",
    "        length: the length of the linear taper\n",
    "    \"\"\"\n",
    "    input_cs = example_gds_cross_section(width_input)\n",
    "    output_cs = example_gds_cross_section(width_output)\n",
    "    transition = gf.path.transition(input_cs, output_cs, width_type=\"linear\")\n",
    "    length = gf.snap.snap_to_grid(length)  # type: ignore\n",
    "    path = gf.path.straight(length)\n",
    "    component = gf.path.extrude_transition(p=path, transition=transition)\n",
    "    return component"
   ]
  },
  {
   "cell_type": "code",
   "execution_count": null,
   "id": "dfae1768-860b-44bc-92e7-f36dcd88ea34",
   "metadata": {
    "papermill": {
     "duration": 1.049569,
     "end_time": "2024-06-14T09:06:50.179602",
     "exception": false,
     "start_time": "2024-06-14T09:06:49.130033",
     "status": "completed"
    },
    "tags": []
   },
   "outputs": [],
   "source": [
    "taper = example_taper(width_input=0.45, width_output=1.0, length=20)\n",
    "taper"
   ]
  },
  {
   "cell_type": "markdown",
   "id": "7ac0a034-7aeb-455b-a591-764ed1a2e58b",
   "metadata": {
    "papermill": {
     "duration": 0.021759,
     "end_time": "2024-06-14T09:06:50.217680",
     "exception": false,
     "start_time": "2024-06-14T09:06:50.195921",
     "status": "completed"
    },
    "tags": []
   },
   "source": [
    "## Example Structure Map"
   ]
  },
  {
   "cell_type": "code",
   "execution_count": null,
   "id": "545c890a-a49e-432e-81d2-553d1326005a",
   "metadata": {
    "papermill": {
     "duration": 0.051236,
     "end_time": "2024-06-14T09:06:50.285313",
     "exception": false,
     "start_time": "2024-06-14T09:06:50.234077",
     "status": "completed"
    },
    "tags": []
   },
   "outputs": [],
   "source": [
    "def example_extrusions(\n",
    "    t_slab: float = 0.020,\n",
    "    t_soi: float = 0.220,\n",
    "    t_ox: float = 1.0,\n",
    "):\n",
    "    \"\"\"create some simple extrusion rules\n",
    "\n",
    "    Args:\n",
    "        t_slab: the slab thickness\n",
    "        t_soi: the SOI thickness\n",
    "        t_ox: the oxide layer thickness\n",
    "    \"\"\"\n",
    "    extrusions = {\n",
    "        (1, 0): [\n",
    "            mw.GdsExtrusionRule(\n",
    "                material=mw.silicon,\n",
    "                h_min=0.0,\n",
    "                h_max=0.0 + t_soi,\n",
    "                mesh_order=1,\n",
    "            ),\n",
    "            mw.GdsExtrusionRule(\n",
    "                material=mw.silicon_oxide,\n",
    "                h_min=-1.0,\n",
    "                h_max=t_soi + t_ox,\n",
    "                buffer=t_ox / 2,\n",
    "                mesh_order=2,\n",
    "            ),\n",
    "        ],\n",
    "        (2, 0): [\n",
    "            mw.GdsExtrusionRule(\n",
    "                material=mw.silicon,\n",
    "                h_min=0.0,\n",
    "                h_max=0.0 + t_slab,\n",
    "                mesh_order=1,\n",
    "            ),\n",
    "            mw.GdsExtrusionRule(\n",
    "                material=mw.silicon_oxide,\n",
    "                h_min=-1.0,\n",
    "                h_max=t_slab + t_ox,\n",
    "                mesh_order=2,\n",
    "            ),\n",
    "        ],\n",
    "    }\n",
    "    return extrusions"
   ]
  },
  {
   "cell_type": "markdown",
   "id": "d21104bc-4b87-40d3-acd2-c1dfe8c0b975",
   "metadata": {
    "papermill": {
     "duration": 0.029728,
     "end_time": "2024-06-14T09:06:50.335247",
     "exception": false,
     "start_time": "2024-06-14T09:06:50.305519",
     "status": "completed"
    },
    "tags": []
   },
   "source": [
    "## Extrude GDS"
   ]
  },
  {
   "cell_type": "code",
   "execution_count": null,
   "id": "630cda0e-4e0a-40c0-a054-a5197c8b02a8",
   "metadata": {
    "papermill": {
     "duration": 1.071917,
     "end_time": "2024-06-14T09:06:51.443677",
     "exception": false,
     "start_time": "2024-06-14T09:06:50.371760",
     "status": "completed"
    },
    "tags": []
   },
   "outputs": [],
   "source": [
    "extrusion_rules = example_extrusions()\n",
    "structs = mw.extrude_gds(taper, extrusion_rules)\n",
    "mw.visualize(structs, scale=(1, 1, 0.2))"
   ]
  },
  {
   "cell_type": "markdown",
   "id": "e3186752-4dc0-4a1d-96e7-5e3455ac7111",
   "metadata": {
    "papermill": {
     "duration": 0.098768,
     "end_time": "2024-06-14T09:06:51.636237",
     "exception": false,
     "start_time": "2024-06-14T09:06:51.537469",
     "status": "completed"
    },
    "tags": []
   },
   "source": [
    "## Divide into Cells"
   ]
  },
  {
   "cell_type": "code",
   "execution_count": null,
   "id": "0c45b041-80d2-48ba-b6e5-871440d1c206",
   "metadata": {
    "papermill": {
     "duration": 4.260801,
     "end_time": "2024-06-14T09:06:55.985491",
     "exception": false,
     "start_time": "2024-06-14T09:06:51.724690",
     "status": "completed"
    },
    "tags": []
   },
   "outputs": [],
   "source": [
    "w_sim = 1.0\n",
    "h_sim = 1.0\n",
    "mesh = 100\n",
    "num_cells = 10\n",
    "dbu = taper.layout().dbu\n",
    "taper_length = abs(taper.bbox().right - taper.bbox().left) * dbu\n",
    "Ls = [taper_length / num_cells for _ in range(num_cells)]\n",
    "\n",
    "cells = mw.create_cells(\n",
    "    structures=structs,\n",
    "    mesh=mw.Mesh2D(\n",
    "        x=np.linspace(-0.75, 0.75, mesh + 1),\n",
    "        y=np.linspace(-0.3, 0.5, mesh + 1),\n",
    "    ),\n",
    "    Ls=Ls,\n",
    ")\n",
    "\n",
    "mw.visualize(cells[0], cbar=False)\n",
    "plt.show()\n",
    "\n",
    "mw.visualize(cells[-1], cbar=False)\n",
    "plt.show()"
   ]
  },
  {
   "cell_type": "markdown",
   "id": "1dc2c50b-8c78-4003-88d1-9ac3e679d3a0",
   "metadata": {
    "papermill": {
     "duration": 0.070025,
     "end_time": "2024-06-14T09:06:56.140224",
     "exception": false,
     "start_time": "2024-06-14T09:06:56.070199",
     "status": "completed"
    },
    "tags": []
   },
   "source": [
    "## Find Cross Sections"
   ]
  },
  {
   "cell_type": "code",
   "execution_count": null,
   "id": "a9524991-6242-4e5e-bad5-277b42aaed69",
   "metadata": {
    "papermill": {
     "duration": 7.2078,
     "end_time": "2024-06-14T09:07:03.431011",
     "exception": false,
     "start_time": "2024-06-14T09:06:56.223211",
     "status": "completed"
    },
    "tags": []
   },
   "outputs": [],
   "source": [
    "env = mw.Environment(wl=1.55, T=25.0)\n",
    "css = [mw.CrossSection.from_cell(cell=cell, env=env) for cell in cells]\n",
    "\n",
    "mw.visualize(css[0])\n",
    "mw.visualize(css[-1])"
   ]
  },
  {
   "cell_type": "code",
   "execution_count": null,
   "id": "6f215456-dad9-4072-9058-572b1a1f3844",
   "metadata": {
    "papermill": {
     "duration": 25.877941,
     "end_time": "2024-06-14T09:07:29.388549",
     "exception": false,
     "start_time": "2024-06-14T09:07:03.510608",
     "status": "completed"
    },
    "tags": []
   },
   "outputs": [],
   "source": [
    "num_modes = 4\n",
    "modes = mw.compute_modes(css[0], num_modes=num_modes)\n",
    "mw.visualize(modes[0])"
   ]
  },
  {
   "cell_type": "markdown",
   "id": "b5e615d7-32f5-40cd-af29-a2147a402ce1",
   "metadata": {
    "papermill": {
     "duration": 0.085818,
     "end_time": "2024-06-14T09:07:29.577789",
     "exception": false,
     "start_time": "2024-06-14T09:07:29.491971",
     "status": "completed"
    },
    "tags": []
   },
   "source": [
    "## Compute Modes (FDE)"
   ]
  },
  {
   "cell_type": "code",
   "execution_count": null,
   "id": "5bcc243c-ac0a-4880-b626-63318b84185c",
   "metadata": {
    "papermill": {
     "duration": 139.165559,
     "end_time": "2024-06-14T09:09:48.838839",
     "exception": false,
     "start_time": "2024-06-14T09:07:29.673280",
     "status": "completed"
    },
    "tags": []
   },
   "outputs": [],
   "source": [
    "%%time\n",
    "num_modes = 4\n",
    "modes = [mw.compute_modes(cs, num_modes=num_modes) for cs in css]"
   ]
  },
  {
   "cell_type": "code",
   "execution_count": null,
   "id": "64cc3f4f-686d-4081-9910-81f4a9925093",
   "metadata": {
    "papermill": {
     "duration": 1.272393,
     "end_time": "2024-06-14T09:09:50.147504",
     "exception": false,
     "start_time": "2024-06-14T09:09:48.875111",
     "status": "completed"
    },
    "tags": []
   },
   "outputs": [],
   "source": [
    "mw.visualize(modes[0][0], fields=[\"Hx\"])\n",
    "mw.visualize(modes[-1][1], fields=[\"Hx\"])"
   ]
  },
  {
   "cell_type": "markdown",
   "id": "9f7a5773-301e-43aa-8a77-31d637db8455",
   "metadata": {
    "papermill": {
     "duration": 0.06514,
     "end_time": "2024-06-14T09:09:50.309089",
     "exception": false,
     "start_time": "2024-06-14T09:09:50.243949",
     "status": "completed"
    },
    "tags": []
   },
   "source": [
    "## Calculate S-matrix (EME)"
   ]
  },
  {
   "cell_type": "code",
   "execution_count": null,
   "id": "ab85732c-a4fa-40b6-829e-3900ef0b6ce9",
   "metadata": {
    "papermill": {
     "duration": 2.329836,
     "end_time": "2024-06-14T09:09:52.677153",
     "exception": false,
     "start_time": "2024-06-14T09:09:50.347317",
     "status": "completed"
    },
    "tags": []
   },
   "outputs": [],
   "source": [
    "S, port_map = mw.compute_s_matrix(modes, cells)\n",
    "print(port_map)\n",
    "mw.visualize((abs(S), port_map))"
   ]
  }
 ],
 "metadata": {
  "kernelspec": {
   "display_name": "base",
   "language": "python",
   "name": "python3"
  },
  "language_info": {
   "codemirror_mode": {
    "name": "ipython",
    "version": 3
   },
   "file_extension": ".py",
   "mimetype": "text/x-python",
   "name": "python",
   "nbconvert_exporter": "python",
   "pygments_lexer": "ipython3",
   "version": "3.12.9"
  },
  "papermill": {
   "default_parameters": {},
   "duration": 193.762473,
   "end_time": "2024-06-14T09:09:54.626485",
   "environment_variables": {},
   "exception": null,
   "input_path": "./examples/01_gds_taper.ipynb",
   "output_path": "./examples/01_gds_taper.ipynb",
   "parameters": {},
   "start_time": "2024-06-14T09:06:40.864012",
   "version": "2.3.4"
  }
 },
 "nbformat": 4,
 "nbformat_minor": 5
}
