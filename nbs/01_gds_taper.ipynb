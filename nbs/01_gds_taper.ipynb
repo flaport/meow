{
 "cells": [
  {
   "cell_type": "markdown",
   "id": "0",
   "metadata": {},
   "source": [
    "# GDS Taper\n",
    "> Create a Taper and Simulate"
   ]
  },
  {
   "cell_type": "code",
   "execution_count": null,
   "id": "1",
   "metadata": {},
   "outputs": [],
   "source": [
    "import meow as mw\n",
    "import gdsfactory as gf  # pip install meow-sim[gf]\n",
    "from gdsfactory.cross_section import cross_section\n",
    "import matplotlib.pyplot as plt\n",
    "import numpy as np"
   ]
  },
  {
   "cell_type": "markdown",
   "id": "2",
   "metadata": {},
   "source": [
    "## Example Taper"
   ]
  },
  {
   "cell_type": "markdown",
   "id": "3",
   "metadata": {},
   "source": [
    "> Note: `meow` expects the propagation direction to be the `z`-axis! This makes the `zx`-plane parallel with the chip and the `y`-axis perpendicular to the chip. Somewhat confusingly, the (x, y) GDS coordinate tuple hence maps onto the (z, x) `meow` coordinate tuple. Whereas the y coordinate from meow denotes the direction perpendicular to the chip. (I will probably change the `meow` convention in the future.)"
   ]
  },
  {
   "cell_type": "code",
   "execution_count": null,
   "id": "4",
   "metadata": {},
   "outputs": [],
   "source": [
    "def example_gds_cross_section(\n",
    "    width: float = 0.450,\n",
    "    clad_width: float = 2.0,\n",
    ") -> gf.CrossSection:\n",
    "    \"\"\"a strip waveguide cross section\n",
    "\n",
    "    Args:\n",
    "        width:  the width of the strip waveguide\n",
    "        clad_width: the width of the cladding\n",
    "    \"\"\"\n",
    "    core_width = width\n",
    "    port_names = (\"in0\", \"out0\")\n",
    "    sections = (\n",
    "        gf.Section(width=core_width, offset=0, layer=(1, 0), name=\"core\"),\n",
    "        gf.Section(\n",
    "            width=clad_width,\n",
    "            offset=0.5 * (core_width + clad_width),\n",
    "            layer=(2, 0),\n",
    "            name=\"upper\",\n",
    "        ),\n",
    "        gf.Section(\n",
    "            width=clad_width,\n",
    "            offset=-0.5 * (core_width + clad_width),\n",
    "            layer=(2, 0),\n",
    "            name=\"lower\",\n",
    "        ),\n",
    "    )\n",
    "    cs = cross_section(\n",
    "        width=width,\n",
    "        port_names=port_names,\n",
    "        sections=sections,\n",
    "    )\n",
    "    return cs"
   ]
  },
  {
   "cell_type": "code",
   "execution_count": null,
   "id": "5",
   "metadata": {},
   "outputs": [],
   "source": [
    "@gf.cell\n",
    "def example_taper(\n",
    "    width_input: float = 0.450,\n",
    "    width_output: float = 1.0,\n",
    "    length: float = 10.0,\n",
    ") -> gf.Component:\n",
    "    \"\"\"create a linear taper\n",
    "\n",
    "    Args:\n",
    "        width_input: input width of the linear taper\n",
    "        width_output: output width of the linear taper\n",
    "        length: the length of the linear taper\n",
    "    \"\"\"\n",
    "    input_cs = example_gds_cross_section(width_input)\n",
    "    output_cs = example_gds_cross_section(width_output)\n",
    "    transition = gf.path.transition(input_cs, output_cs, width_type=\"linear\")\n",
    "    length = gf.snap.snap_to_grid(length)  # type: ignore\n",
    "    path = gf.path.straight(length)\n",
    "    component = gf.path.extrude_transition(p=path, transition=transition)\n",
    "    return component"
   ]
  },
  {
   "cell_type": "code",
   "execution_count": null,
   "id": "6",
   "metadata": {},
   "outputs": [],
   "source": [
    "taper = example_taper(width_input=0.45, width_output=1.0, length=20)\n",
    "taper"
   ]
  },
  {
   "cell_type": "markdown",
   "id": "7",
   "metadata": {},
   "source": [
    "## Example Structure Map"
   ]
  },
  {
   "cell_type": "code",
   "execution_count": null,
   "id": "8",
   "metadata": {},
   "outputs": [],
   "source": [
    "def example_extrusions(\n",
    "    t_slab: float = 0.020,\n",
    "    t_soi: float = 0.220,\n",
    "    t_ox: float = 1.0,\n",
    "):\n",
    "    \"\"\"create some simple extrusion rules\n",
    "\n",
    "    Args:\n",
    "        t_slab: the slab thickness\n",
    "        t_soi: the SOI thickness\n",
    "        t_ox: the oxide layer thickness\n",
    "    \"\"\"\n",
    "    extrusions = {\n",
    "        (1, 0): [\n",
    "            mw.GdsExtrusionRule(\n",
    "                material=mw.silicon,\n",
    "                h_min=0.0,\n",
    "                h_max=0.0 + t_soi,\n",
    "                mesh_order=1,\n",
    "            ),\n",
    "            mw.GdsExtrusionRule(\n",
    "                material=mw.silicon_oxide,\n",
    "                h_min=-1.0,\n",
    "                h_max=t_soi + t_ox,\n",
    "                buffer=t_ox / 2,\n",
    "                mesh_order=2,\n",
    "            ),\n",
    "        ],\n",
    "        (2, 0): [\n",
    "            mw.GdsExtrusionRule(\n",
    "                material=mw.silicon,\n",
    "                h_min=0.0,\n",
    "                h_max=0.0 + t_slab,\n",
    "                mesh_order=1,\n",
    "            ),\n",
    "            mw.GdsExtrusionRule(\n",
    "                material=mw.silicon_oxide,\n",
    "                h_min=-1.0,\n",
    "                h_max=t_slab + t_ox,\n",
    "                mesh_order=2,\n",
    "            ),\n",
    "        ],\n",
    "    }\n",
    "    return extrusions"
   ]
  },
  {
   "cell_type": "markdown",
   "id": "9",
   "metadata": {},
   "source": [
    "## Extrude GDS"
   ]
  },
  {
   "cell_type": "code",
   "execution_count": null,
   "id": "10",
   "metadata": {},
   "outputs": [],
   "source": [
    "extrusion_rules = example_extrusions()\n",
    "structs = mw.extrude_gds(taper, extrusion_rules)\n",
    "mw.visualize(structs, scale=(1, 1, 0.2))"
   ]
  },
  {
   "cell_type": "markdown",
   "id": "11",
   "metadata": {},
   "source": [
    "## Divide into Cells"
   ]
  },
  {
   "cell_type": "code",
   "execution_count": null,
   "id": "12",
   "metadata": {},
   "outputs": [],
   "source": [
    "w_sim = 1.0\n",
    "h_sim = 1.0\n",
    "mesh = 100\n",
    "num_cells = 10\n",
    "dbu = taper.layout().dbu\n",
    "taper_length = abs(taper.bbox().right - taper.bbox().left) * dbu\n",
    "Ls = [taper_length / num_cells for _ in range(num_cells)]\n",
    "\n",
    "cells = mw.create_cells(\n",
    "    structures=structs,\n",
    "    mesh=mw.Mesh2D(\n",
    "        x=np.linspace(-0.75, 0.75, mesh + 1),\n",
    "        y=np.linspace(-0.3, 0.5, mesh + 1),\n",
    "    ),\n",
    "    Ls=Ls,\n",
    ")\n",
    "\n",
    "mw.visualize(cells[0], cbar=False)\n",
    "plt.show()\n",
    "\n",
    "mw.visualize(cells[-1], cbar=False)\n",
    "plt.show()"
   ]
  },
  {
   "cell_type": "markdown",
   "id": "13",
   "metadata": {},
   "source": [
    "## Find Cross Sections"
   ]
  },
  {
   "cell_type": "code",
   "execution_count": null,
   "id": "14",
   "metadata": {},
   "outputs": [],
   "source": [
    "env = mw.Environment(wl=1.55, T=25.0)\n",
    "css = [mw.CrossSection.from_cell(cell=cell, env=env) for cell in cells]\n",
    "\n",
    "mw.visualize(css[0])\n",
    "mw.visualize(css[-1])"
   ]
  },
  {
   "cell_type": "code",
   "execution_count": null,
   "id": "15",
   "metadata": {},
   "outputs": [],
   "source": [
    "num_modes = 4\n",
    "modes = mw.compute_modes(css[0], num_modes=num_modes)\n",
    "mw.visualize(modes[0])"
   ]
  },
  {
   "cell_type": "markdown",
   "id": "16",
   "metadata": {},
   "source": [
    "## Compute Modes (FDE)"
   ]
  },
  {
   "cell_type": "code",
   "execution_count": null,
   "id": "17",
   "metadata": {},
   "outputs": [],
   "source": [
    "%%time\n",
    "num_modes = 4\n",
    "modes = [mw.compute_modes(cs, num_modes=num_modes) for cs in css]"
   ]
  },
  {
   "cell_type": "code",
   "execution_count": null,
   "id": "18",
   "metadata": {},
   "outputs": [],
   "source": [
    "mw.visualize(modes[0][0], fields=[\"Hx\"])\n",
    "mw.visualize(modes[-1][1], fields=[\"Hx\"])"
   ]
  },
  {
   "cell_type": "markdown",
   "id": "19",
   "metadata": {},
   "source": [
    "## Calculate S-matrix (EME)"
   ]
  },
  {
   "cell_type": "code",
   "execution_count": null,
   "id": "20",
   "metadata": {},
   "outputs": [],
   "source": [
    "S, port_map = mw.compute_s_matrix(modes, cells)\n",
    "print(port_map)\n",
    "mw.visualize((abs(S), port_map))"
   ]
  }
 ],
 "metadata": {
  "kernelspec": {
   "display_name": "meow",
   "language": "python",
   "name": "meow"
  },
  "language_info": {
   "codemirror_mode": {
    "name": "ipython",
    "version": 3
   },
   "file_extension": ".py",
   "mimetype": "text/x-python",
   "name": "python",
   "nbconvert_exporter": "python",
   "pygments_lexer": "ipython3"
  },
  "papermill": {
   "default_parameters": {},
   "duration": 8.96677,
   "end_time": "2025-06-19T13:37:04.297819",
   "environment_variables": {},
   "exception": null,
   "input_path": "nbs/01_gds_taper.ipynb",
   "output_path": "nbs/01_gds_taper.ipynb",
   "parameters": {},
   "start_time": "2025-06-19T13:36:55.331049",
   "version": "2.3.4"
  }
 },
 "nbformat": 4,
 "nbformat_minor": 5
}
