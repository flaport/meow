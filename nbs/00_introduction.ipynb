{
 "cells": [
  {
   "cell_type": "markdown",
   "id": "0",
   "metadata": {
    "papermill": {
     "duration": 0.005215,
     "end_time": "2025-06-19T13:36:55.920619",
     "exception": false,
     "start_time": "2025-06-19T13:36:55.915404",
     "status": "completed"
    },
    "tags": []
   },
   "source": [
    "# Quick Start\n",
    "\n",
    "> meow Introduction and Quick Start"
   ]
  },
  {
   "cell_type": "code",
   "execution_count": null,
   "id": "1",
   "metadata": {
    "papermill": {
     "duration": 1.961881,
     "end_time": "2025-06-19T13:36:57.885879",
     "exception": false,
     "start_time": "2025-06-19T13:36:55.923998",
     "status": "completed"
    },
    "tags": [
     "remove-cell"
    ]
   },
   "outputs": [],
   "source": [
    "import meow as mw\n",
    "import numpy as np"
   ]
  },
  {
   "cell_type": "markdown",
   "id": "2",
   "metadata": {
    "papermill": {
     "duration": 0.000837,
     "end_time": "2025-06-19T13:36:57.887919",
     "exception": false,
     "start_time": "2025-06-19T13:36:57.887082",
     "status": "completed"
    },
    "tags": []
   },
   "source": [
    "## Installation\n",
    "\n",
    "```sh\n",
    "pip install meow-sim\n",
    "```"
   ]
  },
  {
   "cell_type": "markdown",
   "id": "3",
   "metadata": {
    "papermill": {
     "duration": 0.000751,
     "end_time": "2025-06-19T13:36:57.889502",
     "exception": false,
     "start_time": "2025-06-19T13:36:57.888751",
     "status": "completed"
    },
    "tags": []
   },
   "source": [
    "## Quick Start"
   ]
  },
  {
   "cell_type": "markdown",
   "id": "4",
   "metadata": {
    "papermill": {
     "duration": 0.00071,
     "end_time": "2025-06-19T13:36:57.890974",
     "exception": false,
     "start_time": "2025-06-19T13:36:57.890264",
     "status": "completed"
    },
    "tags": []
   },
   "source": [
    "### 1. Structure\n",
    "First create the structures to be simulated. A {class}`~.meow.structures.Structure` is a collection of a {class}`~.meow.geometries.Geometry` with a {class}`~.meow.materials.Material`. \n",
    "\n",
    "> NOTE: `meow` expects the propagation direction to be the `z`-axis! This makes the `zx`-plane parallel with the chip and the `y`-axis perpendicular to the chip. Keep this in mind when creating your structures."
   ]
  },
  {
   "cell_type": "code",
   "execution_count": null,
   "id": "5",
   "metadata": {
    "papermill": {
     "duration": 0.017821,
     "end_time": "2025-06-19T13:36:57.909526",
     "exception": false,
     "start_time": "2025-06-19T13:36:57.891705",
     "status": "completed"
    },
    "tags": []
   },
   "outputs": [],
   "source": [
    "length = 10.0\n",
    "\n",
    "oxide = mw.Structure(\n",
    "    material=mw.silicon_oxide,\n",
    "    geometry=mw.Box(\n",
    "        x_min=-1.0,\n",
    "        x_max=1.0,\n",
    "        y_min=-1.0,\n",
    "        y_max=0.0,\n",
    "        z_min=0.0,\n",
    "        z_max=length,\n",
    "    ),\n",
    ")\n",
    "\n",
    "core = mw.Structure(\n",
    "    material=mw.silicon,\n",
    "    geometry=mw.Box(\n",
    "        x_min=-0.45 / 2,\n",
    "        x_max=0.45 / 2,\n",
    "        y_min=0.0,\n",
    "        y_max=0.22,\n",
    "        z_min=0,\n",
    "        z_max=length,\n",
    "    ),\n",
    ")\n",
    "\n",
    "structures = [oxide, core]\n",
    "mw.visualize(structures)"
   ]
  },
  {
   "cell_type": "markdown",
   "id": "6",
   "metadata": {
    "papermill": {
     "duration": 0.000881,
     "end_time": "2025-06-19T13:36:57.911387",
     "exception": false,
     "start_time": "2025-06-19T13:36:57.910506",
     "status": "completed"
    },
    "tags": []
   },
   "source": [
    "> NOTE: you can also extrude structures from a gds file. See {class}`~.meow.gds_structures.GdsExtrusionRule`. "
   ]
  },
  {
   "cell_type": "markdown",
   "id": "7",
   "metadata": {
    "papermill": {
     "duration": 0.000731,
     "end_time": "2025-06-19T13:36:57.912921",
     "exception": false,
     "start_time": "2025-06-19T13:36:57.912190",
     "status": "completed"
    },
    "tags": []
   },
   "source": [
    "### 2. Cells\n",
    "\n",
    "Once you have a list of {class}`~.meow.structures.Structure` objects, they need to be divided into cells. A {class}`~.meow.cell.Cell` is a combination of those structures with 2D meshing info ({class}`~.meow.mesh.Mesh2d`) and a cell length."
   ]
  },
  {
   "cell_type": "code",
   "execution_count": null,
   "id": "8",
   "metadata": {
    "papermill": {
     "duration": 0.004584,
     "end_time": "2025-06-19T13:36:57.918222",
     "exception": false,
     "start_time": "2025-06-19T13:36:57.913638",
     "status": "completed"
    },
    "tags": []
   },
   "outputs": [],
   "source": [
    "num_cells = 5\n",
    "\n",
    "cells = mw.create_cells(\n",
    "    structures=structures,\n",
    "    mesh=mw.Mesh2D(\n",
    "        x=np.linspace(-1, 1, 101),\n",
    "        y=np.linspace(-1, 1, 101),\n",
    "        # specify possible conformal mesh specifications here:\n",
    "        # bend_radius=2.0,\n",
    "        # bend_axis=1,\n",
    "        ez_interfaces=True,\n",
    "    ),\n",
    "    Ls=np.array([length / num_cells for _ in range(num_cells)]),\n",
    ")"
   ]
  },
  {
   "cell_type": "markdown",
   "id": "9",
   "metadata": {
    "papermill": {
     "duration": 0.000816,
     "end_time": "2025-06-19T13:36:57.919847",
     "exception": false,
     "start_time": "2025-06-19T13:36:57.919031",
     "status": "completed"
    },
    "tags": []
   },
   "source": [
    "A cell should be a region of (approximate) constant cross section. We can use the {func}`~.meow.visualize.visualize` function to show the cross section of a cell:"
   ]
  },
  {
   "cell_type": "code",
   "execution_count": null,
   "id": "10",
   "metadata": {
    "papermill": {
     "duration": 0.071646,
     "end_time": "2025-06-19T13:36:57.992276",
     "exception": false,
     "start_time": "2025-06-19T13:36:57.920630",
     "status": "completed"
    },
    "tags": []
   },
   "outputs": [],
   "source": [
    "mw.visualize(cells[0])"
   ]
  },
  {
   "cell_type": "markdown",
   "id": "11",
   "metadata": {
    "papermill": {
     "duration": 0.001105,
     "end_time": "2025-06-19T13:36:57.994783",
     "exception": false,
     "start_time": "2025-06-19T13:36:57.993678",
     "status": "completed"
    },
    "tags": []
   },
   "source": [
    "### 3. Cross Sections\n",
    "A {class}`~.meow.cell.Cell` contains all the {class}`~.meow.structures.Structure` info, but does not take any {class}`~.meow.environment.Environment` information (such as temparature or wavelength) into account. This information is important as it influences the refractive index of the {class}`~.meow.cross_section.CrossSection`.\n",
    "\n",
    "Therefore, combining a {class}`~.meow.cell.Cell` with an {class}`~.meow.environment.Environment` yields a {class}`~.meow.cross_section.CrossSection`:"
   ]
  },
  {
   "cell_type": "code",
   "execution_count": null,
   "id": "12",
   "metadata": {
    "papermill": {
     "duration": 0.069226,
     "end_time": "2025-06-19T13:36:58.065048",
     "exception": false,
     "start_time": "2025-06-19T13:36:57.995822",
     "status": "completed"
    },
    "tags": []
   },
   "outputs": [],
   "source": [
    "env = mw.Environment(wl=1.55, T=25.0)\n",
    "css = [mw.CrossSection.from_cell(cell=cell, env=env) for cell in cells]\n",
    "mw.visualize(css[0])"
   ]
  },
  {
   "cell_type": "markdown",
   "id": "13",
   "metadata": {
    "papermill": {
     "duration": 0.001231,
     "end_time": "2025-06-19T13:36:58.068185",
     "exception": false,
     "start_time": "2025-06-19T13:36:58.066954",
     "status": "completed"
    },
    "tags": []
   },
   "source": [
    "### 4. Find Modes (FDE)\n",
    "We can now compute multiple {class}`~.meow.modes.Modes` per {class}`~.meow.cross_section.CrossSection` using {func}`~.meow.fde.tidy3d.compute_modes`:"
   ]
  },
  {
   "cell_type": "code",
   "execution_count": null,
   "id": "14",
   "metadata": {
    "papermill": {
     "duration": 0.913142,
     "end_time": "2025-06-19T13:36:58.982484",
     "exception": false,
     "start_time": "2025-06-19T13:36:58.069342",
     "status": "completed"
    },
    "tags": []
   },
   "outputs": [],
   "source": [
    "num_modes = 4\n",
    "\n",
    "modes: list[list[mw.Mode]] = []\n",
    "for cs in css:\n",
    "    modes_in_cs = mw.compute_modes(cs, num_modes=num_modes)\n",
    "    modes.append(modes_in_cs)"
   ]
  },
  {
   "cell_type": "code",
   "execution_count": null,
   "id": "15",
   "metadata": {
    "papermill": {
     "duration": 0.149768,
     "end_time": "2025-06-19T13:36:59.134047",
     "exception": false,
     "start_time": "2025-06-19T13:36:58.984279",
     "status": "completed"
    },
    "tags": []
   },
   "outputs": [],
   "source": [
    "# show Ex component of the first mode (idx 0)\n",
    "# of the first cell (idx 0):\n",
    "mw.visualize(modes[0][0], fields=[\"Ex\"])\n",
    "# show Hx component of the second mode (idx 1)\n",
    "# of the first cell (idx 0):\n",
    "mw.visualize(modes[0][1], fields=[\"Hx\"])"
   ]
  },
  {
   "cell_type": "markdown",
   "id": "16",
   "metadata": {
    "papermill": {
     "duration": 0.001398,
     "end_time": "2025-06-19T13:36:59.137240",
     "exception": false,
     "start_time": "2025-06-19T13:36:59.135842",
     "status": "completed"
    },
    "tags": []
   },
   "source": [
    "> NOTE:  above, the {class}`~.meow.modes.Modes` of the {class}`~.meow.cross_section.CrossSection` are calculated sequentially. However, you're invited to try calculating the modes concurrently as well 😉"
   ]
  },
  {
   "cell_type": "markdown",
   "id": "17",
   "metadata": {
    "papermill": {
     "duration": 0.001312,
     "end_time": "2025-06-19T13:36:59.139918",
     "exception": false,
     "start_time": "2025-06-19T13:36:59.138606",
     "status": "completed"
    },
    "tags": []
   },
   "source": [
    "### 5. Calculate S-matrix (EME)\n",
    "\n",
    "The S-matrix of a collection of modes can now easily be calculated with {func}`~.meow.eme.tidy3d.compute_s_matrix`. This step uses the [sax](https://github.com/flaport/sax) circuit solver under the hood.\n",
    "The resulting S-matrix has is formated such that `S[0][0]` is the complex reflection coefficient from the fundamental mode into the backwards propagating fundamental mode. `S[num_modes][0]` is the transmission from the fundamental mode into the fundamental mode, following the pattern `S[<to_port>][<from_port>]`. The mapping from ports to indices is provided in `port_map`."
   ]
  },
  {
   "cell_type": "code",
   "execution_count": null,
   "id": "18",
   "metadata": {
    "papermill": {
     "duration": 0.77419,
     "end_time": "2025-06-19T13:36:59.915781",
     "exception": false,
     "start_time": "2025-06-19T13:36:59.141591",
     "status": "completed"
    },
    "tags": []
   },
   "outputs": [],
   "source": [
    "S, port_map = mw.compute_s_matrix(modes, cells)\n",
    "print(port_map)\n",
    "mw.visualize((abs(S), port_map))"
   ]
  },
  {
   "cell_type": "markdown",
   "id": "19",
   "metadata": {
    "papermill": {
     "duration": 0.001781,
     "end_time": "2025-06-19T13:36:59.919782",
     "exception": false,
     "start_time": "2025-06-19T13:36:59.918001",
     "status": "completed"
    },
    "tags": []
   },
   "source": [
    "That's it! this was a quick introduction to the `meow` library!"
   ]
  }
 ],
 "metadata": {
  "kernelspec": {
   "display_name": "meow",
   "language": "python",
   "name": "meow"
  },
  "language_info": {
   "codemirror_mode": {
    "name": "ipython",
    "version": 3
   },
   "file_extension": ".py",
   "mimetype": "text/x-python",
   "name": "python",
   "nbconvert_exporter": "python",
   "pygments_lexer": "ipython3",
   "version": "3.12.10"
  },
  "papermill": {
   "default_parameters": {},
   "duration": 7.207589,
   "end_time": "2025-06-19T13:37:02.538552",
   "environment_variables": {},
   "exception": null,
   "input_path": "nbs/00_introduction.ipynb",
   "output_path": "nbs/00_introduction.ipynb",
   "parameters": {},
   "start_time": "2025-06-19T13:36:55.330963",
   "version": "2.3.4"
  }
 },
 "nbformat": 4,
 "nbformat_minor": 5
}
