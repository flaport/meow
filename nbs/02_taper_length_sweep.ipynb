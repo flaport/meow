{
 "cells": [
  {
   "cell_type": "markdown",
   "id": "0",
   "metadata": {},
   "source": [
    "# Sweep Taper Length\n",
    "\n",
    "> Find the S-matrix of a taper for different taper lengths"
   ]
  },
  {
   "cell_type": "code",
   "execution_count": null,
   "id": "1",
   "metadata": {},
   "outputs": [],
   "source": [
    "from typing import List\n",
    "\n",
    "import matplotlib.pyplot as plt\n",
    "import meow as mw\n",
    "import numpy as np\n",
    "from tqdm.notebook import tqdm"
   ]
  },
  {
   "cell_type": "markdown",
   "id": "2",
   "metadata": {},
   "source": [
    "## Installation\n",
    "\n",
    "```sh\n",
    "pip install meow-sim\n",
    "```"
   ]
  },
  {
   "cell_type": "markdown",
   "id": "3",
   "metadata": {},
   "source": [
    "## Quick Start"
   ]
  },
  {
   "cell_type": "markdown",
   "id": "4",
   "metadata": {},
   "source": [
    "### 1. Structure"
   ]
  },
  {
   "cell_type": "code",
   "execution_count": null,
   "id": "5",
   "metadata": {},
   "outputs": [],
   "source": [
    "def create_structures(length=10.0):\n",
    "    oxide = mw.Structure(\n",
    "        material=mw.silicon_oxide,\n",
    "        geometry=mw.Prism(\n",
    "            poly=np.array([(0, -2.1), (10, -2.1), (10, 2.1), (0, 2.1)]),\n",
    "            h_min=-3,\n",
    "            h_max=0,\n",
    "            axis=\"y\",\n",
    "        ),\n",
    "    )\n",
    "\n",
    "    poly = np.array([(0, -0.45 / 2), (10, -1), (10, 1), (0, 0.45 / 2)])\n",
    "\n",
    "    core = mw.Structure(\n",
    "        material=mw.silicon,\n",
    "        geometry=mw.Prism(\n",
    "            poly=poly,\n",
    "            h_min=0,\n",
    "            h_max=0.22,\n",
    "            axis=\"y\",\n",
    "        ),\n",
    "    )\n",
    "\n",
    "    structures = [oxide, core]\n",
    "    return structures"
   ]
  },
  {
   "cell_type": "code",
   "execution_count": null,
   "id": "6",
   "metadata": {},
   "outputs": [],
   "source": [
    "mw.visualize(create_structures())"
   ]
  },
  {
   "cell_type": "markdown",
   "id": "7",
   "metadata": {},
   "source": [
    "### 2. Cells"
   ]
  },
  {
   "cell_type": "code",
   "execution_count": null,
   "id": "8",
   "metadata": {},
   "outputs": [],
   "source": [
    "def create_cells(length=10.0, cell_length=1.0):\n",
    "    num_cells = round(length / cell_length)\n",
    "    structures = create_structures(length=length)\n",
    "    cells = mw.create_cells(\n",
    "        structures=structures,\n",
    "        mesh=mw.Mesh2D(\n",
    "            x=np.linspace(-2, 2, 101),\n",
    "            y=np.linspace(-2, 2, 101),\n",
    "            # specify possible conformal mesh specifications here:\n",
    "            # bend_radius=2.0,\n",
    "            # bend_axis=1,\n",
    "        ),\n",
    "        Ls=np.array([length / num_cells for _ in range(num_cells)]),\n",
    "    )\n",
    "    return cells"
   ]
  },
  {
   "cell_type": "code",
   "execution_count": null,
   "id": "9",
   "metadata": {},
   "outputs": [],
   "source": [
    "cells = create_cells()\n",
    "mw.visualize(cells[-1])"
   ]
  },
  {
   "cell_type": "markdown",
   "id": "10",
   "metadata": {},
   "source": [
    "### 3. Cross Sections\n"
   ]
  },
  {
   "cell_type": "code",
   "execution_count": null,
   "id": "11",
   "metadata": {},
   "outputs": [],
   "source": [
    "def create_cross_sections(length=10.0, cell_length=1.0, wl=1.55, T=25.0):\n",
    "    cells = create_cells(length=length, cell_length=cell_length)\n",
    "    env = mw.Environment(wl=1.55, T=25.0)\n",
    "    css = [mw.CrossSection.from_cell(cell=cell, env=env) for cell in cells]\n",
    "    return css"
   ]
  },
  {
   "cell_type": "code",
   "execution_count": null,
   "id": "12",
   "metadata": {},
   "outputs": [],
   "source": [
    "css = create_cross_sections()\n",
    "mw.visualize(css[0])"
   ]
  },
  {
   "cell_type": "markdown",
   "id": "13",
   "metadata": {},
   "source": [
    "### 4. Find Modes (FDE)"
   ]
  },
  {
   "cell_type": "code",
   "execution_count": null,
   "id": "14",
   "metadata": {},
   "outputs": [],
   "source": [
    "def find_modes(length=10.0, cell_length=1.0, wl=1.55, T=25.0, num_modes=10):\n",
    "    css = create_cross_sections(length=length, cell_length=cell_length, wl=wl, T=T)\n",
    "    modes: List[List[mw.Mode]] = []\n",
    "    for cs in tqdm(css):\n",
    "        modes_in_cs = mw.compute_modes(cs, num_modes=num_modes)\n",
    "        modes.append(modes_in_cs)\n",
    "    return modes"
   ]
  },
  {
   "cell_type": "markdown",
   "id": "15",
   "metadata": {},
   "source": [
    "### 5. Calculate S-matrix (EME)"
   ]
  },
  {
   "cell_type": "code",
   "execution_count": null,
   "id": "16",
   "metadata": {},
   "outputs": [],
   "source": [
    "def find_s_matrix(length=10.0, cell_length=1.0, wl=1.55, T=25.0, num_modes=10):\n",
    "    modes = find_modes(\n",
    "        length=length, cell_length=cell_length, wl=wl, T=T, num_modes=num_modes\n",
    "    )\n",
    "    S, port_map = mw.compute_s_matrix(modes, cell_lengths=[cell_length for _ in modes])\n",
    "    return S, port_map"
   ]
  },
  {
   "cell_type": "code",
   "execution_count": null,
   "id": "17",
   "metadata": {},
   "outputs": [],
   "source": [
    "S1, pm1 = find_s_matrix(length=10.0)\n",
    "S2, pm2 = find_s_matrix(length=5.0)"
   ]
  },
  {
   "cell_type": "code",
   "execution_count": null,
   "id": "18",
   "metadata": {},
   "outputs": [],
   "source": [
    "mw.visualize((abs(S1), pm1))"
   ]
  },
  {
   "cell_type": "code",
   "execution_count": null,
   "id": "19",
   "metadata": {},
   "outputs": [],
   "source": [
    "mw.visualize((abs(S2), pm2))"
   ]
  }
 ],
 "metadata": {
  "kernelspec": {
   "display_name": "meow",
   "language": "python",
   "name": "meow"
  },
  "language_info": {
   "codemirror_mode": {
    "name": "ipython",
    "version": 3
   },
   "file_extension": ".py",
   "mimetype": "text/x-python",
   "name": "python",
   "nbconvert_exporter": "python",
   "pygments_lexer": "ipython3"
  },
  "vscode": {
   "interpreter": {
    "hash": "0dd118673efdbefb7257b2235dc4c000959f664fa5386b3652213e4a49c44469"
   }
  }
 },
 "nbformat": 4,
 "nbformat_minor": 5
}
