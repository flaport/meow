{
 "cells": [
  {
   "cell_type": "markdown",
   "id": "0",
   "metadata": {
    "papermill": {
     "duration": 0.007292,
     "end_time": "2024-06-14T09:06:42.722552",
     "exception": false,
     "start_time": "2024-06-14T09:06:42.715260",
     "status": "completed"
    },
    "tags": []
   },
   "source": [
    "# Sweep Taper Length\n",
    "\n",
    "> Find the S-matrix of a taper for different taper lengths"
   ]
  },
  {
   "cell_type": "code",
   "execution_count": null,
   "id": "1",
   "metadata": {
    "papermill": {
     "duration": 6.481519,
     "end_time": "2024-06-14T09:06:49.214394",
     "exception": false,
     "start_time": "2024-06-14T09:06:42.732875",
     "status": "completed"
    },
    "tags": [
     "remove-cell"
    ]
   },
   "outputs": [],
   "source": [
    "from typing import List\n",
    "\n",
    "import matplotlib.pyplot as plt\n",
    "import meow as mw\n",
    "import numpy as np\n",
    "from tqdm.notebook import tqdm"
   ]
  },
  {
   "cell_type": "markdown",
   "id": "2",
   "metadata": {
    "papermill": {
     "duration": 0.004554,
     "end_time": "2024-06-14T09:06:49.223623",
     "exception": false,
     "start_time": "2024-06-14T09:06:49.219069",
     "status": "completed"
    },
    "tags": []
   },
   "source": [
    "## Installation\n",
    "\n",
    "```sh\n",
    "pip install meow-sim\n",
    "```"
   ]
  },
  {
   "cell_type": "markdown",
   "id": "3",
   "metadata": {
    "papermill": {
     "duration": 0.004443,
     "end_time": "2024-06-14T09:06:49.233329",
     "exception": false,
     "start_time": "2024-06-14T09:06:49.228886",
     "status": "completed"
    },
    "tags": []
   },
   "source": [
    "## Quick Start"
   ]
  },
  {
   "cell_type": "markdown",
   "id": "4",
   "metadata": {
    "papermill": {
     "duration": 0.004725,
     "end_time": "2024-06-14T09:06:49.242591",
     "exception": false,
     "start_time": "2024-06-14T09:06:49.237866",
     "status": "completed"
    },
    "tags": []
   },
   "source": [
    "### 1. Structure"
   ]
  },
  {
   "cell_type": "code",
   "execution_count": null,
   "id": "5",
   "metadata": {
    "papermill": {
     "duration": 0.025659,
     "end_time": "2024-06-14T09:06:49.272798",
     "exception": false,
     "start_time": "2024-06-14T09:06:49.247139",
     "status": "completed"
    },
    "tags": []
   },
   "outputs": [],
   "source": [
    "def create_structures(length=10.0):\n",
    "    oxide = mw.Structure(\n",
    "        material=mw.silicon_oxide,\n",
    "        geometry=mw.Prism(\n",
    "            poly=np.array([(0, -2.1), (10, -2.1), (10, 2.1), (0, 2.1)]),\n",
    "            h_min=-3,\n",
    "            h_max=0,\n",
    "            axis=\"y\",\n",
    "        ),\n",
    "    )\n",
    "\n",
    "    poly = np.array([(0, -0.45 / 2), (10, -1), (10, 1), (0, 0.45 / 2)])\n",
    "\n",
    "    core = mw.Structure(\n",
    "        material=mw.silicon,\n",
    "        geometry=mw.Prism(\n",
    "            poly=poly,\n",
    "            h_min=0,\n",
    "            h_max=0.22,\n",
    "            axis=\"y\",\n",
    "        ),\n",
    "    )\n",
    "\n",
    "    structures = [oxide, core]\n",
    "    return structures"
   ]
  },
  {
   "cell_type": "code",
   "execution_count": null,
   "id": "6",
   "metadata": {
    "papermill": {
     "duration": 0.607872,
     "end_time": "2024-06-14T09:06:49.892987",
     "exception": false,
     "start_time": "2024-06-14T09:06:49.285115",
     "status": "completed"
    },
    "tags": []
   },
   "outputs": [],
   "source": [
    "mw.visualize(create_structures())"
   ]
  },
  {
   "cell_type": "markdown",
   "id": "7",
   "metadata": {
    "papermill": {
     "duration": 0.068529,
     "end_time": "2024-06-14T09:06:50.022265",
     "exception": false,
     "start_time": "2024-06-14T09:06:49.953736",
     "status": "completed"
    },
    "tags": []
   },
   "source": [
    "### 2. Cells"
   ]
  },
  {
   "cell_type": "code",
   "execution_count": null,
   "id": "8",
   "metadata": {
    "papermill": {
     "duration": 0.084166,
     "end_time": "2024-06-14T09:06:50.187593",
     "exception": false,
     "start_time": "2024-06-14T09:06:50.103427",
     "status": "completed"
    },
    "tags": []
   },
   "outputs": [],
   "source": [
    "def create_cells(length=10.0, cell_length=1.0):\n",
    "    num_cells = round(length / cell_length)\n",
    "    structures = create_structures(length=length)\n",
    "    cells = mw.create_cells(\n",
    "        structures=structures,\n",
    "        mesh=mw.Mesh2D(\n",
    "            x=np.linspace(-2, 2, 101),\n",
    "            y=np.linspace(-2, 2, 101),\n",
    "            # specify possible conformal mesh specifications here:\n",
    "            # bend_radius=2.0,\n",
    "            # bend_axis=1,\n",
    "        ),\n",
    "        Ls=np.array([length / num_cells for _ in range(num_cells)]),\n",
    "    )\n",
    "    return cells"
   ]
  },
  {
   "cell_type": "code",
   "execution_count": null,
   "id": "9",
   "metadata": {
    "papermill": {
     "duration": 1.232768,
     "end_time": "2024-06-14T09:06:51.460013",
     "exception": false,
     "start_time": "2024-06-14T09:06:50.227245",
     "status": "completed"
    },
    "tags": []
   },
   "outputs": [],
   "source": [
    "cells = create_cells()\n",
    "mw.visualize(cells[-1])"
   ]
  },
  {
   "cell_type": "markdown",
   "id": "10",
   "metadata": {
    "papermill": {
     "duration": 0.093522,
     "end_time": "2024-06-14T09:06:51.615187",
     "exception": false,
     "start_time": "2024-06-14T09:06:51.521665",
     "status": "completed"
    },
    "tags": []
   },
   "source": [
    "### 3. Cross Sections\n"
   ]
  },
  {
   "cell_type": "code",
   "execution_count": null,
   "id": "11",
   "metadata": {
    "papermill": {
     "duration": 0.056036,
     "end_time": "2024-06-14T09:06:51.766743",
     "exception": false,
     "start_time": "2024-06-14T09:06:51.710707",
     "status": "completed"
    },
    "tags": []
   },
   "outputs": [],
   "source": [
    "def create_cross_sections(length=10.0, cell_length=1.0, wl=1.55, T=25.0):\n",
    "    cells = create_cells(length=length, cell_length=cell_length)\n",
    "    env = mw.Environment(wl=1.55, T=25.0)\n",
    "    css = [mw.CrossSection.from_cell(cell=cell, env=env) for cell in cells]\n",
    "    return css"
   ]
  },
  {
   "cell_type": "code",
   "execution_count": null,
   "id": "12",
   "metadata": {
    "papermill": {
     "duration": 3.797597,
     "end_time": "2024-06-14T09:06:55.673879",
     "exception": false,
     "start_time": "2024-06-14T09:06:51.876282",
     "status": "completed"
    },
    "tags": []
   },
   "outputs": [],
   "source": [
    "css = create_cross_sections()\n",
    "mw.visualize(css[0])"
   ]
  },
  {
   "cell_type": "markdown",
   "id": "13",
   "metadata": {
    "papermill": {
     "duration": 0.083222,
     "end_time": "2024-06-14T09:06:55.838210",
     "exception": false,
     "start_time": "2024-06-14T09:06:55.754988",
     "status": "completed"
    },
    "tags": []
   },
   "source": [
    "### 4. Find Modes (FDE)"
   ]
  },
  {
   "cell_type": "code",
   "execution_count": null,
   "id": "14",
   "metadata": {
    "papermill": {
     "duration": 0.142535,
     "end_time": "2024-06-14T09:06:56.092923",
     "exception": false,
     "start_time": "2024-06-14T09:06:55.950388",
     "status": "completed"
    },
    "tags": []
   },
   "outputs": [],
   "source": [
    "def find_modes(length=10.0, cell_length=1.0, wl=1.55, T=25.0, num_modes=10):\n",
    "    css = create_cross_sections(length=length, cell_length=cell_length, wl=wl, T=T)\n",
    "    modes: List[List[mw.Mode]] = []\n",
    "    for cs in tqdm(css):\n",
    "        modes_in_cs = mw.compute_modes(cs, num_modes=num_modes)\n",
    "        modes.append(modes_in_cs)\n",
    "    return modes"
   ]
  },
  {
   "cell_type": "markdown",
   "id": "15",
   "metadata": {
    "papermill": {
     "duration": 0.144994,
     "end_time": "2024-06-14T09:06:56.380410",
     "exception": false,
     "start_time": "2024-06-14T09:06:56.235416",
     "status": "completed"
    },
    "tags": []
   },
   "source": [
    "### 5. Calculate S-matrix (EME)"
   ]
  },
  {
   "cell_type": "code",
   "execution_count": null,
   "id": "16",
   "metadata": {
    "papermill": {
     "duration": 0.166481,
     "end_time": "2024-06-14T09:06:56.634591",
     "exception": false,
     "start_time": "2024-06-14T09:06:56.468110",
     "status": "completed"
    },
    "tags": []
   },
   "outputs": [],
   "source": [
    "def find_s_matrix(length=10.0, cell_length=1.0, wl=1.55, T=25.0, num_modes=10):\n",
    "    modes = find_modes(\n",
    "        length=length, cell_length=cell_length, wl=wl, T=T, num_modes=num_modes\n",
    "    )\n",
    "    S, port_map = mw.compute_s_matrix(modes, cell_lengths=[cell_length for _ in modes])\n",
    "    return S, port_map"
   ]
  },
  {
   "cell_type": "code",
   "execution_count": null,
   "id": "17",
   "metadata": {
    "papermill": {
     "duration": 229.409881,
     "end_time": "2024-06-14T09:10:46.174837",
     "exception": false,
     "start_time": "2024-06-14T09:06:56.764956",
     "status": "completed"
    },
    "tags": []
   },
   "outputs": [],
   "source": [
    "S1, pm1 = find_s_matrix(length=10.0)\n",
    "S2, pm2 = find_s_matrix(length=5.0)"
   ]
  },
  {
   "cell_type": "code",
   "execution_count": null,
   "id": "18",
   "metadata": {
    "papermill": {
     "duration": 1.430454,
     "end_time": "2024-06-14T09:10:47.668009",
     "exception": false,
     "start_time": "2024-06-14T09:10:46.237555",
     "status": "completed"
    },
    "tags": []
   },
   "outputs": [],
   "source": [
    "mw.visualize((abs(S1), pm1))"
   ]
  },
  {
   "cell_type": "code",
   "execution_count": null,
   "id": "19",
   "metadata": {
    "papermill": {
     "duration": 0.492795,
     "end_time": "2024-06-14T09:10:48.236208",
     "exception": false,
     "start_time": "2024-06-14T09:10:47.743413",
     "status": "completed"
    },
    "tags": []
   },
   "outputs": [],
   "source": [
    "mw.visualize((abs(S2), pm2))"
   ]
  }
 ],
 "metadata": {
  "kernelspec": {
   "display_name": "meow",
   "language": "python",
   "name": "meow"
  },
  "language_info": {
   "codemirror_mode": {
    "name": "ipython",
    "version": 3
   },
   "file_extension": ".py",
   "mimetype": "text/x-python",
   "name": "python",
   "nbconvert_exporter": "python",
   "pygments_lexer": "ipython3",
   "version": "3.12.10"
  },
  "papermill": {
   "default_parameters": {},
   "duration": 248.403069,
   "end_time": "2024-06-14T09:10:49.267912",
   "environment_variables": {},
   "exception": null,
   "input_path": "./examples/02_taper_length_sweep.ipynb",
   "output_path": "./examples/02_taper_length_sweep.ipynb",
   "parameters": {},
   "start_time": "2024-06-14T09:06:40.864843",
   "version": "2.3.4"
  },
  "vscode": {
   "interpreter": {
    "hash": "0dd118673efdbefb7257b2235dc4c000959f664fa5386b3652213e4a49c44469"
   }
  }
 },
 "nbformat": 4,
 "nbformat_minor": 5
}
