{
 "cells": [
  {
   "cell_type": "markdown",
   "id": "0",
   "metadata": {
    "papermill": {
     "duration": 0.004427,
     "end_time": "2025-06-19T13:36:55.928008",
     "exception": false,
     "start_time": "2025-06-19T13:36:55.923581",
     "status": "completed"
    },
    "tags": []
   },
   "source": [
    "# Sweep Taper Length\n",
    "\n",
    "> Find the S-matrix of a taper for different taper lengths"
   ]
  },
  {
   "cell_type": "code",
   "execution_count": null,
   "id": "1",
   "metadata": {
    "papermill": {
     "duration": 1.993758,
     "end_time": "2025-06-19T13:36:57.925398",
     "exception": false,
     "start_time": "2025-06-19T13:36:55.931640",
     "status": "completed"
    },
    "tags": [
     "remove-cell"
    ]
   },
   "outputs": [],
   "source": [
    "from typing import List\n",
    "\n",
    "import matplotlib.pyplot as plt\n",
    "import meow as mw\n",
    "import numpy as np\n",
    "from tqdm.notebook import tqdm"
   ]
  },
  {
   "cell_type": "markdown",
   "id": "2",
   "metadata": {
    "papermill": {
     "duration": 0.000849,
     "end_time": "2025-06-19T13:36:57.927322",
     "exception": false,
     "start_time": "2025-06-19T13:36:57.926473",
     "status": "completed"
    },
    "tags": []
   },
   "source": [
    "## Installation\n",
    "\n",
    "```sh\n",
    "pip install meow-sim\n",
    "```"
   ]
  },
  {
   "cell_type": "markdown",
   "id": "3",
   "metadata": {
    "papermill": {
     "duration": 0.000791,
     "end_time": "2025-06-19T13:36:57.928910",
     "exception": false,
     "start_time": "2025-06-19T13:36:57.928119",
     "status": "completed"
    },
    "tags": []
   },
   "source": [
    "## Quick Start"
   ]
  },
  {
   "cell_type": "markdown",
   "id": "4",
   "metadata": {
    "papermill": {
     "duration": 0.000751,
     "end_time": "2025-06-19T13:36:57.930389",
     "exception": false,
     "start_time": "2025-06-19T13:36:57.929638",
     "status": "completed"
    },
    "tags": []
   },
   "source": [
    "### 1. Structure"
   ]
  },
  {
   "cell_type": "code",
   "execution_count": null,
   "id": "5",
   "metadata": {
    "papermill": {
     "duration": 0.004725,
     "end_time": "2025-06-19T13:36:57.935988",
     "exception": false,
     "start_time": "2025-06-19T13:36:57.931263",
     "status": "completed"
    },
    "tags": []
   },
   "outputs": [],
   "source": [
    "def create_structures(length=10.0):\n",
    "    oxide = mw.Structure(\n",
    "        material=mw.silicon_oxide,\n",
    "        geometry=mw.Prism(\n",
    "            poly=np.array([(0, -2.1), (10, -2.1), (10, 2.1), (0, 2.1)]),\n",
    "            h_min=-3,\n",
    "            h_max=0,\n",
    "            axis=\"y\",\n",
    "        ),\n",
    "    )\n",
    "\n",
    "    poly = np.array([(0, -0.45 / 2), (10, -1), (10, 1), (0, 0.45 / 2)])\n",
    "\n",
    "    core = mw.Structure(\n",
    "        material=mw.silicon,\n",
    "        geometry=mw.Prism(\n",
    "            poly=poly,\n",
    "            h_min=0,\n",
    "            h_max=0.22,\n",
    "            axis=\"y\",\n",
    "        ),\n",
    "    )\n",
    "\n",
    "    structures = [oxide, core]\n",
    "    return structures"
   ]
  },
  {
   "cell_type": "code",
   "execution_count": null,
   "id": "6",
   "metadata": {
    "papermill": {
     "duration": 0.013665,
     "end_time": "2025-06-19T13:36:57.950613",
     "exception": false,
     "start_time": "2025-06-19T13:36:57.936948",
     "status": "completed"
    },
    "tags": []
   },
   "outputs": [],
   "source": [
    "mw.visualize(create_structures())"
   ]
  },
  {
   "cell_type": "markdown",
   "id": "7",
   "metadata": {
    "papermill": {
     "duration": 0.000865,
     "end_time": "2025-06-19T13:36:57.952524",
     "exception": false,
     "start_time": "2025-06-19T13:36:57.951659",
     "status": "completed"
    },
    "tags": []
   },
   "source": [
    "### 2. Cells"
   ]
  },
  {
   "cell_type": "code",
   "execution_count": null,
   "id": "8",
   "metadata": {
    "papermill": {
     "duration": 0.004541,
     "end_time": "2025-06-19T13:36:57.957882",
     "exception": false,
     "start_time": "2025-06-19T13:36:57.953341",
     "status": "completed"
    },
    "tags": []
   },
   "outputs": [],
   "source": [
    "def create_cells(length=10.0, cell_length=1.0):\n",
    "    num_cells = round(length / cell_length)\n",
    "    structures = create_structures(length=length)\n",
    "    cells = mw.create_cells(\n",
    "        structures=structures,\n",
    "        mesh=mw.Mesh2D(\n",
    "            x=np.linspace(-2, 2, 101),\n",
    "            y=np.linspace(-2, 2, 101),\n",
    "            # specify possible conformal mesh specifications here:\n",
    "            # bend_radius=2.0,\n",
    "            # bend_axis=1,\n",
    "        ),\n",
    "        Ls=np.array([length / num_cells for _ in range(num_cells)]),\n",
    "    )\n",
    "    return cells"
   ]
  },
  {
   "cell_type": "code",
   "execution_count": null,
   "id": "9",
   "metadata": {
    "papermill": {
     "duration": 0.076044,
     "end_time": "2025-06-19T13:36:58.035012",
     "exception": false,
     "start_time": "2025-06-19T13:36:57.958968",
     "status": "completed"
    },
    "tags": []
   },
   "outputs": [],
   "source": [
    "cells = create_cells()\n",
    "mw.visualize(cells[-1])"
   ]
  },
  {
   "cell_type": "markdown",
   "id": "10",
   "metadata": {
    "papermill": {
     "duration": 0.001144,
     "end_time": "2025-06-19T13:36:58.037546",
     "exception": false,
     "start_time": "2025-06-19T13:36:58.036402",
     "status": "completed"
    },
    "tags": []
   },
   "source": [
    "### 3. Cross Sections\n"
   ]
  },
  {
   "cell_type": "code",
   "execution_count": null,
   "id": "11",
   "metadata": {
    "papermill": {
     "duration": 0.004843,
     "end_time": "2025-06-19T13:36:58.043511",
     "exception": false,
     "start_time": "2025-06-19T13:36:58.038668",
     "status": "completed"
    },
    "tags": []
   },
   "outputs": [],
   "source": [
    "def create_cross_sections(length=10.0, cell_length=1.0, wl=1.55, T=25.0):\n",
    "    cells = create_cells(length=length, cell_length=cell_length)\n",
    "    env = mw.Environment(wl=1.55, T=25.0)\n",
    "    css = [mw.CrossSection.from_cell(cell=cell, env=env) for cell in cells]\n",
    "    return css"
   ]
  },
  {
   "cell_type": "code",
   "execution_count": null,
   "id": "12",
   "metadata": {
    "papermill": {
     "duration": 0.064582,
     "end_time": "2025-06-19T13:36:58.109479",
     "exception": false,
     "start_time": "2025-06-19T13:36:58.044897",
     "status": "completed"
    },
    "tags": []
   },
   "outputs": [],
   "source": [
    "css = create_cross_sections()\n",
    "mw.visualize(css[0])"
   ]
  },
  {
   "cell_type": "markdown",
   "id": "13",
   "metadata": {
    "papermill": {
     "duration": 0.001192,
     "end_time": "2025-06-19T13:36:58.112385",
     "exception": false,
     "start_time": "2025-06-19T13:36:58.111193",
     "status": "completed"
    },
    "tags": []
   },
   "source": [
    "### 4. Find Modes (FDE)"
   ]
  },
  {
   "cell_type": "code",
   "execution_count": null,
   "id": "14",
   "metadata": {
    "papermill": {
     "duration": 0.004778,
     "end_time": "2025-06-19T13:36:58.118171",
     "exception": false,
     "start_time": "2025-06-19T13:36:58.113393",
     "status": "completed"
    },
    "tags": []
   },
   "outputs": [],
   "source": [
    "def find_modes(length=10.0, cell_length=1.0, wl=1.55, T=25.0, num_modes=10):\n",
    "    css = create_cross_sections(length=length, cell_length=cell_length, wl=wl, T=T)\n",
    "    modes: List[List[mw.Mode]] = []\n",
    "    for cs in tqdm(css):\n",
    "        modes_in_cs = mw.compute_modes(cs, num_modes=num_modes)\n",
    "        modes.append(modes_in_cs)\n",
    "    return modes"
   ]
  },
  {
   "cell_type": "markdown",
   "id": "15",
   "metadata": {
    "papermill": {
     "duration": 0.001192,
     "end_time": "2025-06-19T13:36:58.120758",
     "exception": false,
     "start_time": "2025-06-19T13:36:58.119566",
     "status": "completed"
    },
    "tags": []
   },
   "source": [
    "### 5. Calculate S-matrix (EME)"
   ]
  },
  {
   "cell_type": "code",
   "execution_count": null,
   "id": "16",
   "metadata": {
    "papermill": {
     "duration": 0.004547,
     "end_time": "2025-06-19T13:36:58.126544",
     "exception": false,
     "start_time": "2025-06-19T13:36:58.121997",
     "status": "completed"
    },
    "tags": []
   },
   "outputs": [],
   "source": [
    "def find_s_matrix(length=10.0, cell_length=1.0, wl=1.55, T=25.0, num_modes=10):\n",
    "    modes = find_modes(\n",
    "        length=length, cell_length=cell_length, wl=wl, T=T, num_modes=num_modes\n",
    "    )\n",
    "    S, port_map = mw.compute_s_matrix(modes, cell_lengths=[cell_length for _ in modes])\n",
    "    return S, port_map"
   ]
  },
  {
   "cell_type": "code",
   "execution_count": null,
   "id": "17",
   "metadata": {
    "papermill": {
     "duration": 6.387026,
     "end_time": "2025-06-19T13:37:04.514954",
     "exception": false,
     "start_time": "2025-06-19T13:36:58.127928",
     "status": "completed"
    },
    "tags": []
   },
   "outputs": [],
   "source": [
    "S1, pm1 = find_s_matrix(length=10.0)\n",
    "S2, pm2 = find_s_matrix(length=5.0)"
   ]
  },
  {
   "cell_type": "code",
   "execution_count": null,
   "id": "18",
   "metadata": {
    "papermill": {
     "duration": 0.081308,
     "end_time": "2025-06-19T13:37:04.597634",
     "exception": false,
     "start_time": "2025-06-19T13:37:04.516326",
     "status": "completed"
    },
    "tags": []
   },
   "outputs": [],
   "source": [
    "mw.visualize((abs(S1), pm1))"
   ]
  },
  {
   "cell_type": "code",
   "execution_count": null,
   "id": "19",
   "metadata": {
    "papermill": {
     "duration": 0.07468,
     "end_time": "2025-06-19T13:37:04.673722",
     "exception": false,
     "start_time": "2025-06-19T13:37:04.599042",
     "status": "completed"
    },
    "tags": []
   },
   "outputs": [],
   "source": [
    "mw.visualize((abs(S2), pm2))"
   ]
  }
 ],
 "metadata": {
  "kernelspec": {
   "display_name": "meow",
   "language": "python",
   "name": "meow"
  },
  "language_info": {
   "codemirror_mode": {
    "name": "ipython",
    "version": 3
   },
   "file_extension": ".py",
   "mimetype": "text/x-python",
   "name": "python",
   "nbconvert_exporter": "python",
   "pygments_lexer": "ipython3",
   "version": "3.12.10"
  },
  "papermill": {
   "default_parameters": {},
   "duration": 11.960524,
   "end_time": "2025-06-19T13:37:07.291291",
   "environment_variables": {},
   "exception": null,
   "input_path": "nbs/02_taper_length_sweep.ipynb",
   "output_path": "nbs/02_taper_length_sweep.ipynb",
   "parameters": {},
   "start_time": "2025-06-19T13:36:55.330767",
   "version": "2.3.4"
  },
  "vscode": {
   "interpreter": {
    "hash": "0dd118673efdbefb7257b2235dc4c000959f664fa5386b3652213e4a49c44469"
   }
  }
 },
 "nbformat": 4,
 "nbformat_minor": 5
}
