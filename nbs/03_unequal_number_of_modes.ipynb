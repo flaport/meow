{
 "cells": [
  {
   "cell_type": "markdown",
   "id": "0",
   "metadata": {
    "papermill": {
     "duration": 0.004552,
     "end_time": "2025-06-19T13:36:55.920616",
     "exception": false,
     "start_time": "2025-06-19T13:36:55.916064",
     "status": "completed"
    },
    "tags": []
   },
   "source": [
    "# Unequal Number of Modes\n",
    "\n",
    "> Find the S-matrix of a structure for which each slice has a different number of modes (contributed by @jan-david-black)"
   ]
  },
  {
   "cell_type": "code",
   "execution_count": null,
   "id": "1",
   "metadata": {
    "id": "4tRtbXVHpFK3",
    "papermill": {
     "duration": 1.973407,
     "end_time": "2025-06-19T13:36:57.897249",
     "exception": false,
     "start_time": "2025-06-19T13:36:55.923842",
     "status": "completed"
    },
    "tags": []
   },
   "outputs": [],
   "source": [
    "import meow as mw\n",
    "import numpy as np"
   ]
  },
  {
   "cell_type": "code",
   "execution_count": null,
   "id": "2",
   "metadata": {
    "id": "oU-R6EV6pjr-",
    "papermill": {
     "duration": 0.004271,
     "end_time": "2025-06-19T13:36:57.902367",
     "exception": false,
     "start_time": "2025-06-19T13:36:57.898096",
     "status": "completed"
    },
    "tags": []
   },
   "outputs": [],
   "source": [
    "def create_structures(length=10.0):\n",
    "    oxide = mw.Structure(\n",
    "        material=mw.silicon_oxide,\n",
    "        geometry=mw.Prism(\n",
    "            poly=np.array([(0, -2.1), (10, -2.1), (10, 2.1), (0, 2.1)]),\n",
    "            h_min=-3,\n",
    "            h_max=0,\n",
    "            axis=\"y\",\n",
    "        ),\n",
    "    )\n",
    "\n",
    "    poly = np.array([(0, -0.45 / 2), (10, -0.5 / 2), (10, 0.5 / 2), (0, 0.45 / 2)])\n",
    "\n",
    "    core = mw.Structure(\n",
    "        material=mw.silicon,\n",
    "        geometry=mw.Prism(\n",
    "            poly=poly,\n",
    "            h_min=0,\n",
    "            h_max=0.22,\n",
    "            axis=\"y\",\n",
    "        ),\n",
    "    )\n",
    "\n",
    "    structures = [oxide, core]\n",
    "    return structures"
   ]
  },
  {
   "cell_type": "code",
   "execution_count": null,
   "id": "3",
   "metadata": {
    "papermill": {
     "duration": 0.013853,
     "end_time": "2025-06-19T13:36:57.917032",
     "exception": false,
     "start_time": "2025-06-19T13:36:57.903179",
     "status": "completed"
    },
    "tags": []
   },
   "outputs": [],
   "source": [
    "mw.visualize(create_structures())"
   ]
  },
  {
   "cell_type": "code",
   "execution_count": null,
   "id": "4",
   "metadata": {
    "id": "FLcaDGAKpuvY",
    "papermill": {
     "duration": 0.003973,
     "end_time": "2025-06-19T13:36:57.921806",
     "exception": false,
     "start_time": "2025-06-19T13:36:57.917833",
     "status": "completed"
    },
    "tags": []
   },
   "outputs": [],
   "source": [
    "def create_cells(length=10.0, num_cells=2):\n",
    "    structures = create_structures(length=length)\n",
    "    cells = mw.create_cells(\n",
    "        structures=structures,\n",
    "        mesh=mw.Mesh2D(\n",
    "            x=np.linspace(-2, 2, 101),\n",
    "            y=np.linspace(-2, 2, 101),\n",
    "            # specify possible conformal mesh specifications here:\n",
    "            # bend_radius=2.0,\n",
    "            # bend_axis=1,\n",
    "        ),\n",
    "        Ls=np.array([length / num_cells for _ in range(num_cells)]),\n",
    "    )\n",
    "    return cells"
   ]
  },
  {
   "cell_type": "code",
   "execution_count": null,
   "id": "5",
   "metadata": {
    "id": "Ugo1IawKqBIJ",
    "papermill": {
     "duration": 0.005142,
     "end_time": "2025-06-19T13:36:57.927728",
     "exception": false,
     "start_time": "2025-06-19T13:36:57.922586",
     "status": "completed"
    },
    "tags": []
   },
   "outputs": [],
   "source": [
    "cells = create_cells(10, 2)\n",
    "env = mw.Environment(wl=1.55, T=25.0)\n",
    "css = [mw.CrossSection.from_cell(cell=cell, env=env) for cell in cells]"
   ]
  },
  {
   "cell_type": "markdown",
   "id": "6",
   "metadata": {
    "papermill": {
     "duration": 0.000859,
     "end_time": "2025-06-19T13:36:57.929426",
     "exception": false,
     "start_time": "2025-06-19T13:36:57.928567",
     "status": "completed"
    },
    "tags": []
   },
   "source": [
    "## Equal number of modes"
   ]
  },
  {
   "cell_type": "code",
   "execution_count": null,
   "id": "7",
   "metadata": {
    "id": "y-NHn08PqQaD",
    "papermill": {
     "duration": 0.432897,
     "end_time": "2025-06-19T13:36:58.363038",
     "exception": false,
     "start_time": "2025-06-19T13:36:57.930141",
     "status": "completed"
    },
    "tags": []
   },
   "outputs": [],
   "source": [
    "modes = [mw.compute_modes(cs, num_modes=4) for cs in css]"
   ]
  },
  {
   "cell_type": "code",
   "execution_count": null,
   "id": "8",
   "metadata": {
    "papermill": {
     "duration": 0.005289,
     "end_time": "2025-06-19T13:36:58.369761",
     "exception": false,
     "start_time": "2025-06-19T13:36:58.364472",
     "status": "completed"
    },
    "tags": []
   },
   "outputs": [],
   "source": [
    "for ms in modes:\n",
    "    print(len(ms))"
   ]
  },
  {
   "cell_type": "code",
   "execution_count": null,
   "id": "9",
   "metadata": {
    "papermill": {
     "duration": 0.560516,
     "end_time": "2025-06-19T13:36:58.931639",
     "exception": false,
     "start_time": "2025-06-19T13:36:58.371123",
     "status": "completed"
    },
    "tags": []
   },
   "outputs": [],
   "source": [
    "for ms in modes:\n",
    "    for m in ms:\n",
    "        mw.visualize(m)"
   ]
  },
  {
   "cell_type": "code",
   "execution_count": null,
   "id": "10",
   "metadata": {
    "colab": {
     "base_uri": "https://localhost:8080/",
     "height": 319
    },
    "id": "2bpFKwNTq_-j",
    "outputId": "63a0536a-d071-48d2-ce3c-1f8632cee90a",
    "papermill": {
     "duration": 0.71565,
     "end_time": "2025-06-19T13:36:59.649773",
     "exception": false,
     "start_time": "2025-06-19T13:36:58.934123",
     "status": "completed"
    },
    "tags": []
   },
   "outputs": [],
   "source": [
    "S, pm = mw.compute_s_matrix(modes, cells)\n",
    "mw.visualize((abs(S), pm))"
   ]
  },
  {
   "cell_type": "markdown",
   "id": "11",
   "metadata": {
    "papermill": {
     "duration": 0.002393,
     "end_time": "2025-06-19T13:36:59.655628",
     "exception": false,
     "start_time": "2025-06-19T13:36:59.653235",
     "status": "completed"
    },
    "tags": []
   },
   "source": [
    "## Unequal number of modes"
   ]
  },
  {
   "cell_type": "code",
   "execution_count": null,
   "id": "12",
   "metadata": {
    "id": "oPiOiYcsqq7i",
    "papermill": {
     "duration": 0.006882,
     "end_time": "2025-06-19T13:36:59.666452",
     "exception": false,
     "start_time": "2025-06-19T13:36:59.659570",
     "status": "completed"
    },
    "tags": []
   },
   "outputs": [],
   "source": [
    "modes[0] = modes[0][:2]\n",
    "modes[-1] = modes[-1][:3]"
   ]
  },
  {
   "cell_type": "code",
   "execution_count": null,
   "id": "13",
   "metadata": {
    "papermill": {
     "duration": 0.006466,
     "end_time": "2025-06-19T13:36:59.675333",
     "exception": false,
     "start_time": "2025-06-19T13:36:59.668867",
     "status": "completed"
    },
    "tags": []
   },
   "outputs": [],
   "source": [
    "for ms in modes:\n",
    "    print(len(ms))"
   ]
  },
  {
   "cell_type": "code",
   "execution_count": null,
   "id": "14",
   "metadata": {
    "colab": {
     "base_uri": "https://localhost:8080/",
     "height": 319
    },
    "id": "2bpFKwNTq_-j",
    "outputId": "63a0536a-d071-48d2-ce3c-1f8632cee90a",
    "papermill": {
     "duration": 0.646236,
     "end_time": "2025-06-19T13:37:00.324019",
     "exception": false,
     "start_time": "2025-06-19T13:36:59.677783",
     "status": "completed"
    },
    "tags": []
   },
   "outputs": [],
   "source": [
    "S, pm = mw.compute_s_matrix(modes, cells)\n",
    "mw.visualize((abs(S), pm))"
   ]
  }
 ],
 "metadata": {
  "colab": {
   "provenance": []
  },
  "kernelspec": {
   "display_name": "meow",
   "language": "python",
   "name": "meow"
  },
  "language_info": {
   "codemirror_mode": {
    "name": "ipython",
    "version": 3
   },
   "file_extension": ".py",
   "mimetype": "text/x-python",
   "name": "python",
   "nbconvert_exporter": "python",
   "pygments_lexer": "ipython3",
   "version": "3.12.10"
  },
  "papermill": {
   "default_parameters": {},
   "duration": 7.611368,
   "end_time": "2025-06-19T13:37:02.942750",
   "environment_variables": {},
   "exception": null,
   "input_path": "nbs/03_unequal_number_of_modes.ipynb",
   "output_path": "nbs/03_unequal_number_of_modes.ipynb",
   "parameters": {},
   "start_time": "2025-06-19T13:36:55.331382",
   "version": "2.4.0"
  }
 },
 "nbformat": 4,
 "nbformat_minor": 5
}
