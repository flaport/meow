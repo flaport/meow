{
 "cells": [
  {
   "cell_type": "markdown",
   "id": "0ced052d",
   "metadata": {
    "papermill": {
     "duration": 0.013891,
     "end_time": "2024-06-14T09:06:42.722627",
     "exception": false,
     "start_time": "2024-06-14T09:06:42.708736",
     "status": "completed"
    },
    "tags": []
   },
   "source": [
    "# Unequal Number of Modes\n",
    "\n",
    "> Find the S-matrix of a structure for which each slice has a different number of modes (contributed by @jan-david-black)"
   ]
  },
  {
   "cell_type": "code",
   "execution_count": null,
   "id": "6ecb59f2",
   "metadata": {
    "id": "4tRtbXVHpFK3",
    "papermill": {
     "duration": 6.561179,
     "end_time": "2024-06-14T09:06:49.293168",
     "exception": false,
     "start_time": "2024-06-14T09:06:42.731989",
     "status": "completed"
    },
    "tags": []
   },
   "outputs": [],
   "source": [
    "import meow as mw\n",
    "import numpy as np"
   ]
  },
  {
   "cell_type": "code",
   "execution_count": null,
   "id": "9ab11529",
   "metadata": {
    "id": "oU-R6EV6pjr-",
    "papermill": {
     "duration": 0.035094,
     "end_time": "2024-06-14T09:06:49.338351",
     "exception": false,
     "start_time": "2024-06-14T09:06:49.303257",
     "status": "completed"
    },
    "tags": []
   },
   "outputs": [],
   "source": [
    "def create_structures(length=10.0):\n",
    "    oxide = mw.Structure(\n",
    "        material=mw.silicon_oxide,\n",
    "        geometry=mw.Prism(\n",
    "            poly=np.array([(0, -2.1), (10, -2.1), (10, 2.1), (0, 2.1)]),\n",
    "            h_min=-3,\n",
    "            h_max=0,\n",
    "            axis=\"y\",\n",
    "        ),\n",
    "    )\n",
    "\n",
    "    poly = np.array([(0, -0.45 / 2), (10, -0.5 / 2), (10, 0.5 / 2), (0, 0.45 / 2)])\n",
    "\n",
    "    core = mw.Structure(\n",
    "        material=mw.silicon,\n",
    "        geometry=mw.Prism(\n",
    "            poly=poly,\n",
    "            h_min=0,\n",
    "            h_max=0.22,\n",
    "            axis=\"y\",\n",
    "        ),\n",
    "    )\n",
    "\n",
    "    structures = [oxide, core]\n",
    "    return structures"
   ]
  },
  {
   "cell_type": "code",
   "execution_count": null,
   "id": "00c9fb5a",
   "metadata": {
    "papermill": {
     "duration": 0.562781,
     "end_time": "2024-06-14T09:06:49.915185",
     "exception": false,
     "start_time": "2024-06-14T09:06:49.352404",
     "status": "completed"
    },
    "tags": []
   },
   "outputs": [],
   "source": [
    "mw.visualize(create_structures())"
   ]
  },
  {
   "cell_type": "code",
   "execution_count": null,
   "id": "070ebfd3",
   "metadata": {
    "id": "FLcaDGAKpuvY",
    "papermill": {
     "duration": 0.086118,
     "end_time": "2024-06-14T09:06:50.047273",
     "exception": false,
     "start_time": "2024-06-14T09:06:49.961155",
     "status": "completed"
    },
    "tags": []
   },
   "outputs": [],
   "source": [
    "def create_cells(length=10.0, num_cells=2):\n",
    "    structures = create_structures(length=length)\n",
    "    cells = mw.create_cells(\n",
    "        structures=structures,\n",
    "        mesh=mw.Mesh2D(\n",
    "            x=np.linspace(-2, 2, 101),\n",
    "            y=np.linspace(-2, 2, 101),\n",
    "            # specify possible conformal mesh specifications here:\n",
    "            # bend_radius=2.0,\n",
    "            # bend_axis=1,\n",
    "        ),\n",
    "        Ls=np.array([length / num_cells for _ in range(num_cells)]),\n",
    "    )\n",
    "    return cells"
   ]
  },
  {
   "cell_type": "code",
   "execution_count": null,
   "id": "d2abef13",
   "metadata": {
    "id": "Ugo1IawKqBIJ",
    "papermill": {
     "duration": 0.16516,
     "end_time": "2024-06-14T09:06:50.266590",
     "exception": false,
     "start_time": "2024-06-14T09:06:50.101430",
     "status": "completed"
    },
    "tags": []
   },
   "outputs": [],
   "source": [
    "cells = create_cells(10, 2)\n",
    "env = mw.Environment(wl=1.55, T=25.0)\n",
    "css = [mw.CrossSection.from_cell(cell=cell, env=env) for cell in cells]"
   ]
  },
  {
   "cell_type": "markdown",
   "id": "62f850f0",
   "metadata": {
    "papermill": {
     "duration": 0.064179,
     "end_time": "2024-06-14T09:06:50.391581",
     "exception": false,
     "start_time": "2024-06-14T09:06:50.327402",
     "status": "completed"
    },
    "tags": []
   },
   "source": [
    "## Equal number of modes"
   ]
  },
  {
   "cell_type": "code",
   "execution_count": null,
   "id": "c920af0f",
   "metadata": {
    "id": "y-NHn08PqQaD",
    "papermill": {
     "duration": 38.297477,
     "end_time": "2024-06-14T09:07:28.749321",
     "exception": false,
     "start_time": "2024-06-14T09:06:50.451844",
     "status": "completed"
    },
    "tags": []
   },
   "outputs": [],
   "source": [
    "modes = [mw.compute_modes(cs, num_modes=4) for cs in css]"
   ]
  },
  {
   "cell_type": "code",
   "execution_count": null,
   "id": "7ee3d934",
   "metadata": {
    "papermill": {
     "duration": 0.097993,
     "end_time": "2024-06-14T09:07:28.931508",
     "exception": false,
     "start_time": "2024-06-14T09:07:28.833515",
     "status": "completed"
    },
    "tags": []
   },
   "outputs": [],
   "source": [
    "for ms in modes:\n",
    "    print(len(ms))"
   ]
  },
  {
   "cell_type": "code",
   "execution_count": null,
   "id": "652f44d5",
   "metadata": {
    "papermill": {
     "duration": 20.837462,
     "end_time": "2024-06-14T09:07:49.857681",
     "exception": false,
     "start_time": "2024-06-14T09:07:29.020219",
     "status": "completed"
    },
    "tags": []
   },
   "outputs": [],
   "source": [
    "for ms in modes:\n",
    "    for m in ms:\n",
    "        mw.visualize(m)"
   ]
  },
  {
   "cell_type": "code",
   "execution_count": null,
   "id": "e6ab8650",
   "metadata": {
    "colab": {
     "base_uri": "https://localhost:8080/",
     "height": 319
    },
    "id": "2bpFKwNTq_-j",
    "outputId": "63a0536a-d071-48d2-ce3c-1f8632cee90a",
    "papermill": {
     "duration": 5.850725,
     "end_time": "2024-06-14T09:07:55.814069",
     "exception": false,
     "start_time": "2024-06-14T09:07:49.963344",
     "status": "completed"
    },
    "tags": []
   },
   "outputs": [],
   "source": [
    "S, pm = mw.compute_s_matrix(modes, cells)\n",
    "mw.visualize((abs(S), pm))"
   ]
  },
  {
   "cell_type": "markdown",
   "id": "70b7e806",
   "metadata": {
    "papermill": {
     "duration": 0.099141,
     "end_time": "2024-06-14T09:07:56.029549",
     "exception": false,
     "start_time": "2024-06-14T09:07:55.930408",
     "status": "completed"
    },
    "tags": []
   },
   "source": [
    "## Unequal number of modes"
   ]
  },
  {
   "cell_type": "code",
   "execution_count": null,
   "id": "b2852090",
   "metadata": {
    "id": "oPiOiYcsqq7i",
    "papermill": {
     "duration": 0.105918,
     "end_time": "2024-06-14T09:07:56.206740",
     "exception": false,
     "start_time": "2024-06-14T09:07:56.100822",
     "status": "completed"
    },
    "tags": []
   },
   "outputs": [],
   "source": [
    "modes[0] = modes[0][:2]\n",
    "modes[-1] = modes[-1][:3]"
   ]
  },
  {
   "cell_type": "code",
   "execution_count": null,
   "id": "c6e53906",
   "metadata": {
    "papermill": {
     "duration": 0.11779,
     "end_time": "2024-06-14T09:07:56.394824",
     "exception": false,
     "start_time": "2024-06-14T09:07:56.277034",
     "status": "completed"
    },
    "tags": []
   },
   "outputs": [],
   "source": [
    "for ms in modes:\n",
    "    print(len(ms))"
   ]
  },
  {
   "cell_type": "code",
   "execution_count": null,
   "id": "bffdab41",
   "metadata": {
    "colab": {
     "base_uri": "https://localhost:8080/",
     "height": 319
    },
    "id": "2bpFKwNTq_-j",
    "outputId": "63a0536a-d071-48d2-ce3c-1f8632cee90a",
    "papermill": {
     "duration": 4.596627,
     "end_time": "2024-06-14T09:08:01.086888",
     "exception": false,
     "start_time": "2024-06-14T09:07:56.490261",
     "status": "completed"
    },
    "tags": []
   },
   "outputs": [],
   "source": [
    "S, pm = mw.compute_s_matrix(modes, cells)\n",
    "mw.visualize((abs(S), pm))"
   ]
  }
 ],
 "metadata": {
  "colab": {
   "provenance": []
  },
  "kernelspec": {
   "display_name": "Python 3 (ipykernel)",
   "language": "python",
   "name": "python3"
  },
  "language_info": {
   "codemirror_mode": {
    "name": "ipython",
    "version": 3
   },
   "file_extension": ".py",
   "mimetype": "text/x-python",
   "name": "python",
   "nbconvert_exporter": "python",
   "pygments_lexer": "ipython3",
   "version": "3.11.9"
  },
  "papermill": {
   "default_parameters": {},
   "duration": 83.702324,
   "end_time": "2024-06-14T09:08:04.565917",
   "environment_variables": {},
   "exception": null,
   "input_path": "./examples/03_unequal_number_of_modes.ipynb",
   "output_path": "./examples/03_unequal_number_of_modes.ipynb",
   "parameters": {},
   "start_time": "2024-06-14T09:06:40.863593",
   "version": "2.4.0"
  }
 },
 "nbformat": 4,
 "nbformat_minor": 5
}
